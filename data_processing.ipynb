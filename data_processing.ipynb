{
 "cells": [
  {
   "cell_type": "code",
   "execution_count": 3,
   "metadata": {},
   "outputs": [],
   "source": [
    "import pandas as pd\n",
    "import os"
   ]
  },
  {
   "cell_type": "markdown",
   "metadata": {},
   "source": [
    "# Data loading"
   ]
  },
  {
   "cell_type": "code",
   "execution_count": null,
   "metadata": {},
   "outputs": [],
   "source": [
    "#primekg = pd.read_csv(\"~/scratch-llm/data/PrimeKG_data/raw_data/kg.csv\", low_memory=False)\n",
    "nodes = pd.read_csv(\"~/scratch-llm/data/PrimeKG/datasets/data/kg/nodes.csv\", low_memory=False)\n",
    "edges = pd.read_csv(\"~/scratch-llm/data/PrimeKG/datasets/data/kg/edges.csv\", low_memory=False)"
   ]
  },
  {
   "cell_type": "markdown",
   "metadata": {},
   "source": [
    "## Nodes"
   ]
  },
  {
   "cell_type": "code",
   "execution_count": 4,
   "metadata": {},
   "outputs": [
    {
     "name": "stdout",
     "output_type": "stream",
     "text": [
      "['gene/protein' 'drug' 'effect/phenotype' 'disease' 'biological_process'\n",
      " 'molecular_function' 'cellular_component' 'exposure' 'pathway' 'anatomy']\n"
     ]
    }
   ],
   "source": [
    "print(nodes['node_type'].unique()) #types of nodes\n",
    "\n",
    "# save the data for each 'node_type' in a separate file\n",
    "for node_type in nodes['node_type'].unique():\n",
    "    sanitized_node_type = node_type.replace('/', '_')\n",
    "    output_path = os.path.join('~/scratch-llm/data/PrimeKG_data/sub_data/', 'node_'+ sanitized_node_type + '.csv')\n",
    "    nodes[nodes['node_type'] == node_type].to_csv(output_path, index=False)"
   ]
  },
  {
   "cell_type": "code",
   "execution_count": 5,
   "metadata": {},
   "outputs": [
    {
     "name": "stdout",
     "output_type": "stream",
     "text": [
      "        node_index  node_id node_type                 node_name node_source\n",
      "62722        62722        2   anatomy            uterine cervix      UBERON\n",
      "62723        62723        3   anatomy                     naris      UBERON\n",
      "62724        62724        4   anatomy                      nose      UBERON\n",
      "62725        62725        5   anatomy        chemosensory organ      UBERON\n",
      "62726        62726        6   anatomy       islet of Langerhans      UBERON\n",
      "...            ...      ...       ...                       ...         ...\n",
      "76752        76752  8410027   anatomy  central zone of prostate      UBERON\n",
      "76753        76753  8410033   anatomy           lymph node vein      UBERON\n",
      "128384      128384     1062   anatomy         anatomical entity      UBERON\n",
      "128385      128385      468   anatomy   multi-cellular organism      UBERON\n",
      "128386      128386      992   anatomy              female gonad      UBERON\n",
      "\n",
      "[14035 rows x 5 columns]\n"
     ]
    }
   ],
   "source": [
    "#print entries where node_type is 'exposure'\n",
    "print(nodes[nodes['node_type'] == 'anatomy'])"
   ]
  },
  {
   "cell_type": "markdown",
   "metadata": {},
   "source": [
    "## Edges"
   ]
  },
  {
   "cell_type": "code",
   "execution_count": null,
   "metadata": {},
   "outputs": [
    {
     "name": "stdout",
     "output_type": "stream",
     "text": [
      "['protein_protein' 'drug_protein' 'contraindication' 'indication'\n",
      " 'off-label use' 'drug_drug' 'phenotype_protein' 'phenotype_phenotype'\n",
      " 'disease_phenotype_negative' 'disease_phenotype_positive'\n",
      " 'disease_protein' 'disease_disease' 'drug_effect' 'bioprocess_bioprocess'\n",
      " 'molfunc_molfunc' 'cellcomp_cellcomp' 'molfunc_protein'\n",
      " 'cellcomp_protein' 'bioprocess_protein' 'exposure_protein'\n",
      " 'exposure_disease' 'exposure_exposure' 'exposure_bioprocess'\n",
      " 'exposure_molfunc' 'exposure_cellcomp' 'pathway_pathway'\n",
      " 'pathway_protein' 'anatomy_anatomy' 'anatomy_protein_present'\n",
      " 'anatomy_protein_absent']\n"
     ]
    }
   ],
   "source": [
    "print(edges['relation'].unique()) # types of edges"
   ]
  },
  {
   "cell_type": "code",
   "execution_count": null,
   "metadata": {},
   "outputs": [],
   "source": [
    "# save each the data for each 'relation' in a separate file, no need to take care of '/'\n",
    "for relation in edges['relation'].unique():\n",
    "    output_path = os.path.join('~/scratch-llm/data/PrimeKG_data/sub_data/', 'edge_'+ relation + '.csv')\n",
    "    edges[edges['relation'] == relation].to_csv(output_path, index=False)"
   ]
  }
 ],
 "metadata": {
  "kernelspec": {
   "display_name": "llm-rag",
   "language": "python",
   "name": "python3"
  },
  "language_info": {
   "codemirror_mode": {
    "name": "ipython",
    "version": 3
   },
   "file_extension": ".py",
   "mimetype": "text/x-python",
   "name": "python",
   "nbconvert_exporter": "python",
   "pygments_lexer": "ipython3",
   "version": "3.10.15"
  }
 },
 "nbformat": 4,
 "nbformat_minor": 2
}
