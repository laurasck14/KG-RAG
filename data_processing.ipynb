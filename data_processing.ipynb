{
 "cells": [
  {
   "cell_type": "code",
   "execution_count": 18,
   "metadata": {},
   "outputs": [],
   "source": [
    "import pandas as pd\n",
    "import os"
   ]
  },
  {
   "cell_type": "markdown",
   "metadata": {},
   "source": [
    "# Data loading"
   ]
  },
  {
   "cell_type": "code",
   "execution_count": 5,
   "metadata": {},
   "outputs": [],
   "source": [
    "#primekg = pd.read_csv(\"~/scratch-llm/data/PrimeKG_data/raw_data/kg.csv\", low_memory=False)\n",
    "nodes = pd.read_csv(\"~/scratch-llm/data/PrimeKG/datasets/data/kg/nodes.csv\", low_memory=False)\n"
   ]
  },
  {
   "cell_type": "code",
   "execution_count": null,
   "metadata": {},
   "outputs": [],
   "source": [
    "edges = pd.read_csv(\"~/scratch-llm/data/PrimeKG/datasets/data/kg/edges.csv\")"
   ]
  },
  {
   "cell_type": "markdown",
   "metadata": {},
   "source": [
    "## Nodes"
   ]
  },
  {
   "cell_type": "code",
   "execution_count": 4,
   "metadata": {},
   "outputs": [
    {
     "name": "stdout",
     "output_type": "stream",
     "text": [
      "['gene/protein' 'drug' 'effect/phenotype' 'disease' 'biological_process'\n",
      " 'molecular_function' 'cellular_component' 'exposure' 'pathway' 'anatomy']\n"
     ]
    }
   ],
   "source": [
    "print(nodes['node_type'].unique()) #types of nodes\n",
    "\n",
    "# save the data for each 'node_type' in a separate file\n",
    "for node_type in nodes['node_type'].unique():\n",
    "    sanitized_node_type = node_type.replace('/', '_')\n",
    "    output_path = os.path.join('~/scratch-llm/data/PrimeKG_data/sub_data/', 'node_'+ sanitized_node_type + '.csv')\n",
    "    nodes[nodes['node_type'] == node_type].to_csv(output_path, index=False)"
   ]
  },
  {
   "cell_type": "code",
   "execution_count": null,
   "metadata": {},
   "outputs": [
    {
     "name": "stdout",
     "output_type": "stream",
     "text": [
      "       node_index                                            node_id  \\\n",
      "27158       27158  13924_12592_14672_13460_12591_12536_30861_8146...   \n",
      "27159       27159  11160_14854_13119_13978_12060_14293_14470_1238...   \n",
      "27160       27160                                   8099_12497_12498   \n",
      "27161       27161  33202_32911_32776_33258_30905_32917_33668_3367...   \n",
      "27162       27162                                         11396_7422   \n",
      "...           ...                                                ...   \n",
      "99035       99035                                             400000   \n",
      "99036       99036                                             400002   \n",
      "99037       99037                                             400003   \n",
      "99038       99038                                             400004   \n",
      "99039       99039                                             400005   \n",
      "\n",
      "      node_type                                          node_name  \\\n",
      "27158   disease                            osteogenesis imperfecta   \n",
      "27159   disease          autosomal recessive nonsyndromic deafness   \n",
      "27160   disease  congenital stationary night blindness autosoma...   \n",
      "27161   disease                      deafness, autosomal recessive   \n",
      "27162   disease  keratoderma hereditarium mutilans with ichthyosis   \n",
      "...         ...                                                ...   \n",
      "99035   disease              small intestinal bacterial overgrowth   \n",
      "99036   disease                            calcium-alkali syndrome   \n",
      "99037   disease                                 skeletal fluorosis   \n",
      "99038   disease                                        phrynoderma   \n",
      "99039   disease                                 refeeding syndrome   \n",
      "\n",
      "         node_source  \n",
      "27158  MONDO_grouped  \n",
      "27159  MONDO_grouped  \n",
      "27160  MONDO_grouped  \n",
      "27161  MONDO_grouped  \n",
      "27162  MONDO_grouped  \n",
      "...              ...  \n",
      "99035          MONDO  \n",
      "99036          MONDO  \n",
      "99037          MONDO  \n",
      "99038          MONDO  \n",
      "99039          MONDO  \n",
      "\n",
      "[16092 rows x 5 columns]\n"
     ]
    }
   ],
   "source": [
    "#print entries where node_type is 'exposure'\n",
    "print(nodes[nodes['node_type'] == 'disease'])\n"
   ]
  },
  {
   "cell_type": "code",
   "execution_count": 9,
   "metadata": {},
   "outputs": [
    {
     "name": "stdout",
     "output_type": "stream",
     "text": [
      "       node_index                                            node_id  \\\n",
      "27158       27158  13924_12592_14672_13460_12591_12536_30861_8146...   \n",
      "27159       27159  11160_14854_13119_13978_12060_14293_14470_1238...   \n",
      "27160       27160                                   8099_12497_12498   \n",
      "27161       27161  33202_32911_32776_33258_30905_32917_33668_3367...   \n",
      "27162       27162                                         11396_7422   \n",
      "...           ...                                                ...   \n",
      "98739       98739                                         37251_1367   \n",
      "98891       98891                                        44141_44144   \n",
      "98895       98895                                        44344_44351   \n",
      "98935       98935                                        44797_44800   \n",
      "98985       98985                                      100023_100024   \n",
      "\n",
      "      node_type                                          node_name  \\\n",
      "27158   disease                            osteogenesis imperfecta   \n",
      "27159   disease          autosomal recessive nonsyndromic deafness   \n",
      "27160   disease  congenital stationary night blindness autosoma...   \n",
      "27161   disease                      deafness, autosomal recessive   \n",
      "27162   disease  keratoderma hereditarium mutilans with ichthyosis   \n",
      "...         ...                                                ...   \n",
      "98739   disease                            congestive splenomegaly   \n",
      "98891   disease                 panic disorder without agoraphobia   \n",
      "98895   disease           Schistosoma japonicum infectious disease   \n",
      "98935   disease                                 desmoplastic nevus   \n",
      "98985   disease  self-limited familial and non-familial neonata...   \n",
      "\n",
      "         node_source  \n",
      "27158  MONDO_grouped  \n",
      "27159  MONDO_grouped  \n",
      "27160  MONDO_grouped  \n",
      "27161  MONDO_grouped  \n",
      "27162  MONDO_grouped  \n",
      "...              ...  \n",
      "98739  MONDO_grouped  \n",
      "98891  MONDO_grouped  \n",
      "98895  MONDO_grouped  \n",
      "98935  MONDO_grouped  \n",
      "98985  MONDO_grouped  \n",
      "\n",
      "[2109 rows x 5 columns]\n"
     ]
    }
   ],
   "source": [
    "# print nodes where \"source\" is MONDO_grouped\n",
    "print(nodes[nodes['node_source'] == 'MONDO_grouped'])"
   ]
  },
  {
   "cell_type": "markdown",
   "metadata": {},
   "source": [
    "## Edges"
   ]
  },
  {
   "cell_type": "code",
   "execution_count": 7,
   "metadata": {},
   "outputs": [
    {
     "name": "stdout",
     "output_type": "stream",
     "text": [
      "['protein_protein' 'drug_protein' 'contraindication' 'indication'\n",
      " 'off-label use' 'drug_drug' 'phenotype_protein' 'phenotype_phenotype'\n",
      " 'disease_phenotype_negative' 'disease_phenotype_positive'\n",
      " 'disease_protein' 'disease_disease' 'drug_effect' 'bioprocess_bioprocess'\n",
      " 'molfunc_molfunc' 'cellcomp_cellcomp' 'molfunc_protein'\n",
      " 'cellcomp_protein' 'bioprocess_protein' 'exposure_protein'\n",
      " 'exposure_disease' 'exposure_exposure' 'exposure_bioprocess'\n",
      " 'exposure_molfunc' 'exposure_cellcomp' 'pathway_pathway'\n",
      " 'pathway_protein' 'anatomy_anatomy' 'anatomy_protein_present'\n",
      " 'anatomy_protein_absent']\n"
     ]
    }
   ],
   "source": [
    "print(edges['relation'].unique()) # types of edges"
   ]
  },
  {
   "cell_type": "code",
   "execution_count": null,
   "metadata": {},
   "outputs": [],
   "source": [
    "# generate a separate dataset for the edges depending on the column 'relation'\n",
    "\n"
   ]
  }
 ],
 "metadata": {
  "kernelspec": {
   "display_name": "rag",
   "language": "python",
   "name": "python3"
  },
  "language_info": {
   "codemirror_mode": {
    "name": "ipython",
    "version": 3
   },
   "file_extension": ".py",
   "mimetype": "text/x-python",
   "name": "python",
   "nbconvert_exporter": "python",
   "pygments_lexer": "ipython3",
   "version": "3.10.5"
  }
 },
 "nbformat": 4,
 "nbformat_minor": 2
}
