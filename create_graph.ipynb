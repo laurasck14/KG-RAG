{
 "cells": [
  {
   "cell_type": "code",
   "execution_count": 2,
   "metadata": {},
   "outputs": [],
   "source": [
    "import pandas as pd\n",
    "from nebulagraph_lite import nebulagraph_let as ng_let\n",
    "import os, math"
   ]
  },
  {
   "cell_type": "markdown",
   "metadata": {},
   "source": [
    "# Data loading\n"
   ]
  },
  {
   "cell_type": "code",
   "execution_count": null,
   "metadata": {},
   "outputs": [],
   "source": [
    "#primekg = pd.read_csv(\"~/scratch-llm/data/PrimeKG_data/raw_data/kg.csv\", low_memory=False)\n",
    "nodes = pd.read_csv(\"~/scratch-llm/data/PrimeKG/datasets/data/kg/nodes.csv\", low_memory=False)\n",
    "edges = pd.read_csv(\"~/scratch-llm/data/PrimeKG/datasets/data/kg/edges.csv\")"
   ]
  },
  {
   "cell_type": "code",
   "execution_count": 2,
   "metadata": {},
   "outputs": [
    {
     "name": "stdout",
     "output_type": "stream",
     "text": [
      "\u001b[1;3;38;2;47;75;124mMessage: Activating storaged...\u001b[0m\n",
      "\u001b[1;3;38;2;102;81;145mResult of `SHOW HOSTS`:\u001b[0m\n",
      "\u001b[1;3;38;2;47;75;124m    errors:\u001b[0m\n",
      "\u001b[1;3;38;2;47;75;124m        code: 0\u001b[0m\n",
      "\u001b[1;3;38;2;102;81;145m    results:\u001b[0m\n",
      "\u001b[1;3;38;2;47;75;124m        spaceName: \u001b[0m\n",
      "\u001b[1;3;38;2;102;81;145m        data:\u001b[0m\n",
      "\u001b[1;3;38;2;47;75;124m            meta:\u001b[0m\n",
      "\u001b[1;3;38;2;47;75;124m                None, None, None, None, None, None, None\u001b[0m\n",
      "\u001b[1;3;38;2;102;81;145m            row:\u001b[0m\n",
      "\u001b[1;3;38;2;102;81;145m                127.0.0.1, 9779, ONLINE, 121, PrimeKG:100, PrimeKG_manual:20, basketballplayer:1, PrimeKG:100, PrimeKG_manual:20, basketballplayer:1, 3.8.0\u001b[0m\n",
      "\u001b[1;3;38;2;160;81;149m        columns:\u001b[0m\n",
      "\u001b[1;3;38;2;160;81;149m            Host, Port, Status, Leader count, Leader distribution, Partition distribution, Version\u001b[0m\n",
      "\u001b[1;3;38;2;212;80;135m        errors:\u001b[0m\n",
      "\u001b[1;3;38;2;47;75;124m            code: 0\u001b[0m\n",
      "\u001b[1;3;38;2;249;93;106m        latencyInUs: 1459\u001b[0m\n",
      "\u001b[1;3;38;2;168;255;159mInfo: loading basketballplayer dataset...\u001b[0m\n",
      "\u001b[1;3;38;2;212;80;135m\n",
      "  _   _      _           _        ____                 _     \n",
      " | \\ | | ___| |__  _   _| | __ _ / ___|_ __ __ _ _ __ | |__  \n",
      " |  \\| |/ _ | '_ \\| | | | |/ _` | |  _| '__/ _` | '_ \\| '_ \\ \n",
      " | |\\  |  __| |_) | |_| | | (_| | |_| | | | (_| | |_) | | | |\n",
      " |_| \\_|\\___|_.__/ \\__,_|_|\\__,_|\\____|_|  \\__,_| .__/|_| |_|\n",
      "                                                |_|          \n",
      "                                                lite version\n",
      "\u001b[0m\n",
      "\u001b[1;3;38;2;210;161;255m[ OK ] nebulagraph_lite started successfully!\u001b[0m\n"
     ]
    }
   ],
   "source": [
    "# load NebulaGraph JupyterNotebook extension\n",
    "# !udocker pull vesoft/nebula-metad:v3\n",
    "# !udocker create --name=nebula-metad vesoft/nebula-metad:v3\n",
    "# !udocker setup --execmode=F1 nebula-metad\n",
    "\n",
    "# !udocker pull vesoft/nebula-graphd:v3\n",
    "# !udocker create --name=nebula-graphd vesoft/nebula-graphd:v3\n",
    "# !udocker setup --execmode=F1 nebula-graphd\n",
    "\n",
    "# !udocker pull vesoft/nebula-storaged:v\n",
    "# !udocker create --name=nebula-storaged vesoft/nebula-storaged:v3\n",
    "# !udocker setup --execmode=F1 nebula-storaged\n",
    "\n",
    "n = ng_let()\n",
    "n.start() # This takes around 5 mins"
   ]
  },
  {
   "cell_type": "code",
   "execution_count": null,
   "metadata": {},
   "outputs": [],
   "source": [
    "%load_ext ngql"
   ]
  },
  {
   "cell_type": "code",
   "execution_count": 3,
   "metadata": {},
   "outputs": [],
   "source": [
    "%reload_ext ngql"
   ]
  },
  {
   "cell_type": "code",
   "execution_count": 4,
   "metadata": {},
   "outputs": [
    {
     "name": "stdout",
     "output_type": "stream",
     "text": [
      "\u001b[1;3;38;2;0;135;107m[OK] Connection Pool Created\u001b[0m\n"
     ]
    },
    {
     "data": {
      "text/html": [
       "<div>\n",
       "<style scoped>\n",
       "    .dataframe tbody tr th:only-of-type {\n",
       "        vertical-align: middle;\n",
       "    }\n",
       "\n",
       "    .dataframe tbody tr th {\n",
       "        vertical-align: top;\n",
       "    }\n",
       "\n",
       "    .dataframe thead th {\n",
       "        text-align: right;\n",
       "    }\n",
       "</style>\n",
       "<table border=\"1\" class=\"dataframe\">\n",
       "  <thead>\n",
       "    <tr style=\"text-align: right;\">\n",
       "      <th></th>\n",
       "      <th>Name</th>\n",
       "    </tr>\n",
       "  </thead>\n",
       "  <tbody>\n",
       "    <tr>\n",
       "      <th>0</th>\n",
       "      <td>PrimeKG</td>\n",
       "    </tr>\n",
       "    <tr>\n",
       "      <th>1</th>\n",
       "      <td>PrimeKG_manual</td>\n",
       "    </tr>\n",
       "    <tr>\n",
       "      <th>2</th>\n",
       "      <td>basketballplayer</td>\n",
       "    </tr>\n",
       "  </tbody>\n",
       "</table>\n",
       "</div>"
      ],
      "text/plain": [
       "               Name\n",
       "0           PrimeKG\n",
       "1    PrimeKG_manual\n",
       "2  basketballplayer"
      ]
     },
     "execution_count": 4,
     "metadata": {},
     "output_type": "execute_result"
    }
   ],
   "source": [
    "%ngql --address 127.0.0.1 --port 9669 --user root --password nebula"
   ]
  },
  {
   "cell_type": "code",
   "execution_count": null,
   "metadata": {},
   "outputs": [],
   "source": [
    "# Create a new Graph space (graph) for the PrimeKG\n",
    "%ngql CREATE SPACE IF NOT EXISTS PrimeKG (vid_type = INT64);\n",
    "%ngql USE PrimeKG;"
   ]
  },
  {
   "cell_type": "markdown",
   "metadata": {},
   "source": [
    "# Create the graph from NebulaGraph directly"
   ]
  },
  {
   "cell_type": "markdown",
   "metadata": {},
   "source": [
    "## Nodes"
   ]
  },
  {
   "cell_type": "code",
   "execution_count": null,
   "metadata": {},
   "outputs": [],
   "source": [
    "print(nodes['node_type'].unique()) #types of nodes"
   ]
  },
  {
   "cell_type": "code",
   "execution_count": null,
   "metadata": {},
   "outputs": [],
   "source": [
    "# save the data for each 'node_type' in a separate file\n",
    "for node_type in nodes['node_type'].unique():\n",
    "    sanitized_node_type = node_type.replace('/', '_')\n",
    "    output_path = os.path.join('~/scratch-llm/data/PrimeKG_data/sub_data/', 'node_'+ sanitized_node_type + '.csv')\n",
    "    nodes[nodes['node_type'] == node_type].to_csv(output_path, index=False)"
   ]
  },
  {
   "cell_type": "code",
   "execution_count": null,
   "metadata": {},
   "outputs": [],
   "source": [
    "# Create Tags (node_type) for each node in the PrimeKG\n",
    "%ngql CREATE TAG IF NOT EXISTS anatomy(node_name string, node_source string, node_id string);\n",
    "%ngql CREATE TAG IF NOT EXISTS gene_protein(node_name string, node_source string, node_id string);\n",
    "%ngql CREATE TAG IF NOT EXISTS drug(node_name string, node_source string, node_id string, description string, half_life string, indication string, mechanism_of_action string, protein_binding string, pharmacodynamics string, state string, atc_1 string, atc_2 string, atc_3 string, atc_4 string, category string, group string, pathway string, molecular_weight string, tpsa string, clogp string);\n",
    "%ngql CREATE TAG IF NOT EXISTS disease(node_name string, node_source string, mondo_id int, mondo_name string, group_id_bert string, group_name_bert string, mondo_definition string, umls_description string, orphanet_definition string, orphanet_prevalence string, orphanet_epidemiology string, orphanet_clinical_description string, orphanet_management_and_treatment string, mayo_symptoms string, mayo_causes string, mayo_risk_factors string, mayo_complications string, mayo_prevention string, mayo_see_doc string);\n",
    "%ngql CREATE TAG IF NOT EXISTS pathway(node_name string, node_source string, node_id string);\n",
    "%ngql CREATE TAG IF NOT EXISTS biological_process(node_name string, node_source string, node_id string);\n",
    "%ngql CREATE TAG IF NOT EXISTS effect_phenotype(node_name string, node_source string, node_id string);\n",
    "%ngql CREATE TAG IF NOT EXISTS molecular_function(node_name string, node_source string, node_id string);\n",
    "%ngql CREATE TAG IF NOT EXISTS cellular_component(node_name string, node_source string, node_id string);\n",
    "%ngql CREATE TAG IF NOT EXISTS exposure(node_name string, node_source string, node_id string);"
   ]
  },
  {
   "cell_type": "code",
   "execution_count": null,
   "metadata": {},
   "outputs": [],
   "source": [
    "%ngql DESCRIBE TAG drug;"
   ]
  },
  {
   "cell_type": "code",
   "execution_count": null,
   "metadata": {},
   "outputs": [],
   "source": [
    "# Load each node source data into the corresponding Tag (working fine)\n",
    "%ng_load --source ~/scratch-llm/data/PrimeKG_data/sub_data/node_gene_protein.csv --tag gene_protein --header --space PrimeKG --vid 0 --props 2:node_id,3:node_name,4:node_source\n",
    "%ng_load --source ~/scratch-llm/data/PrimeKG_data/sub_data/node_biological_process.csv --tag biological_process --header --space PrimeKG --vid 0 --props 2:node_id,3:node_name,4:node_source\n",
    "%ng_load --source ~/scratch-llm/data/PrimeKG_data/sub_data/node_effect_phenotype.csv --tag effect_phenotype --header --space PrimeKG --vid 0 --props 2:node_id,3:node_name,4:node_source\n",
    "%ng_load --source ~/scratch-llm/data/PrimeKG_data/sub_data/node_molecular_function.csv --tag molecular_function --header --space PrimeKG --vid 0 --props 2:node_id,3:node_name,4:node_source\n",
    "%ng_load --source ~/scratch-llm/data/PrimeKG_data/sub_data/node_cellular_component.csv --tag cellular_component --header --space PrimeKG --vid 0 --props 2:node_id,3:node_name,4:node_source\n",
    "%ng_load --source ~/scratch-llm/data/PrimeKG_data/sub_data/node_pathway.csv --tag pathway --header --space PrimeKG --vid 0 --props 2:node_id,3:node_name,4:node_source\n",
    "%ng_load --source ~/scratch-llm/data/PrimeKG_data/sub_data/node_exposure.csv --tag exposure --header --space PrimeKG --vid 0 --props 2:node_id,3:node_name,4:node_source\n",
    "%ng_load --source ~/scratch-llm/data/PrimeKG_data/sub_data/node_anatomy.csv --tag anatomy --header --space PrimeKG --vid 0 --props 2:node_id,3:node_name,4:node_source\n"
   ]
  },
  {
   "cell_type": "markdown",
   "metadata": {},
   "source": [
    "### Extra information for nodes 'drug' and 'disease'"
   ]
  },
  {
   "cell_type": "code",
   "execution_count": null,
   "metadata": {},
   "outputs": [],
   "source": [
    "# disease and drug feature files are available as .tab format so they need to be converted to .csv\n",
    "# many formatting issues on both files that had to be correcteed manually before merging with the 'node_' dataset\n",
    "disease_tab = \"~/scratch-llm/data/PrimeKG_data/raw_data/disease_features.tab\"\n",
    "drug_tab = \"~/scratch-llm/data/PrimeKG_data/raw_data/drug_features.tab\"\n",
    "\n",
    "df = pd.read_csv(disease_tab, delimiter='\\t')\n",
    "disease_csv = \"~/scratch-llm/data/PrimeKG_data/sub_data/disease_features.csv\"\n",
    "df.to_csv(disease_csv, index=False)\n",
    "\n",
    "\n",
    "df = pd.read_csv(drug_tab, delimiter='\\t')\n",
    "drug_csv = \"~/scratch-llm/data/PrimeKG_data/sub_data/drug_features.csv\"\n",
    "df.to_csv(drug_csv, index=False) "
   ]
  },
  {
   "cell_type": "code",
   "execution_count": 49,
   "metadata": {},
   "outputs": [],
   "source": [
    "# merge extra drug and disease information \n",
    "node_drug = pd.read_csv(\"~/scratch-llm/data/PrimeKG_data/sub_data/node_drug.csv\")\n",
    "features_drug = pd.read_csv(\"~/scratch-llm/data/PrimeKG_data/sub_data/drug_features.csv\")\n",
    "node_disease = pd.read_csv(\"~/scratch-llm/data/PrimeKG_data/sub_data/node_disease.csv\")\n",
    "features_disease = pd.read_csv(\"~/scratch-llm/data/PrimeKG_data/sub_data/disease_features.csv\")\n"
   ]
  },
  {
   "cell_type": "code",
   "execution_count": 120,
   "metadata": {},
   "outputs": [],
   "source": [
    "# the disease_features has multiple rows with the same 'node_index' so we need to merge them\n",
    "def merge_column_values(column):\n",
    "    # Check if all values in the column can be converted to float\n",
    "    try:\n",
    "        numeric_column = pd.to_numeric(column, errors='coerce')\n",
    "        if numeric_column.notna().all():  # If all are numbers, return unique values\n",
    "            return '; '.join(map(str, sorted(set(numeric_column))))  # Keep the first numeric value (assuming they're the same)\n",
    "    except Exception:\n",
    "        pass\n",
    "    \n",
    "    # For strings, concatenate unique, non-empty values\n",
    "    return '; '.join(filter(lambda x: pd.notna(x) and str(x).strip() != '', set(column)))\n",
    "\n",
    "merged_features_disease = features_disease.groupby('node_index', as_index=False).agg(merge_column_values)"
   ]
  },
  {
   "cell_type": "code",
   "execution_count": 119,
   "metadata": {},
   "outputs": [
    {
     "data": {
      "text/html": [
       "<div>\n",
       "<style scoped>\n",
       "    .dataframe tbody tr th:only-of-type {\n",
       "        vertical-align: middle;\n",
       "    }\n",
       "\n",
       "    .dataframe tbody tr th {\n",
       "        vertical-align: top;\n",
       "    }\n",
       "\n",
       "    .dataframe thead th {\n",
       "        text-align: right;\n",
       "    }\n",
       "</style>\n",
       "<table border=\"1\" class=\"dataframe\">\n",
       "  <thead>\n",
       "    <tr style=\"text-align: right;\">\n",
       "      <th></th>\n",
       "      <th>node_index</th>\n",
       "      <th>mondo_id</th>\n",
       "      <th>mondo_name</th>\n",
       "      <th>group_id_bert</th>\n",
       "      <th>group_name_bert</th>\n",
       "      <th>mondo_definition</th>\n",
       "      <th>umls_description</th>\n",
       "      <th>orphanet_definition</th>\n",
       "      <th>orphanet_prevalence</th>\n",
       "      <th>orphanet_epidemiology</th>\n",
       "      <th>orphanet_clinical_description</th>\n",
       "      <th>orphanet_management_and_treatment</th>\n",
       "      <th>mayo_symptoms</th>\n",
       "      <th>mayo_causes</th>\n",
       "      <th>mayo_risk_factors</th>\n",
       "      <th>mayo_complications</th>\n",
       "      <th>mayo_prevention</th>\n",
       "      <th>mayo_see_doc</th>\n",
       "    </tr>\n",
       "  </thead>\n",
       "  <tbody>\n",
       "    <tr>\n",
       "      <th>6558</th>\n",
       "      <td>35428</td>\n",
       "      <td>2816</td>\n",
       "      <td>adrenal cortex disease</td>\n",
       "      <td></td>\n",
       "      <td></td>\n",
       "      <td>A disease involving the adrenal cortex.</td>\n",
       "      <td>Pathological processes of the adrenal cortex.</td>\n",
       "      <td></td>\n",
       "      <td></td>\n",
       "      <td></td>\n",
       "      <td></td>\n",
       "      <td></td>\n",
       "      <td></td>\n",
       "      <td></td>\n",
       "      <td></td>\n",
       "      <td></td>\n",
       "      <td></td>\n",
       "      <td></td>\n",
       "    </tr>\n",
       "    <tr>\n",
       "      <th>6559</th>\n",
       "      <td>35429</td>\n",
       "      <td>21034</td>\n",
       "      <td>genetic alopecia</td>\n",
       "      <td></td>\n",
       "      <td></td>\n",
       "      <td>An instance of alopecia that is caused by a modification of the individual's genome.</td>\n",
       "      <td></td>\n",
       "      <td></td>\n",
       "      <td></td>\n",
       "      <td></td>\n",
       "      <td></td>\n",
       "      <td></td>\n",
       "      <td></td>\n",
       "      <td></td>\n",
       "      <td></td>\n",
       "      <td></td>\n",
       "      <td></td>\n",
       "      <td></td>\n",
       "    </tr>\n",
       "  </tbody>\n",
       "</table>\n",
       "</div>"
      ],
      "text/plain": [
       "      node_index mondo_id              mondo_name group_id_bert group_name_bert                                                                      mondo_definition                               umls_description orphanet_definition orphanet_prevalence orphanet_epidemiology orphanet_clinical_description orphanet_management_and_treatment mayo_symptoms mayo_causes mayo_risk_factors mayo_complications mayo_prevention mayo_see_doc\n",
       "6558       35428     2816  adrenal cortex disease                                                                             A disease involving the adrenal cortex.  Pathological processes of the adrenal cortex.                                                                                                                                                                                                                          \n",
       "6559       35429    21034        genetic alopecia                                An instance of alopecia that is caused by a modification of the individual's genome.                                                                                                                                                                                                                                                                         "
      ]
     },
     "execution_count": 119,
     "metadata": {},
     "output_type": "execute_result"
    }
   ],
   "source": [
    "# diseases only present in the features_disease file (NOT in the node_disease file)\n",
    "merged_features_disease[~merged_features_disease['node_index'].isin(node_disease['node_index'])].head(2)\n"
   ]
  },
  {
   "cell_type": "code",
   "execution_count": null,
   "metadata": {},
   "outputs": [],
   "source": [
    "# Merge the dataframes on 'node_index' and save to csv\n",
    "merged_df = pd.merge(node_drug, features_drug, on='node_index')\n",
    "merged_df.to_csv(\"~/scratch-llm/data/PrimeKG_data/sub_data/node_merged_drug.csv\", index=False)\n",
    "\n",
    "\n",
    "merged_df = pd.merge(node_disease, merged_features_disease, on='node_index', how='left')\n",
    "# merged_df.fillna(\"\", inplace=True) # in case included 'extra' diseases that are only present in features_disease\n",
    "merged_df.to_csv(\"~/scratch-llm/data/PrimeKG_data/sub_data/node_merged_disease.csv\", index=False)\n"
   ]
  },
  {
   "cell_type": "code",
   "execution_count": null,
   "metadata": {},
   "outputs": [],
   "source": [
    "#Load the extended drug and disease data into the corresponding Tags\n",
    "%ng_load --source ~/scratch-llm/data/PrimeKG_data/sub_data/node_merged_disease.csv --tag disease --header --space PrimeKG --vid 0 --props 3:node_name,4:node_source,5:mondo_id,6:mondo_name,7:group_id_bert,8:group_name_bert,9:mondo_definition,10:umls_description,11:orphanet_definition,12:orphanet_prevalence,13:orphanet_epidemiology,14:orphanet_clinical_description,15:orphanet_management_and_treatment,16:mayo_symptoms,17:mayo_causes,18:mayo_risk_factors,19:mayo_complications,20:mayo_prevention,21:mayo_see_doc\n",
    "%ng_load --source ~/scratch-llm/data/PrimeKG_data/sub_data/node_merged_drug.csv --tag drug --header --space PrimeKG --batch 100 --vid 0 --props 2:node_id,3:node_name,4:node_source,5:description,6:half_life,7:indication,8:mechanism_of_action,9:protein_binding,10:pharmacodynamics,11:state,12:atc_1,13:atc_2,14:atc_3,15:atc_4,16:category,17:group,18:pathway,19:molecular_weight,20:tpsa,21:clogp\n"
   ]
  },
  {
   "cell_type": "markdown",
   "metadata": {},
   "source": [
    "## Edges"
   ]
  },
  {
   "cell_type": "code",
   "execution_count": null,
   "metadata": {},
   "outputs": [],
   "source": [
    "print(edges['relation'].unique()) # types of edges"
   ]
  },
  {
   "cell_type": "code",
   "execution_count": null,
   "metadata": {},
   "outputs": [],
   "source": [
    "# save the data for each 'relation' (edge type) in a separate file\n",
    "for relation in edges['relation'].unique():\n",
    "    sanitized_relation = relation.replace('-', '_')\n",
    "    sanitized_relation = sanitized_relation.replace('\\t', '_')\n",
    "    output_path = os.path.join('~/scratch-llm/data/PrimeKG_data/sub_data/', 'edge_'+ sanitized_relation + '.csv')\n",
    "    edges[edges['relation'] == relation].to_csv(output_path, index=False)"
   ]
  },
  {
   "cell_type": "code",
   "execution_count": null,
   "metadata": {},
   "outputs": [],
   "source": [
    "%ngql CREATE EDGE IF NOT EXISTS protein_protein(display_relation string);\n",
    "%ngql CREATE EDGE IF NOT EXISTS drug_protein(display_relation string);\n",
    "%ngql CREATE EDGE IF NOT EXISTS contraindication(display_relation string);\n",
    "%ngql CREATE EDGE IF NOT EXISTS indication(display_relation string);\n",
    "%ngql CREATE EDGE IF NOT EXISTS off_label_use(display_relation string);\n",
    "%ngql CREATE EDGE IF NOT EXISTS drug_drug(display_relation string);\n",
    "%ngql CREATE EDGE IF NOT EXISTS phenotype_protein(display_relation string);\n",
    "%ngql CREATE EDGE IF NOT EXISTS phenotype_phenotype(display_relation string);\n",
    "%ngql CREATE EDGE IF NOT EXISTS disease_phenotype_negative(display_relation string);\n",
    "%ngql CREATE EDGE IF NOT EXISTS disease_phenotype_positive(display_relation string);\n",
    "%ngql CREATE EDGE IF NOT EXISTS disease_protein(display_relation string);\n",
    "%ngql CREATE EDGE IF NOT EXISTS disease_disease(display_relation string);\n",
    "%ngql CREATE EDGE IF NOT EXISTS drug_effect(display_relation string);\n",
    "%ngql CREATE EDGE IF NOT EXISTS bioprocess_bioprocess(display_relation string);\n",
    "%ngql CREATE EDGE IF NOT EXISTS molfunc_molfunc(display_relation string);\n",
    "%ngql CREATE EDGE IF NOT EXISTS cellcomp_cellcomp(display_relation string);\n",
    "%ngql CREATE EDGE IF NOT EXISTS molfunc_protein(display_relation string);\n",
    "%ngql CREATE EDGE IF NOT EXISTS cellcomp_protein(display_relation string);\n",
    "%ngql CREATE EDGE IF NOT EXISTS bioprocess_protein(display_relation string);\n",
    "%ngql CREATE EDGE IF NOT EXISTS exposure_protein(display_relation string);\n",
    "%ngql CREATE EDGE IF NOT EXISTS exposure_disease(display_relation string);\n",
    "%ngql CREATE EDGE IF NOT EXISTS exposure_exposure(display_relation string);\n",
    "%ngql CREATE EDGE IF NOT EXISTS exposure_bioprocess(display_relation string);\n",
    "%ngql CREATE EDGE IF NOT EXISTS exposure_molfunc(display_relation string);\n",
    "%ngql CREATE EDGE IF NOT EXISTS exposure_cellcomp(display_relation string);\n",
    "%ngql CREATE EDGE IF NOT EXISTS pathway_pathway(display_relation string);\n",
    "%ngql CREATE EDGE IF NOT EXISTS pathway_protein(display_relation string);\n",
    "%ngql CREATE EDGE IF NOT EXISTS anatomy_anatomy(display_relation string);\n",
    "%ngql CREATE EDGE IF NOT EXISTS anatomy_protein_present(display_relation string);\n",
    "%ngql CREATE EDGE IF NOT EXISTS anatomy_protein_absent(display_relation string);"
   ]
  },
  {
   "cell_type": "code",
   "execution_count": null,
   "metadata": {},
   "outputs": [],
   "source": [
    "# for each edge type, load the data accordingly, this takes like 20mins from new\n",
    "%ng_load --source ~/scratch-llm/data/PrimeKG_data/sub_data/edge_protein_protein.csv --space PrimeKG --header --edge protein_protein --src 2 --dst 3 --props 1:display_relation\n",
    "%ng_load --source ~/scratch-llm/data/PrimeKG_data/sub_data/edge_drug_protein.csv --space PrimeKG --header --edge drug_protein --src 2 --dst 3 --props 1:display_relation\n",
    "%ng_load --source ~/scratch-llm/data/PrimeKG_data/sub_data/edge_contraindication.csv --space PrimeKG --header --edge contraindication --src 2 --dst 3 --props 1:display_relation\n",
    "%ng_load --source ~/scratch-llm/data/PrimeKG_data/sub_data/edge_indication.csv --space PrimeKG --header --edge indication --src 2 --dst 3 --props 1:display_relation\n",
    "%ng_load --source ~/scratch-llm/data/PrimeKG_data/sub_data/edge_off_label_use.csv --space PrimeKG --header --edge off_label_use --src 2 --dst 3 --props 1:display_relation\n",
    "%ng_load --source ~/scratch-llm/data/PrimeKG_data/sub_data/edge_drug_drug.csv --space PrimeKG --header --edge drug_drug --src 2 --dst 3 --props 1:display_relation\n",
    "%ng_load --source ~/scratch-llm/data/PrimeKG_data/sub_data/edge_phenotype_protein.csv --space PrimeKG --header --edge phenotype_protein --src 2 --dst 3 --props 1:display_relation\n",
    "%ng_load --source ~/scratch-llm/data/PrimeKG_data/sub_data/edge_phenotype_phenotype.csv --space PrimeKG --header --edge phenotype_phenotype --src 2 --dst 3 --props 1:display_relation\n",
    "%ng_load --source ~/scratch-llm/data/PrimeKG_data/sub_data/edge_disease_phenotype_negative.csv --space PrimeKG --header --edge disease_phenotype_negative --src 2 --dst 3 --props 1:display_relation\n",
    "%ng_load --source ~/scratch-llm/data/PrimeKG_data/sub_data/edge_disease_phenotype_positive.csv --space PrimeKG --header --edge disease_phenotype_positive --src 2 --dst 3 --props 1:display_relation\n",
    "%ng_load --source ~/scratch-llm/data/PrimeKG_data/sub_data/edge_disease_protein.csv --space PrimeKG --header --edge disease_protein --src 2 --dst 3 --props 1:display_relation\n",
    "%ng_load --source ~/scratch-llm/data/PrimeKG_data/sub_data/edge_disease_disease.csv --space PrimeKG --header --edge disease_disease --src 2 --dst 3 --props 1:display_relation\n",
    "%ng_load --source ~/scratch-llm/data/PrimeKG_data/sub_data/edge_drug_effect.csv --space PrimeKG --header --edge drug_effect --src 2 --dst 3 --props 1:display_relation\n",
    "%ng_load --source ~/scratch-llm/data/PrimeKG_data/sub_data/edge_bioprocess_bioprocess.csv --space PrimeKG --header --edge bioprocess_bioprocess --src 2 --dst 3 --props 1:display_relation\n",
    "%ng_load --source ~/scratch-llm/data/PrimeKG_data/sub_data/edge_molfunc_molfunc.csv --space PrimeKG --header --edge molfunc_molfunc --src 2 --dst 3 --props 1:display_relation\n"
   ]
  },
  {
   "cell_type": "code",
   "execution_count": null,
   "metadata": {},
   "outputs": [],
   "source": [
    "# load the edge data in two batches\n",
    "%ng_load --source ~/scratch-llm/data/PrimeKG_data/sub_data/edge_cellcomp_cellcomp.csv --space PrimeKG --header --edge cellcomp_cellcomp --src 2 --dst 3 --props 1:display_relation\n",
    "%ng_load --source ~/scratch-llm/data/PrimeKG_data/sub_data/edge_molfunc_protein.csv --space PrimeKG --header --edge molfunc_protein --src 2 --dst 3 --props 1:display_relation\n",
    "%ng_load --source ~/scratch-llm/data/PrimeKG_data/sub_data/edge_cellcomp_protein.csv --space PrimeKG --header --edge cellcomp_protein --src 2 --dst 3 --props 1:display_relation\n",
    "%ng_load --source ~/scratch-llm/data/PrimeKG_data/sub_data/edge_bioprocess_protein.csv --space PrimeKG --header --edge bioprocess_protein --src 2 --dst 3 --props 1:display_relation\n",
    "%ng_load --source ~/scratch-llm/data/PrimeKG_data/sub_data/edge_exposure_protein.csv --space PrimeKG --header --edge exposure_protein --src 2 --dst 3 --props 1:display_relation\n",
    "%ng_load --source ~/scratch-llm/data/PrimeKG_data/sub_data/edge_exposure_disease.csv --space PrimeKG --header --edge exposure_disease --src 2 --dst 3 --props 1:display_relation\n",
    "%ng_load --source ~/scratch-llm/data/PrimeKG_data/sub_data/edge_exposure_exposure.csv --space PrimeKG --header --edge exposure_exposure --src 2 --dst 3 --props 1:display_relation\n",
    "%ng_load --source ~/scratch-llm/data/PrimeKG_data/sub_data/edge_exposure_bioprocess.csv --space PrimeKG --header --edge exposure_bioprocess --src 2 --dst 3 --props 1:display_relation\n",
    "%ng_load --source ~/scratch-llm/data/PrimeKG_data/sub_data/edge_exposure_molfunc.csv --space PrimeKG --header --edge exposure_molfunc --src 2 --dst 3 --props 1:display_relation\n",
    "%ng_load --source ~/scratch-llm/data/PrimeKG_data/sub_data/edge_exposure_cellcomp.csv --space PrimeKG --header --edge exposure_cellcomp --src 2 --dst 3 --props 1:display_relation\n",
    "%ng_load --source ~/scratch-llm/data/PrimeKG_data/sub_data/edge_pathway_pathway.csv --space PrimeKG --header --edge pathway_pathway --src 2 --dst 3 --props 1:display_relation\n",
    "%ng_load --source ~/scratch-llm/data/PrimeKG_data/sub_data/edge_pathway_protein.csv --space PrimeKG --header --edge pathway_protein --src 2 --dst 3 --props 1:display_relation\n",
    "%ng_load --source ~/scratch-llm/data/PrimeKG_data/sub_data/edge_anatomy_anatomy.csv --space PrimeKG --header --edge anatomy_anatomy --src 2 --dst 3 --props 1:display_relation\n",
    "%ng_load --source ~/scratch-llm/data/PrimeKG_data/sub_data/edge_anatomy_protein_present.csv --space PrimeKG --batch 500 --header --edge anatomy_protein_present --src 2 --dst 3 --props 1:display_relation\n",
    "%ng_load --source ~/scratch-llm/data/PrimeKG_data/sub_data/edge_anatomy_protein_absent.csv --space PrimeKG --header --edge anatomy_protein_absent --src 2 --dst 3 --props 1:display_relation\n"
   ]
  },
  {
   "cell_type": "markdown",
   "metadata": {},
   "source": [
    "## Checks"
   ]
  },
  {
   "cell_type": "code",
   "execution_count": null,
   "metadata": {},
   "outputs": [],
   "source": [
    "%ngql DESCRIBE TAG drug;"
   ]
  },
  {
   "cell_type": "code",
   "execution_count": null,
   "metadata": {},
   "outputs": [],
   "source": [
    "#small check-up, with extra drug and disease information for nodes\n",
    "%ngql GET SUBGRAPH WITH PROP 1 STEPS FROM 14045 OUT drug_protein YIELD VERTICES AS nodes, EDGES AS relationships;"
   ]
  },
  {
   "cell_type": "markdown",
   "metadata": {},
   "source": [
    "# Load directly to NebulaPropertyGraphStore"
   ]
  },
  {
   "cell_type": "code",
   "execution_count": 5,
   "metadata": {},
   "outputs": [],
   "source": [
    "from llama_index.core.schema import NodeRelationship, TextNode, IndexNode, RelatedNodeInfo\n",
    "from llama_index.graph_stores.nebula import NebulaPropertyGraphStore\n",
    "from llama_index.core import (\n",
    "    StorageContext,\n",
    ")"
   ]
  },
  {
   "cell_type": "markdown",
   "metadata": {},
   "source": [
    "define files to use:"
   ]
  },
  {
   "cell_type": "code",
   "execution_count": 7,
   "metadata": {},
   "outputs": [],
   "source": [
    "data_dir = '~/scratch-llm/data/PrimeKG_data/sub_data/'\n",
    "\n",
    "# List of node types and their corresponding CSV files\n",
    "node_files = {\n",
    "    'node_gene_protein.csv',\n",
    "    'node_merged_drug.csv', # manually corrected and generated from \"extra information section\"\n",
    "    'node_effect_phenotype.csv',\n",
    "    'node_merged_disease.csv', # manually corrected and generated from \"extra information section\"\n",
    "    'node_biological_process.csv',\n",
    "    'node_molecular_function.csv',\n",
    "    'node_cellular_component.csv',\n",
    "    'node_exposure.csv',\n",
    "    'node_pathway.csv',\n",
    "    'node_anatomy.csv'\n",
    "}\n",
    "\n",
    "edge_files ={\n",
    "    'edge_protein_protein.csv',\n",
    "    'edge_drug_protein.csv',\n",
    "    'edge_contraindication.csv',\n",
    "    'edge_indication.csv',\n",
    "    'edge_off_label_use.csv',\n",
    "    'edge_drug_drug.csv', # around 40 mins\n",
    "    'edge_phenotype_protein.csv',\n",
    "    'edge_phenotype_phenotype.csv',\n",
    "    'edge_disease_phenotype_negative.csv',\n",
    "    'edge_disease_phenotype_positive.csv',\n",
    "    'edge_disease_protein.csv',\n",
    "    'edge_disease_disease.csv',\n",
    "    'edge_drug_effect.csv',\n",
    "    'edge_bioprocess_bioprocess.csv',\n",
    "    'edge_molfunc_molfunc.csv',\n",
    "    'edge_cellcomp_cellcomp.csv',\n",
    "    'edge_molfunc_protein.csv',\n",
    "    'edge_cellcomp_protein.csv',\n",
    "    'edge_bioprocess_protein.csv',\n",
    "    'edge_exposure_protein.csv',\n",
    "    'edge_exposure_disease.csv',\n",
    "    'edge_exposure_exposure.csv',\n",
    "    'edge_exposure_bioprocess.csv',\n",
    "    'edge_exposure_molfunc.csv',\n",
    "    'edge_exposure_cellcomp.csv',\n",
    "    'edge_pathway_pathway.csv',\n",
    "    'edge_pathway_protein.csv',\n",
    "    'edge_anatomy_anatomy.csv',\n",
    "    'edge_anatomy_protein_present.csv', #around 90 mins\n",
    "    'edge_anatomy_protein_absent.csv'\n",
    "}"
   ]
  },
  {
   "cell_type": "markdown",
   "metadata": {},
   "source": [
    "## Nodes"
   ]
  },
  {
   "cell_type": "code",
   "execution_count": 4,
   "metadata": {},
   "outputs": [],
   "source": [
    "# create TextNodes\n",
    "def create_text_nodes(file_path):\n",
    "    df = pd.read_csv(file_path)\n",
    "    text_nodes = []\n",
    "    for _, row in df.iterrows():\n",
    "        id = row['node_index']\n",
    "        if len(row) > 5: # longer text info (drug/disease)\n",
    "            metadata_columns = ['node_index', 'node_id', 'node_type', 'node_name', \n",
    "                            'node_source', 'mondo_id', 'mondo_name', 'group_id_bert', \n",
    "                            'group_name_bert', 'orphanet_prevalence']\n",
    "            \n",
    "            text_columns = ['mondo_definition', 'umls_description', 'orphanet_definition', \n",
    "                        'orphanet_clinical_description', 'orphanet_management_and_treatment','orphanet_epidemiology', \n",
    "                        'mayo_symptoms', 'mayo_causes', 'mayo_risk_factors', 'mayo_complications',\n",
    "                        'mayo_prevention', 'mayo_see_doc','description', 'indication', 'mechanism_of_action',\n",
    "                        'half_life', 'protein_binding', 'pharmacodynamics', 'state', 'atc_1', 'atc_2', 'atc_3', \n",
    "                        'atc_4', 'category', 'group', 'pathway', 'molecular_weight', 'tpsa', 'clogp'] \n",
    "            available_metadata_columns = [col for col in metadata_columns if col in df.columns]\n",
    "            available_text_columns = [col for col in text_columns if col in df.columns] \n",
    "\n",
    "            # Extract metadata, not including empty entries     \n",
    "            metadata = {\n",
    "                col: row[col] for col in available_metadata_columns\n",
    "                if col in row and not (isinstance(row[col], float) and math.isnan(row[col]))\n",
    "            }\n",
    "            metadata = {k: str(v) for k, v in metadata.items()} #ensure entries are strings\n",
    "\n",
    "            # Extract and concatenate text values, not including empty entries\n",
    "            text_entries = [str(row[col]) for col in available_text_columns if pd.notna(row[col])]\n",
    "            text = \"\\n\".join(text_entries)            \n",
    "\n",
    "            text_node = TextNode(id_= str(id), text=text, metadata=metadata)\n",
    "            text_nodes.append(text_node)\n",
    "\n",
    "        else: # no text data, all other files\n",
    "            metadata = row.to_dict()\n",
    "            metadata = {k: str(v) for k, v in metadata.items()} #ensure entries are strings\n",
    "            text_node = TextNode(id_= str(id), metadata=metadata)\n",
    "            text_nodes.append(text_node)\n",
    "\n",
    "    return text_nodes\n"
   ]
  },
  {
   "cell_type": "code",
   "execution_count": 5,
   "metadata": {},
   "outputs": [],
   "source": [
    "# generate all nodes from the node files\n",
    "all_nodes = []\n",
    "for file in node_files:\n",
    "    nodes = create_text_nodes(data_dir+file)\n",
    "    all_nodes.extend(nodes)\n"
   ]
  },
  {
   "cell_type": "code",
   "execution_count": 123,
   "metadata": {},
   "outputs": [
    {
     "name": "stdout",
     "output_type": "stream",
     "text": [
      "73846\n"
     ]
    }
   ],
   "source": [
    "# find index of id_ = 35769\n",
    "for i, node in enumerate(all_nodes):\n",
    "    if node.id_ == '35428':\n",
    "        print(i)"
   ]
  },
  {
   "cell_type": "markdown",
   "metadata": {},
   "source": [
    "## Edges"
   ]
  },
  {
   "cell_type": "code",
   "execution_count": 6,
   "metadata": {},
   "outputs": [],
   "source": [
    "# create all edges\n",
    "from tqdm.notebook import tqdm\n",
    "\n",
    "def create_all_edges(file_path, all_nodes):\n",
    "    node_dict = {node.id_: node for node in all_nodes} #speed up search\n",
    "    df = pd.read_csv(os.path.join(file_path))\n",
    "\n",
    "    for _, row in tqdm(df.iterrows(), total=len(df), leave=False, desc=f\"Processing {file_path}\"):\n",
    "        x_index = str(row['x_index'])\n",
    "\n",
    "        if x_index in node_dict:\n",
    "            node = node_dict[x_index]\n",
    "            if NodeRelationship.CHILD not in node.relationships:\n",
    "                node.relationships[NodeRelationship.CHILD] = []\n",
    "            y_index = str(row['y_index'])\n",
    "            metadata = row.drop(['x_index', 'y_index']).to_dict()\n",
    "            \n",
    "            # check that the relationship is not there already\n",
    "            if not any(isinstance(r, RelatedNodeInfo) and r.node_id == y_index for r in node.relationships[NodeRelationship.CHILD]):\n",
    "                new_relationship = RelatedNodeInfo(node_id=y_index, metadata=metadata)\n",
    "                node.relationships[NodeRelationship.CHILD].append(new_relationship)\n"
   ]
  },
  {
   "cell_type": "code",
   "execution_count": 8,
   "metadata": {},
   "outputs": [
    {
     "data": {
      "application/vnd.jupyter.widget-view+json": {
       "model_id": "ee23e20dba594cc19a58bf19e82246f5",
       "version_major": 2,
       "version_minor": 0
      },
      "text/plain": [
       "Procesing edge files:   0%|          | 0/30 [00:00<?, ?it/s]"
      ]
     },
     "metadata": {},
     "output_type": "display_data"
    },
    {
     "data": {
      "application/vnd.jupyter.widget-view+json": {
       "model_id": "4686a60f47b242e3906812bb2b602f2b",
       "version_major": 2,
       "version_minor": 0
      },
      "text/plain": [
       "Processing ~/scratch-llm/data/PrimeKG_data/sub_data/edge_bioprocess_bioprocess.csv:   0%|          | 0/105772 …"
      ]
     },
     "metadata": {},
     "output_type": "display_data"
    },
    {
     "data": {
      "application/vnd.jupyter.widget-view+json": {
       "model_id": "1169e62c1ad249bc902e6c5bb7cf8e5f",
       "version_major": 2,
       "version_minor": 0
      },
      "text/plain": [
       "Processing ~/scratch-llm/data/PrimeKG_data/sub_data/edge_anatomy_protein_absent.csv:   0%|          | 0/39774 …"
      ]
     },
     "metadata": {},
     "output_type": "display_data"
    },
    {
     "data": {
      "application/vnd.jupyter.widget-view+json": {
       "model_id": "c5509d468e2f41a291cfa6b9eaf98594",
       "version_major": 2,
       "version_minor": 0
      },
      "text/plain": [
       "Processing ~/scratch-llm/data/PrimeKG_data/sub_data/edge_anatomy_protein_present.csv:   0%|          | 0/30364…"
      ]
     },
     "metadata": {},
     "output_type": "display_data"
    },
    {
     "data": {
      "application/vnd.jupyter.widget-view+json": {
       "model_id": "290dbca48be140b5863e4847d331356c",
       "version_major": 2,
       "version_minor": 0
      },
      "text/plain": [
       "Processing ~/scratch-llm/data/PrimeKG_data/sub_data/edge_cellcomp_cellcomp.csv:   0%|          | 0/9690 [00:00…"
      ]
     },
     "metadata": {},
     "output_type": "display_data"
    },
    {
     "data": {
      "application/vnd.jupyter.widget-view+json": {
       "model_id": "8deb54843273445aaf22a931ea4b6115",
       "version_major": 2,
       "version_minor": 0
      },
      "text/plain": [
       "Processing ~/scratch-llm/data/PrimeKG_data/sub_data/edge_bioprocess_protein.csv:   0%|          | 0/289610 [00…"
      ]
     },
     "metadata": {},
     "output_type": "display_data"
    },
    {
     "data": {
      "application/vnd.jupyter.widget-view+json": {
       "model_id": "6dadf78458e445ea84e8152776ad0173",
       "version_major": 2,
       "version_minor": 0
      },
      "text/plain": [
       "Processing ~/scratch-llm/data/PrimeKG_data/sub_data/edge_molfunc_protein.csv:   0%|          | 0/139060 [00:00…"
      ]
     },
     "metadata": {},
     "output_type": "display_data"
    },
    {
     "data": {
      "application/vnd.jupyter.widget-view+json": {
       "model_id": "3fba231b339747cf992092973290d47f",
       "version_major": 2,
       "version_minor": 0
      },
      "text/plain": [
       "Processing ~/scratch-llm/data/PrimeKG_data/sub_data/edge_drug_effect.csv:   0%|          | 0/129568 [00:00<?, …"
      ]
     },
     "metadata": {},
     "output_type": "display_data"
    },
    {
     "data": {
      "application/vnd.jupyter.widget-view+json": {
       "model_id": "882a84295e37427ba66e2db54e54ffa0",
       "version_major": 2,
       "version_minor": 0
      },
      "text/plain": [
       "Processing ~/scratch-llm/data/PrimeKG_data/sub_data/edge_protein_protein.csv:   0%|          | 0/642150 [00:00…"
      ]
     },
     "metadata": {},
     "output_type": "display_data"
    },
    {
     "data": {
      "application/vnd.jupyter.widget-view+json": {
       "model_id": "d5bca857d44b4e41ba35a59983cbbbd2",
       "version_major": 2,
       "version_minor": 0
      },
      "text/plain": [
       "Processing ~/scratch-llm/data/PrimeKG_data/sub_data/edge_disease_protein.csv:   0%|          | 0/161052 [00:00…"
      ]
     },
     "metadata": {},
     "output_type": "display_data"
    },
    {
     "data": {
      "application/vnd.jupyter.widget-view+json": {
       "model_id": "546a16d92ee04c64a2465da00876c27b",
       "version_major": 2,
       "version_minor": 0
      },
      "text/plain": [
       "Processing ~/scratch-llm/data/PrimeKG_data/sub_data/edge_indication.csv:   0%|          | 0/18542 [00:00<?, ?i…"
      ]
     },
     "metadata": {},
     "output_type": "display_data"
    },
    {
     "data": {
      "application/vnd.jupyter.widget-view+json": {
       "model_id": "678c4d3a06b84e249f4e7f5fd4bd73e5",
       "version_major": 2,
       "version_minor": 0
      },
      "text/plain": [
       "Processing ~/scratch-llm/data/PrimeKG_data/sub_data/edge_anatomy_anatomy.csv:   0%|          | 0/28064 [00:00<…"
      ]
     },
     "metadata": {},
     "output_type": "display_data"
    },
    {
     "data": {
      "application/vnd.jupyter.widget-view+json": {
       "model_id": "5f2378daa3aa4e818857984acd1d44f5",
       "version_major": 2,
       "version_minor": 0
      },
      "text/plain": [
       "Processing ~/scratch-llm/data/PrimeKG_data/sub_data/edge_exposure_cellcomp.csv:   0%|          | 0/20 [00:00<?…"
      ]
     },
     "metadata": {},
     "output_type": "display_data"
    },
    {
     "data": {
      "application/vnd.jupyter.widget-view+json": {
       "model_id": "624e3d14b0d04904897c6063849a276a",
       "version_major": 2,
       "version_minor": 0
      },
      "text/plain": [
       "Processing ~/scratch-llm/data/PrimeKG_data/sub_data/edge_cellcomp_protein.csv:   0%|          | 0/166804 [00:0…"
      ]
     },
     "metadata": {},
     "output_type": "display_data"
    },
    {
     "data": {
      "application/vnd.jupyter.widget-view+json": {
       "model_id": "727d297e49ed4a3ba7f21a47e53dabfe",
       "version_major": 2,
       "version_minor": 0
      },
      "text/plain": [
       "Processing ~/scratch-llm/data/PrimeKG_data/sub_data/edge_phenotype_protein.csv:   0%|          | 0/6660 [00:00…"
      ]
     },
     "metadata": {},
     "output_type": "display_data"
    },
    {
     "data": {
      "application/vnd.jupyter.widget-view+json": {
       "model_id": "3f596db75ea54cce82f6b936b7551ab2",
       "version_major": 2,
       "version_minor": 0
      },
      "text/plain": [
       "Processing ~/scratch-llm/data/PrimeKG_data/sub_data/edge_exposure_exposure.csv:   0%|          | 0/4140 [00:00…"
      ]
     },
     "metadata": {},
     "output_type": "display_data"
    },
    {
     "data": {
      "application/vnd.jupyter.widget-view+json": {
       "model_id": "51d8332503634785b0982d8362a34be4",
       "version_major": 2,
       "version_minor": 0
      },
      "text/plain": [
       "Processing ~/scratch-llm/data/PrimeKG_data/sub_data/edge_drug_drug.csv:   0%|          | 0/2672628 [00:00<?, ?…"
      ]
     },
     "metadata": {},
     "output_type": "display_data"
    },
    {
     "data": {
      "application/vnd.jupyter.widget-view+json": {
       "model_id": "c22bfbc722374b2f8bcfb4f6436e13a5",
       "version_major": 2,
       "version_minor": 0
      },
      "text/plain": [
       "Processing ~/scratch-llm/data/PrimeKG_data/sub_data/edge_drug_protein.csv:   0%|          | 0/51306 [00:00<?, …"
      ]
     },
     "metadata": {},
     "output_type": "display_data"
    },
    {
     "data": {
      "application/vnd.jupyter.widget-view+json": {
       "model_id": "47adc379394a451a94ff39d0c76be7c5",
       "version_major": 2,
       "version_minor": 0
      },
      "text/plain": [
       "Processing ~/scratch-llm/data/PrimeKG_data/sub_data/edge_exposure_molfunc.csv:   0%|          | 0/90 [00:00<?,…"
      ]
     },
     "metadata": {},
     "output_type": "display_data"
    },
    {
     "data": {
      "application/vnd.jupyter.widget-view+json": {
       "model_id": "ee9f8c0609c74e9992e8d8991b149a82",
       "version_major": 2,
       "version_minor": 0
      },
      "text/plain": [
       "Processing ~/scratch-llm/data/PrimeKG_data/sub_data/edge_disease_phenotype_positive.csv:   0%|          | 0/30…"
      ]
     },
     "metadata": {},
     "output_type": "display_data"
    },
    {
     "data": {
      "application/vnd.jupyter.widget-view+json": {
       "model_id": "ccc83d22bc934ac99e71ba4f288f61f0",
       "version_major": 2,
       "version_minor": 0
      },
      "text/plain": [
       "Processing ~/scratch-llm/data/PrimeKG_data/sub_data/edge_exposure_protein.csv:   0%|          | 0/2424 [00:00<…"
      ]
     },
     "metadata": {},
     "output_type": "display_data"
    },
    {
     "data": {
      "application/vnd.jupyter.widget-view+json": {
       "model_id": "34e5ceddb73042db8c59999e3cac68e7",
       "version_major": 2,
       "version_minor": 0
      },
      "text/plain": [
       "Processing ~/scratch-llm/data/PrimeKG_data/sub_data/edge_exposure_disease.csv:   0%|          | 0/4608 [00:00<…"
      ]
     },
     "metadata": {},
     "output_type": "display_data"
    },
    {
     "data": {
      "application/vnd.jupyter.widget-view+json": {
       "model_id": "ac44d1241ec540c5a9c62d91b6e29093",
       "version_major": 2,
       "version_minor": 0
      },
      "text/plain": [
       "Processing ~/scratch-llm/data/PrimeKG_data/sub_data/edge_off_label_use.csv:   0%|          | 0/5144 [00:00<?, …"
      ]
     },
     "metadata": {},
     "output_type": "display_data"
    },
    {
     "data": {
      "application/vnd.jupyter.widget-view+json": {
       "model_id": "9dbd7b5ad02a4990bc14a91b08907a76",
       "version_major": 2,
       "version_minor": 0
      },
      "text/plain": [
       "Processing ~/scratch-llm/data/PrimeKG_data/sub_data/edge_phenotype_phenotype.csv:   0%|          | 0/37472 [00…"
      ]
     },
     "metadata": {},
     "output_type": "display_data"
    },
    {
     "data": {
      "application/vnd.jupyter.widget-view+json": {
       "model_id": "85cb5e1b8399432897e4a3a6514e7150",
       "version_major": 2,
       "version_minor": 0
      },
      "text/plain": [
       "Processing ~/scratch-llm/data/PrimeKG_data/sub_data/edge_pathway_protein.csv:   0%|          | 0/85292 [00:00<…"
      ]
     },
     "metadata": {},
     "output_type": "display_data"
    },
    {
     "data": {
      "application/vnd.jupyter.widget-view+json": {
       "model_id": "232af527b9d04d5e980ab18bdfe11e7e",
       "version_major": 2,
       "version_minor": 0
      },
      "text/plain": [
       "Processing ~/scratch-llm/data/PrimeKG_data/sub_data/edge_molfunc_molfunc.csv:   0%|          | 0/27148 [00:00<…"
      ]
     },
     "metadata": {},
     "output_type": "display_data"
    },
    {
     "data": {
      "application/vnd.jupyter.widget-view+json": {
       "model_id": "0e9b952b9d33435399e351828c7b844d",
       "version_major": 2,
       "version_minor": 0
      },
      "text/plain": [
       "Processing ~/scratch-llm/data/PrimeKG_data/sub_data/edge_pathway_pathway.csv:   0%|          | 0/5070 [00:00<?…"
      ]
     },
     "metadata": {},
     "output_type": "display_data"
    },
    {
     "data": {
      "application/vnd.jupyter.widget-view+json": {
       "model_id": "bb04c3354c8d4b189d3e6feb170cb507",
       "version_major": 2,
       "version_minor": 0
      },
      "text/plain": [
       "Processing ~/scratch-llm/data/PrimeKG_data/sub_data/edge_disease_disease.csv:   0%|          | 0/62914 [00:00<…"
      ]
     },
     "metadata": {},
     "output_type": "display_data"
    },
    {
     "data": {
      "application/vnd.jupyter.widget-view+json": {
       "model_id": "406f1ae51dee429fa7b5755ae30b72ee",
       "version_major": 2,
       "version_minor": 0
      },
      "text/plain": [
       "Processing ~/scratch-llm/data/PrimeKG_data/sub_data/edge_contraindication.csv:   0%|          | 0/61060 [00:00…"
      ]
     },
     "metadata": {},
     "output_type": "display_data"
    },
    {
     "data": {
      "application/vnd.jupyter.widget-view+json": {
       "model_id": "2575dd203ef04ce6b09ded0c34ddb1a0",
       "version_major": 2,
       "version_minor": 0
      },
      "text/plain": [
       "Processing ~/scratch-llm/data/PrimeKG_data/sub_data/edge_disease_phenotype_negative.csv:   0%|          | 0/23…"
      ]
     },
     "metadata": {},
     "output_type": "display_data"
    },
    {
     "data": {
      "application/vnd.jupyter.widget-view+json": {
       "model_id": "ff1868efdb204e2a82a77d9f766330c8",
       "version_major": 2,
       "version_minor": 0
      },
      "text/plain": [
       "Processing ~/scratch-llm/data/PrimeKG_data/sub_data/edge_exposure_bioprocess.csv:   0%|          | 0/3250 [00:…"
      ]
     },
     "metadata": {},
     "output_type": "display_data"
    }
   ],
   "source": [
    "# all relationships for all nodes, takes around 120 mins\n",
    "for file in tqdm(edge_files, desc='Procesing edge files'):\n",
    "    create_all_edges(data_dir+file, all_nodes)"
   ]
  },
  {
   "cell_type": "markdown",
   "metadata": {},
   "source": [
    "save nodes-relationships to pickle"
   ]
  },
  {
   "cell_type": "code",
   "execution_count": 9,
   "metadata": {},
   "outputs": [],
   "source": [
    "# save `all_nodes` with pickle\n",
    "import pickle\n",
    "with open(os.path.expanduser('~/scratch-llm/storage/all_nodes.pkl'), 'wb') as f:\n",
    "    pickle.dump(all_nodes, f)"
   ]
  },
  {
   "cell_type": "code",
   "execution_count": 6,
   "metadata": {},
   "outputs": [],
   "source": [
    "# load from pickle\n",
    "import pickle\n",
    "with open(os.path.expanduser('~/scratch-llm/storage/all_nodes.pkl'), 'rb') as f:\n",
    "    nodes = pickle.load(f)\n",
    "    "
   ]
  },
  {
   "cell_type": "markdown",
   "metadata": {},
   "source": [
    "check up that edges are correctly generated:"
   ]
  },
  {
   "cell_type": "code",
   "execution_count": 174,
   "metadata": {},
   "outputs": [
    {
     "data": {
      "text/html": [
       "<div>\n",
       "<style scoped>\n",
       "    .dataframe tbody tr th:only-of-type {\n",
       "        vertical-align: middle;\n",
       "    }\n",
       "\n",
       "    .dataframe tbody tr th {\n",
       "        vertical-align: top;\n",
       "    }\n",
       "\n",
       "    .dataframe thead th {\n",
       "        text-align: right;\n",
       "    }\n",
       "</style>\n",
       "<table border=\"1\" class=\"dataframe\">\n",
       "  <thead>\n",
       "    <tr style=\"text-align: right;\">\n",
       "      <th></th>\n",
       "    </tr>\n",
       "  </thead>\n",
       "  <tbody>\n",
       "  </tbody>\n",
       "</table>\n",
       "</div>"
      ],
      "text/plain": [
       "Empty DataFrame\n",
       "Columns: []\n",
       "Index: []"
      ]
     },
     "execution_count": 174,
     "metadata": {},
     "output_type": "execute_result"
    }
   ],
   "source": [
    "%ngql USE PrimeKG;"
   ]
  },
  {
   "cell_type": "code",
   "execution_count": 177,
   "metadata": {},
   "outputs": [
    {
     "data": {
      "text/html": [
       "<div>\n",
       "<style scoped>\n",
       "    .dataframe tbody tr th:only-of-type {\n",
       "        vertical-align: middle;\n",
       "    }\n",
       "\n",
       "    .dataframe tbody tr th {\n",
       "        vertical-align: top;\n",
       "    }\n",
       "\n",
       "    .dataframe thead th {\n",
       "        text-align: right;\n",
       "    }\n",
       "</style>\n",
       "<table border=\"1\" class=\"dataframe\">\n",
       "  <thead>\n",
       "    <tr style=\"text-align: right;\">\n",
       "      <th></th>\n",
       "      <th>nodes</th>\n",
       "      <th>relationships</th>\n",
       "    </tr>\n",
       "  </thead>\n",
       "  <tbody>\n",
       "    <tr>\n",
       "      <th>0</th>\n",
       "      <td>[(35446 :disease{group_id_bert: __NULL__, group_name_bert: __NULL__, mayo_causes: __NULL__, mayo_complications: __NULL__, mayo_prevention: __NULL__, mayo_risk_factors: __NULL__, mayo_see_doc: __NULL__, mayo_symptoms: __NULL__, mondo_definition: \"A non-neoplastic or neoplastic disorder that affects the testis or the ovary.\", mondo_id: 2259, mondo_name: \"gonadal disease\", node_name: \"enuresis\", node_source: \"MONDO\", orphanet_clinical_description: __NULL__, orphanet_definition: __NULL__, orphanet_epidemiology: __NULL__, orphanet_management_and_treatment: __NULL__, orphanet_prevalence: __NULL__, umls_description: \"A non-neoplastic or neoplastic disorder that affects the testis or the ovary.\"})]</td>\n",
       "      <td>[(35446)-[:disease_disease@0{display_relation: \"parent-child\"}]-&gt;(27997), (35446)-[:disease_disease@0{display_relation: \"parent-child\"}]-&gt;(35757)]</td>\n",
       "    </tr>\n",
       "    <tr>\n",
       "      <th>1</th>\n",
       "      <td>[(27997 :disease{group_id_bert: __NULL__, group_name_bert: __NULL__, mayo_causes: __NULL__, mayo_complications: __NULL__, mayo_prevention: __NULL__, mayo_risk_factors: __NULL__, mayo_see_doc: __NULL__, mayo_symptoms: __NULL__, mondo_definition: \"Combined immunodeficiency with faciooculoskeletal anomalies is an extremely rare combined immunodeficiency disorder characterized by primary immunodeficiency manifesting with repeated bacterial, viral and fungal infections, in association with neurological manifestations (hypotonia, cerebellar ataxia, myoclonic seizures), developmental delay, optic atrophy, facial dysmorphism (high forehead, hypoplastic supraorbital ridges, palpebral edema, hypertelorism, flat nasal bridge, broad nasal root and tip, anteverted nares, thin lower lip overlapped by upper lip, square chin) and skeletal anomalies (short metacarpals/metatarsals with cone-shaped epiphyses, osteopenia).\", mondo_id: 13226, mondo_name: \"combined immunodeficiency with faciooculoskeletal anomalies\", node_name: \"enuresis, nocturnal\", node_source: \"MONDO_grouped\", orphanet_clinical_description: __NULL__, orphanet_definition: \"Combined immunodeficiency with faciooculoskeletal anomalies is an extremely rare combined immunodeficiency disorder characterized by primary immunodeficiency manifesting with repeated bacterial, viral and fungal infections, in association with neurological manifestations (hypotonia, cerebellar ataxia, myoclonic seizures), developmental delay, optic atrophy, facial dysmorphism (high forehead, hypoplastic supraorbital ridges, palpebral edema, hypertelorism, flat nasal bridge, broad nasal root and tip, anteverted nares, thin lower lip overlapped by upper lip, square chin) and skeletal anomalies (short metacarpals/metatarsals with cone-shaped epiphyses, osteopenia).\", orphanet_epidemiology: __NULL__, orphanet_management_and_treatment: __NULL__, orphanet_prevalence: \"&lt;1/1000000\", umls_description: \"An extremely rare combined immunodeficiency disorder characterized by primary immunodeficiency manifesting with repeated bacterial, viral and fungal infections, in association with neurological manifestations , developmental delay, optic atrophy, facial dysmorphism and skeletal anomalies\"}), (35757 :disease{group_id_bert: __NULL__, group_name_bert: __NULL__, mayo_causes: __NULL__, mayo_complications: __NULL__, mayo_prevention: __NULL__, mayo_risk_factors: __NULL__, mayo_see_doc: __NULL__, mayo_symptoms: __NULL__, mondo_definition: \"A group of disorders that affect a person's ability to learn or process specific types of information which is in contrast to his/her apparent level of intellect.\", mondo_id: 4681, mondo_name: \"learning disability\", node_name: \"psychiatric disorder\", node_source: \"MONDO\", orphanet_clinical_description: __NULL__, orphanet_definition: __NULL__, orphanet_epidemiology: __NULL__, orphanet_management_and_treatment: __NULL__, orphanet_prevalence: __NULL__, umls_description: \"A change to an individual's judgment, orientation , intellectual functioning, or mood from their baseline.\"})]</td>\n",
       "      <td>[(27997)-[:disease_disease@0{display_relation: \"parent-child\"}]-&gt;(35446), (35757)-[:disease_disease@0{display_relation: \"parent-child\"}]-&gt;(35446)]</td>\n",
       "    </tr>\n",
       "  </tbody>\n",
       "</table>\n",
       "</div>"
      ],
      "text/plain": [
       "                                                                                                                                                                                                                                                                                                                                                                                                                                                                                                                                                                                                                                                                                                                                                                                                                                                                                                                                                                                                                                                                                                                                                                                                                                                                                                                                                                                                                                                                                                                                                                                                                                                                                                                                                                                                                                                                                                                                                                                                                                                                                                                                                                                                                                                                                                                                                                                                                                                                                                                                                                                                                                                                                                                                                                                                                                                                                                                                                                                                                                                                                                                                                                                      nodes                                                                                                                                       relationships\n",
       "0                                                                                                                                                                                                                                                                                                                                                                                                                                                                                                                                                                                                                                                                                                                                                                                                                                                                                                                                                                                                                                                                                                                                                                                                                                                                                                                                                                                                                                                                                                                                                                                                                                                                                                                                                                                                                                                                                                                                                                                                                                                                                                                                                                                                                                                                                                                                                                                                                                                               [(35446 :disease{group_id_bert: __NULL__, group_name_bert: __NULL__, mayo_causes: __NULL__, mayo_complications: __NULL__, mayo_prevention: __NULL__, mayo_risk_factors: __NULL__, mayo_see_doc: __NULL__, mayo_symptoms: __NULL__, mondo_definition: \"A non-neoplastic or neoplastic disorder that affects the testis or the ovary.\", mondo_id: 2259, mondo_name: \"gonadal disease\", node_name: \"enuresis\", node_source: \"MONDO\", orphanet_clinical_description: __NULL__, orphanet_definition: __NULL__, orphanet_epidemiology: __NULL__, orphanet_management_and_treatment: __NULL__, orphanet_prevalence: __NULL__, umls_description: \"A non-neoplastic or neoplastic disorder that affects the testis or the ovary.\"})]  [(35446)-[:disease_disease@0{display_relation: \"parent-child\"}]->(27997), (35446)-[:disease_disease@0{display_relation: \"parent-child\"}]->(35757)]\n",
       "1  [(27997 :disease{group_id_bert: __NULL__, group_name_bert: __NULL__, mayo_causes: __NULL__, mayo_complications: __NULL__, mayo_prevention: __NULL__, mayo_risk_factors: __NULL__, mayo_see_doc: __NULL__, mayo_symptoms: __NULL__, mondo_definition: \"Combined immunodeficiency with faciooculoskeletal anomalies is an extremely rare combined immunodeficiency disorder characterized by primary immunodeficiency manifesting with repeated bacterial, viral and fungal infections, in association with neurological manifestations (hypotonia, cerebellar ataxia, myoclonic seizures), developmental delay, optic atrophy, facial dysmorphism (high forehead, hypoplastic supraorbital ridges, palpebral edema, hypertelorism, flat nasal bridge, broad nasal root and tip, anteverted nares, thin lower lip overlapped by upper lip, square chin) and skeletal anomalies (short metacarpals/metatarsals with cone-shaped epiphyses, osteopenia).\", mondo_id: 13226, mondo_name: \"combined immunodeficiency with faciooculoskeletal anomalies\", node_name: \"enuresis, nocturnal\", node_source: \"MONDO_grouped\", orphanet_clinical_description: __NULL__, orphanet_definition: \"Combined immunodeficiency with faciooculoskeletal anomalies is an extremely rare combined immunodeficiency disorder characterized by primary immunodeficiency manifesting with repeated bacterial, viral and fungal infections, in association with neurological manifestations (hypotonia, cerebellar ataxia, myoclonic seizures), developmental delay, optic atrophy, facial dysmorphism (high forehead, hypoplastic supraorbital ridges, palpebral edema, hypertelorism, flat nasal bridge, broad nasal root and tip, anteverted nares, thin lower lip overlapped by upper lip, square chin) and skeletal anomalies (short metacarpals/metatarsals with cone-shaped epiphyses, osteopenia).\", orphanet_epidemiology: __NULL__, orphanet_management_and_treatment: __NULL__, orphanet_prevalence: \"<1/1000000\", umls_description: \"An extremely rare combined immunodeficiency disorder characterized by primary immunodeficiency manifesting with repeated bacterial, viral and fungal infections, in association with neurological manifestations , developmental delay, optic atrophy, facial dysmorphism and skeletal anomalies\"}), (35757 :disease{group_id_bert: __NULL__, group_name_bert: __NULL__, mayo_causes: __NULL__, mayo_complications: __NULL__, mayo_prevention: __NULL__, mayo_risk_factors: __NULL__, mayo_see_doc: __NULL__, mayo_symptoms: __NULL__, mondo_definition: \"A group of disorders that affect a person's ability to learn or process specific types of information which is in contrast to his/her apparent level of intellect.\", mondo_id: 4681, mondo_name: \"learning disability\", node_name: \"psychiatric disorder\", node_source: \"MONDO\", orphanet_clinical_description: __NULL__, orphanet_definition: __NULL__, orphanet_epidemiology: __NULL__, orphanet_management_and_treatment: __NULL__, orphanet_prevalence: __NULL__, umls_description: \"A change to an individual's judgment, orientation , intellectual functioning, or mood from their baseline.\"})]  [(27997)-[:disease_disease@0{display_relation: \"parent-child\"}]->(35446), (35757)-[:disease_disease@0{display_relation: \"parent-child\"}]->(35446)]"
      ]
     },
     "execution_count": 177,
     "metadata": {},
     "output_type": "execute_result"
    }
   ],
   "source": [
    "%ngql GET SUBGRAPH WITH PROP 1 STEPS FROM 35446 OUT disease_disease YIELD VERTICES AS nodes, EDGES AS relationships;"
   ]
  },
  {
   "cell_type": "code",
   "execution_count": 9,
   "metadata": {},
   "outputs": [
    {
     "name": "stdout",
     "output_type": "stream",
     "text": [
      "81150\n"
     ]
    }
   ],
   "source": [
    "# find a node with 'node_type' = 'disease'\n",
    "for i, node in enumerate(nodes):\n",
    "    if node.metadata.get('node_index') == '27182':\n",
    "        print(i)\n",
    "        break\n"
   ]
  },
  {
   "cell_type": "code",
   "execution_count": 149,
   "metadata": {},
   "outputs": [
    {
     "data": {
      "text/plain": [
       "{'node_index': '27187',\n",
       " 'node_id': '8196',\n",
       " 'node_type': 'disease',\n",
       " 'node_name': 'parastremmatic dwarfism',\n",
       " 'node_source': 'MONDO',\n",
       " 'mondo_id': '13818; 24541',\n",
       " 'mondo_name': 'trichohepatoenteric syndrome 2; trichohepatoenteric syndrome 1',\n",
       " 'group_id_bert': '24541_13818',\n",
       " 'group_name_bert': 'trichohepatoenteric syndrome'}"
      ]
     },
     "execution_count": 149,
     "metadata": {},
     "output_type": "execute_result"
    }
   ],
   "source": [
    "nodes[81155].metadata"
   ]
  },
  {
   "cell_type": "code",
   "execution_count": 10,
   "metadata": {},
   "outputs": [],
   "source": [
    "#small subgraph with text node_index = 27187\n",
    "start_node = nodes[81155] \n",
    "related_nodes_info = start_node.relationships.get(NodeRelationship.CHILD, [])\n",
    "\n",
    "related_nodes = []\n",
    "edges = []\n",
    "for relation in related_nodes_info:\n",
    "    # Find the related node by its node_id\n",
    "    related_node = next((node for node in nodes if node.node_id == relation.node_id), None)\n",
    "    if related_node:\n",
    "        related_nodes.append(related_node)\n",
    "        edges.append((start_node.node_id, related_node.node_id, relation.metadata))\n",
    "\n",
    "subgraph_nodes = [start_node] + related_nodes  # Include the starting node and its neighbors\n"
   ]
  },
  {
   "cell_type": "code",
   "execution_count": 11,
   "metadata": {},
   "outputs": [
    {
     "data": {
      "text/plain": [
       "{'node_index': '27187',\n",
       " 'node_id': '8196',\n",
       " 'node_type': 'disease',\n",
       " 'node_name': 'parastremmatic dwarfism',\n",
       " 'node_source': 'MONDO',\n",
       " 'mondo_id': '13818; 24541',\n",
       " 'mondo_name': 'trichohepatoenteric syndrome 2; trichohepatoenteric syndrome 1',\n",
       " 'group_id_bert': '24541_13818',\n",
       " 'group_name_bert': 'trichohepatoenteric syndrome'}"
      ]
     },
     "execution_count": 11,
     "metadata": {},
     "output_type": "execute_result"
    }
   ],
   "source": [
    "subgraph_nodes[0].metadata"
   ]
  },
  {
   "cell_type": "markdown",
   "metadata": {},
   "source": [
    "## Generate index"
   ]
  },
  {
   "cell_type": "code",
   "execution_count": 152,
   "metadata": {},
   "outputs": [
    {
     "data": {
      "text/html": [
       "<div>\n",
       "<style scoped>\n",
       "    .dataframe tbody tr th:only-of-type {\n",
       "        vertical-align: middle;\n",
       "    }\n",
       "\n",
       "    .dataframe tbody tr th {\n",
       "        vertical-align: top;\n",
       "    }\n",
       "\n",
       "    .dataframe thead th {\n",
       "        text-align: right;\n",
       "    }\n",
       "</style>\n",
       "<table border=\"1\" class=\"dataframe\">\n",
       "  <thead>\n",
       "    <tr style=\"text-align: right;\">\n",
       "      <th></th>\n",
       "    </tr>\n",
       "  </thead>\n",
       "  <tbody>\n",
       "  </tbody>\n",
       "</table>\n",
       "</div>"
      ],
      "text/plain": [
       "Empty DataFrame\n",
       "Columns: []\n",
       "Index: []"
      ]
     },
     "execution_count": 152,
     "metadata": {},
     "output_type": "execute_result"
    }
   ],
   "source": [
    "%ngql CREATE SPACE IF NOT EXISTS PrimeKG_manual(vid_type=FIXED_STRING(256), partition_num=20, replica_factor=1);"
   ]
  },
  {
   "cell_type": "code",
   "execution_count": 151,
   "metadata": {},
   "outputs": [
    {
     "data": {
      "text/html": [
       "<div>\n",
       "<style scoped>\n",
       "    .dataframe tbody tr th:only-of-type {\n",
       "        vertical-align: middle;\n",
       "    }\n",
       "\n",
       "    .dataframe tbody tr th {\n",
       "        vertical-align: top;\n",
       "    }\n",
       "\n",
       "    .dataframe thead th {\n",
       "        text-align: right;\n",
       "    }\n",
       "</style>\n",
       "<table border=\"1\" class=\"dataframe\">\n",
       "  <thead>\n",
       "    <tr style=\"text-align: right;\">\n",
       "      <th></th>\n",
       "    </tr>\n",
       "  </thead>\n",
       "  <tbody>\n",
       "  </tbody>\n",
       "</table>\n",
       "</div>"
      ],
      "text/plain": [
       "Empty DataFrame\n",
       "Columns: []\n",
       "Index: []"
      ]
     },
     "execution_count": 151,
     "metadata": {},
     "output_type": "execute_result"
    }
   ],
   "source": [
    "%ngql drop space PrimeKG_manual;"
   ]
  },
  {
   "cell_type": "markdown",
   "metadata": {},
   "source": [
    "convert TextNode into IndexNode to insert the nodes into the index:"
   ]
  },
  {
   "cell_type": "code",
   "execution_count": 15,
   "metadata": {},
   "outputs": [],
   "source": [
    "from llama_index.core.vector_stores.simple import SimpleVectorStore\n",
    "from llama_index.core import PropertyGraphIndex, Settings\n",
    "from llama_index.llms.huggingface import HuggingFaceLLM\n",
    "from llama_index.embeddings.huggingface import HuggingFaceEmbedding\n",
    "import torch\n",
    "from transformers import AutoTokenizer\n",
    "\n",
    "vec_store = SimpleVectorStore()"
   ]
  },
  {
   "cell_type": "code",
   "execution_count": 13,
   "metadata": {},
   "outputs": [],
   "source": [
    "os.environ[\"TOKENIZERS_PARALLELISM\"] = \"false\""
   ]
  },
  {
   "cell_type": "code",
   "execution_count": 14,
   "metadata": {},
   "outputs": [],
   "source": [
    "# Create IndexNode objects from TextNode objects\n",
    "index_nodes = [IndexNode.from_text_node(node, index_id=\"index_1\") for node in subgraph_nodes]\n"
   ]
  },
  {
   "cell_type": "code",
   "execution_count": 17,
   "metadata": {},
   "outputs": [
    {
     "data": {
      "text/plain": [
       "{'node_index': '27187',\n",
       " 'node_id': '8196',\n",
       " 'node_type': 'disease',\n",
       " 'node_name': 'parastremmatic dwarfism',\n",
       " 'node_source': 'MONDO',\n",
       " 'mondo_id': '13818; 24541',\n",
       " 'mondo_name': 'trichohepatoenteric syndrome 2; trichohepatoenteric syndrome 1',\n",
       " 'group_id_bert': '24541_13818',\n",
       " 'group_name_bert': 'trichohepatoenteric syndrome'}"
      ]
     },
     "execution_count": 17,
     "metadata": {},
     "output_type": "execute_result"
    }
   ],
   "source": [
    "index_nodes[0].metadata"
   ]
  },
  {
   "cell_type": "code",
   "execution_count": 21,
   "metadata": {},
   "outputs": [
    {
     "name": "stdout",
     "output_type": "stream",
     "text": [
      "Pad Token: <|end_of_text|>\n",
      "Pad Token ID: 128001\n",
      "EOS Token: <|end_of_text|>\n",
      "EOS Token ID: 128001\n"
     ]
    }
   ],
   "source": [
    "# Load tokenizer and set pad_token_id explicitly\n",
    "tokenizer = AutoTokenizer.from_pretrained(\"meta-llama/Llama-3.2-3B\")\n",
    "if tokenizer.pad_token_id is None:\n",
    "    tokenizer.pad_token_id = tokenizer.eos_token_id\n",
    "\n",
    "if tokenizer.eos_token_id is None:\n",
    "    tokenizer.eos_token_id = tokenizer.convert_ids_to_tokens(tokenizer.pad_token_id)\n",
    "\n",
    "\n",
    "print(f\"Pad Token: {tokenizer.pad_token}\")\n",
    "print(f\"Pad Token ID: {tokenizer.pad_token_id}\")\n",
    "print(f\"EOS Token: {tokenizer.eos_token}\")\n",
    "print(f\"EOS Token ID: {tokenizer.eos_token_id}\")"
   ]
  },
  {
   "cell_type": "code",
   "execution_count": 19,
   "metadata": {},
   "outputs": [
    {
     "data": {
      "application/vnd.jupyter.widget-view+json": {
       "model_id": "3e88438e6e534cd6b91534a0438d4853",
       "version_major": 2,
       "version_minor": 0
      },
      "text/plain": [
       "Loading checkpoint shards:   0%|          | 0/2 [00:00<?, ?it/s]"
      ]
     },
     "metadata": {},
     "output_type": "display_data"
    }
   ],
   "source": [
    "llm = HuggingFaceLLM(\n",
    "    context_window=4096,\n",
    "    max_new_tokens=256,\n",
    "    generate_kwargs={\"temperature\": 0.8, \"do_sample\": True},\n",
    "    # system_prompt=system_prompt,\n",
    "    # query_wrapper_prompt=query_wrapper_prompt,\n",
    "    tokenizer=tokenizer,\n",
    "    model_name=\"meta-llama/Llama-3.2-3B\",\n",
    "    device_map=\"auto\",\n",
    "    stopping_ids=[50278, 50279, 50277, 1, 0, 128001], # last newly included\n",
    "    tokenizer_kwargs={\"max_length\": 4096},\n",
    "    # uncomment this if using CUDA to reduce memory usage\n",
    "    model_kwargs={\"torch_dtype\": torch.float16}\n",
    ")\n",
    "\n",
    "Settings.llm = llm\n",
    "Settings.chunk_size = 1024\n",
    "Settings.embed_model = HuggingFaceEmbedding(model_name=\"BAAI/bge-m3\") "
   ]
  },
  {
   "cell_type": "code",
   "execution_count": null,
   "metadata": {},
   "outputs": [],
   "source": [
    "del llm  # Clear the model from memory\n",
    "torch.cuda.empty_cache()  # Clear the GPU cache"
   ]
  },
  {
   "cell_type": "code",
   "execution_count": 20,
   "metadata": {},
   "outputs": [
    {
     "name": "stderr",
     "output_type": "stream",
     "text": [
      "Extracting paths from text:   0%|          | 0/11 [00:00<?, ?it/s]Setting `pad_token_id` to `eos_token_id`:None for open-end generation.\n",
      "Setting `pad_token_id` to `eos_token_id`:None for open-end generation.\n",
      "Setting `pad_token_id` to `eos_token_id`:None for open-end generation.\n",
      "Setting `pad_token_id` to `eos_token_id`:None for open-end generation.\n",
      "Setting `pad_token_id` to `eos_token_id`:None for open-end generation.\n",
      "Setting `pad_token_id` to `eos_token_id`:None for open-end generation.\n",
      "Setting `pad_token_id` to `eos_token_id`:None for open-end generation.\n",
      "Setting `pad_token_id` to `eos_token_id`:None for open-end generation.\n",
      "Setting `pad_token_id` to `eos_token_id`:None for open-end generation.\n",
      "Setting `pad_token_id` to `eos_token_id`:None for open-end generation.\n",
      "Setting `pad_token_id` to `eos_token_id`:None for open-end generation.\n",
      "Extracting paths from text: 100%|██████████| 11/11 [00:28<00:00,  2.57s/it]\n",
      "Extracting implicit paths: 100%|██████████| 11/11 [00:00<00:00, 787.45it/s]\n",
      "Generating embeddings: 100%|██████████| 2/2 [00:00<00:00,  7.21it/s]\n",
      "Generating embeddings: 100%|██████████| 5/5 [00:00<00:00,  7.91it/s]\n"
     ]
    }
   ],
   "source": [
    "# PropertyGraphIndex requires NebulaPropertyGraphStore\n",
    "graph_store = NebulaPropertyGraphStore(\n",
    "    space= \"PrimeKG_manual\", \n",
    "    username = \"root\",\n",
    "    password = \"nebula\",\n",
    "    url = \"nebula://localhost:9669\",\n",
    "    props_schema= \"`node_index` STRING, `node_type` STRING, `node_id` STRING, `node_name` STRING, `node_source` STRING, `mondo_id` STRING, `mondo_name` STRING, `group_id_bert` STRING, `group_name_bert` STRING, `orphanet_prevalence` STRING, `display_relation` STRING, `_node_content` STRING, `_node_type` STRING, `document_id` STRING, `doc_id` STRING, `ref_doc_id` STRING, `triplet_source_id` STRING\",\n",
    "    overwrite=True\n",
    ")\n",
    "storage_context = StorageContext.from_defaults(property_graph_store=graph_store)\n",
    "\n",
    "index = PropertyGraphIndex.from_existing(\n",
    "    llm=llm,\n",
    "    vector_store=vec_store,\n",
    "    property_graph_store=graph_store,\n",
    "    show_progress=True,\n",
    "    storage_context=storage_context,\n",
    "    embed_kg_nodes=True\n",
    ")\n",
    "\n",
    "import nest_asyncio\n",
    "nest_asyncio.apply()\n",
    "\n",
    "index.insert_nodes(index_nodes)"
   ]
  },
  {
   "cell_type": "markdown",
   "metadata": {},
   "source": [
    "save index to persist storage"
   ]
  },
  {
   "cell_type": "code",
   "execution_count": 32,
   "metadata": {},
   "outputs": [],
   "source": [
    "index.storage_context.persist(persist_dir=\"~/scratch-llm/storage/PrimeKG_index_mid/\")\n"
   ]
  }
 ],
 "metadata": {
  "kernelspec": {
   "display_name": "rag",
   "language": "python",
   "name": "python3"
  },
  "language_info": {
   "codemirror_mode": {
    "name": "ipython",
    "version": 3
   },
   "file_extension": ".py",
   "mimetype": "text/x-python",
   "name": "python",
   "nbconvert_exporter": "python",
   "pygments_lexer": "ipython3",
   "version": "3.10.5"
  }
 },
 "nbformat": 4,
 "nbformat_minor": 2
}
