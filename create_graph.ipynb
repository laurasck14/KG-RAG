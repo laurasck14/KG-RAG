{
 "cells": [
  {
   "cell_type": "code",
   "execution_count": 1,
   "metadata": {},
   "outputs": [],
   "source": [
    "import pandas as pd\n",
    "from nebulagraph_lite import nebulagraph_let as ng_let\n",
    "import os, math"
   ]
  },
  {
   "cell_type": "markdown",
   "metadata": {},
   "source": [
    "# Data loading\n"
   ]
  },
  {
   "cell_type": "code",
   "execution_count": 4,
   "metadata": {},
   "outputs": [
    {
     "name": "stdout",
     "output_type": "stream",
     "text": [
      "\u001b[1;3;38;2;47;75;124mMessage: Activating storaged...\u001b[0m\n",
      "\u001b[1;3;38;2;102;81;145mResult of `SHOW HOSTS`:\u001b[0m\n",
      "\u001b[1;3;38;2;47;75;124m    errors:\u001b[0m\n",
      "\u001b[1;3;38;2;47;75;124m        code: 0\u001b[0m\n",
      "\u001b[1;3;38;2;102;81;145m    results:\u001b[0m\n",
      "\u001b[1;3;38;2;47;75;124m        spaceName: \u001b[0m\n",
      "\u001b[1;3;38;2;102;81;145m        data:\u001b[0m\n",
      "\u001b[1;3;38;2;47;75;124m            meta:\u001b[0m\n",
      "\u001b[1;3;38;2;47;75;124m                None, None, None, None, None, None, None\u001b[0m\n",
      "\u001b[1;3;38;2;102;81;145m            row:\u001b[0m\n",
      "\u001b[1;3;38;2;102;81;145m                127.0.0.1, 9779, ONLINE, 121, PrimeKG:100, PrimeKG_manual:20, basketballplayer:1, PrimeKG:100, PrimeKG_manual:20, basketballplayer:1, 3.8.0\u001b[0m\n",
      "\u001b[1;3;38;2;160;81;149m        columns:\u001b[0m\n",
      "\u001b[1;3;38;2;160;81;149m            Host, Port, Status, Leader count, Leader distribution, Partition distribution, Version\u001b[0m\n",
      "\u001b[1;3;38;2;212;80;135m        errors:\u001b[0m\n",
      "\u001b[1;3;38;2;47;75;124m            code: 0\u001b[0m\n",
      "\u001b[1;3;38;2;249;93;106m        latencyInUs: 860\u001b[0m\n",
      "\u001b[1;3;38;2;168;255;159mInfo: loading basketballplayer dataset...\u001b[0m\n",
      "\u001b[1;3;38;2;102;81;145m\n",
      "  _   _      _           _        ____                 _     \n",
      " | \\ | | ___| |__  _   _| | __ _ / ___|_ __ __ _ _ __ | |__  \n",
      " |  \\| |/ _ | '_ \\| | | | |/ _` | |  _| '__/ _` | '_ \\| '_ \\ \n",
      " | |\\  |  __| |_) | |_| | | (_| | |_| | | | (_| | |_) | | | |\n",
      " |_| \\_|\\___|_.__/ \\__,_|_|\\__,_|\\____|_|  \\__,_| .__/|_| |_|\n",
      "                                                |_|          \n",
      "                                                lite version\n",
      "\u001b[0m\n",
      "\u001b[1;3;38;2;210;161;255m[ OK ] nebulagraph_lite started successfully!\u001b[0m\n"
     ]
    }
   ],
   "source": [
    "# load NebulaGraph JupyterNotebook extension\n",
    "# !udocker pull vesoft/nebula-metad:v3\n",
    "# !udocker create --name=nebula-metad vesoft/nebula-metad:v3\n",
    "# !udocker setup --execmode=F1 nebula-metad\n",
    "\n",
    "# !udocker pull vesoft/nebula-graphd:v3\n",
    "# !udocker create --name=nebula-graphd vesoft/nebula-graphd:v3\n",
    "# !udocker setup --execmode=F1 nebula-graphd\n",
    "\n",
    "# !udocker pull vesoft/nebula-storaged:v\n",
    "# !udocker create --name=nebula-storaged vesoft/nebula-storaged:v3\n",
    "# !udocker setup --execmode=F1 nebula-storaged\n",
    "\n",
    "n = ng_let()\n",
    "n.start() # This takes around 5 mins"
   ]
  },
  {
   "cell_type": "code",
   "execution_count": null,
   "metadata": {},
   "outputs": [],
   "source": [
    "%load_ext ngql"
   ]
  },
  {
   "cell_type": "code",
   "execution_count": 2,
   "metadata": {},
   "outputs": [],
   "source": [
    "%reload_ext ngql"
   ]
  },
  {
   "cell_type": "code",
   "execution_count": 5,
   "metadata": {},
   "outputs": [
    {
     "name": "stdout",
     "output_type": "stream",
     "text": [
      "\u001b[1;3;38;2;0;135;107m[OK] Connection Pool Created\u001b[0m\n"
     ]
    },
    {
     "data": {
      "text/html": [
       "<div>\n",
       "<style scoped>\n",
       "    .dataframe tbody tr th:only-of-type {\n",
       "        vertical-align: middle;\n",
       "    }\n",
       "\n",
       "    .dataframe tbody tr th {\n",
       "        vertical-align: top;\n",
       "    }\n",
       "\n",
       "    .dataframe thead th {\n",
       "        text-align: right;\n",
       "    }\n",
       "</style>\n",
       "<table border=\"1\" class=\"dataframe\">\n",
       "  <thead>\n",
       "    <tr style=\"text-align: right;\">\n",
       "      <th></th>\n",
       "      <th>Name</th>\n",
       "    </tr>\n",
       "  </thead>\n",
       "  <tbody>\n",
       "    <tr>\n",
       "      <th>0</th>\n",
       "      <td>PrimeKG</td>\n",
       "    </tr>\n",
       "    <tr>\n",
       "      <th>1</th>\n",
       "      <td>PrimeKG_manual</td>\n",
       "    </tr>\n",
       "    <tr>\n",
       "      <th>2</th>\n",
       "      <td>basketballplayer</td>\n",
       "    </tr>\n",
       "  </tbody>\n",
       "</table>\n",
       "</div>"
      ],
      "text/plain": [
       "               Name\n",
       "0           PrimeKG\n",
       "1    PrimeKG_manual\n",
       "2  basketballplayer"
      ]
     },
     "execution_count": 5,
     "metadata": {},
     "output_type": "execute_result"
    }
   ],
   "source": [
    "%ngql --address 127.0.0.1 --port 9669 --user root --password nebula\n"
   ]
  },
  {
   "cell_type": "code",
   "execution_count": null,
   "metadata": {},
   "outputs": [],
   "source": [
    "# Create a new Graph space (graph) for the PrimeKG\n",
    "%ngql CREATE SPACE IF NOT EXISTS PrimeKG (vid_type = INT64);\n",
    "%ngql USE PrimeKG;"
   ]
  },
  {
   "cell_type": "markdown",
   "metadata": {},
   "source": [
    "# Create the graph from NebulaGraph directly"
   ]
  },
  {
   "cell_type": "code",
   "execution_count": 7,
   "metadata": {},
   "outputs": [],
   "source": [
    "#primekg = pd.read_csv(\"~/scratch-llm/data/PrimeKG_data/raw_data/kg.csv\", low_memory=False)\n",
    "nodes = pd.read_csv(\"~/scratch-llm/data/PrimeKG_data/raw_data/nodes.csv\",\n",
    "    low_memory=False,\n",
    "    sep=',',\n",
    "    quotechar='\"',  \n",
    "    escapechar='\\\\', \n",
    ")\n",
    "\n",
    "edges = pd.read_csv(\"~/scratch-llm/data/PrimeKG_data/raw_data/edges.csv\")"
   ]
  },
  {
   "cell_type": "markdown",
   "metadata": {},
   "source": [
    "## Nodes"
   ]
  },
  {
   "cell_type": "code",
   "execution_count": null,
   "metadata": {},
   "outputs": [],
   "source": [
    "print(nodes['node_type'].unique()) #types of nodes"
   ]
  },
  {
   "cell_type": "code",
   "execution_count": null,
   "metadata": {},
   "outputs": [],
   "source": [
    "# save the data for each 'node_type' in a separate file\n",
    "for node_type in nodes['node_type'].unique():\n",
    "    sanitized_node_type = node_type.replace('/', '_')\n",
    "    output_path = os.path.join('~/scratch-llm/data/PrimeKG_data/sub_data/', 'node_'+ sanitized_node_type + '.csv')\n",
    "    nodes[nodes['node_type'] == node_type].to_csv(output_path, index=False)"
   ]
  },
  {
   "cell_type": "code",
   "execution_count": null,
   "metadata": {},
   "outputs": [],
   "source": [
    "# Create Tags (node_type) for each node in the PrimeKG\n",
    "%ngql CREATE TAG IF NOT EXISTS anatomy(node_name string, node_source string, node_id string);\n",
    "%ngql CREATE TAG IF NOT EXISTS gene_protein(node_name string, node_source string, node_id string);\n",
    "%ngql CREATE TAG IF NOT EXISTS drug(node_name string, node_source string, node_id string, description string, half_life string, indication string, mechanism_of_action string, protein_binding string, pharmacodynamics string, state string, atc_1 string, atc_2 string, atc_3 string, atc_4 string, category string, group string, pathway string, molecular_weight string, tpsa string, clogp string);\n",
    "%ngql CREATE TAG IF NOT EXISTS disease(node_name string, node_source string, mondo_id int, mondo_name string, group_id_bert string, group_name_bert string, mondo_definition string, umls_description string, orphanet_definition string, orphanet_prevalence string, orphanet_epidemiology string, orphanet_clinical_description string, orphanet_management_and_treatment string, mayo_symptoms string, mayo_causes string, mayo_risk_factors string, mayo_complications string, mayo_prevention string, mayo_see_doc string);\n",
    "%ngql CREATE TAG IF NOT EXISTS pathway(node_name string, node_source string, node_id string);\n",
    "%ngql CREATE TAG IF NOT EXISTS biological_process(node_name string, node_source string, node_id string);\n",
    "%ngql CREATE TAG IF NOT EXISTS effect_phenotype(node_name string, node_source string, node_id string);\n",
    "%ngql CREATE TAG IF NOT EXISTS molecular_function(node_name string, node_source string, node_id string);\n",
    "%ngql CREATE TAG IF NOT EXISTS cellular_component(node_name string, node_source string, node_id string);\n",
    "%ngql CREATE TAG IF NOT EXISTS exposure(node_name string, node_source string, node_id string);"
   ]
  },
  {
   "cell_type": "code",
   "execution_count": null,
   "metadata": {},
   "outputs": [],
   "source": [
    "# Load each node source data into the corresponding Tag (working fine)\n",
    "%ng_load --source ~/scratch-llm/data/PrimeKG_data/sub_data/node_gene_protein.csv --tag gene_protein --header --space PrimeKG --vid 0 --props 2:node_id,3:node_name,4:node_source\n",
    "%ng_load --source ~/scratch-llm/data/PrimeKG_data/sub_data/node_biological_process.csv --tag biological_process --header --space PrimeKG --vid 0 --props 2:node_id,3:node_name,4:node_source\n",
    "%ng_load --source ~/scratch-llm/data/PrimeKG_data/sub_data/node_effect_phenotype.csv --tag effect_phenotype --header --space PrimeKG --vid 0 --props 2:node_id,3:node_name,4:node_source\n",
    "%ng_load --source ~/scratch-llm/data/PrimeKG_data/sub_data/node_molecular_function.csv --tag molecular_function --header --space PrimeKG --vid 0 --props 2:node_id,3:node_name,4:node_source\n",
    "%ng_load --source ~/scratch-llm/data/PrimeKG_data/sub_data/node_cellular_component.csv --tag cellular_component --header --space PrimeKG --vid 0 --props 2:node_id,3:node_name,4:node_source\n",
    "%ng_load --source ~/scratch-llm/data/PrimeKG_data/sub_data/node_pathway.csv --tag pathway --header --space PrimeKG --vid 0 --props 2:node_id,3:node_name,4:node_source\n",
    "%ng_load --source ~/scratch-llm/data/PrimeKG_data/sub_data/node_exposure.csv --tag exposure --header --space PrimeKG --vid 0 --props 2:node_id,3:node_name,4:node_source\n",
    "%ng_load --source ~/scratch-llm/data/PrimeKG_data/sub_data/node_anatomy.csv --tag anatomy --header --space PrimeKG --vid 0 --props 2:node_id,3:node_name,4:node_source\n"
   ]
  },
  {
   "cell_type": "markdown",
   "metadata": {},
   "source": [
    "### Extra information for nodes 'drug' and 'disease'"
   ]
  },
  {
   "cell_type": "code",
   "execution_count": null,
   "metadata": {},
   "outputs": [],
   "source": [
    "# disease and drug feature files are available as .tab format so they need to be converted to .csv\n",
    "# many formatting issues on both files that had to be correcteed manually before merging with the 'node_' dataset\n",
    "disease_tab = \"~/scratch-llm/data/PrimeKG_data/raw_data/disease_features.tab\"\n",
    "drug_tab = \"~/scratch-llm/data/PrimeKG_data/raw_data/drug_features.tab\"\n",
    "\n",
    "df = pd.read_csv(disease_tab, delimiter='\\t')\n",
    "disease_csv = \"~/scratch-llm/data/PrimeKG_data/sub_data/disease_features.csv\"\n",
    "df.to_csv(disease_csv, index=False)\n",
    "\n",
    "\n",
    "df = pd.read_csv(drug_tab, delimiter='\\t')\n",
    "drug_csv = \"~/scratch-llm/data/PrimeKG_data/sub_data/drug_features.csv\"\n",
    "df.to_csv(drug_csv, index=False) "
   ]
  },
  {
   "cell_type": "code",
   "execution_count": 10,
   "metadata": {},
   "outputs": [],
   "source": [
    "# merge extra drug and disease information \n",
    "node_drug = pd.read_csv(\"~/scratch-llm/data/PrimeKG_data/sub_data/node_drug.csv\")\n",
    "features_drug = pd.read_csv(\"~/scratch-llm/data/PrimeKG_data/sub_data/drug_features.csv\")\n",
    "node_disease = pd.read_csv(\"~/scratch-llm/data/PrimeKG_data/sub_data/node_disease.csv\")\n",
    "features_disease = pd.read_csv(\"~/scratch-llm/data/PrimeKG_data/sub_data/disease_features.csv\")\n"
   ]
  },
  {
   "cell_type": "code",
   "execution_count": 11,
   "metadata": {},
   "outputs": [],
   "source": [
    "# the disease_features has multiple rows with the same 'node_index' so we need to merge them\n",
    "def merge_column_values(column):\n",
    "    # Check if all values in the column can be converted to float\n",
    "    try:\n",
    "        numeric_column = pd.to_numeric(column, errors='coerce')\n",
    "        if numeric_column.notna().all():  # If all are numbers, return unique values\n",
    "            return '; '.join(map(str, sorted(set(numeric_column))))  # Keep the first numeric value (assuming they're the same)\n",
    "    except Exception:\n",
    "        pass\n",
    "    \n",
    "    # For strings, concatenate unique, non-empty values\n",
    "    return '; '.join(filter(lambda x: pd.notna(x) and str(x).strip() != '', set(column)))\n",
    "\n",
    "merged_features_disease = features_disease.groupby('node_index', as_index=False).agg(merge_column_values)"
   ]
  },
  {
   "cell_type": "code",
   "execution_count": null,
   "metadata": {},
   "outputs": [],
   "source": [
    "# Merge the dataframes on 'node_index' and save to csv\n",
    "merged_df = pd.merge(node_drug, features_drug, on='node_index')\n",
    "merged_df.to_csv(\"~/scratch-llm/data/PrimeKG_data/sub_data/node_merged_drug.csv\", index=False)\n",
    "\n",
    "merged_df = pd.merge(node_disease, merged_features_disease, on='node_index')\n",
    "# merged_df.fillna(\"\", inplace=True) # in case included 'extra' diseases that are only present in features_disease\n",
    "merged_df.to_csv(\"~/scratch-llm/data/PrimeKG_data/sub_data/node_merged_disease.csv\", index=False)"
   ]
  },
  {
   "cell_type": "code",
   "execution_count": null,
   "metadata": {},
   "outputs": [],
   "source": [
    "#Load the extended drug and disease data into the corresponding Tags\n",
    "%ng_load --source ~/scratch-llm/data/PrimeKG_data/sub_data/node_merged_disease.csv --tag disease --header --space PrimeKG --vid 0 --props 3:node_name,4:node_source,5:mondo_id,6:mondo_name,7:group_id_bert,8:group_name_bert,9:mondo_definition,10:umls_description,11:orphanet_definition,12:orphanet_prevalence,13:orphanet_epidemiology,14:orphanet_clinical_description,15:orphanet_management_and_treatment,16:mayo_symptoms,17:mayo_causes,18:mayo_risk_factors,19:mayo_complications,20:mayo_prevention,21:mayo_see_doc\n",
    "%ng_load --source ~/scratch-llm/data/PrimeKG_data/sub_data/node_merged_drug.csv --tag drug --header --space PrimeKG --batch 100 --vid 0 --props 2:node_id,3:node_name,4:node_source,5:description,6:half_life,7:indication,8:mechanism_of_action,9:protein_binding,10:pharmacodynamics,11:state,12:atc_1,13:atc_2,14:atc_3,15:atc_4,16:category,17:group,18:pathway,19:molecular_weight,20:tpsa,21:clogp\n"
   ]
  },
  {
   "cell_type": "markdown",
   "metadata": {},
   "source": [
    "## Edges"
   ]
  },
  {
   "cell_type": "code",
   "execution_count": null,
   "metadata": {},
   "outputs": [],
   "source": [
    "print(edges['relation'].unique()) # types of edges"
   ]
  },
  {
   "cell_type": "code",
   "execution_count": 8,
   "metadata": {},
   "outputs": [],
   "source": [
    "# save the data for each 'relation' (edge type) in a separate file\n",
    "for relation in edges['relation'].unique():\n",
    "    sanitized_relation = relation.replace('-', '_')\n",
    "    sanitized_relation = sanitized_relation.replace('\\t', '_')\n",
    "    output_path = os.path.join('~/scratch-llm/data/PrimeKG_data/sub_data/', 'edge_'+ sanitized_relation + '.csv')\n",
    "    edges[edges['relation'] == relation].to_csv(output_path, index=False)"
   ]
  },
  {
   "cell_type": "code",
   "execution_count": null,
   "metadata": {},
   "outputs": [],
   "source": [
    "%ngql CREATE EDGE IF NOT EXISTS protein_protein(display_relation string);\n",
    "%ngql CREATE EDGE IF NOT EXISTS drug_protein(display_relation string);\n",
    "%ngql CREATE EDGE IF NOT EXISTS contraindication(display_relation string);\n",
    "%ngql CREATE EDGE IF NOT EXISTS indication(display_relation string);\n",
    "%ngql CREATE EDGE IF NOT EXISTS off_label_use(display_relation string);\n",
    "%ngql CREATE EDGE IF NOT EXISTS drug_drug(display_relation string);\n",
    "%ngql CREATE EDGE IF NOT EXISTS phenotype_protein(display_relation string);\n",
    "%ngql CREATE EDGE IF NOT EXISTS phenotype_phenotype(display_relation string);\n",
    "%ngql CREATE EDGE IF NOT EXISTS disease_phenotype_negative(display_relation string);\n",
    "%ngql CREATE EDGE IF NOT EXISTS disease_phenotype_positive(display_relation string);\n",
    "%ngql CREATE EDGE IF NOT EXISTS disease_protein(display_relation string);\n",
    "%ngql CREATE EDGE IF NOT EXISTS disease_disease(display_relation string);\n",
    "%ngql CREATE EDGE IF NOT EXISTS drug_effect(display_relation string);\n",
    "%ngql CREATE EDGE IF NOT EXISTS bioprocess_bioprocess(display_relation string);\n",
    "%ngql CREATE EDGE IF NOT EXISTS molfunc_molfunc(display_relation string);\n",
    "%ngql CREATE EDGE IF NOT EXISTS cellcomp_cellcomp(display_relation string);\n",
    "%ngql CREATE EDGE IF NOT EXISTS molfunc_protein(display_relation string);\n",
    "%ngql CREATE EDGE IF NOT EXISTS cellcomp_protein(display_relation string);\n",
    "%ngql CREATE EDGE IF NOT EXISTS bioprocess_protein(display_relation string);\n",
    "%ngql CREATE EDGE IF NOT EXISTS exposure_protein(display_relation string);\n",
    "%ngql CREATE EDGE IF NOT EXISTS exposure_disease(display_relation string);\n",
    "%ngql CREATE EDGE IF NOT EXISTS exposure_exposure(display_relation string);\n",
    "%ngql CREATE EDGE IF NOT EXISTS exposure_bioprocess(display_relation string);\n",
    "%ngql CREATE EDGE IF NOT EXISTS exposure_molfunc(display_relation string);\n",
    "%ngql CREATE EDGE IF NOT EXISTS exposure_cellcomp(display_relation string);\n",
    "%ngql CREATE EDGE IF NOT EXISTS pathway_pathway(display_relation string);\n",
    "%ngql CREATE EDGE IF NOT EXISTS pathway_protein(display_relation string);\n",
    "%ngql CREATE EDGE IF NOT EXISTS anatomy_anatomy(display_relation string);\n",
    "%ngql CREATE EDGE IF NOT EXISTS anatomy_protein_present(display_relation string);\n",
    "%ngql CREATE EDGE IF NOT EXISTS anatomy_protein_absent(display_relation string);"
   ]
  },
  {
   "cell_type": "code",
   "execution_count": null,
   "metadata": {},
   "outputs": [],
   "source": [
    "# for each edge type, load the data accordingly, this takes like 20mins from new\n",
    "%ng_load --source ~/scratch-llm/data/PrimeKG_data/sub_data/edge_protein_protein.csv --space PrimeKG --header --edge protein_protein --src 2 --dst 3 --props 1:display_relation\n",
    "%ng_load --source ~/scratch-llm/data/PrimeKG_data/sub_data/edge_drug_protein.csv --space PrimeKG --header --edge drug_protein --src 2 --dst 3 --props 1:display_relation\n",
    "%ng_load --source ~/scratch-llm/data/PrimeKG_data/sub_data/edge_contraindication.csv --space PrimeKG --header --edge contraindication --src 2 --dst 3 --props 1:display_relation\n",
    "%ng_load --source ~/scratch-llm/data/PrimeKG_data/sub_data/edge_indication.csv --space PrimeKG --header --edge indication --src 2 --dst 3 --props 1:display_relation\n",
    "%ng_load --source ~/scratch-llm/data/PrimeKG_data/sub_data/edge_off_label_use.csv --space PrimeKG --header --edge off_label_use --src 2 --dst 3 --props 1:display_relation\n",
    "%ng_load --source ~/scratch-llm/data/PrimeKG_data/sub_data/edge_drug_drug.csv --space PrimeKG --header --edge drug_drug --src 2 --dst 3 --props 1:display_relation\n",
    "%ng_load --source ~/scratch-llm/data/PrimeKG_data/sub_data/edge_phenotype_protein.csv --space PrimeKG --header --edge phenotype_protein --src 2 --dst 3 --props 1:display_relation\n",
    "%ng_load --source ~/scratch-llm/data/PrimeKG_data/sub_data/edge_phenotype_phenotype.csv --space PrimeKG --header --edge phenotype_phenotype --src 2 --dst 3 --props 1:display_relation\n",
    "%ng_load --source ~/scratch-llm/data/PrimeKG_data/sub_data/edge_disease_phenotype_negative.csv --space PrimeKG --header --edge disease_phenotype_negative --src 2 --dst 3 --props 1:display_relation\n",
    "%ng_load --source ~/scratch-llm/data/PrimeKG_data/sub_data/edge_disease_phenotype_positive.csv --space PrimeKG --header --edge disease_phenotype_positive --src 2 --dst 3 --props 1:display_relation\n",
    "%ng_load --source ~/scratch-llm/data/PrimeKG_data/sub_data/edge_disease_protein.csv --space PrimeKG --header --edge disease_protein --src 2 --dst 3 --props 1:display_relation\n",
    "%ng_load --source ~/scratch-llm/data/PrimeKG_data/sub_data/edge_disease_disease.csv --space PrimeKG --header --edge disease_disease --src 2 --dst 3 --props 1:display_relation\n",
    "%ng_load --source ~/scratch-llm/data/PrimeKG_data/sub_data/edge_drug_effect.csv --space PrimeKG --header --edge drug_effect --src 2 --dst 3 --props 1:display_relation\n",
    "%ng_load --source ~/scratch-llm/data/PrimeKG_data/sub_data/edge_bioprocess_bioprocess.csv --space PrimeKG --header --edge bioprocess_bioprocess --src 2 --dst 3 --props 1:display_relation\n",
    "%ng_load --source ~/scratch-llm/data/PrimeKG_data/sub_data/edge_molfunc_molfunc.csv --space PrimeKG --header --edge molfunc_molfunc --src 2 --dst 3 --props 1:display_relation\n"
   ]
  },
  {
   "cell_type": "code",
   "execution_count": null,
   "metadata": {},
   "outputs": [],
   "source": [
    "# load the edge data in two batches\n",
    "%ng_load --source ~/scratch-llm/data/PrimeKG_data/sub_data/edge_cellcomp_cellcomp.csv --space PrimeKG --header --edge cellcomp_cellcomp --src 2 --dst 3 --props 1:display_relation\n",
    "%ng_load --source ~/scratch-llm/data/PrimeKG_data/sub_data/edge_molfunc_protein.csv --space PrimeKG --header --edge molfunc_protein --src 2 --dst 3 --props 1:display_relation\n",
    "%ng_load --source ~/scratch-llm/data/PrimeKG_data/sub_data/edge_cellcomp_protein.csv --space PrimeKG --header --edge cellcomp_protein --src 2 --dst 3 --props 1:display_relation\n",
    "%ng_load --source ~/scratch-llm/data/PrimeKG_data/sub_data/edge_bioprocess_protein.csv --space PrimeKG --header --edge bioprocess_protein --src 2 --dst 3 --props 1:display_relation\n",
    "%ng_load --source ~/scratch-llm/data/PrimeKG_data/sub_data/edge_exposure_protein.csv --space PrimeKG --header --edge exposure_protein --src 2 --dst 3 --props 1:display_relation\n",
    "%ng_load --source ~/scratch-llm/data/PrimeKG_data/sub_data/edge_exposure_disease.csv --space PrimeKG --header --edge exposure_disease --src 2 --dst 3 --props 1:display_relation\n",
    "%ng_load --source ~/scratch-llm/data/PrimeKG_data/sub_data/edge_exposure_exposure.csv --space PrimeKG --header --edge exposure_exposure --src 2 --dst 3 --props 1:display_relation\n",
    "%ng_load --source ~/scratch-llm/data/PrimeKG_data/sub_data/edge_exposure_bioprocess.csv --space PrimeKG --header --edge exposure_bioprocess --src 2 --dst 3 --props 1:display_relation\n",
    "%ng_load --source ~/scratch-llm/data/PrimeKG_data/sub_data/edge_exposure_molfunc.csv --space PrimeKG --header --edge exposure_molfunc --src 2 --dst 3 --props 1:display_relation\n",
    "%ng_load --source ~/scratch-llm/data/PrimeKG_data/sub_data/edge_exposure_cellcomp.csv --space PrimeKG --header --edge exposure_cellcomp --src 2 --dst 3 --props 1:display_relation\n",
    "%ng_load --source ~/scratch-llm/data/PrimeKG_data/sub_data/edge_pathway_pathway.csv --space PrimeKG --header --edge pathway_pathway --src 2 --dst 3 --props 1:display_relation\n",
    "%ng_load --source ~/scratch-llm/data/PrimeKG_data/sub_data/edge_pathway_protein.csv --space PrimeKG --header --edge pathway_protein --src 2 --dst 3 --props 1:display_relation\n",
    "%ng_load --source ~/scratch-llm/data/PrimeKG_data/sub_data/edge_anatomy_anatomy.csv --space PrimeKG --header --edge anatomy_anatomy --src 2 --dst 3 --props 1:display_relation\n",
    "%ng_load --source ~/scratch-llm/data/PrimeKG_data/sub_data/edge_anatomy_protein_present.csv --space PrimeKG --batch 500 --header --edge anatomy_protein_present --src 2 --dst 3 --props 1:display_relation\n",
    "%ng_load --source ~/scratch-llm/data/PrimeKG_data/sub_data/edge_anatomy_protein_absent.csv --space PrimeKG --header --edge anatomy_protein_absent --src 2 --dst 3 --props 1:display_relation\n"
   ]
  },
  {
   "cell_type": "markdown",
   "metadata": {},
   "source": [
    "## Checks"
   ]
  },
  {
   "cell_type": "code",
   "execution_count": null,
   "metadata": {},
   "outputs": [],
   "source": [
    "#small check-up, with extra drug and disease information for nodes\n",
    "%ngql GET SUBGRAPH WITH PROP 1 STEPS FROM 14045 OUT drug_protein YIELD VERTICES AS nodes, EDGES AS relationships;"
   ]
  },
  {
   "cell_type": "markdown",
   "metadata": {},
   "source": [
    "# Load directly to NebulaPropertyGraphStore"
   ]
  },
  {
   "cell_type": "code",
   "execution_count": 12,
   "metadata": {},
   "outputs": [],
   "source": [
    "from llama_index.core.schema import NodeRelationship, TextNode, IndexNode, RelatedNodeInfo\n",
    "from llama_index.graph_stores.nebula import NebulaPropertyGraphStore\n",
    "from llama_index.llms.huggingface import HuggingFaceLLM\n",
    "from llama_index.embeddings.huggingface import HuggingFaceEmbedding\n",
    "from transformers import AutoTokenizer\n",
    "from llama_index.core import (\n",
    "    StorageContext,\n",
    "    PropertyGraphIndex,\n",
    "    Settings\n",
    ")\n",
    "import torch\n"
   ]
  },
  {
   "cell_type": "markdown",
   "metadata": {},
   "source": [
    "define files to use:"
   ]
  },
  {
   "cell_type": "code",
   "execution_count": 9,
   "metadata": {},
   "outputs": [],
   "source": [
    "data_dir = '~/scratch-llm/data/PrimeKG_data/sub_data/'\n",
    "\n",
    "# List of node types and their corresponding CSV files\n",
    "node_files = {\n",
    "    'node_gene_protein.csv',\n",
    "    'node_merged_drug.csv', # manually corrected and generated from \"extra information section\"\n",
    "    'node_effect_phenotype.csv',\n",
    "    'node_merged_disease.csv', # manually corrected and generated from \"extra information section\"\n",
    "    'node_biological_process.csv',\n",
    "    'node_molecular_function.csv',\n",
    "    'node_cellular_component.csv',\n",
    "    'node_exposure.csv',\n",
    "    'node_pathway.csv',\n",
    "    'node_anatomy.csv'\n",
    "}\n",
    "\n",
    "edge_files ={\n",
    "    'edge_protein_protein.csv',\n",
    "    'edge_drug_protein.csv',\n",
    "    'edge_contraindication.csv',\n",
    "    'edge_indication.csv',\n",
    "    'edge_off_label_use.csv',\n",
    "    'edge_drug_drug.csv',\n",
    "    'edge_phenotype_protein.csv',\n",
    "    'edge_phenotype_phenotype.csv',\n",
    "    'edge_disease_phenotype_negative.csv',\n",
    "    'edge_disease_phenotype_positive.csv',\n",
    "    'edge_disease_protein.csv',\n",
    "    'edge_disease_disease.csv',\n",
    "    'edge_drug_effect.csv',\n",
    "    'edge_bioprocess_bioprocess.csv',\n",
    "    'edge_molfunc_molfunc.csv',\n",
    "    'edge_cellcomp_cellcomp.csv',\n",
    "    'edge_molfunc_protein.csv',\n",
    "    'edge_cellcomp_protein.csv',\n",
    "    'edge_bioprocess_protein.csv',\n",
    "    'edge_exposure_protein.csv',\n",
    "    'edge_exposure_disease.csv',\n",
    "    'edge_exposure_exposure.csv',\n",
    "    'edge_exposure_bioprocess.csv',\n",
    "    'edge_exposure_molfunc.csv',\n",
    "    'edge_exposure_cellcomp.csv',\n",
    "    'edge_pathway_pathway.csv',\n",
    "    'edge_pathway_protein.csv',\n",
    "    'edge_anatomy_anatomy.csv',\n",
    "    'edge_anatomy_protein_present.csv',\n",
    "    'edge_anatomy_protein_absent.csv'\n",
    "}"
   ]
  },
  {
   "cell_type": "markdown",
   "metadata": {},
   "source": [
    "## Nodes"
   ]
  },
  {
   "cell_type": "code",
   "execution_count": 10,
   "metadata": {},
   "outputs": [],
   "source": [
    "# create TextNodes\n",
    "def create_text_nodes(file_path):\n",
    "    df = pd.read_csv(file_path)\n",
    "    text_nodes = []\n",
    "    for _, row in df.iterrows():\n",
    "        id = row['node_index']\n",
    "        if len(row) > 5: # longer text info (drug/disease)\n",
    "            metadata_columns = ['node_index', 'node_id', 'node_type', 'node_name', \n",
    "                            'node_source', 'mondo_id', 'mondo_name', 'group_id_bert', \n",
    "                            'group_name_bert', 'orphanet_prevalence']\n",
    "            \n",
    "            text_columns = ['mondo_definition', 'umls_description', 'orphanet_definition', \n",
    "                        'orphanet_clinical_description', 'orphanet_management_and_treatment','orphanet_epidemiology', \n",
    "                        'mayo_symptoms', 'mayo_causes', 'mayo_risk_factors', 'mayo_complications',\n",
    "                        'mayo_prevention', 'mayo_see_doc','description', 'indication', 'mechanism_of_action',\n",
    "                        'half_life', 'protein_binding', 'pharmacodynamics', 'state', 'atc_1', 'atc_2', 'atc_3', \n",
    "                        'atc_4', 'category', 'group', 'pathway', 'molecular_weight', 'tpsa', 'clogp'] \n",
    "            available_metadata_columns = [col for col in metadata_columns if col in df.columns]\n",
    "            available_text_columns = [col for col in text_columns if col in df.columns] \n",
    "\n",
    "            # Extract metadata, not including empty entries     \n",
    "            metadata = {\n",
    "                col: row[col] for col in available_metadata_columns\n",
    "                if col in row and not (isinstance(row[col], float) and math.isnan(row[col]))\n",
    "            }\n",
    "            metadata = {k: str(v) for k, v in metadata.items()} #ensure entries are strings\n",
    "\n",
    "            # Extract and concatenate text values, not including empty entries\n",
    "            text_entries = [str(row[col]) for col in available_text_columns if pd.notna(row[col])]\n",
    "            text = \"\\n\".join(text_entries)            \n",
    "\n",
    "            text_node = TextNode(id_= str(id), text=text, metadata=metadata)\n",
    "            text_nodes.append(text_node)\n",
    "\n",
    "        else: # no text data, all other files\n",
    "            metadata = row.to_dict()\n",
    "            metadata = {k: str(v) for k, v in metadata.items()} #ensure entries are strings\n",
    "            text_node = TextNode(id_= str(id), metadata=metadata)\n",
    "            text_nodes.append(text_node)\n",
    "\n",
    "    return text_nodes\n"
   ]
  },
  {
   "cell_type": "code",
   "execution_count": 48,
   "metadata": {},
   "outputs": [],
   "source": [
    "# generate all nodes from the node files\n",
    "all_nodes = []\n",
    "for file in node_files:\n",
    "    nodes = create_text_nodes(data_dir+file)\n",
    "    all_nodes.extend(nodes)\n"
   ]
  },
  {
   "cell_type": "markdown",
   "metadata": {},
   "source": [
    "## Edges"
   ]
  },
  {
   "cell_type": "code",
   "execution_count": 49,
   "metadata": {},
   "outputs": [],
   "source": [
    "# create all edges\n",
    "from tqdm.notebook import tqdm\n",
    "\n",
    "def create_all_edges(file_path, all_nodes):\n",
    "    node_dict = {node.id_: node for node in all_nodes} #speed up search\n",
    "    df = pd.read_csv(os.path.join(file_path))\n",
    "\n",
    "    for _, row in tqdm(df.iterrows(), total=len(df), leave=False, desc=f\"Processing {file_path}\"):\n",
    "        x_index = str(row['x_index'])\n",
    "        y_index = str(row['y_index'])\n",
    "        \n",
    "        if x_index in node_dict:\n",
    "            origin_node = node_dict[x_index]\n",
    "            if NodeRelationship.CHILD not in origin_node.relationships:\n",
    "                origin_node.relationships[NodeRelationship.CHILD] = []\n",
    "           \n",
    "            metadata = row.drop(['x_index', 'y_index']).to_dict()\n",
    "            new_relationship = RelatedNodeInfo(node_id=y_index, metadata=metadata)\n",
    "            origin_node.relationships[NodeRelationship.CHILD].append(new_relationship)\n"
   ]
  },
  {
   "cell_type": "code",
   "execution_count": 50,
   "metadata": {},
   "outputs": [
    {
     "data": {
      "application/vnd.jupyter.widget-view+json": {
       "model_id": "03643c9879ec4e29adcd3aca46488694",
       "version_major": 2,
       "version_minor": 0
      },
      "text/plain": [
       "Procesing edge files:   0%|          | 0/30 [00:00<?, ?it/s]"
      ]
     },
     "metadata": {},
     "output_type": "display_data"
    },
    {
     "data": {
      "application/vnd.jupyter.widget-view+json": {
       "model_id": "2281f02b68234152875937243bd5ce64",
       "version_major": 2,
       "version_minor": 0
      },
      "text/plain": [
       "Processing ~/scratch-llm/data/PrimeKG_data/sub_data/edge_molfunc_molfunc.csv:   0%|          | 0/27148 [00:00<…"
      ]
     },
     "metadata": {},
     "output_type": "display_data"
    },
    {
     "data": {
      "application/vnd.jupyter.widget-view+json": {
       "model_id": "e748f1359f21496183c021ab6f9a922f",
       "version_major": 2,
       "version_minor": 0
      },
      "text/plain": [
       "Processing ~/scratch-llm/data/PrimeKG_data/sub_data/edge_bioprocess_bioprocess.csv:   0%|          | 0/105772 …"
      ]
     },
     "metadata": {},
     "output_type": "display_data"
    },
    {
     "data": {
      "application/vnd.jupyter.widget-view+json": {
       "model_id": "5cc0a35562a5479793804b8a2e0f3500",
       "version_major": 2,
       "version_minor": 0
      },
      "text/plain": [
       "Processing ~/scratch-llm/data/PrimeKG_data/sub_data/edge_exposure_molfunc.csv:   0%|          | 0/90 [00:00<?,…"
      ]
     },
     "metadata": {},
     "output_type": "display_data"
    },
    {
     "data": {
      "application/vnd.jupyter.widget-view+json": {
       "model_id": "c99c83466f084fbea49f15d59b97506a",
       "version_major": 2,
       "version_minor": 0
      },
      "text/plain": [
       "Processing ~/scratch-llm/data/PrimeKG_data/sub_data/edge_exposure_cellcomp.csv:   0%|          | 0/20 [00:00<?…"
      ]
     },
     "metadata": {},
     "output_type": "display_data"
    },
    {
     "data": {
      "application/vnd.jupyter.widget-view+json": {
       "model_id": "1c2e64ee4dd44e9b9180d3bd6b0b6749",
       "version_major": 2,
       "version_minor": 0
      },
      "text/plain": [
       "Processing ~/scratch-llm/data/PrimeKG_data/sub_data/edge_molfunc_protein.csv:   0%|          | 0/139060 [00:00…"
      ]
     },
     "metadata": {},
     "output_type": "display_data"
    },
    {
     "data": {
      "application/vnd.jupyter.widget-view+json": {
       "model_id": "6dd5fee7c5fa4ad2bfb0ba7c30d1f7f8",
       "version_major": 2,
       "version_minor": 0
      },
      "text/plain": [
       "Processing ~/scratch-llm/data/PrimeKG_data/sub_data/edge_anatomy_protein_present.csv:   0%|          | 0/30364…"
      ]
     },
     "metadata": {},
     "output_type": "display_data"
    },
    {
     "data": {
      "application/vnd.jupyter.widget-view+json": {
       "model_id": "348bc3e6ee5f409d9d8ffa1228e23638",
       "version_major": 2,
       "version_minor": 0
      },
      "text/plain": [
       "Processing ~/scratch-llm/data/PrimeKG_data/sub_data/edge_cellcomp_protein.csv:   0%|          | 0/166804 [00:0…"
      ]
     },
     "metadata": {},
     "output_type": "display_data"
    },
    {
     "data": {
      "application/vnd.jupyter.widget-view+json": {
       "model_id": "224d928316da496c8d8695b7ee9d4ffb",
       "version_major": 2,
       "version_minor": 0
      },
      "text/plain": [
       "Processing ~/scratch-llm/data/PrimeKG_data/sub_data/edge_disease_phenotype_negative.csv:   0%|          | 0/23…"
      ]
     },
     "metadata": {},
     "output_type": "display_data"
    },
    {
     "data": {
      "application/vnd.jupyter.widget-view+json": {
       "model_id": "7a1c259decaf419599ddb2989e927444",
       "version_major": 2,
       "version_minor": 0
      },
      "text/plain": [
       "Processing ~/scratch-llm/data/PrimeKG_data/sub_data/edge_anatomy_protein_absent.csv:   0%|          | 0/39774 …"
      ]
     },
     "metadata": {},
     "output_type": "display_data"
    },
    {
     "data": {
      "application/vnd.jupyter.widget-view+json": {
       "model_id": "42a842e8943d409da5f027fa23f927b2",
       "version_major": 2,
       "version_minor": 0
      },
      "text/plain": [
       "Processing ~/scratch-llm/data/PrimeKG_data/sub_data/edge_disease_phenotype_positive.csv:   0%|          | 0/30…"
      ]
     },
     "metadata": {},
     "output_type": "display_data"
    },
    {
     "data": {
      "application/vnd.jupyter.widget-view+json": {
       "model_id": "f53064e415b7402a9e8039764cf2f54c",
       "version_major": 2,
       "version_minor": 0
      },
      "text/plain": [
       "Processing ~/scratch-llm/data/PrimeKG_data/sub_data/edge_off_label_use.csv:   0%|          | 0/5144 [00:00<?, …"
      ]
     },
     "metadata": {},
     "output_type": "display_data"
    },
    {
     "data": {
      "application/vnd.jupyter.widget-view+json": {
       "model_id": "d1c7ce6f76184a21b508f4a1b8fe5ae1",
       "version_major": 2,
       "version_minor": 0
      },
      "text/plain": [
       "Processing ~/scratch-llm/data/PrimeKG_data/sub_data/edge_disease_disease.csv:   0%|          | 0/64388 [00:00<…"
      ]
     },
     "metadata": {},
     "output_type": "display_data"
    },
    {
     "data": {
      "application/vnd.jupyter.widget-view+json": {
       "model_id": "91e8cfcbdcc44b5a9bc6141779ac1160",
       "version_major": 2,
       "version_minor": 0
      },
      "text/plain": [
       "Processing ~/scratch-llm/data/PrimeKG_data/sub_data/edge_bioprocess_protein.csv:   0%|          | 0/289610 [00…"
      ]
     },
     "metadata": {},
     "output_type": "display_data"
    },
    {
     "data": {
      "application/vnd.jupyter.widget-view+json": {
       "model_id": "9090f66d783e45978303db96b33f820b",
       "version_major": 2,
       "version_minor": 0
      },
      "text/plain": [
       "Processing ~/scratch-llm/data/PrimeKG_data/sub_data/edge_phenotype_phenotype.csv:   0%|          | 0/37472 [00…"
      ]
     },
     "metadata": {},
     "output_type": "display_data"
    },
    {
     "data": {
      "application/vnd.jupyter.widget-view+json": {
       "model_id": "286af59d93d34ca2b953e7fd1ce826fc",
       "version_major": 2,
       "version_minor": 0
      },
      "text/plain": [
       "Processing ~/scratch-llm/data/PrimeKG_data/sub_data/edge_disease_protein.csv:   0%|          | 0/160822 [00:00…"
      ]
     },
     "metadata": {},
     "output_type": "display_data"
    },
    {
     "data": {
      "application/vnd.jupyter.widget-view+json": {
       "model_id": "b4474764a8ef48f3b1b46f8f7a03bccc",
       "version_major": 2,
       "version_minor": 0
      },
      "text/plain": [
       "Processing ~/scratch-llm/data/PrimeKG_data/sub_data/edge_drug_protein.csv:   0%|          | 0/51306 [00:00<?, …"
      ]
     },
     "metadata": {},
     "output_type": "display_data"
    },
    {
     "data": {
      "application/vnd.jupyter.widget-view+json": {
       "model_id": "20d41c2705f74cf887beaa90eca5e9c5",
       "version_major": 2,
       "version_minor": 0
      },
      "text/plain": [
       "Processing ~/scratch-llm/data/PrimeKG_data/sub_data/edge_drug_drug.csv:   0%|          | 0/2672628 [00:00<?, ?…"
      ]
     },
     "metadata": {},
     "output_type": "display_data"
    },
    {
     "data": {
      "application/vnd.jupyter.widget-view+json": {
       "model_id": "cc79d4dfed46458d8513050682357d31",
       "version_major": 2,
       "version_minor": 0
      },
      "text/plain": [
       "Processing ~/scratch-llm/data/PrimeKG_data/sub_data/edge_phenotype_protein.csv:   0%|          | 0/6660 [00:00…"
      ]
     },
     "metadata": {},
     "output_type": "display_data"
    },
    {
     "data": {
      "application/vnd.jupyter.widget-view+json": {
       "model_id": "2e39ea6dbaf8454fa857f237d20ba89d",
       "version_major": 2,
       "version_minor": 0
      },
      "text/plain": [
       "Processing ~/scratch-llm/data/PrimeKG_data/sub_data/edge_exposure_bioprocess.csv:   0%|          | 0/3250 [00:…"
      ]
     },
     "metadata": {},
     "output_type": "display_data"
    },
    {
     "data": {
      "application/vnd.jupyter.widget-view+json": {
       "model_id": "4745d9f2226d4a4bbe78a4134ea3ea4f",
       "version_major": 2,
       "version_minor": 0
      },
      "text/plain": [
       "Processing ~/scratch-llm/data/PrimeKG_data/sub_data/edge_anatomy_anatomy.csv:   0%|          | 0/28064 [00:00<…"
      ]
     },
     "metadata": {},
     "output_type": "display_data"
    },
    {
     "data": {
      "application/vnd.jupyter.widget-view+json": {
       "model_id": "a86cc42545e74746bf1074188083df43",
       "version_major": 2,
       "version_minor": 0
      },
      "text/plain": [
       "Processing ~/scratch-llm/data/PrimeKG_data/sub_data/edge_indication.csv:   0%|          | 0/18776 [00:00<?, ?i…"
      ]
     },
     "metadata": {},
     "output_type": "display_data"
    },
    {
     "data": {
      "application/vnd.jupyter.widget-view+json": {
       "model_id": "353599ddb0d94bc4b55602dd75db35f2",
       "version_major": 2,
       "version_minor": 0
      },
      "text/plain": [
       "Processing ~/scratch-llm/data/PrimeKG_data/sub_data/edge_protein_protein.csv:   0%|          | 0/642150 [00:00…"
      ]
     },
     "metadata": {},
     "output_type": "display_data"
    },
    {
     "data": {
      "application/vnd.jupyter.widget-view+json": {
       "model_id": "50b68111b09e4f0387094809702f01f4",
       "version_major": 2,
       "version_minor": 0
      },
      "text/plain": [
       "Processing ~/scratch-llm/data/PrimeKG_data/sub_data/edge_exposure_exposure.csv:   0%|          | 0/4140 [00:00…"
      ]
     },
     "metadata": {},
     "output_type": "display_data"
    },
    {
     "data": {
      "application/vnd.jupyter.widget-view+json": {
       "model_id": "afcf0a50a0354f1cba8379a850db91db",
       "version_major": 2,
       "version_minor": 0
      },
      "text/plain": [
       "Processing ~/scratch-llm/data/PrimeKG_data/sub_data/edge_drug_effect.csv:   0%|          | 0/129568 [00:00<?, …"
      ]
     },
     "metadata": {},
     "output_type": "display_data"
    },
    {
     "data": {
      "application/vnd.jupyter.widget-view+json": {
       "model_id": "fc3123bc8c2f455d911e17ab0cb17498",
       "version_major": 2,
       "version_minor": 0
      },
      "text/plain": [
       "Processing ~/scratch-llm/data/PrimeKG_data/sub_data/edge_exposure_disease.csv:   0%|          | 0/4608 [00:00<…"
      ]
     },
     "metadata": {},
     "output_type": "display_data"
    },
    {
     "data": {
      "application/vnd.jupyter.widget-view+json": {
       "model_id": "b700ca707e0641059e9d76ebd43c4cad",
       "version_major": 2,
       "version_minor": 0
      },
      "text/plain": [
       "Processing ~/scratch-llm/data/PrimeKG_data/sub_data/edge_pathway_protein.csv:   0%|          | 0/85292 [00:00<…"
      ]
     },
     "metadata": {},
     "output_type": "display_data"
    },
    {
     "data": {
      "application/vnd.jupyter.widget-view+json": {
       "model_id": "d0fbf31bb155407894f0f62ab99ef8de",
       "version_major": 2,
       "version_minor": 0
      },
      "text/plain": [
       "Processing ~/scratch-llm/data/PrimeKG_data/sub_data/edge_pathway_pathway.csv:   0%|          | 0/5070 [00:00<?…"
      ]
     },
     "metadata": {},
     "output_type": "display_data"
    },
    {
     "data": {
      "application/vnd.jupyter.widget-view+json": {
       "model_id": "dd9f0e20f8934bc2a78abbde58d48795",
       "version_major": 2,
       "version_minor": 0
      },
      "text/plain": [
       "Processing ~/scratch-llm/data/PrimeKG_data/sub_data/edge_cellcomp_cellcomp.csv:   0%|          | 0/9690 [00:00…"
      ]
     },
     "metadata": {},
     "output_type": "display_data"
    },
    {
     "data": {
      "application/vnd.jupyter.widget-view+json": {
       "model_id": "47ca77fdff45489490f9e52e8a5eeff0",
       "version_major": 2,
       "version_minor": 0
      },
      "text/plain": [
       "Processing ~/scratch-llm/data/PrimeKG_data/sub_data/edge_contraindication.csv:   0%|          | 0/61350 [00:00…"
      ]
     },
     "metadata": {},
     "output_type": "display_data"
    },
    {
     "data": {
      "application/vnd.jupyter.widget-view+json": {
       "model_id": "4cd23db19d4c424aacc5a2847c3f20c8",
       "version_major": 2,
       "version_minor": 0
      },
      "text/plain": [
       "Processing ~/scratch-llm/data/PrimeKG_data/sub_data/edge_exposure_protein.csv:   0%|          | 0/2424 [00:00<…"
      ]
     },
     "metadata": {},
     "output_type": "display_data"
    }
   ],
   "source": [
    "# all relationships for all nodes, takes around 120 mins\n",
    "for file in tqdm(edge_files, desc='Procesing edge files'):\n",
    "    create_all_edges(data_dir+file, all_nodes)"
   ]
  },
  {
   "cell_type": "markdown",
   "metadata": {},
   "source": [
    "save nodes-relationships to pickle"
   ]
  },
  {
   "cell_type": "code",
   "execution_count": 51,
   "metadata": {},
   "outputs": [],
   "source": [
    "# save `all_nodes` with pickle\n",
    "import pickle\n",
    "with open(os.path.expanduser('~/scratch-llm/storage/all_nodes.pkl'), 'wb') as f:\n",
    "    pickle.dump(all_nodes, f)"
   ]
  },
  {
   "cell_type": "code",
   "execution_count": 58,
   "metadata": {},
   "outputs": [],
   "source": [
    "# load from pickle\n",
    "import pickle\n",
    "with open(os.path.expanduser('~/scratch-llm/storage/all_nodes.pkl'), 'rb') as f:\n",
    "    nodes = pickle.load(f)\n",
    "    "
   ]
  },
  {
   "cell_type": "code",
   "execution_count": 72,
   "metadata": {},
   "outputs": [
    {
     "name": "stdout",
     "output_type": "stream",
     "text": [
      "node_id='27227' node_type=None metadata={'relation': 'disease_disease', 'display_relation': 'parent-child'} hash=None\n",
      "node_id='35690' node_type=None metadata={'relation': 'disease_disease', 'display_relation': 'parent-child'} hash=None\n",
      "node_id='35464' node_type=None metadata={'relation': 'disease_disease', 'display_relation': 'parent-child'} hash=None\n",
      "node_id='36349' node_type=None metadata={'relation': 'disease_disease', 'display_relation': 'parent-child'} hash=None\n"
     ]
    }
   ],
   "source": [
    "# find index of id_ = 35769\n",
    "for i, node in enumerate(nodes):\n",
    "    if node.id_ == '97054':\n",
    "        #print each relationship in a line\n",
    "        for rel in node.relationships[NodeRelationship.CHILD]:\n",
    "            print(rel)\n"
   ]
  },
  {
   "cell_type": "code",
   "execution_count": 61,
   "metadata": {},
   "outputs": [
    {
     "data": {
      "text/html": [
       "<div>\n",
       "<style scoped>\n",
       "    .dataframe tbody tr th:only-of-type {\n",
       "        vertical-align: middle;\n",
       "    }\n",
       "\n",
       "    .dataframe tbody tr th {\n",
       "        vertical-align: top;\n",
       "    }\n",
       "\n",
       "    .dataframe thead th {\n",
       "        text-align: right;\n",
       "    }\n",
       "</style>\n",
       "<table border=\"1\" class=\"dataframe\">\n",
       "  <thead>\n",
       "    <tr style=\"text-align: right;\">\n",
       "      <th></th>\n",
       "      <th>relation</th>\n",
       "      <th>display_relation</th>\n",
       "      <th>x_index</th>\n",
       "      <th>y_index</th>\n",
       "    </tr>\n",
       "  </thead>\n",
       "  <tbody>\n",
       "    <tr>\n",
       "      <th>6037259</th>\n",
       "      <td>disease_disease</td>\n",
       "      <td>parent-child</td>\n",
       "      <td>97054</td>\n",
       "      <td>27227</td>\n",
       "    </tr>\n",
       "    <tr>\n",
       "      <th>6037260</th>\n",
       "      <td>disease_disease</td>\n",
       "      <td>parent-child</td>\n",
       "      <td>97054</td>\n",
       "      <td>35690</td>\n",
       "    </tr>\n",
       "    <tr>\n",
       "      <th>6037261</th>\n",
       "      <td>disease_disease</td>\n",
       "      <td>parent-child</td>\n",
       "      <td>97054</td>\n",
       "      <td>35464</td>\n",
       "    </tr>\n",
       "    <tr>\n",
       "      <th>6037262</th>\n",
       "      <td>disease_disease</td>\n",
       "      <td>parent-child</td>\n",
       "      <td>97054</td>\n",
       "      <td>36349</td>\n",
       "    </tr>\n",
       "  </tbody>\n",
       "</table>\n",
       "</div>"
      ],
      "text/plain": [
       "                relation display_relation  x_index  y_index\n",
       "6037259  disease_disease     parent-child    97054    27227\n",
       "6037260  disease_disease     parent-child    97054    35690\n",
       "6037261  disease_disease     parent-child    97054    35464\n",
       "6037262  disease_disease     parent-child    97054    36349"
      ]
     },
     "execution_count": 61,
     "metadata": {},
     "output_type": "execute_result"
    }
   ],
   "source": [
    "edges[edges['x_index'] == 97054]"
   ]
  },
  {
   "cell_type": "markdown",
   "metadata": {},
   "source": [
    "check up that edges are correctly generated:"
   ]
  },
  {
   "cell_type": "code",
   "execution_count": 73,
   "metadata": {},
   "outputs": [
    {
     "name": "stdout",
     "output_type": "stream",
     "text": [
      "4207\n"
     ]
    }
   ],
   "source": [
    "# find a node of node_type = 'disease' with 5 edges\n",
    "for i, node in enumerate(nodes):\n",
    "    if 'node_type' in node.metadata and node.metadata['node_type'] == 'disease':\n",
    "        if len(node.relationships[NodeRelationship.CHILD]) == 10:\n",
    "            print(i)\n",
    "            break\n"
   ]
  },
  {
   "cell_type": "code",
   "execution_count": 74,
   "metadata": {},
   "outputs": [
    {
     "data": {
      "text/plain": [
       "[RelatedNodeInfo(node_id='22675', node_type=None, metadata={'relation': 'disease_phenotype_negative', 'display_relation': 'phenotype absent'}, hash=None),\n",
       " RelatedNodeInfo(node_id='85522', node_type=None, metadata={'relation': 'disease_phenotype_positive', 'display_relation': 'phenotype present'}, hash=None),\n",
       " RelatedNodeInfo(node_id='23236', node_type=None, metadata={'relation': 'disease_phenotype_positive', 'display_relation': 'phenotype present'}, hash=None),\n",
       " RelatedNodeInfo(node_id='23222', node_type=None, metadata={'relation': 'disease_phenotype_positive', 'display_relation': 'phenotype present'}, hash=None),\n",
       " RelatedNodeInfo(node_id='84633', node_type=None, metadata={'relation': 'disease_phenotype_positive', 'display_relation': 'phenotype present'}, hash=None),\n",
       " RelatedNodeInfo(node_id='26936', node_type=None, metadata={'relation': 'disease_phenotype_positive', 'display_relation': 'phenotype present'}, hash=None),\n",
       " RelatedNodeInfo(node_id='22759', node_type=None, metadata={'relation': 'disease_phenotype_positive', 'display_relation': 'phenotype present'}, hash=None),\n",
       " RelatedNodeInfo(node_id='38177', node_type=None, metadata={'relation': 'disease_disease', 'display_relation': 'parent-child'}, hash=None),\n",
       " RelatedNodeInfo(node_id='38180', node_type=None, metadata={'relation': 'disease_disease', 'display_relation': 'parent-child'}, hash=None),\n",
       " RelatedNodeInfo(node_id='7570', node_type=None, metadata={'relation': 'disease_protein', 'display_relation': 'associated with'}, hash=None)]"
      ]
     },
     "execution_count": 74,
     "metadata": {},
     "output_type": "execute_result"
    }
   ],
   "source": [
    "nodes[4207].relationships[NodeRelationship.CHILD]"
   ]
  },
  {
   "cell_type": "code",
   "execution_count": 75,
   "metadata": {},
   "outputs": [],
   "source": [
    "#small subgraph with text node_index = 27187\n",
    "start_node = nodes[4207] \n",
    "related_nodes_info = start_node.relationships.get(NodeRelationship.CHILD, [])\n",
    "\n",
    "related_nodes = []\n",
    "edges = []\n",
    "for relation in related_nodes_info:\n",
    "    # Find the related node by its node_id\n",
    "    related_node = next((node for node in nodes if node.node_id == relation.node_id), None)\n",
    "    if related_node:\n",
    "        related_nodes.append(related_node)\n",
    "        edges.append((start_node.node_id, related_node.node_id, relation.metadata))\n",
    "\n",
    "subgraph_nodes = [start_node] + related_nodes  # Include the starting node and its neighbors\n"
   ]
  },
  {
   "cell_type": "markdown",
   "metadata": {},
   "source": [
    "## Generate index"
   ]
  },
  {
   "cell_type": "markdown",
   "metadata": {},
   "source": [
    "convert TextNode into IndexNode to insert the nodes into the index:"
   ]
  },
  {
   "cell_type": "code",
   "execution_count": 76,
   "metadata": {},
   "outputs": [],
   "source": [
    "# Create IndexNode objects from TextNode objects\n",
    "index_nodes = [IndexNode.from_text_node(node, index_id=\"index_1\") for node in subgraph_nodes]"
   ]
  },
  {
   "cell_type": "markdown",
   "metadata": {},
   "source": [
    "### Load tokenizer and model"
   ]
  },
  {
   "cell_type": "code",
   "execution_count": 77,
   "metadata": {},
   "outputs": [],
   "source": [
    "from llama_index.core.vector_stores import SimpleVectorStore\n",
    "\n",
    "vec_store = SimpleVectorStore()"
   ]
  },
  {
   "cell_type": "code",
   "execution_count": 78,
   "metadata": {},
   "outputs": [],
   "source": [
    "os.environ[\"TOKENIZERS_PARALLELISM\"] = \"false\""
   ]
  },
  {
   "cell_type": "markdown",
   "metadata": {},
   "source": [
    "tokenizer:"
   ]
  },
  {
   "cell_type": "code",
   "execution_count": 79,
   "metadata": {},
   "outputs": [],
   "source": [
    "# Load tokenizer and set pad_token_id explicitly\n",
    "tokenizer = AutoTokenizer.from_pretrained(\"meta-llama/Llama-3.2-3B\")\n",
    "\n",
    "if tokenizer.pad_token_id is None: #no <pad> token previously defined, only eos_token\n",
    "    tokenizer.pad_token = tokenizer.eos_token\n",
    "    tokenizer.pad_token_id = tokenizer.convert_tokens_to_ids(tokenizer.pad_token)"
   ]
  },
  {
   "cell_type": "markdown",
   "metadata": {},
   "source": [
    "model:"
   ]
  },
  {
   "cell_type": "code",
   "execution_count": 80,
   "metadata": {},
   "outputs": [
    {
     "data": {
      "application/vnd.jupyter.widget-view+json": {
       "model_id": "3cd16c80dc004f34a7e50b5e176161ff",
       "version_major": 2,
       "version_minor": 0
      },
      "text/plain": [
       "Loading checkpoint shards:   0%|          | 0/2 [00:00<?, ?it/s]"
      ]
     },
     "metadata": {},
     "output_type": "display_data"
    },
    {
     "data": {
      "application/vnd.jupyter.widget-view+json": {
       "model_id": "cd68118a74c7499a904c861af6a6d65b",
       "version_major": 2,
       "version_minor": 0
      },
      "text/plain": [
       "modules.json:   0%|          | 0.00/349 [00:00<?, ?B/s]"
      ]
     },
     "metadata": {},
     "output_type": "display_data"
    },
    {
     "data": {
      "application/vnd.jupyter.widget-view+json": {
       "model_id": "6346153f8c674f199ceff3e2c6230dc4",
       "version_major": 2,
       "version_minor": 0
      },
      "text/plain": [
       "config_sentence_transformers.json:   0%|          | 0.00/123 [00:00<?, ?B/s]"
      ]
     },
     "metadata": {},
     "output_type": "display_data"
    },
    {
     "data": {
      "application/vnd.jupyter.widget-view+json": {
       "model_id": "faf10bf2f611447e9e827fe5ab7eb3a2",
       "version_major": 2,
       "version_minor": 0
      },
      "text/plain": [
       "README.md:   0%|          | 0.00/15.8k [00:00<?, ?B/s]"
      ]
     },
     "metadata": {},
     "output_type": "display_data"
    },
    {
     "data": {
      "application/vnd.jupyter.widget-view+json": {
       "model_id": "3b350daef02a48f08bdad7ab4fe908ae",
       "version_major": 2,
       "version_minor": 0
      },
      "text/plain": [
       "sentence_bert_config.json:   0%|          | 0.00/54.0 [00:00<?, ?B/s]"
      ]
     },
     "metadata": {},
     "output_type": "display_data"
    },
    {
     "data": {
      "application/vnd.jupyter.widget-view+json": {
       "model_id": "28f64014bf13406e9840d2e722e4afba",
       "version_major": 2,
       "version_minor": 0
      },
      "text/plain": [
       "config.json:   0%|          | 0.00/687 [00:00<?, ?B/s]"
      ]
     },
     "metadata": {},
     "output_type": "display_data"
    },
    {
     "data": {
      "application/vnd.jupyter.widget-view+json": {
       "model_id": "262baee663c2476fa37a5f7ab04a804b",
       "version_major": 2,
       "version_minor": 0
      },
      "text/plain": [
       "pytorch_model.bin:   0%|          | 0.00/2.27G [00:00<?, ?B/s]"
      ]
     },
     "metadata": {},
     "output_type": "display_data"
    },
    {
     "data": {
      "application/vnd.jupyter.widget-view+json": {
       "model_id": "a0c926afc0fb4afc8f95ae4dd54576e7",
       "version_major": 2,
       "version_minor": 0
      },
      "text/plain": [
       "tokenizer_config.json:   0%|          | 0.00/444 [00:00<?, ?B/s]"
      ]
     },
     "metadata": {},
     "output_type": "display_data"
    },
    {
     "data": {
      "application/vnd.jupyter.widget-view+json": {
       "model_id": "41af4331d42c48448b4755c71d4f6f36",
       "version_major": 2,
       "version_minor": 0
      },
      "text/plain": [
       "sentencepiece.bpe.model:   0%|          | 0.00/5.07M [00:00<?, ?B/s]"
      ]
     },
     "metadata": {},
     "output_type": "display_data"
    },
    {
     "data": {
      "application/vnd.jupyter.widget-view+json": {
       "model_id": "e7864b7df57e49b5a2d17108f2755283",
       "version_major": 2,
       "version_minor": 0
      },
      "text/plain": [
       "tokenizer.json:   0%|          | 0.00/17.1M [00:00<?, ?B/s]"
      ]
     },
     "metadata": {},
     "output_type": "display_data"
    },
    {
     "data": {
      "application/vnd.jupyter.widget-view+json": {
       "model_id": "9afbf5daa6fe40f6880542118f0eaa02",
       "version_major": 2,
       "version_minor": 0
      },
      "text/plain": [
       "special_tokens_map.json:   0%|          | 0.00/964 [00:00<?, ?B/s]"
      ]
     },
     "metadata": {},
     "output_type": "display_data"
    },
    {
     "data": {
      "application/vnd.jupyter.widget-view+json": {
       "model_id": "02c0da49224b4c5186497fd04de10909",
       "version_major": 2,
       "version_minor": 0
      },
      "text/plain": [
       "1_Pooling/config.json:   0%|          | 0.00/191 [00:00<?, ?B/s]"
      ]
     },
     "metadata": {},
     "output_type": "display_data"
    }
   ],
   "source": [
    "llm = HuggingFaceLLM(\n",
    "    context_window=4096,\n",
    "    max_new_tokens=256,\n",
    "    generate_kwargs={\n",
    "        \"temperature\": 0.8, \n",
    "        \"do_sample\": True,\n",
    "        \"pad_token_id\": tokenizer.pad_token_id,\n",
    "        \"eos_token_id\": tokenizer.eos_token_id},\n",
    "    # system_prompt=system_prompt,\n",
    "    # query_wrapper_prompt=query_wrapper_prompt,\n",
    "    tokenizer=tokenizer,\n",
    "    model_name=\"meta-llama/Llama-3.2-3B\",\n",
    "    device_map=\"auto\",\n",
    "    stopping_ids=[50278, 50279, 50277, 1, 0],\n",
    "    tokenizer_kwargs={\"max_length\": 4096},\n",
    "    # uncomment this if using CUDA to reduce memory usage\n",
    "    model_kwargs={\"torch_dtype\": torch.float16},\n",
    ")\n",
    "\n",
    "Settings.llm = llm\n",
    "Settings.chunk_size = 1024\n",
    "Settings.embed_model = HuggingFaceEmbedding(model_name=\"BAAI/bge-m3\") # <-- check for specific graph embedding models"
   ]
  },
  {
   "cell_type": "code",
   "execution_count": 147,
   "metadata": {},
   "outputs": [],
   "source": [
    "del llm  # Clear the model from memory\n",
    "torch.cuda.empty_cache()  # Clear the GPU cache"
   ]
  },
  {
   "cell_type": "markdown",
   "metadata": {},
   "source": [
    "graph store with NebulaGraph:"
   ]
  },
  {
   "cell_type": "code",
   "execution_count": 152,
   "metadata": {},
   "outputs": [
    {
     "data": {
      "text/html": [
       "<div>\n",
       "<style scoped>\n",
       "    .dataframe tbody tr th:only-of-type {\n",
       "        vertical-align: middle;\n",
       "    }\n",
       "\n",
       "    .dataframe tbody tr th {\n",
       "        vertical-align: top;\n",
       "    }\n",
       "\n",
       "    .dataframe thead th {\n",
       "        text-align: right;\n",
       "    }\n",
       "</style>\n",
       "<table border=\"1\" class=\"dataframe\">\n",
       "  <thead>\n",
       "    <tr style=\"text-align: right;\">\n",
       "      <th></th>\n",
       "    </tr>\n",
       "  </thead>\n",
       "  <tbody>\n",
       "  </tbody>\n",
       "</table>\n",
       "</div>"
      ],
      "text/plain": [
       "Empty DataFrame\n",
       "Columns: []\n",
       "Index: []"
      ]
     },
     "execution_count": 152,
     "metadata": {},
     "output_type": "execute_result"
    }
   ],
   "source": [
    "%ngql CREATE SPACE IF NOT EXISTS PrimeKG_manual(vid_type=FIXED_STRING(256), partition_num=20, replica_factor=1);"
   ]
  },
  {
   "cell_type": "code",
   "execution_count": 81,
   "metadata": {},
   "outputs": [],
   "source": [
    "# PropertyGraphIndex requires NebulaPropertyGraphStore\n",
    "graph_store = NebulaPropertyGraphStore(\n",
    "    space= \"PrimeKG_manual\", \n",
    "    username = \"root\",\n",
    "    password = \"nebula\",\n",
    "    url = \"nebula://localhost:9669\",\n",
    "    props_schema= \"`node_index` STRING, `node_type` STRING, `node_id` STRING, `node_name` STRING, `node_source` STRING, `mondo_id` STRING, `mondo_name` STRING, `group_id_bert` STRING, `group_name_bert` STRING, `orphanet_prevalence` STRING, `display_relation` STRING, `_node_content` STRING, `_node_type` STRING, `document_id` STRING, `doc_id` STRING, `ref_doc_id` STRING, `triplet_source_id` STRING\",\n",
    "    overwrite=True\n",
    ")\n",
    "\n",
    "# can use also vec_store=vec_store\n",
    "storage_context = StorageContext.from_defaults(\n",
    "    property_graph_store=graph_store, \n",
    "    vector_store=vec_store\n",
    ")\n"
   ]
  },
  {
   "cell_type": "markdown",
   "metadata": {},
   "source": [
    "index:"
   ]
  },
  {
   "cell_type": "code",
   "execution_count": 82,
   "metadata": {},
   "outputs": [
    {
     "name": "stderr",
     "output_type": "stream",
     "text": [
      "Extracting paths from text:   0%|          | 0/11 [00:00<?, ?it/s]"
     ]
    },
    {
     "name": "stderr",
     "output_type": "stream",
     "text": [
      "Extracting paths from text: 100%|██████████| 11/11 [01:03<00:00,  5.74s/it]\n",
      "Extracting implicit paths: 100%|██████████| 11/11 [00:00<00:00, 616.88it/s]\n",
      "Generating embeddings: 100%|██████████| 2/2 [00:00<00:00,  5.68it/s]\n",
      "Generating embeddings: 100%|██████████| 15/15 [00:02<00:00,  7.03it/s]\n"
     ]
    }
   ],
   "source": [
    "import nest_asyncio\n",
    "nest_asyncio.apply()\n",
    "\n",
    "index = PropertyGraphIndex(\n",
    "    llm=llm,\n",
    "    show_progress=True,\n",
    "    embed_kg_nodes=True,\n",
    "    property_graph_store=graph_store,\n",
    "    storage_context=storage_context,\n",
    "    nodes=index_nodes\n",
    ")\n"
   ]
  },
  {
   "cell_type": "markdown",
   "metadata": {},
   "source": [
    "checking the embeddings generated from a non-specific knowledge graph embedding model:"
   ]
  },
  {
   "cell_type": "code",
   "execution_count": 83,
   "metadata": {},
   "outputs": [
    {
     "data": {
      "image/png": "[encoded data removed]",
      "text/plain": [
       "<Figure size 640x480 with 1 Axes>"
      ]
     },
     "metadata": {},
     "output_type": "display_data"
    }
   ],
   "source": [
    "from sklearn.manifold import TSNE\n",
    "import matplotlib.pyplot as plt\n",
    "import numpy as np\n",
    "\n",
    "tsne = TSNE(n_components=2, random_state=42, perplexity=5)\n",
    "# Get the embeddings and labels\n",
    "embeddings = np.array([node.embedding for node in index_nodes])\n",
    "\n",
    "reduced_embeddings = tsne.fit_transform(embeddings)\n",
    "labels = [node.metadata['node_type'] for node in index_nodes]\n",
    "# Convert labels to numerical values for coloring\n",
    "label_to_num = {label: idx for idx, label in enumerate(set(labels))}\n",
    "numeric_labels = [label_to_num[label] for label in labels]\n",
    "\n",
    "reduced_embeddings = np.array(reduced_embeddings)\n",
    "plt.scatter(reduced_embeddings[:, 0], reduced_embeddings[:, 1], c=numeric_labels, cmap='viridis')\n",
    "for i, txt in enumerate(labels):\n",
    "    plt.annotate(txt, (reduced_embeddings[i, 0], reduced_embeddings[i, 1]))\n",
    "plt.show()"
   ]
  },
  {
   "cell_type": "code",
   "execution_count": 84,
   "metadata": {},
   "outputs": [
    {
     "name": "stdout",
     "output_type": "stream",
     "text": [
      "Accuracy: 0.25\n"
     ]
    }
   ],
   "source": [
    "from sklearn.model_selection import train_test_split\n",
    "from sklearn.ensemble import RandomForestClassifier\n",
    "from sklearn.metrics import accuracy_score\n",
    "\n",
    "X_train, X_test, y_train, y_test = train_test_split(embeddings, labels, test_size=0.3, random_state=42)\n",
    "classifier = RandomForestClassifier()\n",
    "classifier.fit(X_train, y_train)\n",
    "predictions = classifier.predict(X_test)\n",
    "print(\"Accuracy:\", accuracy_score(y_test, predictions))\n"
   ]
  },
  {
   "cell_type": "markdown",
   "metadata": {},
   "source": [
    "save index to persist storage"
   ]
  },
  {
   "cell_type": "code",
   "execution_count": null,
   "metadata": {},
   "outputs": [],
   "source": [
    "index.storage_context.persist(persist_dir=\"~/scratch-llm/storage/PrimeKG_index/\")"
   ]
  }
 ],
 "metadata": {
  "kernelspec": {
   "display_name": "llm-rag",
   "language": "python",
   "name": "python3"
  },
  "language_info": {
   "codemirror_mode": {
    "name": "ipython",
    "version": 3
   },
   "file_extension": ".py",
   "mimetype": "text/x-python",
   "name": "python",
   "nbconvert_exporter": "python",
   "pygments_lexer": "ipython3",
   "version": "3.12.8"
  }
 },
 "nbformat": 4,
 "nbformat_minor": 2
}
