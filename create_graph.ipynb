{
 "cells": [
  {
   "cell_type": "code",
   "execution_count": 1,
   "metadata": {},
   "outputs": [],
   "source": [
    "import pandas as pd\n",
    "from nebulagraph_lite import nebulagraph_let as ng_let\n",
    "import os, math, torch\n",
    "from tqdm.notebook import tqdm\n",
    "\n",
    "from llama_index.core.schema import NodeRelationship, TextNode, RelatedNodeInfo\n",
    "from llama_index.graph_stores.nebula import NebulaPropertyGraphStore\n",
    "from llama_index.llms.huggingface import HuggingFaceLLM\n",
    "from llama_index.embeddings.huggingface import HuggingFaceEmbedding\n",
    "from transformers import AutoTokenizer\n",
    "from llama_index.core import (\n",
    "    PropertyGraphIndex,\n",
    "    \n",
    "    Settings\n",
    ")\n",
    "\n",
    "# generate embeddings for all nodes to then create the index\n",
    "from typing import Sequence\n",
    "from llama_index.core.schema import BaseNode, MetadataMode\n",
    "from llama_index.core.embeddings.utils import resolve_embed_model\n",
    "from llama_index.core.settings import Settings"
   ]
  },
  {
   "cell_type": "code",
   "execution_count": null,
   "metadata": {},
   "outputs": [],
   "source": [
    "# load NebulaGraph JupyterNotebook extension\n",
    "!udocker pull vesoft/nebula-metad:v3\n",
    "!udocker create --name=nebula-metad vesoft/nebula-metad:v3\n",
    "!udocker setup --execmode=F1 nebula-metad\n",
    "!udocker pull vesoft/nebula-graphd:v3\n",
    "!udocker create --name=nebula-graphd vesoft/nebula-graphd:v3\n",
    "!udocker setup --execmode=F1 nebula-graphd\n",
    "!udocker pull vesoft/nebula-storaged:v3\n",
    "!udocker create --name=nebula-storaged vesoft/nebula-storaged:v3\n",
    "!udocker setup --execmode=F1 nebula-storaged\n",
    "\n",
    "n = ng_let(in_container=True)\n",
    "n.start() # This takes around 5 mins\n"
   ]
  },
  {
   "cell_type": "code",
   "execution_count": 2,
   "metadata": {},
   "outputs": [
    {
     "name": "stdout",
     "output_type": "stream",
     "text": [
      "\u001b[1;3;38;2;0;135;107m[OK] Connection Pool Created\u001b[0m\n"
     ]
    },
    {
     "data": {
      "text/html": [
       "<div>\n",
       "<style scoped>\n",
       "    .dataframe tbody tr th:only-of-type {\n",
       "        vertical-align: middle;\n",
       "    }\n",
       "\n",
       "    .dataframe tbody tr th {\n",
       "        vertical-align: top;\n",
       "    }\n",
       "\n",
       "    .dataframe thead th {\n",
       "        text-align: right;\n",
       "    }\n",
       "</style>\n",
       "<table border=\"1\" class=\"dataframe\">\n",
       "  <thead>\n",
       "    <tr style=\"text-align: right;\">\n",
       "      <th></th>\n",
       "      <th>Name</th>\n",
       "    </tr>\n",
       "  </thead>\n",
       "  <tbody>\n",
       "    <tr>\n",
       "      <th>0</th>\n",
       "      <td>PrimeKG</td>\n",
       "    </tr>\n",
       "    <tr>\n",
       "      <th>1</th>\n",
       "      <td>basketballplayer</td>\n",
       "    </tr>\n",
       "  </tbody>\n",
       "</table>\n",
       "</div>"
      ],
      "text/plain": [
       "               Name\n",
       "0           PrimeKG\n",
       "1  basketballplayer"
      ]
     },
     "execution_count": 2,
     "metadata": {},
     "output_type": "execute_result"
    }
   ],
   "source": [
    "%reload_ext ngql\n",
    "%ngql --address 127.0.0.1 --port 9669 --user root --password nebula\n"
   ]
  },
  {
   "cell_type": "markdown",
   "metadata": {},
   "source": [
    "# Create the graph from NebulaGraph directly"
   ]
  },
  {
   "cell_type": "code",
   "execution_count": 5,
   "metadata": {},
   "outputs": [],
   "source": [
    "#primekg = pd.read_csv(\"~/scratch-llm/data/PrimeKG_data/raw_data/kg.csv\", low_memory=False)\n",
    "nodes = pd.read_csv(\"~/scratch-llm/data/PrimeKG_data/raw_data/nodes.csv\",\n",
    "    low_memory=False,\n",
    "    sep=',',\n",
    "    quotechar='\"',  \n",
    "    escapechar='\\\\', \n",
    ")\n",
    "\n",
    "edges = pd.read_csv(\"~/scratch-llm/data/PrimeKG_data/raw_data/edges.csv\")"
   ]
  },
  {
   "cell_type": "markdown",
   "metadata": {},
   "source": [
    "## Nodes"
   ]
  },
  {
   "cell_type": "code",
   "execution_count": null,
   "metadata": {},
   "outputs": [],
   "source": [
    "print(nodes['node_type'].unique()) #types of nodes"
   ]
  },
  {
   "cell_type": "code",
   "execution_count": 6,
   "metadata": {},
   "outputs": [],
   "source": [
    "# save the data for each 'node_type' in a separate file\n",
    "for node_type in nodes['node_type'].unique():\n",
    "    sanitized_node_type = node_type.replace('/', '_')\n",
    "    output_path = os.path.join('~/scratch-llm/data/PrimeKG_data/sub_data/', 'node_'+ sanitized_node_type + '.csv')\n",
    "    nodes[nodes['node_type'] == node_type].to_csv(output_path, index=False)"
   ]
  },
  {
   "cell_type": "code",
   "execution_count": 227,
   "metadata": {},
   "outputs": [
    {
     "data": {
      "text/html": [
       "<div>\n",
       "<style scoped>\n",
       "    .dataframe tbody tr th:only-of-type {\n",
       "        vertical-align: middle;\n",
       "    }\n",
       "\n",
       "    .dataframe tbody tr th {\n",
       "        vertical-align: top;\n",
       "    }\n",
       "\n",
       "    .dataframe thead th {\n",
       "        text-align: right;\n",
       "    }\n",
       "</style>\n",
       "<table border=\"1\" class=\"dataframe\">\n",
       "  <thead>\n",
       "    <tr style=\"text-align: right;\">\n",
       "      <th></th>\n",
       "    </tr>\n",
       "  </thead>\n",
       "  <tbody>\n",
       "  </tbody>\n",
       "</table>\n",
       "</div>"
      ],
      "text/plain": [
       "Empty DataFrame\n",
       "Columns: []\n",
       "Index: []"
      ]
     },
     "execution_count": 227,
     "metadata": {},
     "output_type": "execute_result"
    }
   ],
   "source": [
    "# Create Tags (node_type) for each node in the PrimeKG\n",
    "%ngql CREATE TAG IF NOT EXISTS anatomy(node_name string, node_source string, node_id string);\n",
    "%ngql CREATE TAG IF NOT EXISTS gene_protein(node_name string, node_source string, node_id string);\n",
    "%ngql CREATE TAG IF NOT EXISTS drug(node_name string, node_source string, node_id string, description string, half_life string, indication string, mechanism_of_action string, protein_binding string, pharmacodynamics string, state string, atc_1 string, atc_2 string, atc_3 string, atc_4 string, category string, group string, pathway string, molecular_weight string, tpsa string, clogp string);\n",
    "%ngql CREATE TAG IF NOT EXISTS disease(node_name string, node_source string, mondo_id int, mondo_name string, group_id_bert string, group_name_bert string, mondo_definition string, umls_description string, orphanet_definition string, orphanet_prevalence string, orphanet_epidemiology string, orphanet_clinical_description string, orphanet_management_and_treatment string, mayo_symptoms string, mayo_causes string, mayo_risk_factors string, mayo_complications string, mayo_prevention string, mayo_see_doc string);\n",
    "%ngql CREATE TAG IF NOT EXISTS pathway(node_name string, node_source string, node_id string);\n",
    "%ngql CREATE TAG IF NOT EXISTS biological_process(node_name string, node_source string, node_id string);\n",
    "%ngql CREATE TAG IF NOT EXISTS effect_phenotype(node_name string, node_source string, node_id string);\n",
    "%ngql CREATE TAG IF NOT EXISTS molecular_function(node_name string, node_source string, node_id string);\n",
    "%ngql CREATE TAG IF NOT EXISTS cellular_component(node_name string, node_source string, node_id string);\n",
    "%ngql CREATE TAG IF NOT EXISTS exposure(node_name string, node_source string, node_id string);"
   ]
  },
  {
   "cell_type": "code",
   "execution_count": null,
   "metadata": {},
   "outputs": [],
   "source": [
    "# Load each node source data into the corresponding Tag (working fine)\n",
    "%ng_load --source ~/scratch-llm/data/PrimeKG_data/sub_data/node_gene_protein.csv --tag gene_protein --header --space PrimeKG --vid 0 --props 2:node_id,3:node_name,4:node_source\n",
    "%ng_load --source ~/scratch-llm/data/PrimeKG_data/sub_data/node_biological_process.csv --tag biological_process --header --space PrimeKG --vid 0 --props 2:node_id,3:node_name,4:node_source\n",
    "%ng_load --source ~/scratch-llm/data/PrimeKG_data/sub_data/node_effect_phenotype.csv --tag effect_phenotype --header --space PrimeKG --vid 0 --props 2:node_id,3:node_name,4:node_source\n",
    "%ng_load --source ~/scratch-llm/data/PrimeKG_data/sub_data/node_molecular_function.csv --tag molecular_function --header --space PrimeKG --vid 0 --props 2:node_id,3:node_name,4:node_source\n",
    "%ng_load --source ~/scratch-llm/data/PrimeKG_data/sub_data/node_cellular_component.csv --tag cellular_component --header --space PrimeKG --vid 0 --props 2:node_id,3:node_name,4:node_source\n",
    "%ng_load --source ~/scratch-llm/data/PrimeKG_data/sub_data/node_pathway.csv --tag pathway --header --space PrimeKG --vid 0 --props 2:node_id,3:node_name,4:node_source\n",
    "%ng_load --source ~/scratch-llm/data/PrimeKG_data/sub_data/node_exposure.csv --tag exposure --header --space PrimeKG --vid 0 --props 2:node_id,3:node_name,4:node_source\n",
    "%ng_load --source ~/scratch-llm/data/PrimeKG_data/sub_data/node_anatomy.csv --tag anatomy --header --space PrimeKG --vid 0 --props 2:node_id,3:node_name,4:node_source\n"
   ]
  },
  {
   "cell_type": "markdown",
   "metadata": {},
   "source": [
    "### Extra information for nodes 'drug' and 'disease'"
   ]
  },
  {
   "cell_type": "code",
   "execution_count": null,
   "metadata": {},
   "outputs": [],
   "source": [
    "# disease and drug feature files are available as .tab format so they need to be converted to .csv\n",
    "# many formatting issues on both files that had to be correcteed manually before merging with the 'node_' dataset\n",
    "disease_tab = \"~/scratch-llm/data/PrimeKG_data/raw_data/disease_features.tab\"\n",
    "drug_tab = \"~/scratch-llm/data/PrimeKG_data/raw_data/drug_features.tab\"\n",
    "\n",
    "df = pd.read_csv(disease_tab, delimiter='\\t')\n",
    "disease_csv = \"~/scratch-llm/data/PrimeKG_data/sub_data/disease_features.csv\"\n",
    "df.to_csv(disease_csv, index=False)\n",
    "\n",
    "\n",
    "df = pd.read_csv(drug_tab, delimiter='\\t')\n",
    "drug_csv = \"~/scratch-llm/data/PrimeKG_data/sub_data/drug_features.csv\"\n",
    "df.to_csv(drug_csv, index=False) "
   ]
  },
  {
   "cell_type": "code",
   "execution_count": 10,
   "metadata": {},
   "outputs": [],
   "source": [
    "# merge extra drug and disease information \n",
    "node_drug = pd.read_csv(\"~/scratch-llm/data/PrimeKG_data/sub_data/node_drug.csv\")\n",
    "features_drug = pd.read_csv(\"~/scratch-llm/data/PrimeKG_data/sub_data/drug_features.csv\")\n",
    "node_disease = pd.read_csv(\"~/scratch-llm/data/PrimeKG_data/sub_data/node_disease.csv\")\n",
    "features_disease = pd.read_csv(\"~/scratch-llm/data/PrimeKG_data/sub_data/disease_features.csv\")\n"
   ]
  },
  {
   "cell_type": "code",
   "execution_count": 11,
   "metadata": {},
   "outputs": [],
   "source": [
    "# the disease_features has multiple rows with the same 'node_index' so we need to merge them\n",
    "def merge_column_values(column):\n",
    "    # Check if all values in the column can be converted to float\n",
    "    try:\n",
    "        numeric_column = pd.to_numeric(column, errors='coerce')\n",
    "        if numeric_column.notna().all():  # If all are numbers, return unique values\n",
    "            return '; '.join(map(str, sorted(set(numeric_column))))  # Keep the first numeric value (assuming they're the same)\n",
    "    except Exception:\n",
    "        pass\n",
    "    \n",
    "    # For strings, concatenate unique, non-empty values\n",
    "    return '; '.join(filter(lambda x: pd.notna(x) and str(x).strip() != '', set(column)))\n",
    "\n",
    "merged_features_disease = features_disease.groupby('node_index', as_index=False).agg(merge_column_values)"
   ]
  },
  {
   "cell_type": "code",
   "execution_count": null,
   "metadata": {},
   "outputs": [],
   "source": [
    "# Merge the dataframes on 'node_index' and save to csv\n",
    "merged_df = pd.merge(node_drug, features_drug, on='node_index')\n",
    "merged_df.to_csv(\"~/scratch-llm/data/PrimeKG_data/sub_data/node_merged_drug.csv\", index=False)\n",
    "\n",
    "merged_df = pd.merge(node_disease, merged_features_disease, on='node_index')\n",
    "# merged_df.fillna(\"\", inplace=True) # in case included 'extra' diseases that are only present in features_disease\n",
    "merged_df.to_csv(\"~/scratch-llm/data/PrimeKG_data/sub_data/node_merged_disease.csv\", index=False)"
   ]
  },
  {
   "cell_type": "code",
   "execution_count": null,
   "metadata": {},
   "outputs": [],
   "source": [
    "#Load the extended drug and disease data into the corresponding Tags\n",
    "# NOTE: formatting problems for node_merged_disease.csv\n",
    "%ng_load --source ~/scratch-llm/data/PrimeKG_data/sub_data/node_merged_disease.csv --tag disease --header --space PrimeKG --batch 100 --vid 0 --props 3:node_name,4:node_source,5:mondo_id,6:mondo_name,7:group_id_bert,8:group_name_bert,9:mondo_definition,10:umls_description,11:orphanet_definition,12:orphanet_prevalence,13:orphanet_epidemiology,14:orphanet_clinical_description,15:orphanet_management_and_treatment,16:mayo_symptoms,17:mayo_causes,18:mayo_risk_factors,19:mayo_complications,20:mayo_prevention,21:mayo_see_doc\n",
    "%ng_load --source ~/scratch-llm/data/PrimeKG_data/sub_data/node_merged_drug.csv --tag drug --header --space PrimeKG --batch 100 --vid 0 --props 2:node_id,3:node_name,4:node_source,5:description,6:half_life,7:indication,8:mechanism_of_action,9:protein_binding,10:pharmacodynamics,11:state,12:atc_1,13:atc_2,14:atc_3,15:atc_4,16:category,17:group,18:pathway,19:molecular_weight,20:tpsa,21:clogp\n"
   ]
  },
  {
   "cell_type": "markdown",
   "metadata": {},
   "source": [
    "## Edges"
   ]
  },
  {
   "cell_type": "code",
   "execution_count": null,
   "metadata": {},
   "outputs": [],
   "source": [
    "print(edges['relation'].unique()) # types of edges"
   ]
  },
  {
   "cell_type": "code",
   "execution_count": 8,
   "metadata": {},
   "outputs": [],
   "source": [
    "# save the data for each 'relation' (edge type) in a separate file\n",
    "for relation in edges['relation'].unique():\n",
    "    sanitized_relation = relation.replace('-', '_')\n",
    "    sanitized_relation = sanitized_relation.replace('\\t', '_')\n",
    "    output_path = os.path.join('~/scratch-llm/data/PrimeKG_data/sub_data/', 'edge_'+ sanitized_relation + '.csv')\n",
    "    edges[edges['relation'] == relation].to_csv(output_path, index=False)"
   ]
  },
  {
   "cell_type": "code",
   "execution_count": 228,
   "metadata": {},
   "outputs": [
    {
     "data": {
      "text/html": [
       "<div>\n",
       "<style scoped>\n",
       "    .dataframe tbody tr th:only-of-type {\n",
       "        vertical-align: middle;\n",
       "    }\n",
       "\n",
       "    .dataframe tbody tr th {\n",
       "        vertical-align: top;\n",
       "    }\n",
       "\n",
       "    .dataframe thead th {\n",
       "        text-align: right;\n",
       "    }\n",
       "</style>\n",
       "<table border=\"1\" class=\"dataframe\">\n",
       "  <thead>\n",
       "    <tr style=\"text-align: right;\">\n",
       "      <th></th>\n",
       "    </tr>\n",
       "  </thead>\n",
       "  <tbody>\n",
       "  </tbody>\n",
       "</table>\n",
       "</div>"
      ],
      "text/plain": [
       "Empty DataFrame\n",
       "Columns: []\n",
       "Index: []"
      ]
     },
     "execution_count": 228,
     "metadata": {},
     "output_type": "execute_result"
    }
   ],
   "source": [
    "%ngql CREATE EDGE IF NOT EXISTS protein_protein(display_relation string);\n",
    "%ngql CREATE EDGE IF NOT EXISTS drug_protein(display_relation string);\n",
    "%ngql CREATE EDGE IF NOT EXISTS contraindication(display_relation string);\n",
    "%ngql CREATE EDGE IF NOT EXISTS indication(display_relation string);\n",
    "%ngql CREATE EDGE IF NOT EXISTS off_label_use(display_relation string);\n",
    "%ngql CREATE EDGE IF NOT EXISTS drug_drug(display_relation string);\n",
    "%ngql CREATE EDGE IF NOT EXISTS phenotype_protein(display_relation string);\n",
    "%ngql CREATE EDGE IF NOT EXISTS phenotype_phenotype(display_relation string);\n",
    "%ngql CREATE EDGE IF NOT EXISTS disease_phenotype_negative(display_relation string);\n",
    "%ngql CREATE EDGE IF NOT EXISTS disease_phenotype_positive(display_relation string);\n",
    "%ngql CREATE EDGE IF NOT EXISTS disease_protein(display_relation string);\n",
    "%ngql CREATE EDGE IF NOT EXISTS disease_disease(display_relation string);\n",
    "%ngql CREATE EDGE IF NOT EXISTS drug_effect(display_relation string);\n",
    "%ngql CREATE EDGE IF NOT EXISTS bioprocess_bioprocess(display_relation string);\n",
    "%ngql CREATE EDGE IF NOT EXISTS molfunc_molfunc(display_relation string);\n",
    "%ngql CREATE EDGE IF NOT EXISTS cellcomp_cellcomp(display_relation string);\n",
    "%ngql CREATE EDGE IF NOT EXISTS molfunc_protein(display_relation string);\n",
    "%ngql CREATE EDGE IF NOT EXISTS cellcomp_protein(display_relation string);\n",
    "%ngql CREATE EDGE IF NOT EXISTS bioprocess_protein(display_relation string);\n",
    "%ngql CREATE EDGE IF NOT EXISTS exposure_protein(display_relation string);\n",
    "%ngql CREATE EDGE IF NOT EXISTS exposure_disease(display_relation string);\n",
    "%ngql CREATE EDGE IF NOT EXISTS exposure_exposure(display_relation string);\n",
    "%ngql CREATE EDGE IF NOT EXISTS exposure_bioprocess(display_relation string);\n",
    "%ngql CREATE EDGE IF NOT EXISTS exposure_molfunc(display_relation string);\n",
    "%ngql CREATE EDGE IF NOT EXISTS exposure_cellcomp(display_relation string);\n",
    "%ngql CREATE EDGE IF NOT EXISTS pathway_pathway(display_relation string);\n",
    "%ngql CREATE EDGE IF NOT EXISTS pathway_protein(display_relation string);\n",
    "%ngql CREATE EDGE IF NOT EXISTS anatomy_anatomy(display_relation string);\n",
    "%ngql CREATE EDGE IF NOT EXISTS anatomy_protein_present(display_relation string);\n",
    "%ngql CREATE EDGE IF NOT EXISTS anatomy_protein_absent(display_relation string);"
   ]
  },
  {
   "cell_type": "code",
   "execution_count": null,
   "metadata": {},
   "outputs": [],
   "source": [
    "# for each edge type, load the data accordingly, this takes like 20mins from new\n",
    "%ng_load --source ~/scratch-llm/data/PrimeKG_data/sub_data/edge_protein_protein.csv --space PrimeKG --header --edge protein_protein --src 2 --dst 3 --props 1:display_relation\n",
    "%ng_load --source ~/scratch-llm/data/PrimeKG_data/sub_data/edge_drug_protein.csv --space PrimeKG --header --edge drug_protein --src 2 --dst 3 --props 1:display_relation\n",
    "%ng_load --source ~/scratch-llm/data/PrimeKG_data/sub_data/edge_contraindication.csv --space PrimeKG --header --edge contraindication --src 2 --dst 3 --props 1:display_relation\n",
    "%ng_load --source ~/scratch-llm/data/PrimeKG_data/sub_data/edge_indication.csv --space PrimeKG --header --edge indication --src 2 --dst 3 --props 1:display_relation\n",
    "%ng_load --source ~/scratch-llm/data/PrimeKG_data/sub_data/edge_off_label_use.csv --space PrimeKG --header --edge off_label_use --src 2 --dst 3 --props 1:display_relation\n",
    "%ng_load --source ~/scratch-llm/data/PrimeKG_data/sub_data/edge_drug_drug.csv --space PrimeKG --header --edge drug_drug --src 2 --dst 3 --props 1:display_relation\n",
    "%ng_load --source ~/scratch-llm/data/PrimeKG_data/sub_data/edge_phenotype_protein.csv --space PrimeKG --header --edge phenotype_protein --src 2 --dst 3 --props 1:display_relation\n",
    "%ng_load --source ~/scratch-llm/data/PrimeKG_data/sub_data/edge_phenotype_phenotype.csv --space PrimeKG --header --edge phenotype_phenotype --src 2 --dst 3 --props 1:display_relation\n",
    "%ng_load --source ~/scratch-llm/data/PrimeKG_data/sub_data/edge_disease_phenotype_negative.csv --space PrimeKG --header --edge disease_phenotype_negative --src 2 --dst 3 --props 1:display_relation\n",
    "%ng_load --source ~/scratch-llm/data/PrimeKG_data/sub_data/edge_disease_phenotype_positive.csv --space PrimeKG --header --edge disease_phenotype_positive --src 2 --dst 3 --props 1:display_relation\n",
    "%ng_load --source ~/scratch-llm/data/PrimeKG_data/sub_data/edge_disease_protein.csv --space PrimeKG --header --edge disease_protein --src 2 --dst 3 --props 1:display_relation\n",
    "%ng_load --source ~/scratch-llm/data/PrimeKG_data/sub_data/edge_disease_disease.csv --space PrimeKG --header --edge disease_disease --src 2 --dst 3 --props 1:display_relation\n",
    "%ng_load --source ~/scratch-llm/data/PrimeKG_data/sub_data/edge_drug_effect.csv --space PrimeKG --header --edge drug_effect --src 2 --dst 3 --props 1:display_relation\n",
    "%ng_load --source ~/scratch-llm/data/PrimeKG_data/sub_data/edge_bioprocess_bioprocess.csv --space PrimeKG --header --edge bioprocess_bioprocess --src 2 --dst 3 --props 1:display_relation\n",
    "%ng_load --source ~/scratch-llm/data/PrimeKG_data/sub_data/edge_molfunc_molfunc.csv --space PrimeKG --header --edge molfunc_molfunc --src 2 --dst 3 --props 1:display_relation\n"
   ]
  },
  {
   "cell_type": "code",
   "execution_count": null,
   "metadata": {},
   "outputs": [],
   "source": [
    "# load the edge data in two batches\n",
    "%ng_load --source ~/scratch-llm/data/PrimeKG_data/sub_data/edge_cellcomp_cellcomp.csv --space PrimeKG --header --edge cellcomp_cellcomp --src 2 --dst 3 --props 1:display_relation\n",
    "%ng_load --source ~/scratch-llm/data/PrimeKG_data/sub_data/edge_molfunc_protein.csv --space PrimeKG --header --edge molfunc_protein --src 2 --dst 3 --props 1:display_relation\n",
    "%ng_load --source ~/scratch-llm/data/PrimeKG_data/sub_data/edge_cellcomp_protein.csv --space PrimeKG --header --edge cellcomp_protein --src 2 --dst 3 --props 1:display_relation\n",
    "%ng_load --source ~/scratch-llm/data/PrimeKG_data/sub_data/edge_bioprocess_protein.csv --space PrimeKG --header --edge bioprocess_protein --src 2 --dst 3 --props 1:display_relation\n",
    "%ng_load --source ~/scratch-llm/data/PrimeKG_data/sub_data/edge_exposure_protein.csv --space PrimeKG --header --edge exposure_protein --src 2 --dst 3 --props 1:display_relation\n",
    "%ng_load --source ~/scratch-llm/data/PrimeKG_data/sub_data/edge_exposure_disease.csv --space PrimeKG --header --edge exposure_disease --src 2 --dst 3 --props 1:display_relation\n",
    "%ng_load --source ~/scratch-llm/data/PrimeKG_data/sub_data/edge_exposure_exposure.csv --space PrimeKG --header --edge exposure_exposure --src 2 --dst 3 --props 1:display_relation\n",
    "%ng_load --source ~/scratch-llm/data/PrimeKG_data/sub_data/edge_exposure_bioprocess.csv --space PrimeKG --header --edge exposure_bioprocess --src 2 --dst 3 --props 1:display_relation\n",
    "%ng_load --source ~/scratch-llm/data/PrimeKG_data/sub_data/edge_exposure_molfunc.csv --space PrimeKG --header --edge exposure_molfunc --src 2 --dst 3 --props 1:display_relation\n",
    "%ng_load --source ~/scratch-llm/data/PrimeKG_data/sub_data/edge_exposure_cellcomp.csv --space PrimeKG --header --edge exposure_cellcomp --src 2 --dst 3 --props 1:display_relation\n",
    "%ng_load --source ~/scratch-llm/data/PrimeKG_data/sub_data/edge_pathway_pathway.csv --space PrimeKG --header --edge pathway_pathway --src 2 --dst 3 --props 1:display_relation\n",
    "%ng_load --source ~/scratch-llm/data/PrimeKG_data/sub_data/edge_pathway_protein.csv --space PrimeKG --header --edge pathway_protein --src 2 --dst 3 --props 1:display_relation\n",
    "%ng_load --source ~/scratch-llm/data/PrimeKG_data/sub_data/edge_anatomy_anatomy.csv --space PrimeKG --header --edge anatomy_anatomy --src 2 --dst 3 --props 1:display_relation\n",
    "%ng_load --source ~/scratch-llm/data/PrimeKG_data/sub_data/edge_anatomy_protein_present.csv --space PrimeKG --batch 500 --header --edge anatomy_protein_present --src 2 --dst 3 --props 1:display_relation\n",
    "%ng_load --source ~/scratch-llm/data/PrimeKG_data/sub_data/edge_anatomy_protein_absent.csv --space PrimeKG --header --edge anatomy_protein_absent --src 2 --dst 3 --props 1:display_relation\n"
   ]
  },
  {
   "cell_type": "markdown",
   "metadata": {},
   "source": [
    "# Load directly to NebulaPropertyGraphStore"
   ]
  },
  {
   "cell_type": "markdown",
   "metadata": {},
   "source": [
    "define files to use:"
   ]
  },
  {
   "cell_type": "code",
   "execution_count": 5,
   "metadata": {},
   "outputs": [],
   "source": [
    "data_dir = '~/scratch-llm/data/PrimeKG_data/sub_data/'\n",
    "\n",
    "# List of node types and their corresponding CSV files\n",
    "node_files = {\n",
    "    'node_gene_protein.csv',\n",
    "    'node_merged_drug.csv', # manually corrected and generated from \"extra information section\"\n",
    "    'node_effect_phenotype.csv',\n",
    "    'node_merged_disease.csv', # manually corrected and generated from \"extra information section\"\n",
    "    'node_biological_process.csv',\n",
    "    'node_molecular_function.csv',\n",
    "    'node_cellular_component.csv',\n",
    "    'node_exposure.csv',\n",
    "    'node_pathway.csv',\n",
    "    'node_anatomy.csv'\n",
    "}\n",
    "\n",
    "edge_files ={\n",
    "    'edge_protein_protein.csv',\n",
    "    'edge_drug_protein.csv',\n",
    "    'edge_contraindication.csv',\n",
    "    'edge_indication.csv',\n",
    "    'edge_off_label_use.csv',\n",
    "    'edge_drug_drug.csv',\n",
    "    'edge_phenotype_protein.csv',\n",
    "    'edge_phenotype_phenotype.csv',\n",
    "    'edge_disease_phenotype_negative.csv',\n",
    "    'edge_disease_phenotype_positive.csv',\n",
    "    'edge_disease_protein.csv',\n",
    "    'edge_disease_disease.csv',\n",
    "    'edge_drug_effect.csv',\n",
    "    'edge_bioprocess_bioprocess.csv',\n",
    "    'edge_molfunc_molfunc.csv',\n",
    "    'edge_cellcomp_cellcomp.csv',\n",
    "    'edge_molfunc_protein.csv',\n",
    "    'edge_cellcomp_protein.csv',\n",
    "    'edge_bioprocess_protein.csv',\n",
    "    'edge_exposure_protein.csv',\n",
    "    'edge_exposure_disease.csv',\n",
    "    'edge_exposure_exposure.csv',\n",
    "    'edge_exposure_bioprocess.csv',\n",
    "    'edge_exposure_molfunc.csv',\n",
    "    'edge_exposure_cellcomp.csv',\n",
    "    'edge_pathway_pathway.csv',\n",
    "    'edge_pathway_protein.csv',\n",
    "    'edge_anatomy_anatomy.csv',\n",
    "    'edge_anatomy_protein_present.csv',\n",
    "    'edge_anatomy_protein_absent.csv'\n",
    "}"
   ]
  },
  {
   "cell_type": "markdown",
   "metadata": {},
   "source": [
    "## Nodes"
   ]
  },
  {
   "cell_type": "markdown",
   "metadata": {},
   "source": [
    "### create TextNodes:"
   ]
  },
  {
   "cell_type": "code",
   "execution_count": null,
   "metadata": {},
   "outputs": [],
   "source": [
    "# create TextNodes\n",
    "def create_text_nodes(file_path):\n",
    "    df = pd.read_csv(file_path)\n",
    "    text_nodes = []\n",
    "    for _, row in df.iterrows():\n",
    "        id = row['node_index']\n",
    "        if len(row) > 5: # longer text info (drug/disease)\n",
    "            metadata_columns = ['node_index', 'node_id', 'node_type', 'node_name', \n",
    "                            'node_source', 'mondo_id', 'mondo_name', 'group_id_bert', \n",
    "                            'group_name_bert', 'orphanet_prevalence']\n",
    "            \n",
    "            text_columns = ['mondo_definition', 'umls_description', 'orphanet_definition', \n",
    "                        'orphanet_clinical_description', 'orphanet_management_and_treatment','orphanet_epidemiology', \n",
    "                        'mayo_symptoms', 'mayo_causes', 'mayo_risk_factors', 'mayo_complications',\n",
    "                        'mayo_prevention', 'mayo_see_doc','description', 'indication', 'mechanism_of_action',\n",
    "                        'half_life', 'protein_binding', 'pharmacodynamics', 'state', 'atc_1', 'atc_2', 'atc_3', \n",
    "                        'atc_4', 'category', 'group', 'pathway', 'molecular_weight', 'tpsa', 'clogp'] \n",
    "            available_metadata_columns = [col for col in metadata_columns if col in df.columns]\n",
    "            available_text_columns = [col for col in text_columns if col in df.columns] \n",
    "\n",
    "            # Extract metadata, not including empty entries     \n",
    "            metadata = {\n",
    "                col: row[col] for col in available_metadata_columns\n",
    "                if col in row and not (isinstance(row[col], float) and math.isnan(row[col]))\n",
    "            }\n",
    "            metadata = {k: str(v) for k, v in metadata.items()} #ensure entries are strings\n",
    "\n",
    "            # Extract and concatenate text values, not including empty entries\n",
    "            text_entries = [str(row[col]) for col in available_text_columns if pd.notna(row[col])]\n",
    "            text = \"\\n\".join(text_entries)            \n",
    "\n",
    "            text_node = TextNode(id_= str(id), text=text, metadata=metadata)\n",
    "            text_nodes.append(text_node)\n",
    "\n",
    "        else: # no text data, all other files\n",
    "            metadata = row.to_dict()\n",
    "            metadata = {k: str(v) for k, v in metadata.items()} #ensure entries are strings\n",
    "            text_node = TextNode(id_= str(id), metadata=metadata)\n",
    "            text_nodes.append(text_node)\n",
    "\n",
    "    return text_nodes\n",
    "\n",
    "# generate all nodes from the node files\n",
    "all_nodes = []\n",
    "for file in node_files:\n",
    "    nodes = create_text_nodes(data_dir+file)\n",
    "    all_nodes.extend(nodes)\n"
   ]
  },
  {
   "cell_type": "markdown",
   "metadata": {},
   "source": [
    "### create Entity and ChunkNodes:"
   ]
  },
  {
   "cell_type": "code",
   "execution_count": 18,
   "metadata": {},
   "outputs": [],
   "source": [
    "# Convert TextNode objects to the format expected by NebulaPropertyGraphStore\n",
    "from llama_index.core.graph_stores.types import EntityNode, ChunkNode\n",
    "all_entity_nodes = []\n",
    "\n",
    "def create_entity_nodes(file_path, label):\n",
    "    df = pd.read_csv(file_path)\n",
    "    nodes = []\n",
    "    for _, row in df.iterrows():\n",
    "        text=None\n",
    "        id = row['node_index']\n",
    "        metadata_columns = ['node_index', 'node_id', 'node_type', 'node_name', \n",
    "                            'node_source', 'mondo_id', 'mondo_name', 'group_id_bert', \n",
    "                            'group_name_bert', 'orphanet_prevalence']\n",
    "        \n",
    "        text_columns = ['mondo_definition', 'umls_description', 'orphanet_definition', \n",
    "                        'orphanet_clinical_description', 'orphanet_management_and_treatment','orphanet_epidemiology', \n",
    "                        'mayo_symptoms', 'mayo_causes', 'mayo_risk_factors', 'mayo_complications',\n",
    "                        'mayo_prevention', 'mayo_see_doc','description', 'indication', 'mechanism_of_action',\n",
    "                        'half_life', 'protein_binding', 'pharmacodynamics', 'state', 'atc_1', 'atc_2', 'atc_3', \n",
    "                        'atc_4', 'category', 'group', 'pathway', 'molecular_weight', 'tpsa', 'clogp'] \n",
    "        available_metadata_columns = [col for col in metadata_columns if col in df.columns]\n",
    "        available_text_columns = [col for col in text_columns if col in df.columns] \n",
    "\n",
    "        # Extract metadata, not including empty entries     \n",
    "        metadata = {\n",
    "            col: row[col] for col in available_metadata_columns\n",
    "            if col in row and not (isinstance(row[col], float) and math.isnan(row[col]))\n",
    "        }\n",
    "        metadata = {k: str(v) for k, v in metadata.items()}  # ensure entries are strings\n",
    "\n",
    "        # Extract and concatenate text values, not including empty entries\n",
    "        text_entries = [str(row[col]) for col in available_text_columns if pd.notna(row[col])]\n",
    "        text = \" \".join(text_entries)            \n",
    "\n",
    "        if text is not None:  # if there is text data, create a ChunkNode\n",
    "            node = ChunkNode(id_=str(id), label=label, properties=metadata, text=text)\n",
    "        else:  # if there is no text data, empty ChunkNode\n",
    "            node = ChunkNode(id_=str(id), label=label, properties=metadata, text='')\n",
    "        \n",
    "        nodes.append(node)\n",
    "\n",
    "    return nodes\n"
   ]
  },
  {
   "cell_type": "code",
   "execution_count": 15,
   "metadata": {},
   "outputs": [],
   "source": [
    "for file in node_files:\n",
    "    # remove 'node_' and '.csv' and merged_ from the label\n",
    "    label = file.replace('node_', '').replace('.csv', '').replace('merged_', '')\n",
    "    nodes = create_entity_nodes(data_dir + file, label)\n",
    "    all_entity_nodes.extend(nodes)\n",
    "    "
   ]
  },
  {
   "cell_type": "code",
   "execution_count": 17,
   "metadata": {},
   "outputs": [],
   "source": [
    "#save to pickle\n",
    "import pickle\n",
    "with open(os.path.expanduser('~/scratch-llm/storage/all_entity_nodes.pkl'), 'wb') as f:\n",
    "    pickle.dump(all_entity_nodes, f)"
   ]
  },
  {
   "cell_type": "code",
   "execution_count": 42,
   "metadata": {},
   "outputs": [],
   "source": [
    "#load from pickle\n",
    "import pickle\n",
    "with open(os.path.expanduser('~/scratch-llm/storage/all_entity_nodes.pkl'), 'rb') as f:\n",
    "    all_entity_nodes = pickle.load(f)"
   ]
  },
  {
   "cell_type": "markdown",
   "metadata": {},
   "source": [
    "## Edges"
   ]
  },
  {
   "cell_type": "markdown",
   "metadata": {},
   "source": [
    "### append edges to TextNodes:"
   ]
  },
  {
   "cell_type": "code",
   "execution_count": 50,
   "metadata": {},
   "outputs": [],
   "source": [
    "# create all edges\n",
    "from tqdm.notebook import tqdm\n",
    "\n",
    "def create_all_edges(file_path, all_nodes):\n",
    "    node_dict = {node.id_: node for node in all_nodes} #speed up search\n",
    "    df = pd.read_csv(os.path.join(file_path))\n",
    "\n",
    "    for _, row in tqdm(df.iterrows(), total=len(df), leave=False, desc=f\"Processing {file_path}\"):\n",
    "        x_index = str(row['x_index'])\n",
    "        y_index = str(row['y_index'])\n",
    "        \n",
    "        if x_index in node_dict:\n",
    "            origin_node = node_dict[x_index]\n",
    "            if NodeRelationship.CHILD not in origin_node.relationships:\n",
    "                origin_node.relationships[NodeRelationship.CHILD] = []\n",
    "           \n",
    "            metadata = row.drop(['x_index', 'y_index']).to_dict()\n",
    "            new_relationship = RelatedNodeInfo(node_id=y_index, metadata=metadata)\n",
    "            origin_node.relationships[NodeRelationship.CHILD].append(new_relationship)\n"
   ]
  },
  {
   "cell_type": "code",
   "execution_count": null,
   "metadata": {},
   "outputs": [],
   "source": [
    "# all relationships for all nodes, takes around 20 mins\n",
    "for file in tqdm(edge_files, desc='Procesing edge files'):\n",
    "    create_all_edges(data_dir+file, all_nodes)"
   ]
  },
  {
   "cell_type": "markdown",
   "metadata": {},
   "source": [
    "save/load nodes-relationships to pickle"
   ]
  },
  {
   "cell_type": "code",
   "execution_count": 51,
   "metadata": {},
   "outputs": [],
   "source": [
    "# save `all_nodes` with pickle\n",
    "import pickle\n",
    "with open(os.path.expanduser('~/scratch-llm/storage/all_nodes.pkl'), 'wb') as f:\n",
    "    pickle.dump(all_nodes, f)"
   ]
  },
  {
   "cell_type": "code",
   "execution_count": 2,
   "metadata": {},
   "outputs": [],
   "source": [
    "# load from pickle\n",
    "import pickle\n",
    "with open(os.path.expanduser('~/scratch-llm/storage/all_nodes.pkl'), 'rb') as f:\n",
    "    all_nodes = pickle.load(f)\n",
    "    "
   ]
  },
  {
   "cell_type": "markdown",
   "metadata": {},
   "source": [
    "### create Relations for Entity/ChunkNodes:"
   ]
  },
  {
   "cell_type": "code",
   "execution_count": null,
   "metadata": {},
   "outputs": [],
   "source": [
    "from llama_index.core.graph_stores.types import Relation\n",
    "from tqdm.notebook import tqdm\n",
    "\n",
    "def create_realtions(file_path, label):\n",
    "    df = pd.read_csv(file_path)\n",
    "    relations = []\n",
    "    for _, row in tqdm(df.iterrows(), total=len(df), leave=False, desc=f\"Processing {file_path}\"):\n",
    "        start_node = row['x_index']\n",
    "        end_node = row['y_index']\n",
    "        properties = row.drop(['relation']).to_dict()\n",
    "        properties = row.drop(['relation', 'x_index', 'y_index']).to_dict()\n",
    "        relation = Relation(source_id=str(start_node), target_id=str(end_node), label=label, properties=properties)\n",
    "        relations.append(relation)\n",
    "    return relations\n",
    "\n"
   ]
  },
  {
   "cell_type": "code",
   "execution_count": null,
   "metadata": {},
   "outputs": [],
   "source": [
    "all_relations = [] \n",
    "for file in tqdm(edge_files, desc='Procesing edge files'): #35 mins\n",
    "    relations = create_realtions(data_dir+file, file[5:-4].replace('_', '-'))\n",
    "    all_relations.extend(relations)"
   ]
  },
  {
   "cell_type": "code",
   "execution_count": 54,
   "metadata": {},
   "outputs": [],
   "source": [
    "#save relations with pickle\n",
    "import pickle\n",
    "with open(os.path.expanduser('~/scratch-llm/storage/all_relations.pkl'), 'wb') as f:\n",
    "    pickle.dump(all_relations, f)\n"
   ]
  },
  {
   "cell_type": "code",
   "execution_count": 3,
   "metadata": {},
   "outputs": [],
   "source": [
    "#load relations with pickle\n",
    "import pickle\n",
    "with open(os.path.expanduser('~/scratch-llm/storage/all_relations.pkl'), 'rb') as f:\n",
    "    all_relations = pickle.load(f)"
   ]
  },
  {
   "cell_type": "markdown",
   "metadata": {},
   "source": [
    "## Generate subgraph:"
   ]
  },
  {
   "cell_type": "code",
   "execution_count": null,
   "metadata": {},
   "outputs": [],
   "source": [
    "#small subgraph with text nodes\n",
    "start_node = nodes[11075] \n",
    "related_nodes_info = start_node.relationships.get(NodeRelationship.CHILD, [])\n",
    "\n",
    "related_nodes = []\n",
    "edges = []\n",
    "for relation in related_nodes_info:\n",
    "    # Find the related node by its node_id\n",
    "    related_node = next((node for node in nodes if node.node_id == relation.node_id), None)\n",
    "    if related_node:\n",
    "        related_nodes.append(related_node)\n",
    "        edges.append((start_node.node_id, related_node.node_id, relation.metadata))\n",
    "\n",
    "\n",
    "subgraph_nodes = [start_node] + related_nodes  # Include the starting node and its neighbors\n"
   ]
  },
  {
   "cell_type": "code",
   "execution_count": 185,
   "metadata": {},
   "outputs": [],
   "source": [
    "# save subgraph_nodes with pickle\n",
    "import pickle\n",
    "with open(os.path.expanduser('~/scratch-llm/storage/subgraph_nodes.pkl'), 'wb') as f:\n",
    "    pickle.dump(subgraph_nodes, f)\n"
   ]
  },
  {
   "cell_type": "code",
   "execution_count": 6,
   "metadata": {},
   "outputs": [],
   "source": [
    "# load from pickle\n",
    "import pickle\n",
    "with open(os.path.expanduser('~/scratch-llm/storage/subgraph_nodes.pkl'), 'rb') as f:\n",
    "    subgraph_nodes = pickle.load(f)"
   ]
  },
  {
   "cell_type": "markdown",
   "metadata": {},
   "source": [
    "## Generate index"
   ]
  },
  {
   "cell_type": "markdown",
   "metadata": {},
   "source": [
    "### Load tokenizer and model"
   ]
  },
  {
   "cell_type": "markdown",
   "metadata": {},
   "source": [
    "tokenizer and model:"
   ]
  },
  {
   "cell_type": "code",
   "execution_count": 3,
   "metadata": {},
   "outputs": [
    {
     "data": {
      "application/vnd.jupyter.widget-view+json": {
       "model_id": "4aa88f01774c40c09330f100360677ae",
       "version_major": 2,
       "version_minor": 0
      },
      "text/plain": [
       "Loading checkpoint shards:   0%|          | 0/2 [00:00<?, ?it/s]"
      ]
     },
     "metadata": {},
     "output_type": "display_data"
    }
   ],
   "source": [
    "os.environ[\"TOKENIZERS_PARALLELISM\"] = \"false\"\n",
    "\n",
    "# Load tokenizer and set pad_token_id explicitly\n",
    "tokenizer = AutoTokenizer.from_pretrained(\"meta-llama/Llama-3.2-3B\")\n",
    "\n",
    "if tokenizer.pad_token_id is None: #no <pad> token previously defined, only eos_token\n",
    "    tokenizer.pad_token = \"<|end_of_text|>\"\n",
    "    tokenizer.pad_token_id = tokenizer.convert_tokens_to_ids(tokenizer.pad_token)\n",
    "    \n",
    "llm = HuggingFaceLLM(\n",
    "    context_window=4096,\n",
    "    max_new_tokens=256,\n",
    "    generate_kwargs={\n",
    "        \"temperature\": 0.8, \n",
    "        \"do_sample\": True,\n",
    "        \"pad_token_id\": tokenizer.pad_token_id,\n",
    "        \"eos_token_id\": tokenizer.eos_token_id},\n",
    "    tokenizer=tokenizer,\n",
    "    model_name=\"meta-llama/Llama-3.2-3B\",\n",
    "    device_map=\"cuda\" if torch.cuda.is_available() else \"cpu\",\n",
    "    stopping_ids=[50278, 50279, 50277, 1, 0],\n",
    "    tokenizer_kwargs={\"max_length\": 4096},\n",
    "    # uncomment this if using CUDA to reduce memory usage\n",
    "    model_kwargs={\"torch_dtype\": torch.float16},\n",
    ")\n",
    "\n",
    "Settings.llm = llm\n",
    "Settings.chunk_size = 1024\n",
    "Settings.embed_model = HuggingFaceEmbedding(model_name=\"BAAI/bge-small-en-v1.5\") # <-- check for specific graph embedding models??"
   ]
  },
  {
   "cell_type": "code",
   "execution_count": 77,
   "metadata": {},
   "outputs": [],
   "source": [
    "del llm  # Clear the model from memory\n",
    "torch.cuda.empty_cache()  # Clear the GPU cache"
   ]
  },
  {
   "cell_type": "markdown",
   "metadata": {},
   "source": [
    "graph store with NebulaGraph:"
   ]
  },
  {
   "cell_type": "code",
   "execution_count": 14,
   "metadata": {},
   "outputs": [
    {
     "data": {
      "text/html": [
       "<div>\n",
       "<style scoped>\n",
       "    .dataframe tbody tr th:only-of-type {\n",
       "        vertical-align: middle;\n",
       "    }\n",
       "\n",
       "    .dataframe tbody tr th {\n",
       "        vertical-align: top;\n",
       "    }\n",
       "\n",
       "    .dataframe thead th {\n",
       "        text-align: right;\n",
       "    }\n",
       "</style>\n",
       "<table border=\"1\" class=\"dataframe\">\n",
       "  <thead>\n",
       "    <tr style=\"text-align: right;\">\n",
       "      <th></th>\n",
       "    </tr>\n",
       "  </thead>\n",
       "  <tbody>\n",
       "  </tbody>\n",
       "</table>\n",
       "</div>"
      ],
      "text/plain": [
       "Empty DataFrame\n",
       "Columns: []\n",
       "Index: []"
      ]
     },
     "execution_count": 14,
     "metadata": {},
     "output_type": "execute_result"
    }
   ],
   "source": [
    "%ngql CREATE SPACE IF NOT EXISTS PrimeKG(vid_type=FIXED_STRING(256));\n",
    "%ngql USE PrimeKG;"
   ]
  },
  {
   "cell_type": "markdown",
   "metadata": {},
   "source": [
    "### generate embeddings manually:"
   ]
  },
  {
   "cell_type": "markdown",
   "metadata": {},
   "source": [
    "embeddings for TextNodes:"
   ]
  },
  {
   "cell_type": "code",
   "execution_count": 4,
   "metadata": {},
   "outputs": [
    {
     "data": {
      "application/vnd.jupyter.widget-view+json": {
       "model_id": "12fb99f413134d6eaacfeca9200cecca",
       "version_major": 2,
       "version_minor": 0
      },
      "text/plain": [
       "Generating embeddings:   0%|          | 0/129375 [00:00<?, ?it/s]"
      ]
     },
     "metadata": {},
     "output_type": "display_data"
    }
   ],
   "source": [
    "\n",
    "def embed_nodes(nodes: Sequence[BaseNode], embed_model=None, use_async=True, show_progress=False) -> Sequence[BaseNode]:\n",
    "    \"\"\"Embed nodes with specified embedding model.\"\"\"\n",
    "    if embed_model is None:\n",
    "        embed_model = Settings.embed_model  # Use default embed model from settings\n",
    "\n",
    "    embed_model = resolve_embed_model(embed_model)\n",
    "    node_texts = [node.get_content(metadata_mode=MetadataMode.EMBED) for node in nodes]\n",
    "\n",
    "    if use_async:\n",
    "        embeddings = embed_model.aget_text_embedding_batch(node_texts, show_progress=show_progress)\n",
    "    else:\n",
    "        embeddings = embed_model.get_text_embedding_batch(node_texts, show_progress=show_progress)\n",
    "\n",
    "    for node, embedding in zip(nodes, embeddings):\n",
    "        node.embedding = embedding\n",
    "\n",
    "    return nodes\n",
    "\n",
    "## generate embeddings for TextNodes\n",
    "all_nodes_embedded = embed_nodes(all_nodes, use_async=False, show_progress=True) #takes 15 mins for all_nodes\n"
   ]
  },
  {
   "cell_type": "code",
   "execution_count": 5,
   "metadata": {},
   "outputs": [],
   "source": [
    "# save `all_nodes_embedded` with pickle\n",
    "import pickle\n",
    "with open(os.path.expanduser('~/scratch-llm/storage/all_nodes_embedded.pkl'), 'wb') as f:\n",
    "    pickle.dump(all_nodes_embedded, f)\n",
    "    "
   ]
  },
  {
   "cell_type": "code",
   "execution_count": 6,
   "metadata": {},
   "outputs": [],
   "source": [
    "# load all_nodes_embedded from pickle\n",
    "import pickle\n",
    "with open(os.path.expanduser('~/scratch-llm/storage/all_nodes_embedded.pkl'), 'rb') as f:\n",
    "    all_nodes_embedded = pickle.load(f)"
   ]
  },
  {
   "cell_type": "markdown",
   "metadata": {},
   "source": [
    "embeddings for Entity/ChunkNodes:"
   ]
  },
  {
   "cell_type": "code",
   "execution_count": null,
   "metadata": {},
   "outputs": [],
   "source": [
    "\n",
    "# Helper function to get content from EntityNode\n",
    "def get_entity_node_content(node: EntityNode) -> str:\n",
    "    # Concatenate all property values to form the content\n",
    "    return \" \".join(str(value) for value in node.properties.values())\n",
    "\n",
    "# Modified embed_nodes function to handle EntityNode objects\n",
    "def embed_entity_nodes(nodes: Sequence[EntityNode], embed_model=None, use_async=True, show_progress=False) -> Sequence[EntityNode]:\n",
    "    \"\"\"Embed EntityNode objects with specified embedding model.\"\"\"\n",
    "    if embed_model is None:\n",
    "        embed_model = Settings.embed_model  # Use default embed model from settings\n",
    "\n",
    "    embed_model = resolve_embed_model(embed_model)\n",
    "    node_texts = [get_entity_node_content(node) for node in nodes]\n",
    "\n",
    "    if use_async:\n",
    "        embeddings = embed_model.aget_text_embedding_batch(node_texts, show_progress=show_progress)\n",
    "    else:\n",
    "        embeddings = embed_model.get_text_embedding_batch(node_texts, show_progress=show_progress)\n",
    "\n",
    "    for node, embedding in zip(nodes, embeddings):\n",
    "        node.embedding = embedding\n",
    "\n",
    "    return nodes\n",
    "\n",
    "# Generate embeddings for all EntityNode objects\n",
    "entity_nodes_embedded = embed_entity_nodes(all_entity_nodes, use_async=False, show_progress=True)"
   ]
  },
  {
   "cell_type": "code",
   "execution_count": 32,
   "metadata": {},
   "outputs": [],
   "source": [
    "#save entity_nodes_embedded with pickle\n",
    "import pickle\n",
    "with open(os.path.expanduser('~/scratch-llm/storage/entity_nodes_embedded.pkl'), 'wb') as f:\n",
    "    pickle.dump(entity_nodes_embedded, f)"
   ]
  },
  {
   "cell_type": "code",
   "execution_count": null,
   "metadata": {},
   "outputs": [],
   "source": [
    "#load entity_nodes_embedded from pickle\n",
    "import pickle\n",
    "with open(os.path.expanduser('~/scratch-llm/storage/entity_nodes_embedded.pkl'), 'rb') as f:\n",
    "    entity_nodes_embedded = pickle.load(f)"
   ]
  },
  {
   "cell_type": "code",
   "execution_count": 54,
   "metadata": {},
   "outputs": [],
   "source": [
    "# convert th TextNodes in subgraph_nodes to EntityNodes and ChunkNodes\n",
    "subgraph_entity = []\n",
    "for node in subgraph_nodes:\n",
    "    if node.text:\n",
    "        chunk_node = ChunkNode(id_=node.id_, label='text', text=node.text, properties=node.metadata)\n",
    "        subgraph_entity.append(chunk_node)\n",
    "    else:\n",
    "        entity_node = EntityNode(name=node.id_, label='text', properties=node.metadata)\n",
    "        subgraph_entity.append(entity_node)"
   ]
  },
  {
   "cell_type": "markdown",
   "metadata": {},
   "source": [
    "### Vector + Graph store:"
   ]
  },
  {
   "cell_type": "code",
   "execution_count": 4,
   "metadata": {},
   "outputs": [],
   "source": [
    "from llama_index.core.vector_stores import SimpleVectorStore\n",
    "from llama_index.core.vector_stores.simple import SimpleVectorStoreData, VectorStoreQuery\n",
    "from llama_index.core.schema import TextNode\n",
    "from llama_index.core import load_index_from_storage\n",
    "from typing import List\n",
    "import pickle\n"
   ]
  },
  {
   "cell_type": "markdown",
   "metadata": {},
   "source": [
    "SimpleVectorStore + NebulaPropertyGraphStore:"
   ]
  },
  {
   "cell_type": "code",
   "execution_count": 5,
   "metadata": {},
   "outputs": [],
   "source": [
    "import pickle\n",
    "from typing import List\n",
    "\n",
    "# Load the actual data into all_nodes_embeddded\n",
    "with open(os.path.expanduser('~/scratch-llm/storage/all_nodes_embedded.pkl'), 'rb') as f:\n",
    "    all_nodes_embedded: List[TextNode] = pickle.load(f)\n",
    "\n",
    "\n",
    "# Create dictionaries from the nodes\n",
    "embedding_dict = {node.id_: node.get_embedding() for node in all_nodes_embedded}\n",
    "text_id_to_ref_doc_id = {node.id_: node.ref_doc_id or \"None\" for node in all_nodes_embedded}\n",
    "metadata_dict = {node.id_: node.metadata for node in all_nodes_embedded}\n",
    "\n",
    "# Initialize the SimpleVectorStore with the dictionaries\n",
    "vector_store = SimpleVectorStore(\n",
    "    data = SimpleVectorStoreData(\n",
    "        embedding_dict=embedding_dict,\n",
    "        text_id_to_ref_doc_id=text_id_to_ref_doc_id,\n",
    "        metadata_dict=metadata_dict,\n",
    "    ),\n",
    "    stores_text=True\n",
    ")\n",
    "\n",
    "# PropertyGraphIndex requires NebulaPropertyGraphStore\n",
    "graph_store = NebulaPropertyGraphStore(\n",
    "    space= \"PrimeKG\", \n",
    "    username = \"root\",\n",
    "    password = \"nebula\",\n",
    "    url = \"nebula://localhost:9669\",\n",
    "    props_schema= \"`node_index` STRING, `node_type` STRING, `node_id` STRING, `node_name` STRING, `node_source` STRING, `mondo_id` STRING, `mondo_name` STRING, `group_id_bert` STRING, `group_name_bert` STRING, `orphanet_prevalence` STRING, `umls_description` STRING, `orphanet_definition` STRING, `orphanet_epidemiology` STRING, `orphanet_clinical_description` STRING, `orphanet_management_and_treatment` STRING, `mayo_symptoms` STRING, `mayo_causes` STRING, `mayo_risk_factors` STRING, `mayo_complications` STRING, `mayo_prevention` STRING, `mayo_see_doc` STRING, `display_relation` STRING, `_node_content` STRING, `_node_type` STRING, `document_id` STRING, `doc_id` STRING, `ref_doc_id` STRING, `triplet_source_id` STRING\",\n",
    ")\n",
    "\n",
    "# storage_context = StorageContext.from_defaults(\n",
    "#     property_graph_store=graph_store, \n",
    "#     vector_store=vector_store\n",
    "# )\n"
   ]
  },
  {
   "cell_type": "markdown",
   "metadata": {},
   "source": [
    "upsert nodes and edges:"
   ]
  },
  {
   "cell_type": "code",
   "execution_count": null,
   "metadata": {},
   "outputs": [],
   "source": [
    "# Ensure all node_id values are strings\n",
    "for node in all_entity_nodes:\n",
    "    node.properties['node_id'] = str(node.properties['node_id'])\n",
    "\n",
    "# Upsert all nodes to the graph store in batches of 1000, there is no batch_size parameter, 4 mins\n",
    "for i in tqdm(range(0, len(all_entity_nodes), 1000), desc='Upserting nodes'):\n",
    "    batch = all_entity_nodes[i:i+1000]\n",
    "    graph_store.upsert_nodes(batch)\n",
    "\n"
   ]
  },
  {
   "cell_type": "code",
   "execution_count": 14,
   "metadata": {},
   "outputs": [
    {
     "data": {
      "application/vnd.jupyter.widget-view+json": {
       "model_id": "65a8dc9a25d742d59f21b8733c91891e",
       "version_major": 2,
       "version_minor": 0
      },
      "text/plain": [
       "Upserting edges:   0%|          | 0/8101 [00:00<?, ?it/s]"
      ]
     },
     "metadata": {},
     "output_type": "display_data"
    }
   ],
   "source": [
    "#upsert edges for all nodes, 70 mins\n",
    "for i in tqdm(range(0, len(all_relations), 1000), desc='Upserting edges'):\n",
    "    batch = all_relations[i:i+1000]\n",
    "    graph_store.upsert_relations(batch)\n"
   ]
  },
  {
   "cell_type": "markdown",
   "metadata": {},
   "source": [
    "test vector store:"
   ]
  },
  {
   "cell_type": "code",
   "execution_count": 16,
   "metadata": {},
   "outputs": [
    {
     "name": "stdout",
     "output_type": "stream",
     "text": [
      "Query Results:\n",
      "Node ID: 38538, Similarity: 0.7625146071800035\n",
      "Node ID: 35769, Similarity: 0.7581816272086574\n",
      "Node ID: 28185, Similarity: 0.7351653170212283\n"
     ]
    }
   ],
   "source": [
    "# 2. Create a VectorStoreQuery\n",
    "# Generate the query embedding using the embedding model\n",
    "query_text = \"lymphatic\"  # Replace with your actual query text\n",
    "query_embedding = Settings.embed_model.get_text_embedding(query_text)\n",
    "\n",
    "vector_store_query = VectorStoreQuery(\n",
    "    query_embedding=query_embedding,\n",
    "    similarity_top_k=3,\n",
    ")\n",
    "\n",
    "# 3. Query the vector store\n",
    "results = vector_store.query(vector_store_query)\n",
    "\n",
    "# 4. Process the results\n",
    "print(\"Query Results:\")\n",
    "for node_id, similarity in zip(results.ids, results.similarities):\n",
    "    print(f\"Node ID: {node_id}, Similarity: {similarity}\")"
   ]
  },
  {
   "cell_type": "markdown",
   "metadata": {},
   "source": [
    "PropertyGraphIndex:"
   ]
  },
  {
   "cell_type": "code",
   "execution_count": 7,
   "metadata": {},
   "outputs": [
    {
     "data": {
      "application/vnd.jupyter.widget-view+json": {
       "model_id": "9c260ff6e1e44007911e89fa8959d097",
       "version_major": 2,
       "version_minor": 0
      },
      "text/plain": [
       "Loading checkpoint shards:   0%|          | 0/2 [00:00<?, ?it/s]"
      ]
     },
     "metadata": {},
     "output_type": "display_data"
    }
   ],
   "source": [
    "tokenizer = AutoTokenizer.from_pretrained(\"meta-llama/Llama-3.2-3B-Instruct\", padding_side=\"left\", device_map=\"auto\")    \n",
    "if tokenizer.pad_token_id is None: #no <pad> token previously defined, only eos_token\n",
    "    tokenizer.pad_token = \"<|end_of_text|>\"\n",
    "    tokenizer.pad_token_id = tokenizer.convert_tokens_to_ids(tokenizer.pad_token)\n",
    "    \n",
    "# Initialize Hugging Face LLM\n",
    "llm = HuggingFaceLLM(\n",
    "    context_window=4096,\n",
    "    max_new_tokens=1024,\n",
    "    generate_kwargs={\n",
    "        \"temperature\": 0.65, \n",
    "        \"do_sample\": True,\n",
    "        \"pad_token_id\": tokenizer.pad_token_id,\n",
    "        \"top_k\": 5, \n",
    "        \"top_p\": 0.85\n",
    "    },\n",
    "    tokenizer_name=\"meta-llama/Llama-3.2-3B-Instruct\",\n",
    "    model_name=\"meta-llama/Llama-3.2-3B-Instruct\",\n",
    "    device_map=\"cuda\" if torch.cuda.is_available() else \"cpu\",\n",
    "    stopping_ids=[tokenizer.eos_token_id],\n",
    "    tokenizer_kwargs={\"max_length\": None},\n",
    "    model_kwargs={\"torch_dtype\": torch.float16},\n",
    "    is_chat_model=True,\n",
    ")\n",
    "\n",
    "Settings.llm = llm\n",
    "Settings.chunk_size = 1024\n",
    "Settings.embed_model = HuggingFaceEmbedding(model_name=\"BAAI/bge-small-en-v1.5\")"
   ]
  },
  {
   "cell_type": "code",
   "execution_count": 8,
   "metadata": {},
   "outputs": [],
   "source": [
    "index = PropertyGraphIndex.from_existing(\n",
    "    # storage_context=storage_context,\n",
    "    property_graph_store=graph_store,\n",
    "    vector_store=vector_store,\n",
    "    llm=llm,\n",
    "    show_progress=True,\n",
    "    embed_kg_nodes=True,\n",
    "    embed_model=Settings.embed_model,\n",
    ")\n",
    "\n",
    "# index.storage_context.persist(persist_dir=\"~/scratch-llm/storage/PrimeKG_index_2/\")"
   ]
  },
  {
   "cell_type": "markdown",
   "metadata": {},
   "source": [
    "#### VectorContextRetriever"
   ]
  },
  {
   "cell_type": "code",
   "execution_count": 10,
   "metadata": {},
   "outputs": [],
   "source": [
    "from llama_index.core.indices.property_graph import VectorContextRetriever\n",
    "from llama_index.core.schema import QueryBundle\n",
    "\n",
    "vector_retriever = VectorContextRetriever(\n",
    "    graph_store=index.property_graph_store,\n",
    "    # only needed when the graph store doesn't support vector queries\n",
    "    vector_store=index.vector_store,\n",
    "    # embed_model=Settings.embed_model,\n",
    "    # include source chunk text with retrieved paths\n",
    "    include_text=False,\n",
    "    include_properties=True,\n",
    "    # the number of nodes to fetch\n",
    "    similarity_top_k=4,\n",
    "    # the depth of relations to follow after node retrieval\n",
    "    path_depth=1,\n",
    "    verbose=True,\n",
    "    similarity_score=0.6,\n",
    "    # can provide any other kwargs for the VectorStoreQuery class\n",
    ")\n"
   ]
  },
  {
   "cell_type": "code",
   "execution_count": null,
   "metadata": {},
   "outputs": [],
   "source": [
    "\n",
    "query_text = \"itchy skin\"\n",
    "query_bundle = QueryBundle(\n",
    "    query_str=query_text, \n",
    "    # custom_embedding_strs=[\"lymph node\", \"lymphatic system\", \"lymphatic vessels\"]\n",
    ")\n",
    "results = vector_retriever.retrieve_from_graph(query_bundle=query_bundle)\n",
    "\n",
    "print(\"Query Results:\")   \n",
    "for result in results:\n",
    "    print(f\"Node ID: {result.text}, Similarity: {result.score}\")\n"
   ]
  },
  {
   "cell_type": "code",
   "execution_count": null,
   "metadata": {},
   "outputs": [],
   "source": [
    "from llama_index.core.chat_engine import CondensePlusContextChatEngine\n",
    "from llama_index.core.memory import ChatMemoryBuffer\n",
    "\n",
    "class CustomCPCChat(CondensePlusContextChatEngine):\n",
    "    def __init__(self, retriever, llm, memory):\n",
    "        super().__init__(retriever=retriever, llm=llm, memory=memory)\n",
    "        self.retriever = retriever\n",
    "        self.llm = llm\n",
    "        self._memory = memory\n",
    "\n",
    "   \n",
    "memory = ChatMemoryBuffer.from_defaults(token_limit=1500)\n",
    "custom_chat_engine = CustomCPCChat(\n",
    "    retriever=vector_retriever,\n",
    "    llm=Settings.llm,\n",
    "    memory=memory\n",
    ")\n",
    "response = custom_chat_engine.chat(\"what is the molecular weight of penbutolol?\")\n",
    "print(response)"
   ]
  },
  {
   "cell_type": "markdown",
   "metadata": {},
   "source": [
    "#### CypherRetrievers"
   ]
  },
  {
   "cell_type": "markdown",
   "metadata": {},
   "source": [
    "CypherTemplateRetriever:"
   ]
  },
  {
   "cell_type": "code",
   "execution_count": null,
   "metadata": {},
   "outputs": [],
   "source": [
    "from pydantic import BaseModel, Field\n",
    "from llama_index.core.indices.property_graph import CypherTemplateRetriever\n",
    "import nest_asyncio\n",
    "import asyncio\n",
    "\n",
    "# Apply nest_asyncio to allow nested event loops\n",
    "nest_asyncio.apply()\n",
    "\n",
    "# write a query with template params\n",
    "cypher_query = \"\"\"\n",
    "MATCH (e:Node__)\n",
    "WHERE e.Props__.node_name == \"{names}\"\n",
    "RETURN e;\n",
    "\"\"\"\n",
    "\n",
    "# create a pydantic class to represent the params for our query\n",
    "# the class fields are directly used as params for running the cypher query\n",
    "class TemplateParams(BaseModel):\n",
    "    \"\"\"Template params for a cypher query.\"\"\"\n",
    "\n",
    "    names: list[str] = Field(\n",
    "        description=\"A list of entity names or keywords to use for lookup in a knowledge graph.\"\n",
    "    )\n",
    "\n",
    "# create a pydantic class to represent the output of our query\n",
    "class QueryResult(BaseModel):\n",
    "    \"\"\"Query result for a cypher query.\"\"\"\n",
    "\n",
    "    e: dict = Field(\n",
    "        description=\"The entity node returned by the query.\"\n",
    "    )\n",
    "\n",
    "template_retriever = CypherTemplateRetriever(\n",
    "    params_cls=TemplateParams,\n",
    "    output_cls=QueryResult,\n",
    "    graph_store=index.property_graph_store,\n",
    "    cypher_query=cypher_query,\n",
    "    llm=llm\n",
    ")\n",
    "result = template_retriever.retrieve(TemplateParams(names=[\"Penbutolol\"]))\n",
    "print(result)\n"
   ]
  },
  {
   "cell_type": "markdown",
   "metadata": {},
   "source": [
    "TextToCypherRetriever:"
   ]
  },
  {
   "cell_type": "code",
   "execution_count": null,
   "metadata": {},
   "outputs": [],
   "source": [
    "from llama_index.core.indices.property_graph import TextToCypherRetriever\n",
    "from llama_index.core.prompts import PromptTemplate\n",
    "\n",
    "DEFAULT_RESPONSE_TEMPLATE = (\n",
    "    \"Generated Cypher query:\\n{query}\\n\\n\" \"Cypher Response:\\n{response}\"\n",
    ")\n",
    "DEFAULT_ALLOWED_FIELDS = [\"text\", \"label\", \"type\"]\n",
    "\n",
    "edge_types_str = \"['Relation__']\"\n",
    "tags_str = \"['Entity__', 'Node__']\"\n",
    "\n",
    "DEFAULT_TEXT_TO_CYPHER_TEMPLATE = PromptTemplate(\n",
    "    metadata={\"schema\": \"schema\", \"question\": \"question\"},\n",
    "    template=(\n",
    "        \"You are an expert Cypher query generator for NebulaGraph. NebulaGraph is case-sensitive.\\n\"\n",
    "        \"The graph database contains the following node types (tags): Entity__, Node__.\\n\"\n",
    "        \"The graph database contains the following edge type: Relation__.\\n\"\n",
    "        \"Node__ stores the general type of a node (e.g., drug, protein, disease). The value is stored in the `label` property.\\n\"\n",
    "        \"Entity__ stores the name or ID of the entity. The value is stored in the `name` property.\\n\"\n",
    "        \"Relation__ stores properties of the relationship between entities, including: node_index, node_type, node_id, node_name, node_source, mondo_id, mondo_name, group_id_bert, group_name_bert, orphanet_prevalence, display_relation, _node_content, _node_type, document_id, doc_id, ref_doc_id, triplet_source_id, and label. The `node_type` property on the Relation__ edge indicates the type of the *source* node.\\n\"\n",
    "        \"Given a node of type Node__ with label 'drug', the properties such as node_name, node_id, node_source are stored in the Props__ tag.\\n\"\n",
    "        \"Generate a Cypher query to answer the following question:\\n{question}\\n\\n\"\n",
    "        \"The query should return the requested information directly, without any additional text or explanation.\\n\"\n",
    "        \"Begin the query immediately with the `LOOKUP` or `MATCH` keyword.\\n\"\n",
    "        \"**Important:** Ensure that you use the correct case for all node and edge types. \"\n",
    "        \"Access node types through the `Node__.label` property. Access entity names through the `Node__.Props__.node_name` property. Access relationship properties through the `Relation__` edge.\\n\"\n",
    "        \"For example, to find the mechanism of action of Penbutolol, you would look for a Node__ node where Node__.Props__.node_name = 'Penbutolol' and follow a Relation__ edge to another Entity__. The mechanism of action will be stored in the Relation__.display_relation property of that edge.\\n\"\n",
    "        \"Now generate the Cypher query for the following question:\\n\"\n",
    "        \"{question}\\n\"\n",
    "    ),\n",
    "    template_var_mappings={\n",
    "        \"node_types\": \"tags\",\n",
    "        \"edge_types\": \"edge_types\",\n",
    "    },\n",
    "    function_mappings={\n",
    "        \"tags\": lambda **kwargs: tags_str,\n",
    "        \"edge_types\": lambda **kwargs: edge_types_str,\n",
    "    }\n",
    ")\n",
    "\n",
    "cypher_retriever = TextToCypherRetriever(\n",
    "    index.property_graph_store,\n",
    "    # customize the LLM, defaults to Settings.llm\n",
    "    llm=llm,\n",
    "    # customize the text-to-cypher template.\n",
    "    # Requires `schema` and `question` template args\n",
    "    text_to_cypher_template=DEFAULT_TEXT_TO_CYPHER_TEMPLATE,\n",
    "    # customize how the cypher result is inserted into\n",
    "    # a text node. Requires `query` and `response` template args\n",
    "    response_template=DEFAULT_RESPONSE_TEMPLATE,\n",
    "    # an optional callable that can clean/verify generated cypher\n",
    "    cypher_validator=None,\n",
    "    # allowed fields in the resulting\n",
    "    allowed_output_field=DEFAULT_ALLOWED_FIELDS,\n",
    ")\n",
    "\n",
    "natural_language = \"What are the main symptoms of autism ?\"\n",
    "cypher_query = cypher_retriever.retrieve(natural_language)\n",
    "print(cypher_query)"
   ]
  },
  {
   "cell_type": "code",
   "execution_count": 109,
   "metadata": {},
   "outputs": [
    {
     "data": {
      "text/html": [
       "<div>\n",
       "<style scoped>\n",
       "    .dataframe tbody tr th:only-of-type {\n",
       "        vertical-align: middle;\n",
       "    }\n",
       "\n",
       "    .dataframe tbody tr th {\n",
       "        vertical-align: top;\n",
       "    }\n",
       "\n",
       "    .dataframe thead th {\n",
       "        text-align: right;\n",
       "    }\n",
       "</style>\n",
       "<table border=\"1\" class=\"dataframe\">\n",
       "  <thead>\n",
       "    <tr style=\"text-align: right;\">\n",
       "      <th></th>\n",
       "      <th>e</th>\n",
       "    </tr>\n",
       "  </thead>\n",
       "  <tbody>\n",
       "    <tr>\n",
       "      <th>0</th>\n",
       "      <td>(\"14547\" :Props__{_node_content: __NULL__, _node_type: __NULL__, display_relation: __NULL__, doc_id: __NULL__, document_id: __NULL__, group_id_bert: __NULL__, group_name_bert: __NULL__, mondo_id: __NULL__, mondo_name: __NULL__, node_id: \"DB01359\", node_index: \"14547\", node_name: \"Penbutolol\", node_source: \"DrugBank\", node_type: \"drug\", orphanet_prevalence: __NULL__, ref_doc_id: __NULL__, triplet_source_id: __NULL__} :Node__{label: \"drug\"} :Chunk__{text: \"Penbutolol is a drug in the beta-blocker class used to treat hypertension. Penbutolol binds both beta-1 and beta-2 adrenergic receptors, rendering it a non-selective beta-blocker. Penbutolol can act as a partial agonist at beta adrenergic receptors, since it is a sympathomimetric drug. Penbutolol also demonstrates high binding affinity to the 5-hydroxytryptamine receptor 1A with antagonistic effects. This binding characteristic of penbutolol is being investigated for its implications in Antidepressant Therapy. Penbutolol is contraindicated in patients with cardiogenic shock, sinus bradycardia, second and third degree atrioventricular conduction block, bronchial asthma, and those with known hypersensitivity.\\nPenbutolol is indicated in the treatment of mild to moderate arterial hypertension. It may be used alone or in combination with other antihypertensive agents, especially thiazide-type diuretics.Penbutolol is contraindicated in patients with cardiogenic shock, sinus bradycardia, second and third degree atrioventricular conduction block, bronchial asthma, and those with known hypersensitivity.\\nPenbutolol acts on the β1 adrenergic receptors in both the heart and the kidney. When β1 receptors are activated by catecholamines, they stimulate a coupled G protein that leads to the conversion of adenosine triphosphate (ATP) to cyclic adenosine monophosphate (cAMP). The increase in cAMP leads to activation of protein kinase A (PKA), which alters the movement of calcium ions in heart muscle and increases the heart rate. Penbutolol blocks the catecholamine activation of β1 adrenergic receptors and decreases heart rate, which lowers blood pressure.\\nThe half-life is plasma= approximately 5h\\n80-98% bound to plasma proteins. Extensively bound to Alpha-1-acid glycoprotein 1. \\nPenbutolol is a ß-1, ß-2 (nonselective) adrenergic receptor antagonist. Experimental studies showed a dose-dependent increase in heart rate in reserpinized (norepinephrine-depleted) rats given penbutolol intravenously at doses of 0.25 to 1.0 mg/kg, suggesting that penbutolol has some intrinsic sympathomimetic activity. In human studies, however, heart rate decreases have been similar to those seen with propranolol.\\nPenbutolol is a solid.\\nPenbutolol is anatomically related to cardiovascular system and cardiovascular system.\\nPenbutolol is in the therapeutic group of beta blocking agents and beta blocking agents.\\nPenbutolol is pharmacologically related to beta blocking agents and other diuretics and beta blocking agents.\\nThe chemical and functional group of  is beta blocking agents, non-selective, and other diuretics and beta blocking agents, non-selective.\\nPenbutolol is part of Adrenergic Agents ; Adrenergic Antagonists ; Adrenergic beta-Antagonists ; Agents causing hyperkalemia ; Alcohols ; Amines ; Amino Alcohols ; Antidepressive Agents ; Antihypertensive Agents ; Beta Blocking Agents, Non-Selective ; Bradycardia-Causing Agents ; Cardiovascular Agents ; Central Nervous System Depressants ; Cytochrome P-450 CYP2D6 Substrates ; Cytochrome P-450 Substrates ; Drugs that are Mainly Renally Excreted ; Hypotensive Agents ; Neurotransmitter Agents ; Phenoxypropanolamines ; Propanolamines ; Propanols ; Serotonin 5-HT1 Receptor Antagonists ; Serotonin 5-HT1A Receptor Antagonists ; Serotonin Agents ; Serotonin Receptor Antagonists.\\nPenbutolol is approved and investigational.\\nPenbutolol uses Penbutolol Action Pathway.\\nThe molecular weight is 291.44.\\nPenbutolol has a topological polar surface area of 41.49.\\nThe log p value of  is 3.64.\"})</td>\n",
       "    </tr>\n",
       "  </tbody>\n",
       "</table>\n",
       "</div>"
      ],
      "text/plain": [
       "                                                                                                                                                                                                                                                                                                                                                                                                                                                                                                                                                                                                                                                                                                                                                                                                                                                                                                                                                                                                                                                                                                                                                                                                                                                                                                                                                                                                                                                                                                                                                                                                                                                                                                                                                                                                                                                                                                                                                                                                                                                                                                                                                                                                                                                                                                                                                                                                                                                                                                                                                                                                                                                                                                                                                                                                                                                                                                                                                                                                                                                                                                                                                                                                                                                                                                                                                                                                                                                                                                                                                                                                                                                                                                                                                                                                                                                                                                                                                                                                                                                                                                                                                                                         e\n",
       "0  (\"14547\" :Props__{_node_content: __NULL__, _node_type: __NULL__, display_relation: __NULL__, doc_id: __NULL__, document_id: __NULL__, group_id_bert: __NULL__, group_name_bert: __NULL__, mondo_id: __NULL__, mondo_name: __NULL__, node_id: \"DB01359\", node_index: \"14547\", node_name: \"Penbutolol\", node_source: \"DrugBank\", node_type: \"drug\", orphanet_prevalence: __NULL__, ref_doc_id: __NULL__, triplet_source_id: __NULL__} :Node__{label: \"drug\"} :Chunk__{text: \"Penbutolol is a drug in the beta-blocker class used to treat hypertension. Penbutolol binds both beta-1 and beta-2 adrenergic receptors, rendering it a non-selective beta-blocker. Penbutolol can act as a partial agonist at beta adrenergic receptors, since it is a sympathomimetric drug. Penbutolol also demonstrates high binding affinity to the 5-hydroxytryptamine receptor 1A with antagonistic effects. This binding characteristic of penbutolol is being investigated for its implications in Antidepressant Therapy. Penbutolol is contraindicated in patients with cardiogenic shock, sinus bradycardia, second and third degree atrioventricular conduction block, bronchial asthma, and those with known hypersensitivity.\\nPenbutolol is indicated in the treatment of mild to moderate arterial hypertension. It may be used alone or in combination with other antihypertensive agents, especially thiazide-type diuretics.Penbutolol is contraindicated in patients with cardiogenic shock, sinus bradycardia, second and third degree atrioventricular conduction block, bronchial asthma, and those with known hypersensitivity.\\nPenbutolol acts on the β1 adrenergic receptors in both the heart and the kidney. When β1 receptors are activated by catecholamines, they stimulate a coupled G protein that leads to the conversion of adenosine triphosphate (ATP) to cyclic adenosine monophosphate (cAMP). The increase in cAMP leads to activation of protein kinase A (PKA), which alters the movement of calcium ions in heart muscle and increases the heart rate. Penbutolol blocks the catecholamine activation of β1 adrenergic receptors and decreases heart rate, which lowers blood pressure.\\nThe half-life is plasma= approximately 5h\\n80-98% bound to plasma proteins. Extensively bound to Alpha-1-acid glycoprotein 1. \\nPenbutolol is a ß-1, ß-2 (nonselective) adrenergic receptor antagonist. Experimental studies showed a dose-dependent increase in heart rate in reserpinized (norepinephrine-depleted) rats given penbutolol intravenously at doses of 0.25 to 1.0 mg/kg, suggesting that penbutolol has some intrinsic sympathomimetic activity. In human studies, however, heart rate decreases have been similar to those seen with propranolol.\\nPenbutolol is a solid.\\nPenbutolol is anatomically related to cardiovascular system and cardiovascular system.\\nPenbutolol is in the therapeutic group of beta blocking agents and beta blocking agents.\\nPenbutolol is pharmacologically related to beta blocking agents and other diuretics and beta blocking agents.\\nThe chemical and functional group of  is beta blocking agents, non-selective, and other diuretics and beta blocking agents, non-selective.\\nPenbutolol is part of Adrenergic Agents ; Adrenergic Antagonists ; Adrenergic beta-Antagonists ; Agents causing hyperkalemia ; Alcohols ; Amines ; Amino Alcohols ; Antidepressive Agents ; Antihypertensive Agents ; Beta Blocking Agents, Non-Selective ; Bradycardia-Causing Agents ; Cardiovascular Agents ; Central Nervous System Depressants ; Cytochrome P-450 CYP2D6 Substrates ; Cytochrome P-450 Substrates ; Drugs that are Mainly Renally Excreted ; Hypotensive Agents ; Neurotransmitter Agents ; Phenoxypropanolamines ; Propanolamines ; Propanols ; Serotonin 5-HT1 Receptor Antagonists ; Serotonin 5-HT1A Receptor Antagonists ; Serotonin Agents ; Serotonin Receptor Antagonists.\\nPenbutolol is approved and investigational.\\nPenbutolol uses Penbutolol Action Pathway.\\nThe molecular weight is 291.44.\\nPenbutolol has a topological polar surface area of 41.49.\\nThe log p value of  is 3.64.\"})"
      ]
     },
     "execution_count": 109,
     "metadata": {},
     "output_type": "execute_result"
    }
   ],
   "source": [
    "%%ngql \n",
    "MATCH (e:Node__)\n",
    "WHERE e.Props__.node_name == \"Penbutolol\"\n",
    "RETURN e;"
   ]
  },
  {
   "cell_type": "code",
   "execution_count": null,
   "metadata": {},
   "outputs": [],
   "source": [
    "\n",
    "chat = index.as_chat_engine(chat_mode=\"condense_plus_context\", sub_retriever=[TextToCypherRetriever], llm=llm, verbose=True)\n",
    "\n",
    "# Use async method to run the chat query\n",
    "response = chat.chat(\"what are the main symtomps of autism?\")\n",
    "print(response)\n"
   ]
  },
  {
   "cell_type": "markdown",
   "metadata": {},
   "source": [
    "# Evaluate embeddings generated"
   ]
  },
  {
   "cell_type": "markdown",
   "metadata": {},
   "source": [
    "checking the embeddings generated from a non-specific knowledge graph embedding model:"
   ]
  },
  {
   "cell_type": "code",
   "execution_count": null,
   "metadata": {},
   "outputs": [
    {
     "data": {
      "image/png": "[encoded data removed]",
      "text/plain": [
       "<Figure size 640x480 with 1 Axes>"
      ]
     },
     "metadata": {},
     "output_type": "display_data"
    }
   ],
   "source": [
    "from sklearn.manifold import TSNE\n",
    "import matplotlib.pyplot as plt\n",
    "import numpy as np\n",
    "\n",
    "tsne = TSNE(n_components=2, random_state=42, perplexity=15) # trial and error, 15 seems to be the cut off\n",
    "# Get the embeddings and labels\n",
    "embeddings = np.array([node.embedding for node in index_nodes])\n",
    "\n",
    "reduced_embeddings = tsne.fit_transform(embeddings)\n",
    "labels = [node.metadata['node_type'] for node in index_nodes]\n",
    "# Convert labels to numerical values for coloring\n",
    "label_to_num = {label: idx for idx, label in enumerate(set(labels))}\n",
    "numeric_labels = [label_to_num[label] for label in labels]\n",
    "\n",
    "reduced_embeddings = np.array(reduced_embeddings)\n",
    "plt.scatter(reduced_embeddings[:, 0], reduced_embeddings[:, 1], c=numeric_labels, cmap='viridis')\n",
    "for i, txt in enumerate(labels):\n",
    "    plt.annotate(txt, (reduced_embeddings[i, 0], reduced_embeddings[i, 1]))\n",
    "plt.show()\n"
   ]
  },
  {
   "cell_type": "code",
   "execution_count": null,
   "metadata": {},
   "outputs": [
    {
     "data": {
      "image/png": "[encoded data removed]",
      "text/plain": [
       "<Figure size 640x480 with 1 Axes>"
      ]
     },
     "metadata": {},
     "output_type": "display_data"
    }
   ],
   "source": [
    "# plot the embeddings according to the \"node_type\" = ' disease' from the \"reduced_embeddings\" variable\n",
    "disease_embeddings = []\n",
    "disease_labels = []\n",
    "for i, node in enumerate(index_nodes):\n",
    "    if node.metadata['node_type'] == 'disease':\n",
    "        disease_embeddings.append(reduced_embeddings[i])\n",
    "        disease_labels.append(node.metadata['node_name'])\n",
    "\n",
    "#plot the embeddings\n",
    "disease_embeddings = np.array(disease_embeddings)\n",
    "plt.scatter(disease_embeddings[:, 0], disease_embeddings[:, 1])\n",
    "for i, txt in enumerate(disease_labels):\n",
    "    plt.annotate(txt, (disease_embeddings[i, 0], disease_embeddings[i, 1]))\n",
    "plt.show()\n"
   ]
  },
  {
   "cell_type": "markdown",
   "metadata": {},
   "source": [
    "### Semantic similarity VS metric similarity"
   ]
  },
  {
   "cell_type": "markdown",
   "metadata": {},
   "source": [
    "semantic similarity:\n",
    "1. genenerate embeddings from the 'node_name', these embeddings should capture relationships among the terms grouping similar closer together.\n",
    "2. calculate pairwise cosine similarity/Eucleidian distance\n",
    "    - (both methods agree on the most similar pair, which corresponds to the same pair in the graph)\n",
    "\n",
    "?? should I apply dimensionality reduction"
   ]
  },
  {
   "cell_type": "code",
   "execution_count": 181,
   "metadata": {},
   "outputs": [
    {
     "data": {
      "text/plain": [
       "['parastremmatic dwarfism',\n",
       " 'bone dysplasia',\n",
       " 'TRPV4-related bone disorder',\n",
       " 'annular epidermolytic ichthyosis',\n",
       " 'epidermolytic ichthyosis']"
      ]
     },
     "execution_count": 181,
     "metadata": {},
     "output_type": "execute_result"
    }
   ],
   "source": [
    "#extract all `node_names` from the `index_nodes` variable for the nodes with the `node_type` = 'disease'\n",
    "disease_names = []\n",
    "for node in index_nodes:\n",
    "    if node.metadata['node_type'] == 'disease':\n",
    "        disease_names.append(node.metadata['node_name'])\n",
    "\n",
    "disease_names"
   ]
  },
  {
   "cell_type": "code",
   "execution_count": 220,
   "metadata": {},
   "outputs": [
    {
     "name": "stdout",
     "output_type": "stream",
     "text": [
      "Max cosine similarity: 0.93267953 ('annular epidermolytic ichthyosis', 'epidermolytic ichthyosis')\n",
      "Min euclidean distance: 0.36693457 ('annular epidermolytic ichthyosis', 'epidermolytic ichthyosis')\n"
     ]
    }
   ],
   "source": [
    "from sentence_transformers import SentenceTransformer\n",
    "from sklearn.metrics.pairwise import cosine_similarity, euclidean_distances\n",
    "\n",
    "# Load a pre-trained model\n",
    "model = SentenceTransformer('all-MiniLM-L6-v2')  # Replace with a biomedical model if needed\n",
    "\n",
    "# Compute embeddings for node names\n",
    "node_embeddings = model.encode(disease_names)\n",
    "\n",
    "similarity = cosine_similarity(node_embeddings, node_embeddings)\n",
    "np.fill_diagonal(similarity, 0)\n",
    "max_sim = np.max(similarity)\n",
    "max_idx = np.unravel_index(np.argmax(similarity), similarity.shape)\n",
    "print(f\"Max cosine similarity:\", max_sim, (disease_names[max_idx[0]], disease_names[max_idx[1]]))\n",
    "\n",
    "# Compute euclidean distances avoiding self-comparisons\n",
    "distance = euclidean_distances(node_embeddings, node_embeddings)\n",
    "np.fill_diagonal(distance, np.inf)\n",
    "min_dist = np.min(distance)\n",
    "min_idx = np.unravel_index(np.argmin(distance), distance.shape)\n",
    "print(f\"Min euclidean distance:\", min_dist, (disease_names[min_idx[0]], disease_names[min_idx[1]]))"
   ]
  },
  {
   "cell_type": "markdown",
   "metadata": {},
   "source": [
    "embeddings from the index:"
   ]
  },
  {
   "cell_type": "code",
   "execution_count": 272,
   "metadata": {},
   "outputs": [
    {
     "name": "stdout",
     "output_type": "stream",
     "text": [
      "Max cosine similarity: 0.98910624 ('parastremmatic dwarfism', 'epidermolytic ichthyosis')\n",
      "Min euclidean distance: 2.1278055 ('bone dysplasia', 'TRPV4-related bone disorder')\n"
     ]
    }
   ],
   "source": [
    "similarity = cosine_similarity(disease_embeddings, disease_embeddings) #direct from the dimensionality reduction\n",
    "np.fill_diagonal(similarity, 0)\n",
    "max_sim = np.max(similarity)\n",
    "max_idx = np.unravel_index(np.argmax(similarity), similarity.shape)\n",
    "print(f\"Max cosine similarity:\", max_sim, (disease_labels[max_idx[0]], disease_labels[max_idx[1]]))\n",
    "\n",
    "# Compute euclidean distances avoiding self-comparisons\n",
    "distance = euclidean_distances(disease_embeddings, disease_embeddings)\n",
    "np.fill_diagonal(distance, np.inf)\n",
    "min_dist = distance.min()\n",
    "min_idx = np.unravel_index(np.argmin(distance), distance.shape)\n",
    "print(f\"Min euclidean distance:\", min_dist, (disease_labels[min_idx[0]], disease_labels[min_idx[1]]))\n"
   ]
  },
  {
   "cell_type": "code",
   "execution_count": 37,
   "metadata": {},
   "outputs": [
    {
     "data": {
      "image/png": "[encoded data removed]",
      "text/plain": [
       "<Figure size 1000x1000 with 2 Axes>"
      ]
     },
     "metadata": {},
     "output_type": "display_data"
    }
   ],
   "source": [
    "# calculate Pearson correlations among the embeddings in index_nodes\n",
    "from scipy.spatial.distance import cosine\n",
    "from scipy.stats import pearsonr\n",
    "import numpy as np\n",
    "import matplotlib.pyplot as plt\n",
    "\n",
    "index_nodes_embeddings = np.array([node.embedding for node in index_nodes])\n",
    "correlations = np.corrcoef(index_nodes_embeddings)\n",
    "\n",
    "#plot half of the correlation matrix with labels and correlation values\n",
    "plt.figure(figsize=(10, 10))\n",
    "plt.imshow(correlations, cmap='coolwarm', interpolation='nearest')\n",
    "plt.colorbar()\n",
    "plt.xticks(range(len(index_nodes)), [node.metadata['node_name'] for node in index_nodes], rotation=90)\n",
    "plt.yticks(range(len(index_nodes)), [node.metadata['node_name'] for node in index_nodes])\n",
    "plt.show()\n",
    "\n"
   ]
  },
  {
   "cell_type": "markdown",
   "metadata": {},
   "source": [
    "comparison of both:\n",
    "-   between the distance from the 'node_name' and the distance from the index\n",
    "- the distance value for the same pair should be similar: large distance for pairs distant in the index and in the 'node_name'"
   ]
  }
 ],
 "metadata": {
  "kernelspec": {
   "display_name": "llm-rag",
   "language": "python",
   "name": "python3"
  },
  "language_info": {
   "codemirror_mode": {
    "name": "ipython",
    "version": 3
   },
   "file_extension": ".py",
   "mimetype": "text/x-python",
   "name": "python",
   "nbconvert_exporter": "python",
   "pygments_lexer": "ipython3",
   "version": "3.12.0"
  }
 },
 "nbformat": 4,
 "nbformat_minor": 2
}
