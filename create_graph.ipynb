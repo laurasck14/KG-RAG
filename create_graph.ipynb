{
 "cells": [
  {
   "cell_type": "code",
   "execution_count": 28,
   "metadata": {},
   "outputs": [],
   "source": [
    "import pandas as pd\n",
    "from nebulagraph_lite import nebulagraph_let as ng_let\n",
    "import os, csv"
   ]
  },
  {
   "cell_type": "markdown",
   "metadata": {},
   "source": [
    "# Data loading\n"
   ]
  },
  {
   "cell_type": "code",
   "execution_count": 2,
   "metadata": {},
   "outputs": [],
   "source": [
    "#primekg = pd.read_csv(\"~/scratch-llm/data/PrimeKG_data/raw_data/kg.csv\", low_memory=False)\n",
    "nodes = pd.read_csv(\"~/scratch-llm/data/PrimeKG/datasets/data/kg/nodes.csv\", low_memory=False)\n",
    "edges = pd.read_csv(\"~/scratch-llm/data/PrimeKG/datasets/data/kg/edges.csv\")"
   ]
  },
  {
   "cell_type": "code",
   "execution_count": 6,
   "metadata": {},
   "outputs": [
    {
     "name": "stdout",
     "output_type": "stream",
     "text": [
      "\u001b[1;3;38;2;47;75;124mMessage: Activating storaged...\u001b[0m\n",
      "\u001b[1;3;38;2;102;81;145mResult of `SHOW HOSTS`:\u001b[0m\n",
      "\u001b[1;3;38;2;47;75;124m    errors:\u001b[0m\n",
      "\u001b[1;3;38;2;47;75;124m        code: 0\u001b[0m\n",
      "\u001b[1;3;38;2;102;81;145m    results:\u001b[0m\n",
      "\u001b[1;3;38;2;47;75;124m        spaceName: \u001b[0m\n",
      "\u001b[1;3;38;2;102;81;145m        data:\u001b[0m\n",
      "\u001b[1;3;38;2;47;75;124m            meta:\u001b[0m\n",
      "\u001b[1;3;38;2;47;75;124m                None, None, None, None, None, None, None\u001b[0m\n",
      "\u001b[1;3;38;2;102;81;145m            row:\u001b[0m\n",
      "\u001b[1;3;38;2;102;81;145m                127.0.0.1, 9779, ONLINE, 101, PrimeKG:100, basketballplayer:1, PrimeKG:100, basketballplayer:1, 3.8.0\u001b[0m\n",
      "\u001b[1;3;38;2;160;81;149m        columns:\u001b[0m\n",
      "\u001b[1;3;38;2;160;81;149m            Host, Port, Status, Leader count, Leader distribution, Partition distribution, Version\u001b[0m\n",
      "\u001b[1;3;38;2;212;80;135m        errors:\u001b[0m\n",
      "\u001b[1;3;38;2;47;75;124m            code: 0\u001b[0m\n",
      "\u001b[1;3;38;2;249;93;106m        latencyInUs: 1402\u001b[0m\n",
      "\u001b[1;3;38;2;168;255;159mInfo: loading basketballplayer dataset...\u001b[0m\n",
      "\u001b[1;3;38;2;47;75;124m\n",
      "  _   _      _           _        ____                 _     \n",
      " | \\ | | ___| |__  _   _| | __ _ / ___|_ __ __ _ _ __ | |__  \n",
      " |  \\| |/ _ | '_ \\| | | | |/ _` | |  _| '__/ _` | '_ \\| '_ \\ \n",
      " | |\\  |  __| |_) | |_| | | (_| | |_| | | | (_| | |_) | | | |\n",
      " |_| \\_|\\___|_.__/ \\__,_|_|\\__,_|\\____|_|  \\__,_| .__/|_| |_|\n",
      "                                                |_|          \n",
      "                                                lite version\n",
      "\u001b[0m\n",
      "\u001b[1;3;38;2;210;161;255m[ OK ] nebulagraph_lite started successfully!\u001b[0m\n"
     ]
    }
   ],
   "source": [
    "# load NebulaGraph JupyterNotebook extension!\n",
    "n = ng_let()\n",
    "n.start() # This takes around 5 mins\n",
    "\n",
    "# problems loading the extension, solve with:\n",
    "# udocker ps\n",
    "# udocker pull vesoft/nebula-metad:v3\n",
    "# udocker create --name=nebula-metad vesoft/nebula-metad:v3\n",
    "# udocker setup --execmode=F1 nebula-metad\n",
    "\n",
    "# udocker pull vesoft/nebula-graphd:v3\n",
    "# udocker create --name=nebula-graphd vesoft/nebula-graphdºº:v3\n",
    "# udocker setup --execmode=F1 nebula-graphd\n",
    "\n",
    "# udocker pull vesoft/nebula-storaged:v3\n",
    "# udocker create --name=nebula-storaged vesoft/nebula-storaged:v3\n",
    "# udocker setup --execmode=F1 nebula-storaged"
   ]
  },
  {
   "cell_type": "code",
   "execution_count": 4,
   "metadata": {},
   "outputs": [
    {
     "name": "stdout",
     "output_type": "stream",
     "text": [
      "The ngql extension is already loaded. To reload it, use:\n",
      "  %reload_ext ngql\n"
     ]
    }
   ],
   "source": [
    "%load_ext ngql\n"
   ]
  },
  {
   "cell_type": "code",
   "execution_count": 1,
   "metadata": {},
   "outputs": [],
   "source": [
    "%reload_ext ngql"
   ]
  },
  {
   "cell_type": "code",
   "execution_count": 2,
   "metadata": {},
   "outputs": [
    {
     "name": "stdout",
     "output_type": "stream",
     "text": [
      "\u001b[1;3;38;2;0;135;107m[OK] Connection Pool Created\u001b[0m\n"
     ]
    },
    {
     "data": {
      "text/html": [
       "<div>\n",
       "<style scoped>\n",
       "    .dataframe tbody tr th:only-of-type {\n",
       "        vertical-align: middle;\n",
       "    }\n",
       "\n",
       "    .dataframe tbody tr th {\n",
       "        vertical-align: top;\n",
       "    }\n",
       "\n",
       "    .dataframe thead th {\n",
       "        text-align: right;\n",
       "    }\n",
       "</style>\n",
       "<table border=\"1\" class=\"dataframe\">\n",
       "  <thead>\n",
       "    <tr style=\"text-align: right;\">\n",
       "      <th></th>\n",
       "      <th>Name</th>\n",
       "    </tr>\n",
       "  </thead>\n",
       "  <tbody>\n",
       "    <tr>\n",
       "      <th>0</th>\n",
       "      <td>PrimeKG</td>\n",
       "    </tr>\n",
       "    <tr>\n",
       "      <th>1</th>\n",
       "      <td>basketballplayer</td>\n",
       "    </tr>\n",
       "  </tbody>\n",
       "</table>\n",
       "</div>"
      ],
      "text/plain": [
       "               Name\n",
       "0           PrimeKG\n",
       "1  basketballplayer"
      ]
     },
     "execution_count": 2,
     "metadata": {},
     "output_type": "execute_result"
    }
   ],
   "source": [
    "%ngql --address 127.0.0.1 --port 9669 --user root --password nebula\n"
   ]
  },
  {
   "cell_type": "code",
   "execution_count": 9,
   "metadata": {},
   "outputs": [
    {
     "data": {
      "text/html": [
       "<div>\n",
       "<style scoped>\n",
       "    .dataframe tbody tr th:only-of-type {\n",
       "        vertical-align: middle;\n",
       "    }\n",
       "\n",
       "    .dataframe tbody tr th {\n",
       "        vertical-align: top;\n",
       "    }\n",
       "\n",
       "    .dataframe thead th {\n",
       "        text-align: right;\n",
       "    }\n",
       "</style>\n",
       "<table border=\"1\" class=\"dataframe\">\n",
       "  <thead>\n",
       "    <tr style=\"text-align: right;\">\n",
       "      <th></th>\n",
       "    </tr>\n",
       "  </thead>\n",
       "  <tbody>\n",
       "  </tbody>\n",
       "</table>\n",
       "</div>"
      ],
      "text/plain": [
       "Empty DataFrame\n",
       "Columns: []\n",
       "Index: []"
      ]
     },
     "execution_count": 9,
     "metadata": {},
     "output_type": "execute_result"
    }
   ],
   "source": [
    "# Create a new Graph space (graph) for the PrimeKG\n",
    "%ngql CREATE SPACE IF NOT EXISTS PrimeKG (vid_type = INT64);\n",
    "%ngql USE PrimeKG;"
   ]
  },
  {
   "cell_type": "markdown",
   "metadata": {},
   "source": [
    "# Nodes"
   ]
  },
  {
   "cell_type": "code",
   "execution_count": 5,
   "metadata": {},
   "outputs": [
    {
     "name": "stdout",
     "output_type": "stream",
     "text": [
      "['gene/protein' 'drug' 'effect/phenotype' 'disease' 'biological_process'\n",
      " 'molecular_function' 'cellular_component' 'exposure' 'pathway' 'anatomy']\n"
     ]
    }
   ],
   "source": [
    "print(nodes['node_type'].unique()) #types of nodes"
   ]
  },
  {
   "cell_type": "code",
   "execution_count": null,
   "metadata": {},
   "outputs": [],
   "source": [
    "# save the data for each 'node_type' in a separate file\n",
    "for node_type in nodes['node_type'].unique():\n",
    "    sanitized_node_type = node_type.replace('/', '_')\n",
    "    output_path = os.path.join('~/scratch-llm/data/PrimeKG_data/sub_data/', 'node_'+ sanitized_node_type + '.csv')\n",
    "    nodes[nodes['node_type'] == node_type].to_csv(output_path, index=False)"
   ]
  },
  {
   "cell_type": "code",
   "execution_count": null,
   "metadata": {},
   "outputs": [],
   "source": [
    "# Create Tags (node_type) for each node in the PrimeKG\n",
    "%ngql CREATE TAG IF NOT EXISTS anatomy(node_name string, node_source string, node_id string);\n",
    "%ngql CREATE TAG IF NOT EXISTS gene_protein(node_name string, node_source string, node_id string);\n",
    "%ngql CREATE TAG IF NOT EXISTS drug(node_name string, node_source string, node_id string, description string, half_life string, indication string, mechanism_of_action string, protein_binding string, pharmacodynamics string, state string, atc_1 string, atc_2 string, atc_3 string, atc_4 string, category string, group string, pathway string, molecular_weight string, tpsaclogp string);\n",
    "%ngql CREATE TAG IF NOT EXISTS disease(node_name string, node_source string, mondo_id int, mondo_name string, group_id_bert string, group_name_bert string, mondo_definition string, umls_description string, orphanet_definition string, orphanet_prevalence string, orphanet_epidemiology string, orphanet_clinical_description string, orphanet_management_and_treatment string, mayo_symptoms string, mayo_causes string, mayo_risk_factors string, mayo_complications string, mayo_prevention string, mayo_see_doc string);\n",
    "%ngql CREATE TAG IF NOT EXISTS pathway(node_name string, node_source string, node_id string);\n",
    "%ngql CREATE TAG IF NOT EXISTS biological_process(node_name string, node_source string, node_id string);\n",
    "%ngql CREATE TAG IF NOT EXISTS effect_phenotype(node_name string, node_source string, node_id string);\n",
    "%ngql CREATE TAG IF NOT EXISTS molecular_function(node_name string, node_source string, node_id string);\n",
    "%ngql CREATE TAG IF NOT EXISTS cellular_component(node_name string, node_source string, node_id string);\n",
    "%ngql CREATE TAG IF NOT EXISTS exposure(node_name string, node_source string, node_id string);"
   ]
  },
  {
   "cell_type": "code",
   "execution_count": null,
   "metadata": {},
   "outputs": [],
   "source": [
    "# Load each node source data into the corresponding Tag (working fine)\n",
    "%ng_load --source ~/scratch-llm/data/PrimeKG_data/sub_data/node_gene_protein.csv --tag gene_protein --header --space PrimeKG --vid 0 --props 2:node_id,3:node_name,4:node_source\n",
    "%ng_load --source ~/scratch-llm/data/PrimeKG_data/sub_data/node_biological_process.csv --tag biological_process --header --space PrimeKG --vid 0 --props 2:node_id,3:node_name,4:node_source\n",
    "%ng_load --source ~/scratch-llm/data/PrimeKG_data/sub_data/node_effect_phenotype.csv --tag effect_phenotype --header --space PrimeKG --vid 0 --props 2:node_id,3:node_name,4:node_source\n",
    "%ng_load --source ~/scratch-llm/data/PrimeKG_data/sub_data/node_molecular_function.csv --tag molecular_function --header --space PrimeKG --vid 0 --props 2:node_id,3:node_name,4:node_source\n",
    "%ng_load --source ~/scratch-llm/data/PrimeKG_data/sub_data/node_cellular_component.csv --tag cellular_component --header --space PrimeKG --vid 0 --props 2:node_id,3:node_name,4:node_source\n",
    "%ng_load --source ~/scratch-llm/data/PrimeKG_data/sub_data/node_pathway.csv --tag pathway --header --space PrimeKG --vid 0 --props 2:node_id,3:node_name,4:node_source\n",
    "%ng_load --source ~/scratch-llm/data/PrimeKG_data/sub_data/node_exposure.csv --tag exposure --header --space PrimeKG --vid 0 --props 2:node_id,3:node_name,4:node_source\n",
    "%ng_load --source ~/scratch-llm/data/PrimeKG_data/sub_data/node_anatomy.csv --tag anatomy --header --space PrimeKG --vid 0 --props 2:node_id,3:node_name,4:node_source\n"
   ]
  },
  {
   "cell_type": "markdown",
   "metadata": {},
   "source": [
    "## Extra information for nodes 'drug' and 'disease'"
   ]
  },
  {
   "cell_type": "code",
   "execution_count": null,
   "metadata": {},
   "outputs": [],
   "source": [
    "# disease and drug feature files are available as .tab format so they need to be converted to .csv\n",
    "# many formatting issues on both files that had to be correcteed manually before merging with the 'node_' dataset\n",
    "disease_tab = \"~/scratch-llm/data/PrimeKG_data/raw_data/disease_features.tab\"\n",
    "drug_tab = \"~/scratch-llm/data/PrimeKG_data/raw_data/drug_features.tab\"\n",
    "\n",
    "df = pd.read_csv(disease_tab, delimiter='\\t')\n",
    "disease_csv = \"~/scratch-llm/data/PrimeKG_data/sub_data/disease_features.csv\"\n",
    "df.to_csv(disease_csv, index=False)\n",
    "\n",
    "\n",
    "df = pd.read_csv(drug_tab, delimiter='\\t')\n",
    "drug_csv = \"~/scratch-llm/data/PrimeKG_data/sub_data/drug_features.csv\"\n",
    "df.to_csv(drug_csv, index=False) "
   ]
  },
  {
   "cell_type": "code",
   "execution_count": 29,
   "metadata": {},
   "outputs": [],
   "source": [
    "# merge extra drug and disease information \n",
    "node_drug = pd.read_csv(\"~/scratch-llm/data/PrimeKG_data/sub_data/node_drug.csv\")\n",
    "features_drug = pd.read_csv(\"~/scratch-llm/data/PrimeKG_data/sub_data/drug_features.csv\")\n",
    "node_disease = pd.read_csv(\"~/scratch-llm/data/PrimeKG_data/sub_data/node_disease.csv\")\n",
    "features_disease = pd.read_csv(\"~/scratch-llm/data/PrimeKG_data/sub_data/disease_features.csv\")\n",
    "\n",
    "# Merge the dataframes on 'node_index' and save to csv\n",
    "merged_df = pd.merge(node_drug, features_drug, on='node_index')\n",
    "merged_df.to_csv(\"~/scratch-llm/data/PrimeKG_data/sub_data/merged_drug.csv\", index=False)\n",
    "merged_df = pd.merge(node_disease, features_disease, on='node_index')\n",
    "merged_df.to_csv(\"~/scratch-llm/data/PrimeKG_data/sub_data/merged_disease.csv\", index=False)\n"
   ]
  },
  {
   "cell_type": "code",
   "execution_count": null,
   "metadata": {},
   "outputs": [],
   "source": [
    "#Load the extended drug and disease data into the corresponding Tags\n",
    "%ng_load --source ~/scratch-llm/data/PrimeKG_data/sub_data/merged_drug.csv --tag drug --header --space PrimeKG --batch 100 --vid 0 --props 2:node_id,3:node_name,4:node_source,5:description,6:half_life,7:indication,8:mechanism_of_action,9:protein_binding,10:pharmacodynamics,11:state,12:atc_1,13:atc_2,14:atc_3,15:atc_4,16:category,17:group,18:pathway,19:molecular_weight,20:tpsaclogp\n",
    "%ng_load --source ~/scratch-llm/data/PrimeKG_data/sub_data/merged_disease.csv --tag disease --header --space PrimeKG --vid 0 --props 3:node_name,4:node_source,5:mondo_id,6:mondo_name,7:group_id_bert,8:group_name_bert,9:mondo_definition,10:umls_description,11:orphanet_definition,12:orphanet_prevalence,13:orphanet_epidemiology,14:orphanet_clinical_description,15:orphanet_management_and_treatment,16:mayo_symptoms,17:mayo_causes,18:mayo_risk_factors,19:mayo_complications,20:mayo_prevention,21:mayo_see_doc\n"
   ]
  },
  {
   "cell_type": "markdown",
   "metadata": {},
   "source": [
    "# Edges"
   ]
  },
  {
   "cell_type": "code",
   "execution_count": 6,
   "metadata": {},
   "outputs": [
    {
     "name": "stdout",
     "output_type": "stream",
     "text": [
      "['protein_protein' 'drug_protein' 'contraindication' 'indication'\n",
      " 'off-label use' 'drug_drug' 'phenotype_protein' 'phenotype_phenotype'\n",
      " 'disease_phenotype_negative' 'disease_phenotype_positive'\n",
      " 'disease_protein' 'disease_disease' 'drug_effect' 'bioprocess_bioprocess'\n",
      " 'molfunc_molfunc' 'cellcomp_cellcomp' 'molfunc_protein'\n",
      " 'cellcomp_protein' 'bioprocess_protein' 'exposure_protein'\n",
      " 'exposure_disease' 'exposure_exposure' 'exposure_bioprocess'\n",
      " 'exposure_molfunc' 'exposure_cellcomp' 'pathway_pathway'\n",
      " 'pathway_protein' 'anatomy_anatomy' 'anatomy_protein_present'\n",
      " 'anatomy_protein_absent']\n"
     ]
    }
   ],
   "source": [
    "print(edges['relation'].unique()) # types of edges"
   ]
  },
  {
   "cell_type": "code",
   "execution_count": null,
   "metadata": {},
   "outputs": [],
   "source": [
    "# save the data for each 'relation' (edge type) in a separate file\n",
    "for relation in edges['relation'].unique():\n",
    "    sanitized_relation = relation.replace('-', '_')\n",
    "    sanitized_relation = sanitized_relation.replace('\\t', '_')\n",
    "    output_path = os.path.join('~/scratch-llm/data/PrimeKG_data/sub_data/', 'edge_'+ sanitized_relation + '.csv')\n",
    "    edges[edges['relation'] == relation].to_csv(output_path, index=False)"
   ]
  },
  {
   "cell_type": "code",
   "execution_count": null,
   "metadata": {},
   "outputs": [],
   "source": [
    "%ngql CREATE EDGE IF NOT EXISTS protein_protein(display_relation string);\n",
    "%ngql CREATE EDGE IF NOT EXISTS drug_protein(display_relation string);\n",
    "%ngql CREATE EDGE IF NOT EXISTS contraindication(display_relation string);\n",
    "%ngql CREATE EDGE IF NOT EXISTS indication(display_relation string);\n",
    "%ngql CREATE EDGE IF NOT EXISTS off_label_use(display_relation string);\n",
    "%ngql CREATE EDGE IF NOT EXISTS drug_drug(display_relation string);\n",
    "%ngql CREATE EDGE IF NOT EXISTS phenotype_protein(display_relation string);\n",
    "%ngql CREATE EDGE IF NOT EXISTS phenotype_phenotype(display_relation string);\n",
    "%ngql CREATE EDGE IF NOT EXISTS disease_phenotype_negative(display_relation string);\n",
    "%ngql CREATE EDGE IF NOT EXISTS disease_phenotype_positive(display_relation string);\n",
    "%ngql CREATE EDGE IF NOT EXISTS disease_protein(display_relation string);\n",
    "%ngql CREATE EDGE IF NOT EXISTS disease_disease(display_relation string);\n",
    "%ngql CREATE EDGE IF NOT EXISTS drug_effect(display_relation string);\n",
    "%ngql CREATE EDGE IF NOT EXISTS bioprocess_bioprocess(display_relation string);\n",
    "%ngql CREATE EDGE IF NOT EXISTS molfunc_molfunc(display_relation string);\n",
    "%ngql CREATE EDGE IF NOT EXISTS cellcomp_cellcomp(display_relation string);\n",
    "%ngql CREATE EDGE IF NOT EXISTS molfunc_protein(display_relation string);\n",
    "%ngql CREATE EDGE IF NOT EXISTS cellcomp_protein(display_relation string);\n",
    "%ngql CREATE EDGE IF NOT EXISTS bioprocess_protein(display_relation string);\n",
    "%ngql CREATE EDGE IF NOT EXISTS exposure_protein(display_relation string);\n",
    "%ngql CREATE EDGE IF NOT EXISTS exposure_disease(display_relation string);\n",
    "%ngql CREATE EDGE IF NOT EXISTS exposure_exposure(display_relation string);\n",
    "%ngql CREATE EDGE IF NOT EXISTS exposure_bioprocess(display_relation string);\n",
    "%ngql CREATE EDGE IF NOT EXISTS exposure_molfunc(display_relation string);\n",
    "%ngql CREATE EDGE IF NOT EXISTS exposure_cellcomp(display_relation string);\n",
    "%ngql CREATE EDGE IF NOT EXISTS pathway_pathway(display_relation string);\n",
    "%ngql CREATE EDGE IF NOT EXISTS pathway_protein(display_relation string);\n",
    "%ngql CREATE EDGE IF NOT EXISTS anatomy_anatomy(display_relation string);\n",
    "%ngql CREATE EDGE IF NOT EXISTS anatomy_protein_present(display_relation string);\n",
    "%ngql CREATE EDGE IF NOT EXISTS anatomy_protein_absent(display_relation string);"
   ]
  },
  {
   "cell_type": "code",
   "execution_count": null,
   "metadata": {},
   "outputs": [],
   "source": [
    "# for each edge type, load the data accordingly, this takes like 20mins from new\n",
    "%ng_load --source ~/scratch-llm/data/PrimeKG_data/sub_data/edge_protein_protein.csv --space PrimeKG --header --edge protein_protein --src 2 --dst 3 --props 1:display_relation\n",
    "%ng_load --source ~/scratch-llm/data/PrimeKG_data/sub_data/edge_drug_protein.csv --space PrimeKG --header --edge drug_protein --src 2 --dst 3 --props 1:display_relation\n",
    "%ng_load --source ~/scratch-llm/data/PrimeKG_data/sub_data/edge_contraindication.csv --space PrimeKG --header --edge contraindication --src 2 --dst 3 --props 1:display_relation\n",
    "%ng_load --source ~/scratch-llm/data/PrimeKG_data/sub_data/edge_indication.csv --space PrimeKG --header --edge indication --src 2 --dst 3 --props 1:display_relation\n",
    "%ng_load --source ~/scratch-llm/data/PrimeKG_data/sub_data/edge_off_label_use.csv --space PrimeKG --header --edge off_label_use --src 2 --dst 3 --props 1:display_relation\n",
    "%ng_load --source ~/scratch-llm/data/PrimeKG_data/sub_data/edge_drug_drug.csv --space PrimeKG --header --edge drug_drug --src 2 --dst 3 --props 1:display_relation\n",
    "%ng_load --source ~/scratch-llm/data/PrimeKG_data/sub_data/edge_phenotype_protein.csv --space PrimeKG --header --edge phenotype_protein --src 2 --dst 3 --props 1:display_relation\n",
    "%ng_load --source ~/scratch-llm/data/PrimeKG_data/sub_data/edge_phenotype_phenotype.csv --space PrimeKG --header --edge phenotype_phenotype --src 2 --dst 3 --props 1:display_relation\n",
    "%ng_load --source ~/scratch-llm/data/PrimeKG_data/sub_data/edge_disease_phenotype_negative.csv --space PrimeKG --header --edge disease_phenotype_negative --src 2 --dst 3 --props 1:display_relation\n",
    "%ng_load --source ~/scratch-llm/data/PrimeKG_data/sub_data/edge_disease_phenotype_positive.csv --space PrimeKG --header --edge disease_phenotype_positive --src 2 --dst 3 --props 1:display_relation\n",
    "%ng_load --source ~/scratch-llm/data/PrimeKG_data/sub_data/edge_disease_protein.csv --space PrimeKG --header --edge disease_protein --src 2 --dst 3 --props 1:display_relation\n",
    "%ng_load --source ~/scratch-llm/data/PrimeKG_data/sub_data/edge_disease_disease.csv --space PrimeKG --header --edge disease_disease --src 2 --dst 3 --props 1:display_relation\n",
    "%ng_load --source ~/scratch-llm/data/PrimeKG_data/sub_data/edge_drug_effect.csv --space PrimeKG --header --edge drug_effect --src 2 --dst 3 --props 1:display_relation\n",
    "%ng_load --source ~/scratch-llm/data/PrimeKG_data/sub_data/edge_bioprocess_bioprocess.csv --space PrimeKG --header --edge bioprocess_bioprocess --src 2 --dst 3 --props 1:display_relation\n",
    "%ng_load --source ~/scratch-llm/data/PrimeKG_data/sub_data/edge_molfunc_molfunc.csv --space PrimeKG --header --edge molfunc_molfunc --src 2 --dst 3 --props 1:display_relation\n"
   ]
  },
  {
   "cell_type": "code",
   "execution_count": null,
   "metadata": {},
   "outputs": [],
   "source": [
    "# load the edge data in two batches\n",
    "%ng_load --source ~/scratch-llm/data/PrimeKG_data/sub_data/edge_cellcomp_cellcomp.csv --space PrimeKG --header --edge cellcomp_cellcomp --src 2 --dst 3 --props 1:display_relation\n",
    "%ng_load --source ~/scratch-llm/data/PrimeKG_data/sub_data/edge_molfunc_protein.csv --space PrimeKG --header --edge molfunc_protein --src 2 --dst 3 --props 1:display_relation\n",
    "%ng_load --source ~/scratch-llm/data/PrimeKG_data/sub_data/edge_cellcomp_protein.csv --space PrimeKG --header --edge cellcomp_protein --src 2 --dst 3 --props 1:display_relation\n",
    "%ng_load --source ~/scratch-llm/data/PrimeKG_data/sub_data/edge_bioprocess_protein.csv --space PrimeKG --header --edge bioprocess_protein --src 2 --dst 3 --props 1:display_relation\n",
    "%ng_load --source ~/scratch-llm/data/PrimeKG_data/sub_data/edge_exposure_protein.csv --space PrimeKG --header --edge exposure_protein --src 2 --dst 3 --props 1:display_relation\n",
    "%ng_load --source ~/scratch-llm/data/PrimeKG_data/sub_data/edge_exposure_disease.csv --space PrimeKG --header --edge exposure_disease --src 2 --dst 3 --props 1:display_relation\n",
    "%ng_load --source ~/scratch-llm/data/PrimeKG_data/sub_data/edge_exposure_exposure.csv --space PrimeKG --header --edge exposure_exposure --src 2 --dst 3 --props 1:display_relation\n",
    "%ng_load --source ~/scratch-llm/data/PrimeKG_data/sub_data/edge_exposure_bioprocess.csv --space PrimeKG --header --edge exposure_bioprocess --src 2 --dst 3 --props 1:display_relation\n",
    "%ng_load --source ~/scratch-llm/data/PrimeKG_data/sub_data/edge_exposure_molfunc.csv --space PrimeKG --header --edge exposure_molfunc --src 2 --dst 3 --props 1:display_relation\n",
    "%ng_load --source ~/scratch-llm/data/PrimeKG_data/sub_data/edge_exposure_cellcomp.csv --space PrimeKG --header --edge exposure_cellcomp --src 2 --dst 3 --props 1:display_relation\n",
    "%ng_load --source ~/scratch-llm/data/PrimeKG_data/sub_data/edge_pathway_pathway.csv --space PrimeKG --header --edge pathway_pathway --src 2 --dst 3 --props 1:display_relation\n",
    "%ng_load --source ~/scratch-llm/data/PrimeKG_data/sub_data/edge_pathway_protein.csv --space PrimeKG --header --edge pathway_protein --src 2 --dst 3 --props 1:display_relation\n",
    "%ng_load --source ~/scratch-llm/data/PrimeKG_data/sub_data/edge_anatomy_anatomy.csv --space PrimeKG --header --edge anatomy_anatomy --src 2 --dst 3 --props 1:display_relation\n",
    "%ng_load --source ~/scratch-llm/data/PrimeKG_data/sub_data/edge_anatomy_protein_present.csv --space PrimeKG --batch 500 --header --edge anatomy_protein_present --src 2 --dst 3 --props 1:display_relation\n",
    "%ng_load --source ~/scratch-llm/data/PrimeKG_data/sub_data/edge_anatomy_protein_absent.csv --space PrimeKG --header --edge anatomy_protein_absent --src 2 --dst 3 --props 1:display_relation\n"
   ]
  },
  {
   "cell_type": "markdown",
   "metadata": {},
   "source": [
    "# Checks"
   ]
  },
  {
   "cell_type": "code",
   "execution_count": 10,
   "metadata": {},
   "outputs": [
    {
     "data": {
      "text/html": [
       "<div>\n",
       "<style scoped>\n",
       "    .dataframe tbody tr th:only-of-type {\n",
       "        vertical-align: middle;\n",
       "    }\n",
       "\n",
       "    .dataframe tbody tr th {\n",
       "        vertical-align: top;\n",
       "    }\n",
       "\n",
       "    .dataframe thead th {\n",
       "        text-align: right;\n",
       "    }\n",
       "</style>\n",
       "<table border=\"1\" class=\"dataframe\">\n",
       "  <thead>\n",
       "    <tr style=\"text-align: right;\">\n",
       "      <th></th>\n",
       "      <th>Field</th>\n",
       "      <th>Type</th>\n",
       "      <th>Null</th>\n",
       "      <th>Default</th>\n",
       "      <th>Comment</th>\n",
       "    </tr>\n",
       "  </thead>\n",
       "  <tbody>\n",
       "    <tr>\n",
       "      <th>0</th>\n",
       "      <td>node_name</td>\n",
       "      <td>string</td>\n",
       "      <td>YES</td>\n",
       "      <td>None</td>\n",
       "      <td>None</td>\n",
       "    </tr>\n",
       "    <tr>\n",
       "      <th>1</th>\n",
       "      <td>node_source</td>\n",
       "      <td>string</td>\n",
       "      <td>YES</td>\n",
       "      <td>None</td>\n",
       "      <td>None</td>\n",
       "    </tr>\n",
       "    <tr>\n",
       "      <th>2</th>\n",
       "      <td>node_id</td>\n",
       "      <td>string</td>\n",
       "      <td>YES</td>\n",
       "      <td>None</td>\n",
       "      <td>None</td>\n",
       "    </tr>\n",
       "    <tr>\n",
       "      <th>3</th>\n",
       "      <td>description</td>\n",
       "      <td>string</td>\n",
       "      <td>YES</td>\n",
       "      <td>None</td>\n",
       "      <td>None</td>\n",
       "    </tr>\n",
       "    <tr>\n",
       "      <th>4</th>\n",
       "      <td>half_life</td>\n",
       "      <td>string</td>\n",
       "      <td>YES</td>\n",
       "      <td>None</td>\n",
       "      <td>None</td>\n",
       "    </tr>\n",
       "    <tr>\n",
       "      <th>5</th>\n",
       "      <td>indication</td>\n",
       "      <td>string</td>\n",
       "      <td>YES</td>\n",
       "      <td>None</td>\n",
       "      <td>None</td>\n",
       "    </tr>\n",
       "    <tr>\n",
       "      <th>6</th>\n",
       "      <td>mechanism_of_action</td>\n",
       "      <td>string</td>\n",
       "      <td>YES</td>\n",
       "      <td>None</td>\n",
       "      <td>None</td>\n",
       "    </tr>\n",
       "    <tr>\n",
       "      <th>7</th>\n",
       "      <td>protein_binding</td>\n",
       "      <td>string</td>\n",
       "      <td>YES</td>\n",
       "      <td>None</td>\n",
       "      <td>None</td>\n",
       "    </tr>\n",
       "    <tr>\n",
       "      <th>8</th>\n",
       "      <td>pharmacodynamics</td>\n",
       "      <td>string</td>\n",
       "      <td>YES</td>\n",
       "      <td>None</td>\n",
       "      <td>None</td>\n",
       "    </tr>\n",
       "    <tr>\n",
       "      <th>9</th>\n",
       "      <td>state</td>\n",
       "      <td>string</td>\n",
       "      <td>YES</td>\n",
       "      <td>None</td>\n",
       "      <td>None</td>\n",
       "    </tr>\n",
       "    <tr>\n",
       "      <th>10</th>\n",
       "      <td>atc_1</td>\n",
       "      <td>string</td>\n",
       "      <td>YES</td>\n",
       "      <td>None</td>\n",
       "      <td>None</td>\n",
       "    </tr>\n",
       "    <tr>\n",
       "      <th>11</th>\n",
       "      <td>atc_2</td>\n",
       "      <td>string</td>\n",
       "      <td>YES</td>\n",
       "      <td>None</td>\n",
       "      <td>None</td>\n",
       "    </tr>\n",
       "    <tr>\n",
       "      <th>12</th>\n",
       "      <td>atc_3</td>\n",
       "      <td>string</td>\n",
       "      <td>YES</td>\n",
       "      <td>None</td>\n",
       "      <td>None</td>\n",
       "    </tr>\n",
       "    <tr>\n",
       "      <th>13</th>\n",
       "      <td>atc_4</td>\n",
       "      <td>string</td>\n",
       "      <td>YES</td>\n",
       "      <td>None</td>\n",
       "      <td>None</td>\n",
       "    </tr>\n",
       "    <tr>\n",
       "      <th>14</th>\n",
       "      <td>category</td>\n",
       "      <td>string</td>\n",
       "      <td>YES</td>\n",
       "      <td>None</td>\n",
       "      <td>None</td>\n",
       "    </tr>\n",
       "    <tr>\n",
       "      <th>15</th>\n",
       "      <td>group</td>\n",
       "      <td>string</td>\n",
       "      <td>YES</td>\n",
       "      <td>None</td>\n",
       "      <td>None</td>\n",
       "    </tr>\n",
       "    <tr>\n",
       "      <th>16</th>\n",
       "      <td>pathway</td>\n",
       "      <td>string</td>\n",
       "      <td>YES</td>\n",
       "      <td>None</td>\n",
       "      <td>None</td>\n",
       "    </tr>\n",
       "    <tr>\n",
       "      <th>17</th>\n",
       "      <td>molecular_weight</td>\n",
       "      <td>string</td>\n",
       "      <td>YES</td>\n",
       "      <td>None</td>\n",
       "      <td>None</td>\n",
       "    </tr>\n",
       "    <tr>\n",
       "      <th>18</th>\n",
       "      <td>tpsaclogp</td>\n",
       "      <td>string</td>\n",
       "      <td>YES</td>\n",
       "      <td>None</td>\n",
       "      <td>None</td>\n",
       "    </tr>\n",
       "  </tbody>\n",
       "</table>\n",
       "</div>"
      ],
      "text/plain": [
       "                  Field    Type Null Default Comment\n",
       "0             node_name  string  YES    None    None\n",
       "1           node_source  string  YES    None    None\n",
       "2               node_id  string  YES    None    None\n",
       "3           description  string  YES    None    None\n",
       "4             half_life  string  YES    None    None\n",
       "5            indication  string  YES    None    None\n",
       "6   mechanism_of_action  string  YES    None    None\n",
       "7       protein_binding  string  YES    None    None\n",
       "8      pharmacodynamics  string  YES    None    None\n",
       "9                 state  string  YES    None    None\n",
       "10                atc_1  string  YES    None    None\n",
       "11                atc_2  string  YES    None    None\n",
       "12                atc_3  string  YES    None    None\n",
       "13                atc_4  string  YES    None    None\n",
       "14             category  string  YES    None    None\n",
       "15                group  string  YES    None    None\n",
       "16              pathway  string  YES    None    None\n",
       "17     molecular_weight  string  YES    None    None\n",
       "18            tpsaclogp  string  YES    None    None"
      ]
     },
     "execution_count": 10,
     "metadata": {},
     "output_type": "execute_result"
    }
   ],
   "source": [
    "%ngql DESCRIBE TAG drug;"
   ]
  },
  {
   "cell_type": "code",
   "execution_count": 16,
   "metadata": {},
   "outputs": [
    {
     "data": {
      "text/html": [
       "<div>\n",
       "<style scoped>\n",
       "    .dataframe tbody tr th:only-of-type {\n",
       "        vertical-align: middle;\n",
       "    }\n",
       "\n",
       "    .dataframe tbody tr th {\n",
       "        vertical-align: top;\n",
       "    }\n",
       "\n",
       "    .dataframe thead th {\n",
       "        text-align: right;\n",
       "    }\n",
       "</style>\n",
       "<table border=\"1\" class=\"dataframe\">\n",
       "  <thead>\n",
       "    <tr style=\"text-align: right;\">\n",
       "      <th></th>\n",
       "      <th>nodes</th>\n",
       "      <th>relationships</th>\n",
       "    </tr>\n",
       "  </thead>\n",
       "  <tbody>\n",
       "    <tr>\n",
       "      <th>0</th>\n",
       "      <td>[(14045 :drug{atc_1: __NULL__, atc_2: __NULL__, atc_3: __NULL__, atc_4: __NULL__, category: \"Hydrocortisone phosphate is part of 11-Hydroxycorticosteroids ; 17-Hydroxycorticosteroids ; Adrenal Cortex Hormones ; Cytochrome P-450 CYP2C8 Inducers ; Cytochrome P-450 CYP2C8 Inducers (strength unknown) ; Cytochrome P-450 CYP3A Substrates ; Cytochrome P-450 CYP3A4 Substrates ; Cytochrome P-450 CYP3A5 Substrates ; Cytochrome P-450 CYP3A7 Substrates ; Cytochrome P-450 Enzyme Inducers ; Cytochrome P-450 Substrates ; Fused-Ring Compounds ; Hormones ; Hormones, Hormone Substitutes, and Hormone Antagonists ; Hydrocortisone and derivatives ; Hydroxycorticosteroids ; Pregnanes ; Pregnenediones ; Pregnenes ; Steroids.\", description: __NULL__, group: \"Hydrocortisone phosphate is approved and vet_approved.\", half_life: \"The half-life is 6-8 hours\", indication: \"For the relief of the inflammatory and pruritic manifestations of corticosteroid-responsive dermatoses. Also used to treat endocrine (hormonal) disorders (adrenal insufficiency, Addisons disease). It is also used to treat many immune and allergic disorders, such as arthritis, lupus, severe psoriasis, severe asthma, ulcerative colitis, and Crohn's disease.\", mechanism_of_action: \"Hydrocortisone binds to the cytosolic glucocorticoid receptor. After binding the receptor the newly formed receptor-ligand complex translocates itself into the cell nucleus, where it binds to many glucocorticoid response elements (GRE) in the promoter region of the target genes. The DNA bound receptor then interacts with basic transcription factors, causing the increase in expression of specific target genes. The anti-inflammatory actions of corticosteroids are thought to involve lipocortins, phospholipase A2 inhibitory proteins which, through inhibition arachidonic acid, control the biosynthesis of prostaglandins and leukotrienes. Specifically glucocorticoids induce lipocortin-1 (annexin-1) synthesis, which then binds to cell membranes preventing the phospholipase A2 from coming into contact with its substrate arachidonic acid. This leads to diminished eicosanoid production. The cyclooxygenase (both COX-1 and COX-2) expression is also suppressed, potentiating the effect. In other words, the two main products in inflammation Prostaglandins and Leukotrienes are inhibited by the action of Glucocorticoids. Glucocorticoids also stimulate the lipocortin-1 escaping to the extracellular space, where it binds to the leukocyte membrane receptors and inhibits various inflammatory events: epithelial adhesion, emigration, chemotaxis, phagocytosis, respiratory burst and the release of various inflammatory mediators (lysosomal enzymes, cytokines, tissue plasminogen activator, chemokines etc.) from neutrophils, macrophages and mastocytes. Additionally the immune system is suppressed by corticosteroids due to a decrease in the function of the lymphatic system, a reduction in immunoglobulin and complement concentrations, the precipitation of lymphocytopenia, and interference with antigen-antibody binding.\", molecular_weight: \"The molecular weight is 442.44.\", node_id: \"drug\", node_name: \"Hydrocortisone phosphate\", node_source: \"DrugBank\", pathway: __NULL__, pharmacodynamics: \"Hydrocortisone is the most important human glucocorticoid. It is essential for life and regulates or supports a variety of important cardiovascular, metabolic, immunologic and homeostatic functions. Topical hydrocortisone is used for its anti-inflammatory or immunosuppressive properties to treat inflammation due to corticosteroid-responsive dermatoses. Glucocorticoids are a class of steroid hormones characterised by an ability to bind with the cortisol receptor and trigger a variety of important cardiovascular, metabolic, immunologic and homeostatic effects. Glucocorticoids are distinguished from mineralocorticoids and sex steroids by having different receptors, target cells, and effects. Technically, the term corticosteroid refers to both glucocorticoids and mineralocorticoids, but is often used as a synonym for glucocorticoid. Glucocorticoids suppress cell-mediated immunity. They act by inhibiting genes that code for the cytokines IL-1, IL-2, IL-3, IL-4, IL-5, IL-6, IL-8 and TNF-alpha, the most important of which is the IL-2. Reduced cytokine production limits T cell proliferation. Glucocorticoids also suppress humoral immunity, causing B cells to express lower amounts of IL-2 and IL-2 receptors. This diminishes both B cell clonal expansion and antibody synthesis. The diminished amounts of IL-2 also leads to fewer T lymphocyte cells being activated.\", protein_binding: \"95%\", state: __NULL__, tpsaclogp: \"Hydrocortisone phosphate has a topological polar surface area of 141.36.\"})]</td>\n",
       "      <td>[(14045)-[:drug_protein@0{display_relation: \"enzyme\"}]-&gt;(8974), (14045)-[:drug_protein@0{display_relation: \"target\"}]-&gt;(2319), (14045)-[:drug_protein@0{display_relation: \"transporter\"}]-&gt;(4152), (14045)-[:drug_protein@0{display_relation: \"target\"}]-&gt;(13122), (14045)-[:drug_protein@0{display_relation: \"target\"}]-&gt;(10312), (14045)-[:drug_protein@0{display_relation: \"carrier\"}]-&gt;(2387), (14045)-[:drug_protein@0{display_relation: \"transporter\"}]-&gt;(3183), (14045)-[:drug_protein@0{display_relation: \"carrier\"}]-&gt;(1424), (14045)-[:drug_protein@0{display_relation: \"enzyme\"}]-&gt;(12434), (14045)-[:drug_protein@0{display_relation: \"transporter\"}]-&gt;(10133), (14045)-[:drug_protein@0{display_relation: \"enzyme\"}]-&gt;(10901), (14045)-[:drug_protein@0{display_relation: \"enzyme\"}]-&gt;(697), (14045)-[:drug_protein@0{display_relation: \"transporter\"}]-&gt;(5573), (14045)-[:drug_protein@0{display_relation: \"target\"}]-&gt;(509)]</td>\n",
       "    </tr>\n",
       "    <tr>\n",
       "      <th>1</th>\n",
       "      <td>[(1424 ), (3183 ), (2387 ), (2319 ), (8974 ), (10901 ), (4152 ), (10133 ), (12434 ), (697 ), (10312 ), (13122 ), (5573 ), (509 )]</td>\n",
       "      <td>[(1424)-[:drug_protein@0{display_relation: \"carrier\"}]-&gt;(14045), (3183)-[:drug_protein@0{display_relation: \"transporter\"}]-&gt;(14045), (2387)-[:drug_protein@0{display_relation: \"carrier\"}]-&gt;(14045), (2319)-[:drug_protein@0{display_relation: \"target\"}]-&gt;(14045), (8974)-[:drug_protein@0{display_relation: \"enzyme\"}]-&gt;(14045), (10901)-[:drug_protein@0{display_relation: \"enzyme\"}]-&gt;(14045), (4152)-[:drug_protein@0{display_relation: \"transporter\"}]-&gt;(14045), (10133)-[:drug_protein@0{display_relation: \"transporter\"}]-&gt;(14045), (12434)-[:drug_protein@0{display_relation: \"enzyme\"}]-&gt;(14045), (697)-[:drug_protein@0{display_relation: \"enzyme\"}]-&gt;(14045), (10312)-[:drug_protein@0{display_relation: \"target\"}]-&gt;(14045), (13122)-[:drug_protein@0{display_relation: \"target\"}]-&gt;(14045), (5573)-[:drug_protein@0{display_relation: \"transporter\"}]-&gt;(14045), (509)-[:drug_protein@0{display_relation: \"target\"}]-&gt;(14045)]</td>\n",
       "    </tr>\n",
       "  </tbody>\n",
       "</table>\n",
       "</div>"
      ],
      "text/plain": [
       "                                                                                                                                                                                                                                                                                                                                                                                                                                                                                                                                                                                                                                                                                                                                                                                                                                                                                                                                                                                                                                                                                                                                                                                                                                                                                                                                                                                                                                                                                                                                                                                                                                                                                                                                                                                                                                                                                                                                                                                                                                                                                                                                                                                                                                                                                                                                                                                                                                                                                                                                                                                                                                                                                                                                                                                                                                                                                                                                                                                                                                                                                                                                                                                                                                                                                                                                                                                                                                                                                                                                                                                                                                                                                                                                                                                                                                                                                                                                                                                                                                                                                                                                                                                                                                                                                                                                                                                                                                                                                                                                                                                                                                                                                                                                                                                                                                                                                                                               nodes                                                                                                                                                                                                                                                                                                                                                                                                                                                                                                                                                                                                                                                                                                                                                                                                                                                                                                                                relationships\n",
       "0  [(14045 :drug{atc_1: __NULL__, atc_2: __NULL__, atc_3: __NULL__, atc_4: __NULL__, category: \"Hydrocortisone phosphate is part of 11-Hydroxycorticosteroids ; 17-Hydroxycorticosteroids ; Adrenal Cortex Hormones ; Cytochrome P-450 CYP2C8 Inducers ; Cytochrome P-450 CYP2C8 Inducers (strength unknown) ; Cytochrome P-450 CYP3A Substrates ; Cytochrome P-450 CYP3A4 Substrates ; Cytochrome P-450 CYP3A5 Substrates ; Cytochrome P-450 CYP3A7 Substrates ; Cytochrome P-450 Enzyme Inducers ; Cytochrome P-450 Substrates ; Fused-Ring Compounds ; Hormones ; Hormones, Hormone Substitutes, and Hormone Antagonists ; Hydrocortisone and derivatives ; Hydroxycorticosteroids ; Pregnanes ; Pregnenediones ; Pregnenes ; Steroids.\", description: __NULL__, group: \"Hydrocortisone phosphate is approved and vet_approved.\", half_life: \"The half-life is 6-8 hours\", indication: \"For the relief of the inflammatory and pruritic manifestations of corticosteroid-responsive dermatoses. Also used to treat endocrine (hormonal) disorders (adrenal insufficiency, Addisons disease). It is also used to treat many immune and allergic disorders, such as arthritis, lupus, severe psoriasis, severe asthma, ulcerative colitis, and Crohn's disease.\", mechanism_of_action: \"Hydrocortisone binds to the cytosolic glucocorticoid receptor. After binding the receptor the newly formed receptor-ligand complex translocates itself into the cell nucleus, where it binds to many glucocorticoid response elements (GRE) in the promoter region of the target genes. The DNA bound receptor then interacts with basic transcription factors, causing the increase in expression of specific target genes. The anti-inflammatory actions of corticosteroids are thought to involve lipocortins, phospholipase A2 inhibitory proteins which, through inhibition arachidonic acid, control the biosynthesis of prostaglandins and leukotrienes. Specifically glucocorticoids induce lipocortin-1 (annexin-1) synthesis, which then binds to cell membranes preventing the phospholipase A2 from coming into contact with its substrate arachidonic acid. This leads to diminished eicosanoid production. The cyclooxygenase (both COX-1 and COX-2) expression is also suppressed, potentiating the effect. In other words, the two main products in inflammation Prostaglandins and Leukotrienes are inhibited by the action of Glucocorticoids. Glucocorticoids also stimulate the lipocortin-1 escaping to the extracellular space, where it binds to the leukocyte membrane receptors and inhibits various inflammatory events: epithelial adhesion, emigration, chemotaxis, phagocytosis, respiratory burst and the release of various inflammatory mediators (lysosomal enzymes, cytokines, tissue plasminogen activator, chemokines etc.) from neutrophils, macrophages and mastocytes. Additionally the immune system is suppressed by corticosteroids due to a decrease in the function of the lymphatic system, a reduction in immunoglobulin and complement concentrations, the precipitation of lymphocytopenia, and interference with antigen-antibody binding.\", molecular_weight: \"The molecular weight is 442.44.\", node_id: \"drug\", node_name: \"Hydrocortisone phosphate\", node_source: \"DrugBank\", pathway: __NULL__, pharmacodynamics: \"Hydrocortisone is the most important human glucocorticoid. It is essential for life and regulates or supports a variety of important cardiovascular, metabolic, immunologic and homeostatic functions. Topical hydrocortisone is used for its anti-inflammatory or immunosuppressive properties to treat inflammation due to corticosteroid-responsive dermatoses. Glucocorticoids are a class of steroid hormones characterised by an ability to bind with the cortisol receptor and trigger a variety of important cardiovascular, metabolic, immunologic and homeostatic effects. Glucocorticoids are distinguished from mineralocorticoids and sex steroids by having different receptors, target cells, and effects. Technically, the term corticosteroid refers to both glucocorticoids and mineralocorticoids, but is often used as a synonym for glucocorticoid. Glucocorticoids suppress cell-mediated immunity. They act by inhibiting genes that code for the cytokines IL-1, IL-2, IL-3, IL-4, IL-5, IL-6, IL-8 and TNF-alpha, the most important of which is the IL-2. Reduced cytokine production limits T cell proliferation. Glucocorticoids also suppress humoral immunity, causing B cells to express lower amounts of IL-2 and IL-2 receptors. This diminishes both B cell clonal expansion and antibody synthesis. The diminished amounts of IL-2 also leads to fewer T lymphocyte cells being activated.\", protein_binding: \"95%\", state: __NULL__, tpsaclogp: \"Hydrocortisone phosphate has a topological polar surface area of 141.36.\"})]  [(14045)-[:drug_protein@0{display_relation: \"enzyme\"}]->(8974), (14045)-[:drug_protein@0{display_relation: \"target\"}]->(2319), (14045)-[:drug_protein@0{display_relation: \"transporter\"}]->(4152), (14045)-[:drug_protein@0{display_relation: \"target\"}]->(13122), (14045)-[:drug_protein@0{display_relation: \"target\"}]->(10312), (14045)-[:drug_protein@0{display_relation: \"carrier\"}]->(2387), (14045)-[:drug_protein@0{display_relation: \"transporter\"}]->(3183), (14045)-[:drug_protein@0{display_relation: \"carrier\"}]->(1424), (14045)-[:drug_protein@0{display_relation: \"enzyme\"}]->(12434), (14045)-[:drug_protein@0{display_relation: \"transporter\"}]->(10133), (14045)-[:drug_protein@0{display_relation: \"enzyme\"}]->(10901), (14045)-[:drug_protein@0{display_relation: \"enzyme\"}]->(697), (14045)-[:drug_protein@0{display_relation: \"transporter\"}]->(5573), (14045)-[:drug_protein@0{display_relation: \"target\"}]->(509)]\n",
       "1                                                                                                                                                                                                                                                                                                                                                                                                                                                                                                                                                                                                                                                                                                                                                                                                                                                                                                                                                                                                                                                                                                                                                                                                                                                                                                                                                                                                                                                                                                                                                                                                                                                                                                                                                                                                                                                                                                                                                                                                                                                                                                                                                                                                                                                                                                                                                                                                                                                                                                                                                                                                                                                                                                                                                                                                                                                                                                                                                                                                                                                                                                                                                                                                                                                                                                                                                                                                                                                                                                                                                                                                                                                                                                                                                                                                                                                                                                                                                                                                                                                                                                                                                                                                                                                                                                                                                                                                                                                                                                                                                                                                                                                                                                                                                                                                  [(1424 ), (3183 ), (2387 ), (2319 ), (8974 ), (10901 ), (4152 ), (10133 ), (12434 ), (697 ), (10312 ), (13122 ), (5573 ), (509 )]  [(1424)-[:drug_protein@0{display_relation: \"carrier\"}]->(14045), (3183)-[:drug_protein@0{display_relation: \"transporter\"}]->(14045), (2387)-[:drug_protein@0{display_relation: \"carrier\"}]->(14045), (2319)-[:drug_protein@0{display_relation: \"target\"}]->(14045), (8974)-[:drug_protein@0{display_relation: \"enzyme\"}]->(14045), (10901)-[:drug_protein@0{display_relation: \"enzyme\"}]->(14045), (4152)-[:drug_protein@0{display_relation: \"transporter\"}]->(14045), (10133)-[:drug_protein@0{display_relation: \"transporter\"}]->(14045), (12434)-[:drug_protein@0{display_relation: \"enzyme\"}]->(14045), (697)-[:drug_protein@0{display_relation: \"enzyme\"}]->(14045), (10312)-[:drug_protein@0{display_relation: \"target\"}]->(14045), (13122)-[:drug_protein@0{display_relation: \"target\"}]->(14045), (5573)-[:drug_protein@0{display_relation: \"transporter\"}]->(14045), (509)-[:drug_protein@0{display_relation: \"target\"}]->(14045)]"
      ]
     },
     "execution_count": 16,
     "metadata": {},
     "output_type": "execute_result"
    }
   ],
   "source": [
    "#small check-up, with extra drug and disease information for nodes\n",
    "%ngql GET SUBGRAPH WITH PROP 1 STEPS FROM 14045 OUT drug_protein YIELD VERTICES AS nodes, EDGES AS relationships;"
   ]
  }
 ],
 "metadata": {
  "kernelspec": {
   "display_name": "rag",
   "language": "python",
   "name": "python3"
  },
  "language_info": {
   "codemirror_mode": {
    "name": "ipython",
    "version": 3
   },
   "file_extension": ".py",
   "mimetype": "text/x-python",
   "name": "python",
   "nbconvert_exporter": "python",
   "pygments_lexer": "ipython3",
   "version": "3.10.5"
  }
 },
 "nbformat": 4,
 "nbformat_minor": 2
}
