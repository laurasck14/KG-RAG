{
 "cells": [
  {
   "cell_type": "code",
   "execution_count": 2,
   "metadata": {},
   "outputs": [],
   "source": [
    "import pandas as pd\n",
    "from nebulagraph_lite import nebulagraph_let as ng_let\n",
    "import os"
   ]
  },
  {
   "cell_type": "markdown",
   "metadata": {},
   "source": [
    "# Data loading\n"
   ]
  },
  {
   "cell_type": "code",
   "execution_count": 2,
   "metadata": {},
   "outputs": [],
   "source": [
    "#primekg = pd.read_csv(\"~/scratch-llm/data/PrimeKG_data/raw_data/kg.csv\", low_memory=False)\n",
    "nodes = pd.read_csv(\"~/scratch-llm/data/PrimeKG/datasets/data/kg/nodes.csv\", low_memory=False)\n",
    "edges = pd.read_csv(\"~/scratch-llm/data/PrimeKG/datasets/data/kg/edges.csv\")"
   ]
  },
  {
   "cell_type": "code",
   "execution_count": 301,
   "metadata": {},
   "outputs": [
    {
     "name": "stderr",
     "output_type": "stream",
     "text": [
      "15885.68s - pydevd: Sending message related to process being replaced timed-out after 5 seconds\n"
     ]
    },
    {
     "name": "stdout",
     "output_type": "stream",
     "text": [
      "Info: downloading layer sha256:20717c72714566f0a51c0f26f7237ae23515d730d9ffe7b8c34bb0f448d23beb\n",
      "Info: downloading layer sha256:f73b0b86b2168fee37455b76bbb9a850d41ad48dda1544fa5a4c8fb933bfa006\n",
      "Info: downloading layer sha256:4f4fb700ef54461cfa02571ae0db9a0dc1e0cdb5577484a6d75e68dc38e8acc1\n",
      "Info: downloading layer sha256:3567ff3965abe5d66952e4a8be22af4c6e9a95d2ac02ada22ac6c0b0be37a2c1\n",
      "Info: downloading layer sha256:5beb905c3081ead3dd9f9a60673fd722da67b135bc558bc71b92d69ec12ae999\n",
      "Info: downloading layer sha256:2d473b07cdd5f0912cd6f1a703352c82b512407db6b05b43f2553732b55df3bc\n"
     ]
    },
    {
     "name": "stderr",
     "output_type": "stream",
     "text": [
      "15894.38s - pydevd: Sending message related to process being replaced timed-out after 5 seconds\n"
     ]
    },
    {
     "name": "stdout",
     "output_type": "stream",
     "text": [
      "44d9cbe3-10dd-3c54-9a2b-0e5a7ca7299e\n"
     ]
    },
    {
     "name": "stderr",
     "output_type": "stream",
     "text": [
      "15957.20s - pydevd: Sending message related to process being replaced timed-out after 5 seconds\n",
      "15968.10s - pydevd: Sending message related to process being replaced timed-out after 5 seconds\n"
     ]
    },
    {
     "name": "stdout",
     "output_type": "stream",
     "text": [
      "Info: downloading layer sha256:1ac1fd25afe5d455d2582e90b07d4eedabf5eae8e66b6508893bb030f7db5157\n",
      "Info: downloading layer sha256:ca0b24da507dc453e8724ea7a219ee899c2f3020d2828e982d0e36bf546ba2f4\n",
      "Info: downloading layer sha256:4f4fb700ef54461cfa02571ae0db9a0dc1e0cdb5577484a6d75e68dc38e8acc1\n",
      "Info: downloading layer sha256:b3d21254eb5aefb20a7ac54f1000092a19fd6a4a874319ccae2ccbed0ee5af6e\n",
      "Info: downloading layer sha256:5beb905c3081ead3dd9f9a60673fd722da67b135bc558bc71b92d69ec12ae999\n",
      "Info: downloading layer sha256:2d473b07cdd5f0912cd6f1a703352c82b512407db6b05b43f2553732b55df3bc\n"
     ]
    },
    {
     "name": "stderr",
     "output_type": "stream",
     "text": [
      "15976.86s - pydevd: Sending message related to process being replaced timed-out after 5 seconds\n"
     ]
    },
    {
     "name": "stdout",
     "output_type": "stream",
     "text": [
      "910cfb5e-567a-34d0-8007-2c48db43a7a5\n"
     ]
    },
    {
     "name": "stderr",
     "output_type": "stream",
     "text": [
      "16041.66s - pydevd: Sending message related to process being replaced timed-out after 5 seconds\n",
      "16052.71s - pydevd: Sending message related to process being replaced timed-out after 5 seconds\n"
     ]
    },
    {
     "name": "stdout",
     "output_type": "stream",
     "text": [
      "Error: pulling manifest:\n",
      "Error: no files downloaded\n"
     ]
    },
    {
     "name": "stderr",
     "output_type": "stream",
     "text": [
      "16060.55s - pydevd: Sending message related to process being replaced timed-out after 5 seconds\n"
     ]
    },
    {
     "name": "stdout",
     "output_type": "stream",
     "text": [
      "5c1eb597-aa8c-3243-9168-3cab0cc25f3c\n"
     ]
    },
    {
     "name": "stderr",
     "output_type": "stream",
     "text": [
      "16124.04s - pydevd: Sending message related to process being replaced timed-out after 5 seconds\n"
     ]
    },
    {
     "name": "stdout",
     "output_type": "stream",
     "text": [
      "\u001b[1;3;38;2;47;75;124mMessage: Activating storaged...\u001b[0m\n",
      "\u001b[1;3;38;2;102;81;145mResult of `SHOW HOSTS`:\u001b[0m\n",
      "\u001b[1;3;38;2;47;75;124m    errors:\u001b[0m\n",
      "\u001b[1;3;38;2;47;75;124m        code: 0\u001b[0m\n",
      "\u001b[1;3;38;2;102;81;145m    results:\u001b[0m\n",
      "\u001b[1;3;38;2;47;75;124m        spaceName: \u001b[0m\n",
      "\u001b[1;3;38;2;102;81;145m        data:\u001b[0m\n",
      "\u001b[1;3;38;2;47;75;124m            meta:\u001b[0m\n",
      "\u001b[1;3;38;2;47;75;124m                None, None, None, None, None, None, None\u001b[0m\n",
      "\u001b[1;3;38;2;102;81;145m            row:\u001b[0m\n",
      "\u001b[1;3;38;2;102;81;145m                127.0.0.1, 9779, ONLINE, 141, PrimeKG:100, PrimeKG2:20, PrimeKG_manual:20, basketballplayer:1, PrimeKG:100, PrimeKG2:20, PrimeKG_manual:20, basketballplayer:1, 3.8.0\u001b[0m\n",
      "\u001b[1;3;38;2;160;81;149m        columns:\u001b[0m\n",
      "\u001b[1;3;38;2;160;81;149m            Host, Port, Status, Leader count, Leader distribution, Partition distribution, Version\u001b[0m\n",
      "\u001b[1;3;38;2;212;80;135m        errors:\u001b[0m\n",
      "\u001b[1;3;38;2;47;75;124m            code: 0\u001b[0m\n",
      "\u001b[1;3;38;2;249;93;106m        latencyInUs: 1807\u001b[0m\n",
      "\u001b[1;3;38;2;168;255;159mInfo: loading basketballplayer dataset...\u001b[0m\n",
      "\u001b[1;3;38;2;120;198;255m\n",
      "  _   _      _           _        ____                 _     \n",
      " | \\ | | ___| |__  _   _| | __ _ / ___|_ __ __ _ _ __ | |__  \n",
      " |  \\| |/ _ | '_ \\| | | | |/ _` | |  _| '__/ _` | '_ \\| '_ \\ \n",
      " | |\\  |  __| |_) | |_| | | (_| | |_| | | | (_| | |_) | | | |\n",
      " |_| \\_|\\___|_.__/ \\__,_|_|\\__,_|\\____|_|  \\__,_| .__/|_| |_|\n",
      "                                                |_|          \n",
      "                                                lite version\n",
      "\u001b[0m\n",
      "\u001b[1;3;38;2;210;161;255m[ OK ] nebulagraph_lite started successfully!\u001b[0m\n"
     ]
    }
   ],
   "source": [
    "# load NebulaGraph JupyterNotebook extension\n",
    "!udocker pull vesoft/nebula-metad:v3\n",
    "!udocker create --name=nebula-metad vesoft/nebula-metad:v3\n",
    "!udocker setup --execmode=F1 nebula-metad\n",
    "\n",
    "!udocker pull vesoft/nebula-graphd:v3\n",
    "!udocker create --name=nebula-graphd vesoft/nebula-graphd:v3\n",
    "!udocker setup --execmode=F1 nebula-graphd\n",
    "\n",
    "!udocker pull vesoft/nebula-storaged:v\n",
    "!udocker create --name=nebula-storaged vesoft/nebula-storaged:v3\n",
    "!udocker setup --execmode=F1 nebula-storaged\n",
    "\n",
    "n = ng_let()\n",
    "n.start() # This takes around 5 mins"
   ]
  },
  {
   "cell_type": "code",
   "execution_count": null,
   "metadata": {},
   "outputs": [
    {
     "name": "stdout",
     "output_type": "stream",
     "text": [
      "The ngql extension is already loaded. To reload it, use:\n",
      "  %reload_ext ngql\n"
     ]
    }
   ],
   "source": [
    "%load_ext ngql"
   ]
  },
  {
   "cell_type": "code",
   "execution_count": 3,
   "metadata": {},
   "outputs": [],
   "source": [
    "%reload_ext ngql"
   ]
  },
  {
   "cell_type": "code",
   "execution_count": 4,
   "metadata": {},
   "outputs": [
    {
     "name": "stdout",
     "output_type": "stream",
     "text": [
      "\u001b[1;3;38;2;0;135;107m[OK] Connection Pool Created\u001b[0m\n"
     ]
    },
    {
     "data": {
      "text/html": [
       "<div>\n",
       "<style scoped>\n",
       "    .dataframe tbody tr th:only-of-type {\n",
       "        vertical-align: middle;\n",
       "    }\n",
       "\n",
       "    .dataframe tbody tr th {\n",
       "        vertical-align: top;\n",
       "    }\n",
       "\n",
       "    .dataframe thead th {\n",
       "        text-align: right;\n",
       "    }\n",
       "</style>\n",
       "<table border=\"1\" class=\"dataframe\">\n",
       "  <thead>\n",
       "    <tr style=\"text-align: right;\">\n",
       "      <th></th>\n",
       "      <th>Name</th>\n",
       "    </tr>\n",
       "  </thead>\n",
       "  <tbody>\n",
       "    <tr>\n",
       "      <th>0</th>\n",
       "      <td>PrimeKG</td>\n",
       "    </tr>\n",
       "    <tr>\n",
       "      <th>1</th>\n",
       "      <td>PrimeKG2</td>\n",
       "    </tr>\n",
       "    <tr>\n",
       "      <th>2</th>\n",
       "      <td>PrimeKG_manual</td>\n",
       "    </tr>\n",
       "    <tr>\n",
       "      <th>3</th>\n",
       "      <td>basketballplayer</td>\n",
       "    </tr>\n",
       "  </tbody>\n",
       "</table>\n",
       "</div>"
      ],
      "text/plain": [
       "               Name\n",
       "0           PrimeKG\n",
       "1          PrimeKG2\n",
       "2    PrimeKG_manual\n",
       "3  basketballplayer"
      ]
     },
     "execution_count": 4,
     "metadata": {},
     "output_type": "execute_result"
    }
   ],
   "source": [
    "%ngql --address 127.0.0.1 --port 9669 --user root --password nebula"
   ]
  },
  {
   "cell_type": "code",
   "execution_count": 305,
   "metadata": {},
   "outputs": [
    {
     "data": {
      "text/html": [
       "<div>\n",
       "<style scoped>\n",
       "    .dataframe tbody tr th:only-of-type {\n",
       "        vertical-align: middle;\n",
       "    }\n",
       "\n",
       "    .dataframe tbody tr th {\n",
       "        vertical-align: top;\n",
       "    }\n",
       "\n",
       "    .dataframe thead th {\n",
       "        text-align: right;\n",
       "    }\n",
       "</style>\n",
       "<table border=\"1\" class=\"dataframe\">\n",
       "  <thead>\n",
       "    <tr style=\"text-align: right;\">\n",
       "      <th></th>\n",
       "    </tr>\n",
       "  </thead>\n",
       "  <tbody>\n",
       "  </tbody>\n",
       "</table>\n",
       "</div>"
      ],
      "text/plain": [
       "Empty DataFrame\n",
       "Columns: []\n",
       "Index: []"
      ]
     },
     "execution_count": 305,
     "metadata": {},
     "output_type": "execute_result"
    }
   ],
   "source": [
    "# Create a new Graph space (graph) for the PrimeKG\n",
    "%ngql CREATE SPACE IF NOT EXISTS PrimeKG (vid_type = INT64);\n",
    "%ngql USE PrimeKG;"
   ]
  },
  {
   "cell_type": "markdown",
   "metadata": {},
   "source": [
    "# Create the graph from NebulaGraph directly"
   ]
  },
  {
   "cell_type": "markdown",
   "metadata": {},
   "source": [
    "## Nodes"
   ]
  },
  {
   "cell_type": "code",
   "execution_count": 5,
   "metadata": {},
   "outputs": [
    {
     "name": "stdout",
     "output_type": "stream",
     "text": [
      "['gene/protein' 'drug' 'effect/phenotype' 'disease' 'biological_process'\n",
      " 'molecular_function' 'cellular_component' 'exposure' 'pathway' 'anatomy']\n"
     ]
    }
   ],
   "source": [
    "print(nodes['node_type'].unique()) #types of nodes"
   ]
  },
  {
   "cell_type": "code",
   "execution_count": null,
   "metadata": {},
   "outputs": [],
   "source": [
    "# save the data for each 'node_type' in a separate file\n",
    "for node_type in nodes['node_type'].unique():\n",
    "    sanitized_node_type = node_type.replace('/', '_')\n",
    "    output_path = os.path.join('~/scratch-llm/data/PrimeKG_data/sub_data/', 'node_'+ sanitized_node_type + '.csv')\n",
    "    nodes[nodes['node_type'] == node_type].to_csv(output_path, index=False)"
   ]
  },
  {
   "cell_type": "code",
   "execution_count": null,
   "metadata": {},
   "outputs": [
    {
     "data": {
      "text/html": [
       "<div>\n",
       "<style scoped>\n",
       "    .dataframe tbody tr th:only-of-type {\n",
       "        vertical-align: middle;\n",
       "    }\n",
       "\n",
       "    .dataframe tbody tr th {\n",
       "        vertical-align: top;\n",
       "    }\n",
       "\n",
       "    .dataframe thead th {\n",
       "        text-align: right;\n",
       "    }\n",
       "</style>\n",
       "<table border=\"1\" class=\"dataframe\">\n",
       "  <thead>\n",
       "    <tr style=\"text-align: right;\">\n",
       "      <th></th>\n",
       "    </tr>\n",
       "  </thead>\n",
       "  <tbody>\n",
       "  </tbody>\n",
       "</table>\n",
       "</div>"
      ],
      "text/plain": [
       "Empty DataFrame\n",
       "Columns: []\n",
       "Index: []"
      ]
     },
     "execution_count": 5,
     "metadata": {},
     "output_type": "execute_result"
    }
   ],
   "source": [
    "# Create Tags (node_type) for each node in the PrimeKG\n",
    "%ngql CREATE TAG IF NOT EXISTS anatomy(node_name string, node_source string, node_id string);\n",
    "%ngql CREATE TAG IF NOT EXISTS gene_protein(node_name string, node_source string, node_id string);\n",
    "%ngql CREATE TAG IF NOT EXISTS drug(node_name string, node_source string, node_id string, description string, half_life string, indication string, mechanism_of_action string, protein_binding string, pharmacodynamics string, state string, atc_1 string, atc_2 string, atc_3 string, atc_4 string, category string, group string, pathway string, molecular_weight string, tpsa string, clogp string);\n",
    "%ngql CREATE TAG IF NOT EXISTS disease(node_name string, node_source string, mondo_id int, mondo_name string, group_id_bert string, group_name_bert string, mondo_definition string, umls_description string, orphanet_definition string, orphanet_prevalence string, orphanet_epidemiology string, orphanet_clinical_description string, orphanet_management_and_treatment string, mayo_symptoms string, mayo_causes string, mayo_risk_factors string, mayo_complications string, mayo_prevention string, mayo_see_doc string);\n",
    "%ngql CREATE TAG IF NOT EXISTS pathway(node_name string, node_source string, node_id string);\n",
    "%ngql CREATE TAG IF NOT EXISTS biological_process(node_name string, node_source string, node_id string);\n",
    "%ngql CREATE TAG IF NOT EXISTS effect_phenotype(node_name string, node_source string, node_id string);\n",
    "%ngql CREATE TAG IF NOT EXISTS molecular_function(node_name string, node_source string, node_id string);\n",
    "%ngql CREATE TAG IF NOT EXISTS cellular_component(node_name string, node_source string, node_id string);\n",
    "%ngql CREATE TAG IF NOT EXISTS exposure(node_name string, node_source string, node_id string);"
   ]
  },
  {
   "cell_type": "code",
   "execution_count": 30,
   "metadata": {},
   "outputs": [
    {
     "data": {
      "text/html": [
       "<div>\n",
       "<style scoped>\n",
       "    .dataframe tbody tr th:only-of-type {\n",
       "        vertical-align: middle;\n",
       "    }\n",
       "\n",
       "    .dataframe tbody tr th {\n",
       "        vertical-align: top;\n",
       "    }\n",
       "\n",
       "    .dataframe thead th {\n",
       "        text-align: right;\n",
       "    }\n",
       "</style>\n",
       "<table border=\"1\" class=\"dataframe\">\n",
       "  <thead>\n",
       "    <tr style=\"text-align: right;\">\n",
       "      <th></th>\n",
       "      <th>Field</th>\n",
       "      <th>Type</th>\n",
       "      <th>Null</th>\n",
       "      <th>Default</th>\n",
       "      <th>Comment</th>\n",
       "    </tr>\n",
       "  </thead>\n",
       "  <tbody>\n",
       "    <tr>\n",
       "      <th>0</th>\n",
       "      <td>node_name</td>\n",
       "      <td>string</td>\n",
       "      <td>YES</td>\n",
       "      <td>None</td>\n",
       "      <td>None</td>\n",
       "    </tr>\n",
       "    <tr>\n",
       "      <th>1</th>\n",
       "      <td>node_source</td>\n",
       "      <td>string</td>\n",
       "      <td>YES</td>\n",
       "      <td>None</td>\n",
       "      <td>None</td>\n",
       "    </tr>\n",
       "    <tr>\n",
       "      <th>2</th>\n",
       "      <td>node_id</td>\n",
       "      <td>string</td>\n",
       "      <td>YES</td>\n",
       "      <td>None</td>\n",
       "      <td>None</td>\n",
       "    </tr>\n",
       "    <tr>\n",
       "      <th>3</th>\n",
       "      <td>description</td>\n",
       "      <td>string</td>\n",
       "      <td>YES</td>\n",
       "      <td>None</td>\n",
       "      <td>None</td>\n",
       "    </tr>\n",
       "    <tr>\n",
       "      <th>4</th>\n",
       "      <td>half_life</td>\n",
       "      <td>string</td>\n",
       "      <td>YES</td>\n",
       "      <td>None</td>\n",
       "      <td>None</td>\n",
       "    </tr>\n",
       "    <tr>\n",
       "      <th>5</th>\n",
       "      <td>indication</td>\n",
       "      <td>string</td>\n",
       "      <td>YES</td>\n",
       "      <td>None</td>\n",
       "      <td>None</td>\n",
       "    </tr>\n",
       "    <tr>\n",
       "      <th>6</th>\n",
       "      <td>mechanism_of_action</td>\n",
       "      <td>string</td>\n",
       "      <td>YES</td>\n",
       "      <td>None</td>\n",
       "      <td>None</td>\n",
       "    </tr>\n",
       "    <tr>\n",
       "      <th>7</th>\n",
       "      <td>protein_binding</td>\n",
       "      <td>string</td>\n",
       "      <td>YES</td>\n",
       "      <td>None</td>\n",
       "      <td>None</td>\n",
       "    </tr>\n",
       "    <tr>\n",
       "      <th>8</th>\n",
       "      <td>pharmacodynamics</td>\n",
       "      <td>string</td>\n",
       "      <td>YES</td>\n",
       "      <td>None</td>\n",
       "      <td>None</td>\n",
       "    </tr>\n",
       "    <tr>\n",
       "      <th>9</th>\n",
       "      <td>state</td>\n",
       "      <td>string</td>\n",
       "      <td>YES</td>\n",
       "      <td>None</td>\n",
       "      <td>None</td>\n",
       "    </tr>\n",
       "    <tr>\n",
       "      <th>10</th>\n",
       "      <td>atc_1</td>\n",
       "      <td>string</td>\n",
       "      <td>YES</td>\n",
       "      <td>None</td>\n",
       "      <td>None</td>\n",
       "    </tr>\n",
       "    <tr>\n",
       "      <th>11</th>\n",
       "      <td>atc_2</td>\n",
       "      <td>string</td>\n",
       "      <td>YES</td>\n",
       "      <td>None</td>\n",
       "      <td>None</td>\n",
       "    </tr>\n",
       "    <tr>\n",
       "      <th>12</th>\n",
       "      <td>atc_3</td>\n",
       "      <td>string</td>\n",
       "      <td>YES</td>\n",
       "      <td>None</td>\n",
       "      <td>None</td>\n",
       "    </tr>\n",
       "    <tr>\n",
       "      <th>13</th>\n",
       "      <td>atc_4</td>\n",
       "      <td>string</td>\n",
       "      <td>YES</td>\n",
       "      <td>None</td>\n",
       "      <td>None</td>\n",
       "    </tr>\n",
       "    <tr>\n",
       "      <th>14</th>\n",
       "      <td>category</td>\n",
       "      <td>string</td>\n",
       "      <td>YES</td>\n",
       "      <td>None</td>\n",
       "      <td>None</td>\n",
       "    </tr>\n",
       "    <tr>\n",
       "      <th>15</th>\n",
       "      <td>group</td>\n",
       "      <td>string</td>\n",
       "      <td>YES</td>\n",
       "      <td>None</td>\n",
       "      <td>None</td>\n",
       "    </tr>\n",
       "    <tr>\n",
       "      <th>16</th>\n",
       "      <td>pathway</td>\n",
       "      <td>string</td>\n",
       "      <td>YES</td>\n",
       "      <td>None</td>\n",
       "      <td>None</td>\n",
       "    </tr>\n",
       "    <tr>\n",
       "      <th>17</th>\n",
       "      <td>molecular_weight</td>\n",
       "      <td>string</td>\n",
       "      <td>YES</td>\n",
       "      <td>None</td>\n",
       "      <td>None</td>\n",
       "    </tr>\n",
       "    <tr>\n",
       "      <th>18</th>\n",
       "      <td>tpsa</td>\n",
       "      <td>string</td>\n",
       "      <td>YES</td>\n",
       "      <td>None</td>\n",
       "      <td>None</td>\n",
       "    </tr>\n",
       "    <tr>\n",
       "      <th>19</th>\n",
       "      <td>clogp</td>\n",
       "      <td>string</td>\n",
       "      <td>YES</td>\n",
       "      <td>None</td>\n",
       "      <td>None</td>\n",
       "    </tr>\n",
       "  </tbody>\n",
       "</table>\n",
       "</div>"
      ],
      "text/plain": [
       "                  Field    Type Null Default Comment\n",
       "0             node_name  string  YES    None    None\n",
       "1           node_source  string  YES    None    None\n",
       "2               node_id  string  YES    None    None\n",
       "3           description  string  YES    None    None\n",
       "4             half_life  string  YES    None    None\n",
       "5            indication  string  YES    None    None\n",
       "6   mechanism_of_action  string  YES    None    None\n",
       "7       protein_binding  string  YES    None    None\n",
       "8      pharmacodynamics  string  YES    None    None\n",
       "9                 state  string  YES    None    None\n",
       "10                atc_1  string  YES    None    None\n",
       "11                atc_2  string  YES    None    None\n",
       "12                atc_3  string  YES    None    None\n",
       "13                atc_4  string  YES    None    None\n",
       "14             category  string  YES    None    None\n",
       "15                group  string  YES    None    None\n",
       "16              pathway  string  YES    None    None\n",
       "17     molecular_weight  string  YES    None    None\n",
       "18                 tpsa  string  YES    None    None\n",
       "19                clogp  string  YES    None    None"
      ]
     },
     "execution_count": 30,
     "metadata": {},
     "output_type": "execute_result"
    }
   ],
   "source": [
    "%ngql DESCRIBE TAG drug;"
   ]
  },
  {
   "cell_type": "code",
   "execution_count": null,
   "metadata": {},
   "outputs": [],
   "source": [
    "# Load each node source data into the corresponding Tag (working fine)\n",
    "%ng_load --source ~/scratch-llm/data/PrimeKG_data/sub_data/node_gene_protein.csv --tag gene_protein --header --space PrimeKG --vid 0 --props 2:node_id,3:node_name,4:node_source\n",
    "%ng_load --source ~/scratch-llm/data/PrimeKG_data/sub_data/node_biological_process.csv --tag biological_process --header --space PrimeKG --vid 0 --props 2:node_id,3:node_name,4:node_source\n",
    "%ng_load --source ~/scratch-llm/data/PrimeKG_data/sub_data/node_effect_phenotype.csv --tag effect_phenotype --header --space PrimeKG --vid 0 --props 2:node_id,3:node_name,4:node_source\n",
    "%ng_load --source ~/scratch-llm/data/PrimeKG_data/sub_data/node_molecular_function.csv --tag molecular_function --header --space PrimeKG --vid 0 --props 2:node_id,3:node_name,4:node_source\n",
    "%ng_load --source ~/scratch-llm/data/PrimeKG_data/sub_data/node_cellular_component.csv --tag cellular_component --header --space PrimeKG --vid 0 --props 2:node_id,3:node_name,4:node_source\n",
    "%ng_load --source ~/scratch-llm/data/PrimeKG_data/sub_data/node_pathway.csv --tag pathway --header --space PrimeKG --vid 0 --props 2:node_id,3:node_name,4:node_source\n",
    "%ng_load --source ~/scratch-llm/data/PrimeKG_data/sub_data/node_exposure.csv --tag exposure --header --space PrimeKG --vid 0 --props 2:node_id,3:node_name,4:node_source\n",
    "%ng_load --source ~/scratch-llm/data/PrimeKG_data/sub_data/node_anatomy.csv --tag anatomy --header --space PrimeKG --vid 0 --props 2:node_id,3:node_name,4:node_source\n"
   ]
  },
  {
   "cell_type": "markdown",
   "metadata": {},
   "source": [
    "### Extra information for nodes 'drug' and 'disease'"
   ]
  },
  {
   "cell_type": "code",
   "execution_count": null,
   "metadata": {},
   "outputs": [],
   "source": [
    "# disease and drug feature files are available as .tab format so they need to be converted to .csv\n",
    "# many formatting issues on both files that had to be correcteed manually before merging with the 'node_' dataset\n",
    "disease_tab = \"~/scratch-llm/data/PrimeKG_data/raw_data/disease_features.tab\"\n",
    "drug_tab = \"~/scratch-llm/data/PrimeKG_data/raw_data/drug_features.tab\"\n",
    "\n",
    "df = pd.read_csv(disease_tab, delimiter='\\t')\n",
    "disease_csv = \"~/scratch-llm/data/PrimeKG_data/sub_data/disease_features.csv\"\n",
    "df.to_csv(disease_csv, index=False)\n",
    "\n",
    "\n",
    "df = pd.read_csv(drug_tab, delimiter='\\t')\n",
    "drug_csv = \"~/scratch-llm/data/PrimeKG_data/sub_data/drug_features.csv\"\n",
    "df.to_csv(drug_csv, index=False) "
   ]
  },
  {
   "cell_type": "code",
   "execution_count": null,
   "metadata": {},
   "outputs": [],
   "source": [
    "# merge extra drug and disease information \n",
    "node_drug = pd.read_csv(\"~/scratch-llm/data/PrimeKG_data/sub_data/node_drug.csv\")\n",
    "features_drug = pd.read_csv(\"~/scratch-llm/data/PrimeKG_data/sub_data/drug_features.csv\")\n",
    "node_disease = pd.read_csv(\"~/scratch-llm/data/PrimeKG_data/sub_data/node_disease.csv\")\n",
    "features_disease = pd.read_csv(\"~/scratch-llm/data/PrimeKG_data/sub_data/disease_features.csv\")\n",
    "\n",
    "# Merge the dataframes on 'node_index' and save to csv\n",
    "merged_df = pd.merge(node_drug, features_drug, on='node_index')\n",
    "merged_df.to_csv(\"~/scratch-llm/data/PrimeKG_data/sub_data/node_merged_drug.csv\", index=False)\n",
    "merged_df = pd.merge(node_disease, features_disease, on='node_index')\n",
    "merged_df.to_csv(\"~/scratch-llm/data/PrimeKG_data/sub_data/node_merged_disease.csv\", index=False)\n"
   ]
  },
  {
   "cell_type": "code",
   "execution_count": null,
   "metadata": {},
   "outputs": [],
   "source": [
    "#Load the extended drug and disease data into the corresponding Tags\n",
    "%ng_load --source ~/scratch-llm/data/PrimeKG_data/sub_data/merged_disease.csv --tag disease --header --space PrimeKG --vid 0 --props 3:node_name,4:node_source,5:mondo_id,6:mondo_name,7:group_id_bert,8:group_name_bert,9:mondo_definition,10:umls_description,11:orphanet_definition,12:orphanet_prevalence,13:orphanet_epidemiology,14:orphanet_clinical_description,15:orphanet_management_and_treatment,16:mayo_symptoms,17:mayo_causes,18:mayo_risk_factors,19:mayo_complications,20:mayo_prevention,21:mayo_see_doc\n",
    "%ng_load --source ~/scratch-llm/data/PrimeKG_data/sub_data/node_merged_drug.csv --tag drug --header --space PrimeKG --batch 100 --vid 0 --props 2:node_id,3:node_name,4:node_source,5:description,6:half_life,7:indication,8:mechanism_of_action,9:protein_binding,10:pharmacodynamics,11:state,12:atc_1,13:atc_2,14:atc_3,15:atc_4,16:category,17:group,18:pathway,19:molecular_weight,20:tpsa,21:clogp\n"
   ]
  },
  {
   "cell_type": "markdown",
   "metadata": {},
   "source": [
    "## Edges"
   ]
  },
  {
   "cell_type": "code",
   "execution_count": 6,
   "metadata": {},
   "outputs": [
    {
     "name": "stdout",
     "output_type": "stream",
     "text": [
      "['protein_protein' 'drug_protein' 'contraindication' 'indication'\n",
      " 'off-label use' 'drug_drug' 'phenotype_protein' 'phenotype_phenotype'\n",
      " 'disease_phenotype_negative' 'disease_phenotype_positive'\n",
      " 'disease_protein' 'disease_disease' 'drug_effect' 'bioprocess_bioprocess'\n",
      " 'molfunc_molfunc' 'cellcomp_cellcomp' 'molfunc_protein'\n",
      " 'cellcomp_protein' 'bioprocess_protein' 'exposure_protein'\n",
      " 'exposure_disease' 'exposure_exposure' 'exposure_bioprocess'\n",
      " 'exposure_molfunc' 'exposure_cellcomp' 'pathway_pathway'\n",
      " 'pathway_protein' 'anatomy_anatomy' 'anatomy_protein_present'\n",
      " 'anatomy_protein_absent']\n"
     ]
    }
   ],
   "source": [
    "print(edges['relation'].unique()) # types of edges"
   ]
  },
  {
   "cell_type": "code",
   "execution_count": null,
   "metadata": {},
   "outputs": [],
   "source": [
    "# save the data for each 'relation' (edge type) in a separate file\n",
    "for relation in edges['relation'].unique():\n",
    "    sanitized_relation = relation.replace('-', '_')\n",
    "    sanitized_relation = sanitized_relation.replace('\\t', '_')\n",
    "    output_path = os.path.join('~/scratch-llm/data/PrimeKG_data/sub_data/', 'edge_'+ sanitized_relation + '.csv')\n",
    "    edges[edges['relation'] == relation].to_csv(output_path, index=False)"
   ]
  },
  {
   "cell_type": "code",
   "execution_count": null,
   "metadata": {},
   "outputs": [],
   "source": [
    "%ngql CREATE EDGE IF NOT EXISTS protein_protein(display_relation string);\n",
    "%ngql CREATE EDGE IF NOT EXISTS drug_protein(display_relation string);\n",
    "%ngql CREATE EDGE IF NOT EXISTS contraindication(display_relation string);\n",
    "%ngql CREATE EDGE IF NOT EXISTS indication(display_relation string);\n",
    "%ngql CREATE EDGE IF NOT EXISTS off_label_use(display_relation string);\n",
    "%ngql CREATE EDGE IF NOT EXISTS drug_drug(display_relation string);\n",
    "%ngql CREATE EDGE IF NOT EXISTS phenotype_protein(display_relation string);\n",
    "%ngql CREATE EDGE IF NOT EXISTS phenotype_phenotype(display_relation string);\n",
    "%ngql CREATE EDGE IF NOT EXISTS disease_phenotype_negative(display_relation string);\n",
    "%ngql CREATE EDGE IF NOT EXISTS disease_phenotype_positive(display_relation string);\n",
    "%ngql CREATE EDGE IF NOT EXISTS disease_protein(display_relation string);\n",
    "%ngql CREATE EDGE IF NOT EXISTS disease_disease(display_relation string);\n",
    "%ngql CREATE EDGE IF NOT EXISTS drug_effect(display_relation string);\n",
    "%ngql CREATE EDGE IF NOT EXISTS bioprocess_bioprocess(display_relation string);\n",
    "%ngql CREATE EDGE IF NOT EXISTS molfunc_molfunc(display_relation string);\n",
    "%ngql CREATE EDGE IF NOT EXISTS cellcomp_cellcomp(display_relation string);\n",
    "%ngql CREATE EDGE IF NOT EXISTS molfunc_protein(display_relation string);\n",
    "%ngql CREATE EDGE IF NOT EXISTS cellcomp_protein(display_relation string);\n",
    "%ngql CREATE EDGE IF NOT EXISTS bioprocess_protein(display_relation string);\n",
    "%ngql CREATE EDGE IF NOT EXISTS exposure_protein(display_relation string);\n",
    "%ngql CREATE EDGE IF NOT EXISTS exposure_disease(display_relation string);\n",
    "%ngql CREATE EDGE IF NOT EXISTS exposure_exposure(display_relation string);\n",
    "%ngql CREATE EDGE IF NOT EXISTS exposure_bioprocess(display_relation string);\n",
    "%ngql CREATE EDGE IF NOT EXISTS exposure_molfunc(display_relation string);\n",
    "%ngql CREATE EDGE IF NOT EXISTS exposure_cellcomp(display_relation string);\n",
    "%ngql CREATE EDGE IF NOT EXISTS pathway_pathway(display_relation string);\n",
    "%ngql CREATE EDGE IF NOT EXISTS pathway_protein(display_relation string);\n",
    "%ngql CREATE EDGE IF NOT EXISTS anatomy_anatomy(display_relation string);\n",
    "%ngql CREATE EDGE IF NOT EXISTS anatomy_protein_present(display_relation string);\n",
    "%ngql CREATE EDGE IF NOT EXISTS anatomy_protein_absent(display_relation string);"
   ]
  },
  {
   "cell_type": "code",
   "execution_count": null,
   "metadata": {},
   "outputs": [],
   "source": [
    "# for each edge type, load the data accordingly, this takes like 20mins from new\n",
    "%ng_load --source ~/scratch-llm/data/PrimeKG_data/sub_data/edge_protein_protein.csv --space PrimeKG --header --edge protein_protein --src 2 --dst 3 --props 1:display_relation\n",
    "%ng_load --source ~/scratch-llm/data/PrimeKG_data/sub_data/edge_drug_protein.csv --space PrimeKG --header --edge drug_protein --src 2 --dst 3 --props 1:display_relation\n",
    "%ng_load --source ~/scratch-llm/data/PrimeKG_data/sub_data/edge_contraindication.csv --space PrimeKG --header --edge contraindication --src 2 --dst 3 --props 1:display_relation\n",
    "%ng_load --source ~/scratch-llm/data/PrimeKG_data/sub_data/edge_indication.csv --space PrimeKG --header --edge indication --src 2 --dst 3 --props 1:display_relation\n",
    "%ng_load --source ~/scratch-llm/data/PrimeKG_data/sub_data/edge_off_label_use.csv --space PrimeKG --header --edge off_label_use --src 2 --dst 3 --props 1:display_relation\n",
    "%ng_load --source ~/scratch-llm/data/PrimeKG_data/sub_data/edge_drug_drug.csv --space PrimeKG --header --edge drug_drug --src 2 --dst 3 --props 1:display_relation\n",
    "%ng_load --source ~/scratch-llm/data/PrimeKG_data/sub_data/edge_phenotype_protein.csv --space PrimeKG --header --edge phenotype_protein --src 2 --dst 3 --props 1:display_relation\n",
    "%ng_load --source ~/scratch-llm/data/PrimeKG_data/sub_data/edge_phenotype_phenotype.csv --space PrimeKG --header --edge phenotype_phenotype --src 2 --dst 3 --props 1:display_relation\n",
    "%ng_load --source ~/scratch-llm/data/PrimeKG_data/sub_data/edge_disease_phenotype_negative.csv --space PrimeKG --header --edge disease_phenotype_negative --src 2 --dst 3 --props 1:display_relation\n",
    "%ng_load --source ~/scratch-llm/data/PrimeKG_data/sub_data/edge_disease_phenotype_positive.csv --space PrimeKG --header --edge disease_phenotype_positive --src 2 --dst 3 --props 1:display_relation\n",
    "%ng_load --source ~/scratch-llm/data/PrimeKG_data/sub_data/edge_disease_protein.csv --space PrimeKG --header --edge disease_protein --src 2 --dst 3 --props 1:display_relation\n",
    "%ng_load --source ~/scratch-llm/data/PrimeKG_data/sub_data/edge_disease_disease.csv --space PrimeKG --header --edge disease_disease --src 2 --dst 3 --props 1:display_relation\n",
    "%ng_load --source ~/scratch-llm/data/PrimeKG_data/sub_data/edge_drug_effect.csv --space PrimeKG --header --edge drug_effect --src 2 --dst 3 --props 1:display_relation\n",
    "%ng_load --source ~/scratch-llm/data/PrimeKG_data/sub_data/edge_bioprocess_bioprocess.csv --space PrimeKG --header --edge bioprocess_bioprocess --src 2 --dst 3 --props 1:display_relation\n",
    "%ng_load --source ~/scratch-llm/data/PrimeKG_data/sub_data/edge_molfunc_molfunc.csv --space PrimeKG --header --edge molfunc_molfunc --src 2 --dst 3 --props 1:display_relation\n"
   ]
  },
  {
   "cell_type": "code",
   "execution_count": null,
   "metadata": {},
   "outputs": [],
   "source": [
    "# load the edge data in two batches\n",
    "%ng_load --source ~/scratch-llm/data/PrimeKG_data/sub_data/edge_cellcomp_cellcomp.csv --space PrimeKG --header --edge cellcomp_cellcomp --src 2 --dst 3 --props 1:display_relation\n",
    "%ng_load --source ~/scratch-llm/data/PrimeKG_data/sub_data/edge_molfunc_protein.csv --space PrimeKG --header --edge molfunc_protein --src 2 --dst 3 --props 1:display_relation\n",
    "%ng_load --source ~/scratch-llm/data/PrimeKG_data/sub_data/edge_cellcomp_protein.csv --space PrimeKG --header --edge cellcomp_protein --src 2 --dst 3 --props 1:display_relation\n",
    "%ng_load --source ~/scratch-llm/data/PrimeKG_data/sub_data/edge_bioprocess_protein.csv --space PrimeKG --header --edge bioprocess_protein --src 2 --dst 3 --props 1:display_relation\n",
    "%ng_load --source ~/scratch-llm/data/PrimeKG_data/sub_data/edge_exposure_protein.csv --space PrimeKG --header --edge exposure_protein --src 2 --dst 3 --props 1:display_relation\n",
    "%ng_load --source ~/scratch-llm/data/PrimeKG_data/sub_data/edge_exposure_disease.csv --space PrimeKG --header --edge exposure_disease --src 2 --dst 3 --props 1:display_relation\n",
    "%ng_load --source ~/scratch-llm/data/PrimeKG_data/sub_data/edge_exposure_exposure.csv --space PrimeKG --header --edge exposure_exposure --src 2 --dst 3 --props 1:display_relation\n",
    "%ng_load --source ~/scratch-llm/data/PrimeKG_data/sub_data/edge_exposure_bioprocess.csv --space PrimeKG --header --edge exposure_bioprocess --src 2 --dst 3 --props 1:display_relation\n",
    "%ng_load --source ~/scratch-llm/data/PrimeKG_data/sub_data/edge_exposure_molfunc.csv --space PrimeKG --header --edge exposure_molfunc --src 2 --dst 3 --props 1:display_relation\n",
    "%ng_load --source ~/scratch-llm/data/PrimeKG_data/sub_data/edge_exposure_cellcomp.csv --space PrimeKG --header --edge exposure_cellcomp --src 2 --dst 3 --props 1:display_relation\n",
    "%ng_load --source ~/scratch-llm/data/PrimeKG_data/sub_data/edge_pathway_pathway.csv --space PrimeKG --header --edge pathway_pathway --src 2 --dst 3 --props 1:display_relation\n",
    "%ng_load --source ~/scratch-llm/data/PrimeKG_data/sub_data/edge_pathway_protein.csv --space PrimeKG --header --edge pathway_protein --src 2 --dst 3 --props 1:display_relation\n",
    "%ng_load --source ~/scratch-llm/data/PrimeKG_data/sub_data/edge_anatomy_anatomy.csv --space PrimeKG --header --edge anatomy_anatomy --src 2 --dst 3 --props 1:display_relation\n",
    "%ng_load --source ~/scratch-llm/data/PrimeKG_data/sub_data/edge_anatomy_protein_present.csv --space PrimeKG --batch 500 --header --edge anatomy_protein_present --src 2 --dst 3 --props 1:display_relation\n",
    "%ng_load --source ~/scratch-llm/data/PrimeKG_data/sub_data/edge_anatomy_protein_absent.csv --space PrimeKG --header --edge anatomy_protein_absent --src 2 --dst 3 --props 1:display_relation\n"
   ]
  },
  {
   "cell_type": "markdown",
   "metadata": {},
   "source": [
    "## Checks"
   ]
  },
  {
   "cell_type": "code",
   "execution_count": 110,
   "metadata": {},
   "outputs": [
    {
     "data": {
      "text/html": [
       "<div>\n",
       "<style scoped>\n",
       "    .dataframe tbody tr th:only-of-type {\n",
       "        vertical-align: middle;\n",
       "    }\n",
       "\n",
       "    .dataframe tbody tr th {\n",
       "        vertical-align: top;\n",
       "    }\n",
       "\n",
       "    .dataframe thead th {\n",
       "        text-align: right;\n",
       "    }\n",
       "</style>\n",
       "<table border=\"1\" class=\"dataframe\">\n",
       "  <thead>\n",
       "    <tr style=\"text-align: right;\">\n",
       "      <th></th>\n",
       "      <th>Field</th>\n",
       "      <th>Type</th>\n",
       "      <th>Null</th>\n",
       "      <th>Default</th>\n",
       "      <th>Comment</th>\n",
       "    </tr>\n",
       "  </thead>\n",
       "  <tbody>\n",
       "    <tr>\n",
       "      <th>0</th>\n",
       "      <td>node_name</td>\n",
       "      <td>string</td>\n",
       "      <td>YES</td>\n",
       "      <td>None</td>\n",
       "      <td>None</td>\n",
       "    </tr>\n",
       "    <tr>\n",
       "      <th>1</th>\n",
       "      <td>node_source</td>\n",
       "      <td>string</td>\n",
       "      <td>YES</td>\n",
       "      <td>None</td>\n",
       "      <td>None</td>\n",
       "    </tr>\n",
       "    <tr>\n",
       "      <th>2</th>\n",
       "      <td>node_id</td>\n",
       "      <td>string</td>\n",
       "      <td>YES</td>\n",
       "      <td>None</td>\n",
       "      <td>None</td>\n",
       "    </tr>\n",
       "    <tr>\n",
       "      <th>3</th>\n",
       "      <td>description</td>\n",
       "      <td>string</td>\n",
       "      <td>YES</td>\n",
       "      <td>None</td>\n",
       "      <td>None</td>\n",
       "    </tr>\n",
       "    <tr>\n",
       "      <th>4</th>\n",
       "      <td>half_life</td>\n",
       "      <td>string</td>\n",
       "      <td>YES</td>\n",
       "      <td>None</td>\n",
       "      <td>None</td>\n",
       "    </tr>\n",
       "    <tr>\n",
       "      <th>5</th>\n",
       "      <td>indication</td>\n",
       "      <td>string</td>\n",
       "      <td>YES</td>\n",
       "      <td>None</td>\n",
       "      <td>None</td>\n",
       "    </tr>\n",
       "    <tr>\n",
       "      <th>6</th>\n",
       "      <td>mechanism_of_action</td>\n",
       "      <td>string</td>\n",
       "      <td>YES</td>\n",
       "      <td>None</td>\n",
       "      <td>None</td>\n",
       "    </tr>\n",
       "    <tr>\n",
       "      <th>7</th>\n",
       "      <td>protein_binding</td>\n",
       "      <td>string</td>\n",
       "      <td>YES</td>\n",
       "      <td>None</td>\n",
       "      <td>None</td>\n",
       "    </tr>\n",
       "    <tr>\n",
       "      <th>8</th>\n",
       "      <td>pharmacodynamics</td>\n",
       "      <td>string</td>\n",
       "      <td>YES</td>\n",
       "      <td>None</td>\n",
       "      <td>None</td>\n",
       "    </tr>\n",
       "    <tr>\n",
       "      <th>9</th>\n",
       "      <td>state</td>\n",
       "      <td>string</td>\n",
       "      <td>YES</td>\n",
       "      <td>None</td>\n",
       "      <td>None</td>\n",
       "    </tr>\n",
       "    <tr>\n",
       "      <th>10</th>\n",
       "      <td>atc_1</td>\n",
       "      <td>string</td>\n",
       "      <td>YES</td>\n",
       "      <td>None</td>\n",
       "      <td>None</td>\n",
       "    </tr>\n",
       "    <tr>\n",
       "      <th>11</th>\n",
       "      <td>atc_2</td>\n",
       "      <td>string</td>\n",
       "      <td>YES</td>\n",
       "      <td>None</td>\n",
       "      <td>None</td>\n",
       "    </tr>\n",
       "    <tr>\n",
       "      <th>12</th>\n",
       "      <td>atc_3</td>\n",
       "      <td>string</td>\n",
       "      <td>YES</td>\n",
       "      <td>None</td>\n",
       "      <td>None</td>\n",
       "    </tr>\n",
       "    <tr>\n",
       "      <th>13</th>\n",
       "      <td>atc_4</td>\n",
       "      <td>string</td>\n",
       "      <td>YES</td>\n",
       "      <td>None</td>\n",
       "      <td>None</td>\n",
       "    </tr>\n",
       "    <tr>\n",
       "      <th>14</th>\n",
       "      <td>category</td>\n",
       "      <td>string</td>\n",
       "      <td>YES</td>\n",
       "      <td>None</td>\n",
       "      <td>None</td>\n",
       "    </tr>\n",
       "    <tr>\n",
       "      <th>15</th>\n",
       "      <td>group</td>\n",
       "      <td>string</td>\n",
       "      <td>YES</td>\n",
       "      <td>None</td>\n",
       "      <td>None</td>\n",
       "    </tr>\n",
       "    <tr>\n",
       "      <th>16</th>\n",
       "      <td>pathway</td>\n",
       "      <td>string</td>\n",
       "      <td>YES</td>\n",
       "      <td>None</td>\n",
       "      <td>None</td>\n",
       "    </tr>\n",
       "    <tr>\n",
       "      <th>17</th>\n",
       "      <td>molecular_weight</td>\n",
       "      <td>string</td>\n",
       "      <td>YES</td>\n",
       "      <td>None</td>\n",
       "      <td>None</td>\n",
       "    </tr>\n",
       "    <tr>\n",
       "      <th>18</th>\n",
       "      <td>tpsa</td>\n",
       "      <td>string</td>\n",
       "      <td>YES</td>\n",
       "      <td>None</td>\n",
       "      <td>None</td>\n",
       "    </tr>\n",
       "    <tr>\n",
       "      <th>19</th>\n",
       "      <td>clogp</td>\n",
       "      <td>string</td>\n",
       "      <td>YES</td>\n",
       "      <td>None</td>\n",
       "      <td>None</td>\n",
       "    </tr>\n",
       "  </tbody>\n",
       "</table>\n",
       "</div>"
      ],
      "text/plain": [
       "                  Field    Type Null Default Comment\n",
       "0             node_name  string  YES    None    None\n",
       "1           node_source  string  YES    None    None\n",
       "2               node_id  string  YES    None    None\n",
       "3           description  string  YES    None    None\n",
       "4             half_life  string  YES    None    None\n",
       "5            indication  string  YES    None    None\n",
       "6   mechanism_of_action  string  YES    None    None\n",
       "7       protein_binding  string  YES    None    None\n",
       "8      pharmacodynamics  string  YES    None    None\n",
       "9                 state  string  YES    None    None\n",
       "10                atc_1  string  YES    None    None\n",
       "11                atc_2  string  YES    None    None\n",
       "12                atc_3  string  YES    None    None\n",
       "13                atc_4  string  YES    None    None\n",
       "14             category  string  YES    None    None\n",
       "15                group  string  YES    None    None\n",
       "16              pathway  string  YES    None    None\n",
       "17     molecular_weight  string  YES    None    None\n",
       "18                 tpsa  string  YES    None    None\n",
       "19                clogp  string  YES    None    None"
      ]
     },
     "execution_count": 110,
     "metadata": {},
     "output_type": "execute_result"
    }
   ],
   "source": [
    "%ngql DESCRIBE TAG drug;"
   ]
  },
  {
   "cell_type": "code",
   "execution_count": 5,
   "metadata": {},
   "outputs": [
    {
     "data": {
      "text/html": [
       "<div>\n",
       "<style scoped>\n",
       "    .dataframe tbody tr th:only-of-type {\n",
       "        vertical-align: middle;\n",
       "    }\n",
       "\n",
       "    .dataframe tbody tr th {\n",
       "        vertical-align: top;\n",
       "    }\n",
       "\n",
       "    .dataframe thead th {\n",
       "        text-align: right;\n",
       "    }\n",
       "</style>\n",
       "<table border=\"1\" class=\"dataframe\">\n",
       "  <thead>\n",
       "    <tr style=\"text-align: right;\">\n",
       "      <th></th>\n",
       "      <th>nodes</th>\n",
       "      <th>relationships</th>\n",
       "    </tr>\n",
       "  </thead>\n",
       "  <tbody>\n",
       "    <tr>\n",
       "      <th>0</th>\n",
       "      <td>[(14045 :drug{atc_1: __NULL__, atc_2: __NULL__, atc_3: __NULL__, atc_4: __NULL__, category: \"Hydrocortisone phosphate is part of 11-Hydroxycorticosteroids ; 17-Hydroxycorticosteroids ; Adrenal Cortex Hormones ; Cytochrome P-450 CYP2C8 Inducers ; Cytochrome P-450 CYP2C8 Inducers (strength unknown) ; Cytochrome P-450 CYP3A Substrates ; Cytochrome P-450 CYP3A4 Substrates ; Cytochrome P-450 CYP3A5 Substrates ; Cytochrome P-450 CYP3A7 Substrates ; Cytochrome P-450 Enzyme Inducers ; Cytochrome P-450 Substrates ; Fused-Ring Compounds ; Hormones ; Hormones, Hormone Substitutes, and Hormone Antagonists ; Hydrocortisone and derivatives ; Hydroxycorticosteroids ; Pregnanes ; Pregnenediones ; Pregnenes ; Steroids.\", description: __NULL__, group: \"Hydrocortisone phosphate is approved and vet_approved.\", half_life: \"The half-life is 6-8 hours\", indication: \"For the relief of the inflammatory and pruritic manifestations of corticosteroid-responsive dermatoses. Also used to treat endocrine (hormonal) disorders (adrenal insufficiency, Addisons disease). It is also used to treat many immune and allergic disorders, such as arthritis, lupus, severe psoriasis, severe asthma, ulcerative colitis, and Crohn's disease.\", mechanism_of_action: \"Hydrocortisone binds to the cytosolic glucocorticoid receptor. After binding the receptor the newly formed receptor-ligand complex translocates itself into the cell nucleus, where it binds to many glucocorticoid response elements (GRE) in the promoter region of the target genes. The DNA bound receptor then interacts with basic transcription factors, causing the increase in expression of specific target genes. The anti-inflammatory actions of corticosteroids are thought to involve lipocortins, phospholipase A2 inhibitory proteins which, through inhibition arachidonic acid, control the biosynthesis of prostaglandins and leukotrienes. Specifically glucocorticoids induce lipocortin-1 (annexin-1) synthesis, which then binds to cell membranes preventing the phospholipase A2 from coming into contact with its substrate arachidonic acid. This leads to diminished eicosanoid production. The cyclooxygenase (both COX-1 and COX-2) expression is also suppressed, potentiating the effect. In other words, the two main products in inflammation Prostaglandins and Leukotrienes are inhibited by the action of Glucocorticoids. Glucocorticoids also stimulate the lipocortin-1 escaping to the extracellular space, where it binds to the leukocyte membrane receptors and inhibits various inflammatory events: epithelial adhesion, emigration, chemotaxis, phagocytosis, respiratory burst and the release of various inflammatory mediators (lysosomal enzymes, cytokines, tissue plasminogen activator, chemokines etc.) from neutrophils, macrophages and mastocytes. Additionally the immune system is suppressed by corticosteroids due to a decrease in the function of the lymphatic system, a reduction in immunoglobulin and complement concentrations, the precipitation of lymphocytopenia, and interference with antigen-antibody binding.\", molecular_weight: \"The molecular weight is 442.44.\", node_id: \"drug\", node_name: \"Hydrocortisone phosphate\", node_source: \"DrugBank\", pathway: __NULL__, pharmacodynamics: \"Hydrocortisone is the most important human glucocorticoid. It is essential for life and regulates or supports a variety of important cardiovascular, metabolic, immunologic and homeostatic functions. Topical hydrocortisone is used for its anti-inflammatory or immunosuppressive properties to treat inflammation due to corticosteroid-responsive dermatoses. Glucocorticoids are a class of steroid hormones characterised by an ability to bind with the cortisol receptor and trigger a variety of important cardiovascular, metabolic, immunologic and homeostatic effects. Glucocorticoids are distinguished from mineralocorticoids and sex steroids by having different receptors, target cells, and effects. Technically, the term corticosteroid refers to both glucocorticoids and mineralocorticoids, but is often used as a synonym for glucocorticoid. Glucocorticoids suppress cell-mediated immunity. They act by inhibiting genes that code for the cytokines IL-1, IL-2, IL-3, IL-4, IL-5, IL-6, IL-8 and TNF-alpha, the most important of which is the IL-2. Reduced cytokine production limits T cell proliferation. Glucocorticoids also suppress humoral immunity, causing B cells to express lower amounts of IL-2 and IL-2 receptors. This diminishes both B cell clonal expansion and antibody synthesis. The diminished amounts of IL-2 also leads to fewer T lymphocyte cells being activated.\", protein_binding: \"95%\", state: __NULL__, tpsaclogp: \"Hydrocortisone phosphate has a topological polar surface area of 141.36.\"})]</td>\n",
       "      <td>[(14045)-[:drug_protein@0{display_relation: \"enzyme\"}]-&gt;(8974), (14045)-[:drug_protein@0{display_relation: \"target\"}]-&gt;(2319), (14045)-[:drug_protein@0{display_relation: \"transporter\"}]-&gt;(4152), (14045)-[:drug_protein@0{display_relation: \"target\"}]-&gt;(13122), (14045)-[:drug_protein@0{display_relation: \"target\"}]-&gt;(10312), (14045)-[:drug_protein@0{display_relation: \"carrier\"}]-&gt;(2387), (14045)-[:drug_protein@0{display_relation: \"transporter\"}]-&gt;(3183), (14045)-[:drug_protein@0{display_relation: \"carrier\"}]-&gt;(1424), (14045)-[:drug_protein@0{display_relation: \"enzyme\"}]-&gt;(12434), (14045)-[:drug_protein@0{display_relation: \"transporter\"}]-&gt;(10133), (14045)-[:drug_protein@0{display_relation: \"enzyme\"}]-&gt;(10901), (14045)-[:drug_protein@0{display_relation: \"enzyme\"}]-&gt;(697), (14045)-[:drug_protein@0{display_relation: \"transporter\"}]-&gt;(5573), (14045)-[:drug_protein@0{display_relation: \"target\"}]-&gt;(509)]</td>\n",
       "    </tr>\n",
       "    <tr>\n",
       "      <th>1</th>\n",
       "      <td>[(1424 ), (3183 ), (2387 ), (2319 ), (8974 ), (10901 ), (4152 ), (10133 ), (12434 ), (697 ), (10312 ), (13122 ), (5573 ), (509 )]</td>\n",
       "      <td>[(1424)-[:drug_protein@0{display_relation: \"carrier\"}]-&gt;(14045), (3183)-[:drug_protein@0{display_relation: \"transporter\"}]-&gt;(14045), (2387)-[:drug_protein@0{display_relation: \"carrier\"}]-&gt;(14045), (2319)-[:drug_protein@0{display_relation: \"target\"}]-&gt;(14045), (8974)-[:drug_protein@0{display_relation: \"enzyme\"}]-&gt;(14045), (10901)-[:drug_protein@0{display_relation: \"enzyme\"}]-&gt;(14045), (4152)-[:drug_protein@0{display_relation: \"transporter\"}]-&gt;(14045), (10133)-[:drug_protein@0{display_relation: \"transporter\"}]-&gt;(14045), (12434)-[:drug_protein@0{display_relation: \"enzyme\"}]-&gt;(14045), (697)-[:drug_protein@0{display_relation: \"enzyme\"}]-&gt;(14045), (10312)-[:drug_protein@0{display_relation: \"target\"}]-&gt;(14045), (13122)-[:drug_protein@0{display_relation: \"target\"}]-&gt;(14045), (5573)-[:drug_protein@0{display_relation: \"transporter\"}]-&gt;(14045), (509)-[:drug_protein@0{display_relation: \"target\"}]-&gt;(14045)]</td>\n",
       "    </tr>\n",
       "  </tbody>\n",
       "</table>\n",
       "</div>"
      ],
      "text/plain": [
       "                                                                                                                                                                                                                                                                                                                                                                                                                                                                                                                                                                                                                                                                                                                                                                                                                                                                                                                                                                                                                                                                                                                                                                                                                                                                                                                                                                                                                                                                                                                                                                                                                                                                                                                                                                                                                                                                                                                                                                                                                                                                                                                                                                                                                                                                                                                                                                                                                                                                                                                                                                                                                                                                                                                                                                                                                                                                                                                                                                                                                                                                                                                                                                                                                                                                                                                                                                                                                                                                                                                                                                                                                                                                                                                                                                                                                                                                                                                                                                                                                                                                                                                                                                                                                                                                                                                                                                                                                                                                                                                                                                                                                                                                                                                                                                                                                                                                                                                               nodes                                                                                                                                                                                                                                                                                                                                                                                                                                                                                                                                                                                                                                                                                                                                                                                                                                                                                                                                relationships\n",
       "0  [(14045 :drug{atc_1: __NULL__, atc_2: __NULL__, atc_3: __NULL__, atc_4: __NULL__, category: \"Hydrocortisone phosphate is part of 11-Hydroxycorticosteroids ; 17-Hydroxycorticosteroids ; Adrenal Cortex Hormones ; Cytochrome P-450 CYP2C8 Inducers ; Cytochrome P-450 CYP2C8 Inducers (strength unknown) ; Cytochrome P-450 CYP3A Substrates ; Cytochrome P-450 CYP3A4 Substrates ; Cytochrome P-450 CYP3A5 Substrates ; Cytochrome P-450 CYP3A7 Substrates ; Cytochrome P-450 Enzyme Inducers ; Cytochrome P-450 Substrates ; Fused-Ring Compounds ; Hormones ; Hormones, Hormone Substitutes, and Hormone Antagonists ; Hydrocortisone and derivatives ; Hydroxycorticosteroids ; Pregnanes ; Pregnenediones ; Pregnenes ; Steroids.\", description: __NULL__, group: \"Hydrocortisone phosphate is approved and vet_approved.\", half_life: \"The half-life is 6-8 hours\", indication: \"For the relief of the inflammatory and pruritic manifestations of corticosteroid-responsive dermatoses. Also used to treat endocrine (hormonal) disorders (adrenal insufficiency, Addisons disease). It is also used to treat many immune and allergic disorders, such as arthritis, lupus, severe psoriasis, severe asthma, ulcerative colitis, and Crohn's disease.\", mechanism_of_action: \"Hydrocortisone binds to the cytosolic glucocorticoid receptor. After binding the receptor the newly formed receptor-ligand complex translocates itself into the cell nucleus, where it binds to many glucocorticoid response elements (GRE) in the promoter region of the target genes. The DNA bound receptor then interacts with basic transcription factors, causing the increase in expression of specific target genes. The anti-inflammatory actions of corticosteroids are thought to involve lipocortins, phospholipase A2 inhibitory proteins which, through inhibition arachidonic acid, control the biosynthesis of prostaglandins and leukotrienes. Specifically glucocorticoids induce lipocortin-1 (annexin-1) synthesis, which then binds to cell membranes preventing the phospholipase A2 from coming into contact with its substrate arachidonic acid. This leads to diminished eicosanoid production. The cyclooxygenase (both COX-1 and COX-2) expression is also suppressed, potentiating the effect. In other words, the two main products in inflammation Prostaglandins and Leukotrienes are inhibited by the action of Glucocorticoids. Glucocorticoids also stimulate the lipocortin-1 escaping to the extracellular space, where it binds to the leukocyte membrane receptors and inhibits various inflammatory events: epithelial adhesion, emigration, chemotaxis, phagocytosis, respiratory burst and the release of various inflammatory mediators (lysosomal enzymes, cytokines, tissue plasminogen activator, chemokines etc.) from neutrophils, macrophages and mastocytes. Additionally the immune system is suppressed by corticosteroids due to a decrease in the function of the lymphatic system, a reduction in immunoglobulin and complement concentrations, the precipitation of lymphocytopenia, and interference with antigen-antibody binding.\", molecular_weight: \"The molecular weight is 442.44.\", node_id: \"drug\", node_name: \"Hydrocortisone phosphate\", node_source: \"DrugBank\", pathway: __NULL__, pharmacodynamics: \"Hydrocortisone is the most important human glucocorticoid. It is essential for life and regulates or supports a variety of important cardiovascular, metabolic, immunologic and homeostatic functions. Topical hydrocortisone is used for its anti-inflammatory or immunosuppressive properties to treat inflammation due to corticosteroid-responsive dermatoses. Glucocorticoids are a class of steroid hormones characterised by an ability to bind with the cortisol receptor and trigger a variety of important cardiovascular, metabolic, immunologic and homeostatic effects. Glucocorticoids are distinguished from mineralocorticoids and sex steroids by having different receptors, target cells, and effects. Technically, the term corticosteroid refers to both glucocorticoids and mineralocorticoids, but is often used as a synonym for glucocorticoid. Glucocorticoids suppress cell-mediated immunity. They act by inhibiting genes that code for the cytokines IL-1, IL-2, IL-3, IL-4, IL-5, IL-6, IL-8 and TNF-alpha, the most important of which is the IL-2. Reduced cytokine production limits T cell proliferation. Glucocorticoids also suppress humoral immunity, causing B cells to express lower amounts of IL-2 and IL-2 receptors. This diminishes both B cell clonal expansion and antibody synthesis. The diminished amounts of IL-2 also leads to fewer T lymphocyte cells being activated.\", protein_binding: \"95%\", state: __NULL__, tpsaclogp: \"Hydrocortisone phosphate has a topological polar surface area of 141.36.\"})]  [(14045)-[:drug_protein@0{display_relation: \"enzyme\"}]->(8974), (14045)-[:drug_protein@0{display_relation: \"target\"}]->(2319), (14045)-[:drug_protein@0{display_relation: \"transporter\"}]->(4152), (14045)-[:drug_protein@0{display_relation: \"target\"}]->(13122), (14045)-[:drug_protein@0{display_relation: \"target\"}]->(10312), (14045)-[:drug_protein@0{display_relation: \"carrier\"}]->(2387), (14045)-[:drug_protein@0{display_relation: \"transporter\"}]->(3183), (14045)-[:drug_protein@0{display_relation: \"carrier\"}]->(1424), (14045)-[:drug_protein@0{display_relation: \"enzyme\"}]->(12434), (14045)-[:drug_protein@0{display_relation: \"transporter\"}]->(10133), (14045)-[:drug_protein@0{display_relation: \"enzyme\"}]->(10901), (14045)-[:drug_protein@0{display_relation: \"enzyme\"}]->(697), (14045)-[:drug_protein@0{display_relation: \"transporter\"}]->(5573), (14045)-[:drug_protein@0{display_relation: \"target\"}]->(509)]\n",
       "1                                                                                                                                                                                                                                                                                                                                                                                                                                                                                                                                                                                                                                                                                                                                                                                                                                                                                                                                                                                                                                                                                                                                                                                                                                                                                                                                                                                                                                                                                                                                                                                                                                                                                                                                                                                                                                                                                                                                                                                                                                                                                                                                                                                                                                                                                                                                                                                                                                                                                                                                                                                                                                                                                                                                                                                                                                                                                                                                                                                                                                                                                                                                                                                                                                                                                                                                                                                                                                                                                                                                                                                                                                                                                                                                                                                                                                                                                                                                                                                                                                                                                                                                                                                                                                                                                                                                                                                                                                                                                                                                                                                                                                                                                                                                                                                                  [(1424 ), (3183 ), (2387 ), (2319 ), (8974 ), (10901 ), (4152 ), (10133 ), (12434 ), (697 ), (10312 ), (13122 ), (5573 ), (509 )]  [(1424)-[:drug_protein@0{display_relation: \"carrier\"}]->(14045), (3183)-[:drug_protein@0{display_relation: \"transporter\"}]->(14045), (2387)-[:drug_protein@0{display_relation: \"carrier\"}]->(14045), (2319)-[:drug_protein@0{display_relation: \"target\"}]->(14045), (8974)-[:drug_protein@0{display_relation: \"enzyme\"}]->(14045), (10901)-[:drug_protein@0{display_relation: \"enzyme\"}]->(14045), (4152)-[:drug_protein@0{display_relation: \"transporter\"}]->(14045), (10133)-[:drug_protein@0{display_relation: \"transporter\"}]->(14045), (12434)-[:drug_protein@0{display_relation: \"enzyme\"}]->(14045), (697)-[:drug_protein@0{display_relation: \"enzyme\"}]->(14045), (10312)-[:drug_protein@0{display_relation: \"target\"}]->(14045), (13122)-[:drug_protein@0{display_relation: \"target\"}]->(14045), (5573)-[:drug_protein@0{display_relation: \"transporter\"}]->(14045), (509)-[:drug_protein@0{display_relation: \"target\"}]->(14045)]"
      ]
     },
     "execution_count": 5,
     "metadata": {},
     "output_type": "execute_result"
    }
   ],
   "source": [
    "#small check-up, with extra drug and disease information for nodes\n",
    "%ngql GET SUBGRAPH WITH PROP 1 STEPS FROM 14045 OUT drug_protein YIELD VERTICES AS nodes, EDGES AS relationships;"
   ]
  },
  {
   "cell_type": "markdown",
   "metadata": {},
   "source": [
    "# Load directly to NebulaPropertyGraphStore"
   ]
  },
  {
   "cell_type": "code",
   "execution_count": 6,
   "metadata": {},
   "outputs": [],
   "source": [
    "from llama_index.core.schema import NodeRelationship, TextNode, IndexNode, RelatedNodeInfo\n",
    "from llama_index.graph_stores.nebula import NebulaPropertyGraphStore\n",
    "from llama_index.core import (\n",
    "    StorageContext,\n",
    ")"
   ]
  },
  {
   "cell_type": "code",
   "execution_count": 306,
   "metadata": {},
   "outputs": [
    {
     "data": {
      "text/html": [
       "<div>\n",
       "<style scoped>\n",
       "    .dataframe tbody tr th:only-of-type {\n",
       "        vertical-align: middle;\n",
       "    }\n",
       "\n",
       "    .dataframe tbody tr th {\n",
       "        vertical-align: top;\n",
       "    }\n",
       "\n",
       "    .dataframe thead th {\n",
       "        text-align: right;\n",
       "    }\n",
       "</style>\n",
       "<table border=\"1\" class=\"dataframe\">\n",
       "  <thead>\n",
       "    <tr style=\"text-align: right;\">\n",
       "      <th></th>\n",
       "    </tr>\n",
       "  </thead>\n",
       "  <tbody>\n",
       "  </tbody>\n",
       "</table>\n",
       "</div>"
      ],
      "text/plain": [
       "Empty DataFrame\n",
       "Columns: []\n",
       "Index: []"
      ]
     },
     "execution_count": 306,
     "metadata": {},
     "output_type": "execute_result"
    }
   ],
   "source": [
    "%ngql CREATE SPACE IF NOT EXISTS PrimeKG_manual(vid_type=FIXED_STRING(30), partition_num=20, replica_factor=1);\n",
    "%ngql use PrimeKG_manual;"
   ]
  },
  {
   "cell_type": "code",
   "execution_count": 7,
   "metadata": {},
   "outputs": [],
   "source": [
    "# PropertyGraphIndex requires NebulaPropertyGraphStore\n",
    "graph_store = NebulaPropertyGraphStore(\n",
    "    space= \"PrimeKG_manual\", \n",
    "    username = \"root\",\n",
    "    password = \"nebula\",\n",
    "    url = \"nebula://localhost:9669\",\n",
    "    props_schema= \"`node_id` STRING, `node_name` STRING, `node_source` STRING, `mondo_id` STRING, `mondo_name` STRING, `group_id_bert` STRING, `group_name_bert` STRING, `mondo_definition` STRING, `umls_description` STRING, `orphanet_definition` STRING, `orphanet_prevalence` STRING, `orphanet_epidemiology` STRING, `orphanet_clinical_description` STRING, `orphanet_management_and_treatment` STRING, `mayo_symptoms` STRING, `mayo_causes` STRING, `mayo_risk_factors` STRING, `mayo_complications` STRING, `mayo_prevention` STRING, `mayo_see_doc` STRING, `display_relation` STRING, `description` STRING, `half_life` STRING, `indication` STRING, `mechanism_of_action` STRING, `protein_binding` STRING, `pharmacodynamics` STRING, `state` STRING, `atc_1` STRING, `atc_2` STRING, `atc_3` STRING, `atc_4` STRING, `category` STRING, `group` STRING, `pathway` STRING, `molecular_weight` STRING, `tpsa` STRING, `clogp` STRING\"\n",
    ")\n",
    "\n",
    "storage_context = StorageContext.from_defaults(property_graph_store=graph_store)"
   ]
  },
  {
   "cell_type": "markdown",
   "metadata": {},
   "source": [
    "define files to use:"
   ]
  },
  {
   "cell_type": "code",
   "execution_count": 10,
   "metadata": {},
   "outputs": [],
   "source": [
    "data_dir = '~/scratch-llm/data/PrimeKG_data/sub_data/'\n",
    "\n",
    "# List of node types and their corresponding CSV files\n",
    "node_files = {\n",
    "    'gene_protein': 'node_gene_protein.csv',\n",
    "    'drug': 'node_merged_drug.csv', # manually corrected and generated from \"extra information section\"\n",
    "    'effect_phenotype': 'node_effect_phenotype.csv',\n",
    "    'disease': 'node_merged_disease.csv', # manually corrected and generated from \"extra information section\"\n",
    "    'biological_process': 'node_biological_process.csv',\n",
    "    'molecular_function': 'node_molecular_function.csv',\n",
    "    'cellular_component': 'node_cellular_component.csv',\n",
    "    'exposure': 'node_exposure.csv',\n",
    "    'pathway': 'node_pathway.csv',\n",
    "    'anatomy': 'node_anatomy.csv'\n",
    "}\n",
    "\n",
    "edge_files ={\n",
    "    'protein_protein': 'edge_protein_protein.csv',\n",
    "    'drug_protein': 'edge_drug_protein.csv',\n",
    "    'contraindication': 'edge_contraindication.csv',\n",
    "    'indication': 'edge_indication.csv',\n",
    "    'off_label_use': 'edge_off_label_use.csv',\n",
    "    'drug_drug': 'edge_drug_drug.csv',\n",
    "    'phenotype_protein': 'edge_phenotype_protein.csv',\n",
    "    'phenotype_phenotype': 'edge_phenotype_phenotype.csv',\n",
    "    'disease_phenotype_negative': 'edge_disease_phenotype_negative.csv',\n",
    "    'disease_phenotype_positive': 'edge_disease_phenotype_positive.csv',\n",
    "    'disease_protein': 'edge_disease_protein.csv',\n",
    "    'disease_disease': 'edge_disease_disease.csv',\n",
    "    'drug_effect': 'edge_drug_effect.csv',\n",
    "    'bioprocess_bioprocess': 'edge_bioprocess_bioprocess.csv',\n",
    "    'molfunc_molfunc': 'edge_molfunc_molfunc.csv',\n",
    "    'cellcomp_cellcomp': 'edge_cellcomp_cellcomp.csv',\n",
    "    'molfunc_protein': 'edge_molfunc_protein.csv',\n",
    "    'cellcomp_protein': 'edge_cellcomp_protein.csv',\n",
    "    'bioprocess_protein': 'edge_bioprocess_protein.csv',\n",
    "    'exposure_protein': 'edge_exposure_protein.csv',\n",
    "    'exposure_disease': 'edge_exposure_disease.csv',\n",
    "    'exposure_exposure': 'edge_exposure_exposure.csv',\n",
    "    'exposure_bioprocess': 'edge_exposure_bioprocess.csv',\n",
    "    'exposure_molfunc': 'edge_exposure_molfunc.csv',\n",
    "    'exposure_cellcomp': 'edge_exposure_cellcomp.csv',\n",
    "    'pathway_pathway': 'edge_pathway_pathway.csv',\n",
    "    'pathway_protein': 'edge_pathway_protein.csv',\n",
    "    'anatomy_anatomy': 'edge_anatomy_anatomy.csv',\n",
    "    'anatomy_protein_present': 'edge_anatomy_protein_present.csv',\n",
    "    'anatomy_protein_absent': 'edge_anatomy_protein_absent.csv'\n",
    "}"
   ]
  },
  {
   "cell_type": "markdown",
   "metadata": {},
   "source": [
    "## Nodes"
   ]
  },
  {
   "cell_type": "code",
   "execution_count": 11,
   "metadata": {},
   "outputs": [],
   "source": [
    "# create TextNodes\n",
    "def create_text_nodes(file_path):\n",
    "    df = pd.read_csv(file_path)\n",
    "    text_nodes = []\n",
    "    for _, row in df.iterrows():\n",
    "        id = row['node_index']\n",
    "        # if row length is greater than 4, then it is drug/disease node\n",
    "        if len(row) > 4:\n",
    "            metadata = row[['node_index','node_type','node_name','node_source']].to_dict()\n",
    "            text = str(row.drop(['node_id','node_index','node_type','node_name','node_source']).to_dict())\n",
    "            text_node = TextNode(id_= str(id), metadata=metadata, text=text)\n",
    "            text_nodes.append(text_node)\n",
    "        else:\n",
    "            metadata = row.drop(['node_index']).to_dict()\n",
    "            text_node = TextNode(id_= str(id), metadata=metadata)\n",
    "            text_nodes.append(text_node)\n",
    "    return text_nodes\n"
   ]
  },
  {
   "cell_type": "code",
   "execution_count": 12,
   "metadata": {},
   "outputs": [],
   "source": [
    "# generate all nodes from the node files\n",
    "all_nodes = []\n",
    "for key, value in node_files.items():\n",
    "    nodes = create_text_nodes(data_dir+value)\n",
    "    all_nodes.extend(nodes)\n"
   ]
  },
  {
   "cell_type": "code",
   "execution_count": 14,
   "metadata": {},
   "outputs": [
    {
     "data": {
      "text/plain": [
       "TextNode(id_='21273', embedding=None, metadata={'node_index': 21273, 'node_type': 'drug', 'node_name': 'Magnesium Aluminum Silicate', 'node_source': 'DrugBank'}, excluded_embed_metadata_keys=[], excluded_llm_metadata_keys=[], relationships={}, text=\"{'description': 'Magnesium aluminum silicate is a naturally occurring mineral obtained from silicate ores of the montmorillonite group. It is refined to a powder for use in cosmetic and pharmaceutical applications as an absorbent, anticaking agent, opacifying agent, viscosity-increasing agent, suspending agent, tablet and capsule disintegrant, and', 'half_life': nan, 'indication': 'Magnesium aluminum silicate is used as an over the counter antacid for the self-treatment of heartburn, sour stomach, or acid indigestion.', 'mechanism_of_action': 'Magnesium aluminum silicate reacts with acid in the stomach to increase the pH.', 'protein_binding': nan, 'pharmacodynamics': 'Magnesium aluminum silicate neutralizes excess acid in the stomach to reduce or eliminate symptoms of heartburn, sour stomach, or acid indigestion ', 'state': 'Magnesium Aluminum Silicate is a solid.', 'atc_1': nan, 'atc_2': nan, 'atc_3': nan, 'atc_4': nan, 'category': 'Magnesium Aluminum Silicate is part of Acids ; Acids, Noncarboxylic ; Agents that produce neuromuscular block (indirect) ; Anions ; Electrolytes ; Ions ; Minerals ; Oxides ; Oxygen Compounds ; Pharmaceutic Aids ; Silicon Compounds.', 'group': 'Magnesium Aluminum Silicate is approved.', 'pathway': nan, 'molecular_weight': nan, 'tpsa': nan, 'clogp': nan}\", mimetype='text/plain', start_char_idx=None, end_char_idx=None, text_template='{metadata_str}\\n\\n{content}', metadata_template='{key}: {value}', metadata_seperator='\\n')"
      ]
     },
     "execution_count": 14,
     "metadata": {},
     "output_type": "execute_result"
    }
   ],
   "source": [
    "all_nodes[34932]"
   ]
  },
  {
   "cell_type": "markdown",
   "metadata": {},
   "source": [
    "## Edges"
   ]
  },
  {
   "cell_type": "code",
   "execution_count": 17,
   "metadata": {},
   "outputs": [],
   "source": [
    "def create_all_edges(edge_files, data_dir, all_nodes):\n",
    "    node_dict = {node.id_: node for node in all_nodes}\n",
    "    \n",
    "    for edge_type, file_name in edge_files.items():\n",
    "        file_path = os.path.join(data_dir, file_name)\n",
    "        df = pd.read_csv(file_path)\n",
    "        \n",
    "        for _, row in df.iterrows():\n",
    "            src_id = str(row['x_index'])\n",
    "            dst_id = str(row['y_index'])\n",
    "            metadata = row.drop(['x_index', 'y_index']).to_dict()\n",
    "            \n",
    "            if src_id in node_dict and dst_id in node_dict:\n",
    "                src_node = node_dict[src_id]\n",
    "                dst_node = node_dict[dst_id]\n",
    "                \n",
    "                if NodeRelationship.NEXT not in src_node.relationships:\n",
    "                    src_node.relationships[NodeRelationship.NEXT] = []\n",
    "                if NodeRelationship.PREVIOUS not in dst_node.relationships:\n",
    "                    dst_node.relationships[NodeRelationship.PREVIOUS] = []\n",
    "                \n",
    "                src_node.relationships[NodeRelationship.NEXT].append(RelatedNodeInfo(node_id=dst_id, metadata=metadata))\n",
    "                dst_node.relationships[NodeRelationship.PREVIOUS].append(RelatedNodeInfo(node_id=src_id, metadata=metadata))\n"
   ]
  },
  {
   "cell_type": "code",
   "execution_count": null,
   "metadata": {},
   "outputs": [],
   "source": [
    "# Call the function to create all edges\n",
    "create_all_edges(edge_files, data_dir, all_nodes)"
   ]
  },
  {
   "cell_type": "markdown",
   "metadata": {},
   "source": [
    "check ups that edges are correctly generated:"
   ]
  },
  {
   "cell_type": "code",
   "execution_count": null,
   "metadata": {},
   "outputs": [
    {
     "data": {
      "text/html": [
       "<div>\n",
       "<style scoped>\n",
       "    .dataframe tbody tr th:only-of-type {\n",
       "        vertical-align: middle;\n",
       "    }\n",
       "\n",
       "    .dataframe tbody tr th {\n",
       "        vertical-align: top;\n",
       "    }\n",
       "\n",
       "    .dataframe thead th {\n",
       "        text-align: right;\n",
       "    }\n",
       "</style>\n",
       "<table border=\"1\" class=\"dataframe\">\n",
       "  <thead>\n",
       "    <tr style=\"text-align: right;\">\n",
       "      <th></th>\n",
       "      <th>nodes</th>\n",
       "      <th>relationships</th>\n",
       "    </tr>\n",
       "  </thead>\n",
       "  <tbody>\n",
       "    <tr>\n",
       "      <th>0</th>\n",
       "      <td>[(14000 )]</td>\n",
       "      <td>[(14000)-[:protein_protein@0{display_relation: \"ppi\"}]-&gt;(6769), (14000)-[:protein_protein@0{display_relation: \"ppi\"}]-&gt;(1411), (14000)-[:protein_protein@0{display_relation: \"ppi\"}]-&gt;(7073), (14000)-[:protein_protein@0{display_relation: \"ppi\"}]-&gt;(35314)]</td>\n",
       "    </tr>\n",
       "    <tr>\n",
       "      <th>1</th>\n",
       "      <td>[(1411 ), (6769 ), (35314 ), (7073 )]</td>\n",
       "      <td>[(1411)-[:protein_protein@0{display_relation: \"ppi\"}]-&gt;(14000), (6769)-[:protein_protein@0{display_relation: \"ppi\"}]-&gt;(14000), (35314)-[:protein_protein@0{display_relation: \"ppi\"}]-&gt;(14000), (7073)-[:protein_protein@0{display_relation: \"ppi\"}]-&gt;(14000)]</td>\n",
       "    </tr>\n",
       "  </tbody>\n",
       "</table>\n",
       "</div>"
      ],
      "text/plain": [
       "                                   nodes                                                                                                                                                                                                                                                  relationships\n",
       "0                             [(14000 )]  [(14000)-[:protein_protein@0{display_relation: \"ppi\"}]->(6769), (14000)-[:protein_protein@0{display_relation: \"ppi\"}]->(1411), (14000)-[:protein_protein@0{display_relation: \"ppi\"}]->(7073), (14000)-[:protein_protein@0{display_relation: \"ppi\"}]->(35314)]\n",
       "1  [(1411 ), (6769 ), (35314 ), (7073 )]  [(1411)-[:protein_protein@0{display_relation: \"ppi\"}]->(14000), (6769)-[:protein_protein@0{display_relation: \"ppi\"}]->(14000), (35314)-[:protein_protein@0{display_relation: \"ppi\"}]->(14000), (7073)-[:protein_protein@0{display_relation: \"ppi\"}]->(14000)]"
      ]
     },
     "execution_count": 5,
     "metadata": {},
     "output_type": "execute_result"
    }
   ],
   "source": [
    "%ngql use PrimeKG;\n",
    "%ngql GET SUBGRAPH WITH PROP 1 STEPS FROM 14000 OUT protein_protein YIELD VERTICES AS nodes, EDGES AS relationships;"
   ]
  },
  {
   "cell_type": "code",
   "execution_count": 12,
   "metadata": {},
   "outputs": [
    {
     "data": {
      "text/plain": [
       "{<NodeRelationship.PREVIOUS: '2'>: [RelatedNodeInfo(node_id='7073', node_type=None, metadata={'relation': 'protein_protein', 'display_relation': 'ppi'}, hash=None),\n",
       "  RelatedNodeInfo(node_id='1411', node_type=None, metadata={'relation': 'protein_protein', 'display_relation': 'ppi'}, hash=None),\n",
       "  RelatedNodeInfo(node_id='6769', node_type=None, metadata={'relation': 'protein_protein', 'display_relation': 'ppi'}, hash=None),\n",
       "  RelatedNodeInfo(node_id='35314', node_type=None, metadata={'relation': 'protein_protein', 'display_relation': 'ppi'}, hash=None)],\n",
       " <NodeRelationship.NEXT: '3'>: [RelatedNodeInfo(node_id='35314', node_type=None, metadata={'relation': 'protein_protein', 'display_relation': 'ppi'}, hash=None),\n",
       "  RelatedNodeInfo(node_id='7073', node_type=None, metadata={'relation': 'protein_protein', 'display_relation': 'ppi'}, hash=None),\n",
       "  RelatedNodeInfo(node_id='1411', node_type=None, metadata={'relation': 'protein_protein', 'display_relation': 'ppi'}, hash=None),\n",
       "  RelatedNodeInfo(node_id='6769', node_type=None, metadata={'relation': 'protein_protein', 'display_relation': 'ppi'}, hash=None)]}"
      ]
     },
     "execution_count": 12,
     "metadata": {},
     "output_type": "execute_result"
    }
   ],
   "source": [
    "all_nodes[14000].relationships"
   ]
  },
  {
   "cell_type": "markdown",
   "metadata": {},
   "source": [
    "## Generate index"
   ]
  },
  {
   "cell_type": "markdown",
   "metadata": {},
   "source": [
    "convert TextNode into IndexNode to insert the nodes into the index:"
   ]
  },
  {
   "cell_type": "code",
   "execution_count": null,
   "metadata": {},
   "outputs": [],
   "source": [
    "from llama_index.core.vector_stores.simple import SimpleVectorStore\n",
    "from llama_index.core import PropertyGraphIndex, Settings\n",
    "from llama_index.llms.huggingface import HuggingFaceLLM\n",
    "from llama_index.embeddings.huggingface import HuggingFaceEmbedding\n",
    "import torch\n",
    "\n",
    "\n",
    "vec_store = SimpleVectorStore()"
   ]
  },
  {
   "cell_type": "code",
   "execution_count": 14,
   "metadata": {},
   "outputs": [],
   "source": [
    "# Create IndexNode objects from TextNode objects\n",
    "index_nodes = [IndexNode.from_text_node(node, index_id=\"index_1\") for node in all_nodes]\n"
   ]
  },
  {
   "cell_type": "code",
   "execution_count": 15,
   "metadata": {},
   "outputs": [
    {
     "data": {
      "application/vnd.jupyter.widget-view+json": {
       "model_id": "10021990b1a74c5fa9d28dc3c575de6e",
       "version_major": 2,
       "version_minor": 0
      },
      "text/plain": [
       "Loading checkpoint shards:   0%|          | 0/2 [00:00<?, ?it/s]"
      ]
     },
     "metadata": {},
     "output_type": "display_data"
    }
   ],
   "source": [
    "llm = HuggingFaceLLM(\n",
    "    context_window=4096,\n",
    "    max_new_tokens=256,\n",
    "    generate_kwargs={\"temperature\": 0.8, \"do_sample\": True},\n",
    "    # system_prompt=system_prompt,\n",
    "    # query_wrapper_prompt=query_wrapper_prompt,\n",
    "    tokenizer_name=\"meta-llama/Llama-3.2-3B\",\n",
    "    model_name=\"meta-llama/Llama-3.2-3B\",\n",
    "    device_map=\"auto\",\n",
    "    stopping_ids=[50278, 50279, 50277, 1, 0],\n",
    "    tokenizer_kwargs={\"max_length\": 4096},\n",
    "    # uncomment this if using CUDA to reduce memory usage\n",
    "    model_kwargs={\"torch_dtype\": torch.float16}\n",
    ")\n",
    "\n",
    "Settings.llm = llm\n",
    "Settings.chunk_size = 1024\n",
    "Settings.embed_model = HuggingFaceEmbedding(model_name=\"BAAI/bge-m3\") "
   ]
  },
  {
   "cell_type": "code",
   "execution_count": null,
   "metadata": {},
   "outputs": [],
   "source": [
    "import nest_asyncio\n",
    "nest_asyncio.apply()\n",
    "\n",
    "index = PropertyGraphIndex(\n",
    "    nodes=index_nodes,\n",
    "    vector_store=vec_store,\n",
    "    property_graph_store=graph_store,\n",
    "    show_progress=True,\n",
    "    storage_context=storage_context\n",
    ")"
   ]
  },
  {
   "cell_type": "code",
   "execution_count": null,
   "metadata": {},
   "outputs": [],
   "source": [
    "import nest_asyncio\n",
    "nest_asyncio.apply()\n",
    "\n",
    "index = PropertyGraphIndex.from_existing(\n",
    "    llm=llm,\n",
    "    vector_store=vec_store,\n",
    "    property_graph_store=graph_store,\n",
    "    show_progress=True,\n",
    "    storage_context=storage_context\n",
    ")"
   ]
  },
  {
   "cell_type": "code",
   "execution_count": null,
   "metadata": {},
   "outputs": [],
   "source": [
    "import nest_asyncio\n",
    "nest_asyncio.apply()\n",
    "\n",
    "await index.insert_nodes(index_nodes)"
   ]
  },
  {
   "cell_type": "markdown",
   "metadata": {},
   "source": [
    "save index to persist storage"
   ]
  },
  {
   "cell_type": "code",
   "execution_count": null,
   "metadata": {},
   "outputs": [],
   "source": [
    "index.storage_context.persist(persist_dir=\"~/scratch-llm/storage/PrimeKG_index/\")\n"
   ]
  }
 ],
 "metadata": {
  "kernelspec": {
   "display_name": "rag",
   "language": "python",
   "name": "python3"
  },
  "language_info": {
   "codemirror_mode": {
    "name": "ipython",
    "version": 3
   },
   "file_extension": ".py",
   "mimetype": "text/x-python",
   "name": "python",
   "nbconvert_exporter": "python",
   "pygments_lexer": "ipython3",
   "version": "3.10.5"
  }
 },
 "nbformat": 4,
 "nbformat_minor": 2
}
