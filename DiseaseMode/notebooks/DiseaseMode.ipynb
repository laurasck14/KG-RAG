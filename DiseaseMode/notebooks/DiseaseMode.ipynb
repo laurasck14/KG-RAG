{
 "cells": [
  {
   "cell_type": "code",
   "execution_count": null,
   "metadata": {},
   "outputs": [],
   "source": [
    "import pathlib, os, torch, pickle, time\n",
    "os.environ[\"TOKENIZERS_PARALLELISM\"] = \"false\"\n",
    "os.environ['HF_HOME'] = str(pathlib.Path(\"~/scratch-llm/storage/cache/huggingface/\").expanduser().absolute()) # '/scratch-llm/storage/cache/'\n",
    "# os.environ[\"TRANSFORMERS_CACHE\"] = \"~/scratch-llm/storage/models/\"\n",
    "\n",
    "import numpy as np\n",
    "import pandas as pd\n",
    "\n",
    "from transformers import AutoTokenizer\n",
    "from nebulagraph_lite import nebulagraph_let as ng_let\n",
    "from llama_index.graph_stores.nebula import NebulaPropertyGraphStore\n",
    "\n",
    "from llama_index.core import Settings\n",
    "from llama_index.core.schema import TextNode\n",
    "from llama_index.core.prompts import PromptTemplate\n",
    "from llama_index.core.base.llms.types import ChatMessage\n",
    "from llama_index.core.response_synthesizers import TreeSummarize\n",
    "from llama_index.core.vector_stores.simple import SimpleVectorStoreData, SimpleVectorStore, VectorStoreQuery\n",
    "\n",
    "from llama_index.llms.huggingface import HuggingFaceLLM\n",
    "from llama_index.embeddings.huggingface import HuggingFaceEmbedding\n",
    "\n",
    "from typing import List\n",
    "from numpy import dot\n",
    "from numpy.linalg import norm\n",
    "from pydantic import BaseModel, Field\n",
    "from llama_index.core.output_parsers import PydanticOutputParser\n",
    "from IPython.display import display, Markdown"
   ]
  },
  {
   "cell_type": "markdown",
   "metadata": {},
   "source": [
    "# NebulaGraph conexion"
   ]
  },
  {
   "cell_type": "code",
   "execution_count": 2,
   "metadata": {},
   "outputs": [
    {
     "name": "stdout",
     "output_type": "stream",
     "text": [
      "\u001b[1;3;38;2;47;75;124mudocker command: udocker /home/lasa14/.conda/envs/llm-rag/bin/udocker --allow-root ps | grep graphd | awk '{print $1}' | xargs -I {} udocker --allow-root rm -f {}\u001b[0m\n",
      "\u001b[1;3;38;2;102;81;145merror: Error: deleting directory:  /home/lasa14/.udocker/containers/2141d09a-b208-3cd6-8a16-8c2749a11286\n",
      "Error: deleting container\n",
      "\u001b[0m\n",
      "Retrying in 5 seconds... udocker command failed with return code 123\n",
      "\u001b[1;3;38;2;47;75;124mudocker command: udocker /home/lasa14/.conda/envs/llm-rag/bin/udocker --allow-root ps | grep graphd | awk '{print $1}' | xargs -I {} udocker --allow-root rm -f {}\u001b[0m\n",
      "\u001b[1;3;38;2;102;81;145merror: Error: deleting directory:  /home/lasa14/.udocker/containers/2141d09a-b208-3cd6-8a16-8c2749a11286\n",
      "Error: deleting container\n",
      "\u001b[0m\n",
      "Retrying in 15 seconds... udocker command failed with return code 123\n",
      "\u001b[1;3;38;2;47;75;124mudocker command: udocker /home/lasa14/.conda/envs/llm-rag/bin/udocker --allow-root ps | grep graphd | awk '{print $1}' | xargs -I {} udocker --allow-root rm -f {}\u001b[0m\n",
      "\u001b[1;3;38;2;102;81;145merror: Error: deleting directory:  /home/lasa14/.udocker/containers/2141d09a-b208-3cd6-8a16-8c2749a11286\n",
      "Error: deleting container\n",
      "\u001b[0m\n",
      "\u001b[1;3;38;2;47;75;124mMessage: Activating storaged...\u001b[0m\n",
      "\u001b[1;3;38;2;102;81;145mResult of `SHOW HOSTS`:\u001b[0m\n",
      "\u001b[1;3;38;2;47;75;124m    errors:\u001b[0m\n",
      "\u001b[1;3;38;2;47;75;124m        code: 0\u001b[0m\n",
      "\u001b[1;3;38;2;102;81;145m    results:\u001b[0m\n",
      "\u001b[1;3;38;2;47;75;124m        spaceName: \u001b[0m\n",
      "\u001b[1;3;38;2;102;81;145m        data:\u001b[0m\n",
      "\u001b[1;3;38;2;47;75;124m            meta:\u001b[0m\n",
      "\u001b[1;3;38;2;47;75;124m                None, None, None, None, None, None, None\u001b[0m\n",
      "\u001b[1;3;38;2;102;81;145m            row:\u001b[0m\n",
      "\u001b[1;3;38;2;102;81;145m                127.0.0.1, 9779, ONLINE, 101, PrimeKG:100, basketballplayer:1, PrimeKG:100, basketballplayer:1, 3.8.0\u001b[0m\n",
      "\u001b[1;3;38;2;160;81;149m        columns:\u001b[0m\n",
      "\u001b[1;3;38;2;160;81;149m            Host, Port, Status, Leader count, Leader distribution, Partition distribution, Version\u001b[0m\n",
      "\u001b[1;3;38;2;212;80;135m        errors:\u001b[0m\n",
      "\u001b[1;3;38;2;47;75;124m            code: 0\u001b[0m\n",
      "\u001b[1;3;38;2;249;93;106m        latencyInUs: 1752\u001b[0m\n",
      "\u001b[1;3;38;2;168;255;159mInfo: loading basketballplayer dataset...\u001b[0m\n",
      "\u001b[1;3;38;2;249;93;106m\n",
      "  _   _      _           _        ____                 _     \n",
      " | \\ | | ___| |__  _   _| | __ _ / ___|_ __ __ _ _ __ | |__  \n",
      " |  \\| |/ _ | '_ \\| | | | |/ _` | |  _| '__/ _` | '_ \\| '_ \\ \n",
      " | |\\  |  __| |_) | |_| | | (_| | |_| | | | (_| | |_) | | | |\n",
      " |_| \\_|\\___|_.__/ \\__,_|_|\\__,_|\\____|_|  \\__,_| .__/|_| |_|\n",
      "                                                |_|          \n",
      "                                                lite version\n",
      "\u001b[0m\n",
      "\u001b[1;3;38;2;210;161;255m[ OK ] nebulagraph_lite started successfully!\u001b[0m\n"
     ]
    }
   ],
   "source": [
    "# load NebulaGraph JupyterNotebook extension\n",
    "# !udocker pull vesoft/nebula-metad:v3\n",
    "# !udocker create --name=nebula-metad vesoft/nebula-metad:v3\n",
    "# !udocker setup --execmode=F1 nebula-metad\n",
    "# time.sleep(5)  # wait for the container to be ready\n",
    "# !udocker pull vesoft/nebula-storaged:v3\n",
    "# !udocker create --name=nebula-storaged vesoft/nebula-storaged:v3\n",
    "# !udocker setup --execmode=F1 nebula-storaged\n",
    "# time.sleep(5)  # wait for the container to be ready\n",
    "# !udocker pull vesoft/nebula-graphd:v3\n",
    "# !udocker create --name=nebula-graphd vesoft/nebula-graphd:v3\n",
    "# !udocker setup --execmode=F1 nebula-graphd\n",
    "# time.sleep(5)  # wait for the container to be ready\n",
    "\n",
    "n = ng_let(in_container=True)\n",
    "n.start() # Takes around 5 mins"
   ]
  },
  {
   "cell_type": "code",
   "execution_count": null,
   "metadata": {},
   "outputs": [],
   "source": [
    "%reload_ext ngql\n",
    "%ngql --address 127.0.0.1 --port 9669 --user root --password nebula"
   ]
  },
  {
   "cell_type": "markdown",
   "metadata": {},
   "source": [
    "## SimpleVectorStore:"
   ]
  },
  {
   "cell_type": "code",
   "execution_count": null,
   "metadata": {},
   "outputs": [],
   "source": [
    "# Load the actual data into all_nodes_embeddded\n",
    "with open(os.path.expanduser('~/scratch-llm/storage/nodes/all_nodes_all-mpnet-base-v2.pkl'), 'rb') as f:\n",
    "    all_nodes_embedded: List[TextNode] = pickle.load(f)\n",
    "# Create dictionaries from the nodes\n",
    "embedding_dict = {node.id_: node.get_embedding() for node in all_nodes_embedded}\n",
    "text_id_to_ref_doc_id = {node.id_: node.ref_doc_id or \"None\" for node in all_nodes_embedded}\n",
    "metadata_dict = {node.id_: node.metadata for node in all_nodes_embedded}\n",
    "\n",
    "# Initialize the SimpleVectorStore with the dictionaries\n",
    "vector_store = SimpleVectorStore(\n",
    "    data = SimpleVectorStoreData(\n",
    "        embedding_dict=embedding_dict,\n",
    "        text_id_to_ref_doc_id=text_id_to_ref_doc_id,\n",
    "        metadata_dict=metadata_dict,\n",
    "    ),\n",
    "    stores_text=True\n",
    ")"
   ]
  },
  {
   "cell_type": "markdown",
   "metadata": {},
   "source": [
    "## NebulaPropertyGraphStore:"
   ]
  },
  {
   "cell_type": "code",
   "execution_count": 4,
   "metadata": {},
   "outputs": [],
   "source": [
    "graph_store = NebulaPropertyGraphStore(\n",
    "    space = \"PrimeKG\",\n",
    "    username = \"root\",\n",
    "    password = \"nebula\",\n",
    "    url = \"nebula://localhost:9669\",\n",
    "    props_schema= \"\"\"`node_index` STRING, `node_type` STRING, `node_id` STRING, `node_name` STRING, \n",
    "        `node_source` STRING, `mondo_id` STRING, `mondo_name` STRING, `group_id_bert` STRING, \n",
    "        `group_name_bert` STRING, `orphanet_prevalence` STRING, `display_relation` STRING \"\"\",\n",
    ")"
   ]
  },
  {
   "cell_type": "markdown",
   "metadata": {},
   "source": [
    "# LLM"
   ]
  },
  {
   "cell_type": "markdown",
   "metadata": {},
   "source": [
    "## Llama-3.2-3B-Instruct"
   ]
  },
  {
   "cell_type": "code",
   "execution_count": 36,
   "metadata": {},
   "outputs": [
    {
     "data": {
      "application/vnd.jupyter.widget-view+json": {
       "model_id": "b6362c951e204a7081b0489a8b23da49",
       "version_major": 2,
       "version_minor": 0
      },
      "text/plain": [
       "Loading checkpoint shards:   0%|          | 0/2 [00:00<?, ?it/s]"
      ]
     },
     "metadata": {},
     "output_type": "display_data"
    },
    {
     "data": {
      "application/vnd.jupyter.widget-view+json": {
       "model_id": "b2fa5dd10c8e404a889c590766700307",
       "version_major": 2,
       "version_minor": 0
      },
      "text/plain": [
       "modules.json:   0%|          | 0.00/349 [00:00<?, ?B/s]"
      ]
     },
     "metadata": {},
     "output_type": "display_data"
    },
    {
     "data": {
      "application/vnd.jupyter.widget-view+json": {
       "model_id": "78d440ad61914381b38e013c7f78359d",
       "version_major": 2,
       "version_minor": 0
      },
      "text/plain": [
       "config_sentence_transformers.json:   0%|          | 0.00/123 [00:00<?, ?B/s]"
      ]
     },
     "metadata": {},
     "output_type": "display_data"
    },
    {
     "data": {
      "application/vnd.jupyter.widget-view+json": {
       "model_id": "de73a6c6be864e85a7c07cb3f6ab62f2",
       "version_major": 2,
       "version_minor": 0
      },
      "text/plain": [
       "README.md: 0.00B [00:00, ?B/s]"
      ]
     },
     "metadata": {},
     "output_type": "display_data"
    },
    {
     "data": {
      "application/vnd.jupyter.widget-view+json": {
       "model_id": "b848d718add94de4841b83d6d1fe3785",
       "version_major": 2,
       "version_minor": 0
      },
      "text/plain": [
       "sentence_bert_config.json:   0%|          | 0.00/54.0 [00:00<?, ?B/s]"
      ]
     },
     "metadata": {},
     "output_type": "display_data"
    },
    {
     "data": {
      "application/vnd.jupyter.widget-view+json": {
       "model_id": "f55e18ba68884fe1a99f60155cb1c8b2",
       "version_major": 2,
       "version_minor": 0
      },
      "text/plain": [
       "config.json:   0%|          | 0.00/687 [00:00<?, ?B/s]"
      ]
     },
     "metadata": {},
     "output_type": "display_data"
    },
    {
     "data": {
      "application/vnd.jupyter.widget-view+json": {
       "model_id": "800e75ba945c4b82b31fc9924948c567",
       "version_major": 2,
       "version_minor": 0
      },
      "text/plain": [
       "pytorch_model.bin:   0%|          | 0.00/2.27G [00:00<?, ?B/s]"
      ]
     },
     "metadata": {},
     "output_type": "display_data"
    },
    {
     "data": {
      "application/vnd.jupyter.widget-view+json": {
       "model_id": "81f6ea8b33c6406489d38d570c62825b",
       "version_major": 2,
       "version_minor": 0
      },
      "text/plain": [
       "tokenizer_config.json:   0%|          | 0.00/444 [00:00<?, ?B/s]"
      ]
     },
     "metadata": {},
     "output_type": "display_data"
    },
    {
     "data": {
      "application/vnd.jupyter.widget-view+json": {
       "model_id": "27678d690a004ec0a9f08c8e8dfa760f",
       "version_major": 2,
       "version_minor": 0
      },
      "text/plain": [
       "sentencepiece.bpe.model:   0%|          | 0.00/5.07M [00:00<?, ?B/s]"
      ]
     },
     "metadata": {},
     "output_type": "display_data"
    },
    {
     "data": {
      "application/vnd.jupyter.widget-view+json": {
       "model_id": "ec69b6cd504a4042bcba05a5ff2e94da",
       "version_major": 2,
       "version_minor": 0
      },
      "text/plain": [
       "tokenizer.json:   0%|          | 0.00/17.1M [00:00<?, ?B/s]"
      ]
     },
     "metadata": {},
     "output_type": "display_data"
    },
    {
     "data": {
      "application/vnd.jupyter.widget-view+json": {
       "model_id": "ecdd6bb2a88e4cef8c1959cc662fbe65",
       "version_major": 2,
       "version_minor": 0
      },
      "text/plain": [
       "model.safetensors:   0%|          | 0.00/2.27G [00:00<?, ?B/s]"
      ]
     },
     "metadata": {},
     "output_type": "display_data"
    },
    {
     "data": {
      "application/vnd.jupyter.widget-view+json": {
       "model_id": "c8ba1e292e1f4765821f0f456bf681a9",
       "version_major": 2,
       "version_minor": 0
      },
      "text/plain": [
       "special_tokens_map.json:   0%|          | 0.00/964 [00:00<?, ?B/s]"
      ]
     },
     "metadata": {},
     "output_type": "display_data"
    },
    {
     "data": {
      "application/vnd.jupyter.widget-view+json": {
       "model_id": "377616a4529d4d7a9fe364679514fa4b",
       "version_major": 2,
       "version_minor": 0
      },
      "text/plain": [
       "config.json:   0%|          | 0.00/191 [00:00<?, ?B/s]"
      ]
     },
     "metadata": {},
     "output_type": "display_data"
    }
   ],
   "source": [
    "tokenizer = AutoTokenizer.from_pretrained(\"meta-llama/Llama-3.2-3B-Instruct\", padding_side=\"left\", device_map=\"auto\")    \n",
    "if tokenizer.pad_token_id is None: #no <pad> token previously defined, only eos_token\n",
    "    tokenizer.pad_token = \"<|end_of_text|>\"\n",
    "    tokenizer.pad_token_id = tokenizer.convert_tokens_to_ids(tokenizer.pad_token)\n",
    "\n",
    "\n",
    "llm = HuggingFaceLLM(\n",
    "    model_name=\"meta-llama/Llama-3.2-3B-Instruct\",\n",
    "    context_window=8192,\n",
    "    max_new_tokens=3048,\n",
    "    generate_kwargs={\n",
    "        \"temperature\": 0.10, \n",
    "        \"do_sample\": True,\n",
    "        \"pad_token_id\": tokenizer.pad_token_id,\n",
    "        \"top_k\": 10, \n",
    "        \"top_p\": 0.9,\n",
    "        # \"repetition_penalty\": 0.9,  # Added to reduce repetition\n",
    "        # \"no_repeat_ngram_size\": 3,  # Prevents repetition of n-grams\n",
    "    },\n",
    "    model_kwargs={\n",
    "        \"torch_dtype\": torch.float16,\n",
    "    },\n",
    "    tokenizer=tokenizer,\n",
    "    # device_map=\"auto\",  # Automatically offload layers to CPU if GPU memory is insufficient\n",
    "    device_map=\"cuda\" if torch.cuda.is_available() else \"cpu\",\n",
    "    stopping_ids=[tokenizer.eos_token_id],\n",
    "    tokenizer_kwargs={\"max_length\": None},\n",
    "    is_chat_model=True,\n",
    ")\n",
    "\n",
    "Settings.llm = llm\n",
    "Settings.chunk_size = 1024\n",
    "Settings.embed_model = HuggingFaceEmbedding(model_name=\"BAAI/bge-m3\") #\"sentence-transformers/all-mpnet-base-v2\") # BAAI/bge-small-en-v1.5 /  m3 / sentence-transformers/all-mpnet-base-v2"
   ]
  },
  {
   "cell_type": "markdown",
   "metadata": {},
   "source": [
    "# DiseaseMode"
   ]
  },
  {
   "cell_type": "markdown",
   "metadata": {},
   "source": [
    "MetadataFilters:"
   ]
  },
  {
   "cell_type": "code",
   "execution_count": 20,
   "metadata": {},
   "outputs": [],
   "source": [
    "from llama_index.core.vector_stores.types import MetadataFilters, FilterOperator\n",
    "disease_dict = {\n",
    "    \"key\": \"node_type\",\n",
    "    \"value\": \"disease\",\n",
    "    \"operator\": FilterOperator.EQ\n",
    "}\n",
    "disease_filter = MetadataFilters(filters=[disease_dict])\n",
    "\n",
    "class DiseaseMode():\n",
    "    def __init__(self, vector_store: SimpleVectorStore, graph_store: NebulaPropertyGraphStore):\n",
    "        self.vector_store = vector_store\n",
    "        self.graph_store = graph_store\n",
    "\n",
    "    def retrieve(self, query: str):        \n",
    "        query_embedding = Settings.embed_model.get_text_embedding(query)\n",
    "        vector_results = self.vector_store.query(\n",
    "            VectorStoreQuery(\n",
    "                query_embedding=query_embedding, \n",
    "                similarity_top_k=1,\n",
    "                filters=disease_filter,\n",
    "            )\n",
    "        )\n",
    "        \n",
    "        top_node_id = vector_results.ids[0]\n",
    "        top_node_score = vector_results.similarities[0]\n",
    "        kg_node = self.graph_store.get(ids=[top_node_id])[0]\n",
    "                \n",
    "        results = [{ # Create results list with primary node\n",
    "            \"node_index\": kg_node.id_,\n",
    "            \"node_name\": kg_node.properties[\"node_name\"],\n",
    "            \"text\": getattr(kg_node, \"text\", \"\"),\n",
    "            \"score\": top_node_score\n",
    "        }]\n",
    "        \n",
    "        print(f\"Best node from vector query: Node ID: {kg_node.id_}, \"\n",
    "              f\"Score: {top_node_score:.4f}, Name: {kg_node.properties['node_name']}\")\n",
    "        \n",
    "        # Find related nodes through graph query\n",
    "        graph_nodes = self.graph_store.structured_query(\n",
    "            \"\"\"\n",
    "            MATCH (e:Node__) WHERE id(e) == $ids\n",
    "            MATCH p=(e)-[r:Relation__{label:\"disease-disease\"}]-(t) \n",
    "            UNWIND relationships(p) as rel\n",
    "            RETURN DISTINCT id(t), t.Props__.node_name, t.Chunk__.text\n",
    "            \"\"\", \n",
    "            param_map={\"ids\": top_node_id}\n",
    "        )\n",
    "        \n",
    "        # Calculate similarity for related nodes and add relevant ones to results\n",
    "        all_similarities = []\n",
    "        for node in graph_nodes:\n",
    "            node_text = node[\"t.Props__.node_name\"] + \": \" + node[\"t.Chunk__.text\"]\n",
    "            node_embedding = Settings.embed_model.get_text_embedding(node_text)\n",
    "                    \n",
    "            similarity = dot(query_embedding, node_embedding) / (norm(query_embedding) * norm(node_embedding))\n",
    "            all_similarities.append((node, similarity))\n",
    "            \n",
    "        if len(all_similarities) > 3:\n",
    "            sim = [s for _, s in all_similarities]\n",
    "            threshold = np.percentile(sim, 75) # keep top 25% of nodes\n",
    "        else:\n",
    "            threshold = 0.7\n",
    "        \n",
    "        for node, similarity in all_similarities:\n",
    "            if similarity > threshold: #and similarity >= 0.5:\n",
    "                results.append({\n",
    "                    \"node_index\": node[\"id(t)\"],\n",
    "                    \"node_name\": node[\"t.Props__.node_name\"],\n",
    "                    \"text\": node_text,\n",
    "                    \"score\": similarity\n",
    "                })\n",
    "        \n",
    "        results = sorted(results, key=lambda x: x[\"score\"], reverse=True)\n",
    "        print(\"\\nBest related nodes from graph query:\")\n",
    "        for node in results:  # Skip primary node\n",
    "            print(f\"ID: {node['node_index']} | node name: {node['node_name']} | score: {node['score']:.4f}\")\n",
    "        \n",
    "        graph_phenotype = graph_store.structured_query(\n",
    "            \"\"\"\n",
    "            MATCH (e:Node__) WHERE id(e) == $ids\n",
    "            MATCH (e)-[r:Relation__{label:\"disease-phenotype-positive\"}]-(t) \n",
    "            RETURN DISTINCT id(t), t.Props__.node_name\n",
    "            \"\"\", \n",
    "            param_map={\"ids\": top_node_id}\n",
    "        )\n",
    "        # join the phenotype names without the \" '' \" characters\n",
    "        phenotypes = \", \".join(node[\"t.Props__.node_name\"].replace(\"'\", \"\") for node in graph_phenotype)\n",
    "\n",
    "        nodes_with_text = [node for node in results if node['text'].strip()]\n",
    "        context = [f\"'{node['node_name']}': {node['text']}\" for node in nodes_with_text] if nodes_with_text else None\n",
    "        phenotype_context = [f\"Is associated with the following phenotypes: {phenotypes}\\n\"] if phenotypes else None\n",
    "        \n",
    "        if results:\n",
    "            return (context, phenotype_context, top_node_id, results[0]['node_name']) if context else (phenotype_context, top_node_id, results[0]['node_name'])\n",
    "        else:\n",
    "            return [f\"No graph relationships found for {results[0]['node_name']}\"] if results else [\"No results found\"]\n"
   ]
  },
  {
   "cell_type": "markdown",
   "metadata": {},
   "source": [
    "## Prompt templates:"
   ]
  },
  {
   "cell_type": "code",
   "execution_count": 37,
   "metadata": {},
   "outputs": [],
   "source": [
    "context_phenotype_template = \"\"\"    \n",
    "    Context information is below:\n",
    "    {text_chunks}\n",
    "\n",
    "    Phenotype context is below:\n",
    "    {phenotype_context}\n",
    "\n",
    "    You are a medical knowledge assistant specializing in rare diseases. Your task is to create a comprehensive list of symptoms for {query_str}.\n",
    "\n",
    "    CRITICAL INSTRUCTIONS:\n",
    "    1. Use the information from the context and your own knowledge to provide a comprehensive answer\n",
    "    2. Return MAXIMUM the 16 most relevant symptoms, if there are more than 16 symptoms, return the most relevant ones\n",
    "    3. Use HPO medical terminology and avoid using including redundant symptoms\n",
    "    4. Return your answer as a non-numbered list of symptoms only, each symptom should be a string using HPO terminology\n",
    "\"\"\"\n",
    "\n",
    "no_rag_template = \"\"\"\n",
    "    You are a medical knowledge assistant specializing in rare diseases. Your task is to create a comprehensive list of symptoms for {query_str}.\n",
    "\n",
    "    CRITICAL INSTRUCTIONS:\n",
    "    1. Use only your own knowledge to provide a comprehensive answer\n",
    "    2. Return MAXIMUM the 16 most relevant symptoms, if there are more than 16 symptoms, return the most relevant ones\n",
    "    3. Use only HPO medical terminology and avoid including redundant symptoms\n",
    "    4. Return your answer as a non-numbered list of symptoms only, each symptom should be a string using HPO terminology\n",
    "\"\"\"\n"
   ]
  },
  {
   "cell_type": "markdown",
   "metadata": {},
   "source": [
    "## Chat"
   ]
  },
  {
   "cell_type": "markdown",
   "metadata": {},
   "source": [
    "timeout in case call takes too long:"
   ]
  },
  {
   "cell_type": "code",
   "execution_count": 28,
   "metadata": {},
   "outputs": [],
   "source": [
    "import signal\n",
    "def safe_llm_call(summarizer, *args, timeout=300, **kwargs):\n",
    "        \"\"\"Safe LLM call with timeout handling\"\"\"\n",
    "        # PASS TO THE NEXT ITEM IF LLM ENTERS AN INFINITE LOOP\n",
    "        class TimeoutException(Exception):\n",
    "            pass\n",
    "\n",
    "        def handler(signum, frame):\n",
    "            raise TimeoutException()\n",
    "        \n",
    "        signal.signal(signal.SIGALRM, handler)\n",
    "        signal.alarm(timeout)\n",
    "        \n",
    "        try:\n",
    "            response = summarizer.get_response(*args, **kwargs)\n",
    "            signal.alarm(0)\n",
    "            return response\n",
    "        except TimeoutException:\n",
    "            print(\"LLM call timed out. Skipping this item.\")\n",
    "            return None\n",
    "        except RecursionError:\n",
    "            print(\"RecursionError: LLM summarizer entered an infinite loop. Skipping this item.\")\n",
    "            return None\n",
    "        finally:\n",
    "            signal.alarm(0)"
   ]
  },
  {
   "cell_type": "markdown",
   "metadata": {},
   "source": [
    "### Top node retrievals"
   ]
  },
  {
   "cell_type": "code",
   "execution_count": 58,
   "metadata": {},
   "outputs": [
    {
     "name": "stdout",
     "output_type": "stream",
     "text": [
      "Best node from vector query: Node ID: 31514, Score: 0.6652, Name: Stormorken syndrome\n",
      "\n",
      "Best related nodes from graph query:\n",
      "ID: 31514 | node name: Stormorken syndrome | score: 0.6652\n",
      "Best node from vector query: Node ID: 30500, Score: 0.6523, Name: palmoplantar keratoderma, nonepidermolytic, focal 1\n",
      "\n",
      "Best related nodes from graph query:\n",
      "ID: 30500 | node name: palmoplantar keratoderma, nonepidermolytic, focal 1 | score: 0.6523\n",
      "Best node from vector query: Node ID: 99891, Score: 0.7347, Name: MME-related autosomal dominant Charcot Marie Tooth disease type 2\n",
      "\n",
      "Best related nodes from graph query:\n",
      "ID: 99891 | node name: MME-related autosomal dominant Charcot Marie Tooth disease type 2 | score: 0.7347\n",
      "Best node from vector query: Node ID: 33023, Score: 0.7384, Name: glycogen storage disease due to lactate dehydrogenase deficiency\n",
      "\n",
      "Best related nodes from graph query:\n",
      "ID: 33023 | node name: glycogen storage disease due to lactate dehydrogenase deficiency | score: 0.7384\n",
      "ID: 27292 | node name: glycogen storage disease | score: 0.6608\n",
      "Best node from vector query: Node ID: 99200, Score: 0.6406, Name: CDG syndrome type 4\n",
      "\n",
      "Best related nodes from graph query:\n",
      "ID: 99200 | node name: CDG syndrome type 4 | score: 0.6406\n",
      "Best node from vector query: Node ID: 27179, Score: 0.6910, Name: deafness, autosomal dominant\n",
      "\n",
      "Best related nodes from graph query:\n",
      "ID: 27179 | node name: deafness, autosomal dominant | score: 0.6910\n",
      "Best node from vector query: Node ID: 27645, Score: 0.6302, Name: torsion dystonia\n",
      "\n",
      "Best related nodes from graph query:\n",
      "ID: 27645 | node name: torsion dystonia | score: 0.6302\n",
      "ID: 27743 | node name: dystonia | score: 0.6211\n",
      "Best node from vector query: Node ID: 30443, Score: 0.7271, Name: intellectual disability-hypotonia-spasticity-sleep disorder syndrome\n",
      "\n",
      "Best related nodes from graph query:\n",
      "ID: 30443 | node name: intellectual disability-hypotonia-spasticity-sleep disorder syndrome | score: 0.7271\n",
      "Best node from vector query: Node ID: 32466, Score: 0.8493, Name: maternal 14q32.2 microdeletion syndrome\n",
      "\n",
      "Best related nodes from graph query:\n",
      "ID: 32466 | node name: maternal 14q32.2 microdeletion syndrome | score: 0.8493\n",
      "Best node from vector query: Node ID: 28809, Score: 0.6210, Name: 3-methylglutaconic aciduria\n",
      "\n",
      "Best related nodes from graph query:\n",
      "ID: 28809 | node name: 3-methylglutaconic aciduria | score: 0.6210\n",
      "ID: 31418 | node name: 3-methylglutaconic aciduria with deafness, encephalopathy, and Leigh-like syndrome | score: 0.6099\n",
      "ID: 29807 | node name: 3-methylglutaconic aciduria with cataracts, neurologic involvement and neutropenia | score: 0.5069\n",
      "ID: 35505 | node name: neurometabolic disease | score: 0.4586\n",
      "Best node from vector query: Node ID: 31514, Score: 0.8357, Name: Stormorken syndrome\n",
      "\n",
      "Best related nodes from graph query:\n",
      "ID: 31514 | node name: Stormorken syndrome | score: 0.8357\n",
      "Best node from vector query: Node ID: 28842, Score: 0.6726, Name: palmoplantar keratoderma i, striate, focal, or diffuse\n",
      "\n",
      "Best related nodes from graph query:\n",
      "ID: 28842 | node name: palmoplantar keratoderma i, striate, focal, or diffuse | score: 0.6726\n",
      "Best node from vector query: Node ID: 99891, Score: 0.8022, Name: MME-related autosomal dominant Charcot Marie Tooth disease type 2\n",
      "\n",
      "Best related nodes from graph query:\n",
      "ID: 99891 | node name: MME-related autosomal dominant Charcot Marie Tooth disease type 2 | score: 0.8022\n",
      "ID: 27530 | node name: Charcot-Marie-Tooth disease | score: 0.7747\n",
      "Best node from vector query: Node ID: 27295, Score: 0.8829, Name: glycogen storage disease due to glucose-6-phosphatase deficiency\n",
      "\n",
      "Best related nodes from graph query:\n",
      "ID: 27295 | node name: glycogen storage disease due to glucose-6-phosphatase deficiency | score: 0.8829\n",
      "ID: 27292 | node name: glycogen storage disease | score: 0.8374\n",
      "Best node from vector query: Node ID: 29145, Score: 0.8611, Name: X-linked spinocerebellar ataxia\n",
      "\n",
      "Best related nodes from graph query:\n",
      "ID: 29145 | node name: X-linked spinocerebellar ataxia | score: 0.8611\n",
      "Best node from vector query: Node ID: 28262, Score: 0.8520, Name: polycystic kidney disease\n",
      "\n",
      "Best related nodes from graph query:\n",
      "ID: 28262 | node name: polycystic kidney disease | score: 0.8520\n",
      "ID: 28415 | node name: polycystic kidney disease 3 with or without polycystic liver disease | score: 0.7186\n",
      "ID: 29544 | node name: polycystic kidney disease 6 with or without polycystic liver disease | score: 0.7070\n",
      "Best node from vector query: Node ID: 27743, Score: 0.7918, Name: dystonia\n",
      "\n",
      "Best related nodes from graph query:\n",
      "ID: 27743 | node name: dystonia | score: 0.7918\n",
      "ID: 27645 | node name: torsion dystonia | score: 0.7394\n",
      "ID: 38896 | node name: generalized dystonia | score: 0.6850\n",
      "ID: 32450 | node name: dopa-responsive dystonia | score: 0.6791\n",
      "ID: 30801 | node name: severe motor and intellectual disabilities-sensorineural deafness-dystonia syndrome | score: 0.6724\n",
      "ID: 39228 | node name: combined dystonia | score: 0.6534\n",
      "ID: 35675 | node name: multifocal dystonia | score: 0.6515\n",
      "ID: 39096 | node name: segmental dystonia | score: 0.6476\n",
      "Best node from vector query: Node ID: 30443, Score: 0.7299, Name: intellectual disability-hypotonia-spasticity-sleep disorder syndrome\n",
      "\n",
      "Best related nodes from graph query:\n",
      "ID: 30443 | node name: intellectual disability-hypotonia-spasticity-sleep disorder syndrome | score: 0.7299\n",
      "Best node from vector query: Node ID: 32429, Score: 0.9118, Name: 17q21.31 microdeletion syndrome\n",
      "\n",
      "Best related nodes from graph query:\n",
      "ID: 32429 | node name: 17q21.31 microdeletion syndrome | score: 0.9118\n",
      "Best node from vector query: Node ID: 28809, Score: 0.8406, Name: 3-methylglutaconic aciduria\n",
      "\n",
      "Best related nodes from graph query:\n",
      "ID: 28809 | node name: 3-methylglutaconic aciduria | score: 0.8406\n",
      "ID: 29807 | node name: 3-methylglutaconic aciduria with cataracts, neurologic involvement and neutropenia | score: 0.7717\n",
      "ID: 38526 | node name: classic organic aciduria | score: 0.7304\n",
      "ID: 31418 | node name: 3-methylglutaconic aciduria with deafness, encephalopathy, and Leigh-like syndrome | score: 0.7083\n"
     ]
    },
    {
     "data": {
      "text/html": [
       "<div>\n",
       "<style scoped>\n",
       "    .dataframe tbody tr th:only-of-type {\n",
       "        vertical-align: middle;\n",
       "    }\n",
       "\n",
       "    .dataframe tbody tr th {\n",
       "        vertical-align: top;\n",
       "    }\n",
       "\n",
       "    .dataframe thead th {\n",
       "        text-align: right;\n",
       "    }\n",
       "</style>\n",
       "<table border=\"1\" class=\"dataframe\">\n",
       "  <thead>\n",
       "    <tr style=\"text-align: right;\">\n",
       "      <th></th>\n",
       "      <th>BAAI/bge-m3</th>\n",
       "      <th>sentence-transformers/all-mpnet-base-v2</th>\n",
       "    </tr>\n",
       "  </thead>\n",
       "  <tbody>\n",
       "    <tr>\n",
       "      <th>stormorken-sjaastad-langslet syndrome</th>\n",
       "      <td>Stormorken syndrome</td>\n",
       "      <td>Stormorken syndrome</td>\n",
       "    </tr>\n",
       "    <tr>\n",
       "      <th>krt1-related diffuse nonepidermolytic keratoderma</th>\n",
       "      <td>palmoplantar keratoderma, nonepidermolytic, fo...</td>\n",
       "      <td>palmoplantar keratoderma i, striate, focal, or...</td>\n",
       "    </tr>\n",
       "    <tr>\n",
       "      <th>autosomal dominant charcot-marie-tooth disease type 2e</th>\n",
       "      <td>MME-related autosomal dominant Charcot Marie T...</td>\n",
       "      <td>MME-related autosomal dominant Charcot Marie T...</td>\n",
       "    </tr>\n",
       "    <tr>\n",
       "      <th>glycogen storage disease due to glucose-6-phosphatase deficiency type ib</th>\n",
       "      <td>glycogen storage disease due to lactate dehydr...</td>\n",
       "      <td>glycogen storage disease due to glucose-6-phos...</td>\n",
       "    </tr>\n",
       "    <tr>\n",
       "      <th>x-linked spinocerebellar ataxia type 4</th>\n",
       "      <td>CDG syndrome type 4</td>\n",
       "      <td>X-linked spinocerebellar ataxia</td>\n",
       "    </tr>\n",
       "    <tr>\n",
       "      <th>autosomal dominant polycystic kidney disease</th>\n",
       "      <td>deafness, autosomal dominant</td>\n",
       "      <td>polycystic kidney disease</td>\n",
       "    </tr>\n",
       "    <tr>\n",
       "      <th>primary dystonia, dyt2 type</th>\n",
       "      <td>torsion dystonia</td>\n",
       "      <td>dystonia</td>\n",
       "    </tr>\n",
       "    <tr>\n",
       "      <th>ank3-related intellectual disability-sleep disturbance syndrome</th>\n",
       "      <td>intellectual disability-hypotonia-spasticity-s...</td>\n",
       "      <td>intellectual disability-hypotonia-spasticity-s...</td>\n",
       "    </tr>\n",
       "    <tr>\n",
       "      <th>14q22q23 microdeletion syndrome</th>\n",
       "      <td>maternal 14q32.2 microdeletion syndrome</td>\n",
       "      <td>17q21.31 microdeletion syndrome</td>\n",
       "    </tr>\n",
       "    <tr>\n",
       "      <th>3-methylglutaconic aciduria type 9</th>\n",
       "      <td>3-methylglutaconic aciduria</td>\n",
       "      <td>3-methylglutaconic aciduria</td>\n",
       "    </tr>\n",
       "  </tbody>\n",
       "</table>\n",
       "</div>"
      ],
      "text/plain": [
       "                                                                                          BAAI/bge-m3  \\\n",
       "stormorken-sjaastad-langslet syndrome                                             Stormorken syndrome   \n",
       "krt1-related diffuse nonepidermolytic keratoderma   palmoplantar keratoderma, nonepidermolytic, fo...   \n",
       "autosomal dominant charcot-marie-tooth disease ...  MME-related autosomal dominant Charcot Marie T...   \n",
       "glycogen storage disease due to glucose-6-phosp...  glycogen storage disease due to lactate dehydr...   \n",
       "x-linked spinocerebellar ataxia type 4                                            CDG syndrome type 4   \n",
       "autosomal dominant polycystic kidney disease                             deafness, autosomal dominant   \n",
       "primary dystonia, dyt2 type                                                          torsion dystonia   \n",
       "ank3-related intellectual disability-sleep dist...  intellectual disability-hypotonia-spasticity-s...   \n",
       "14q22q23 microdeletion syndrome                               maternal 14q32.2 microdeletion syndrome   \n",
       "3-methylglutaconic aciduria type 9                                        3-methylglutaconic aciduria   \n",
       "\n",
       "                                                              sentence-transformers/all-mpnet-base-v2  \n",
       "stormorken-sjaastad-langslet syndrome                                             Stormorken syndrome  \n",
       "krt1-related diffuse nonepidermolytic keratoderma   palmoplantar keratoderma i, striate, focal, or...  \n",
       "autosomal dominant charcot-marie-tooth disease ...  MME-related autosomal dominant Charcot Marie T...  \n",
       "glycogen storage disease due to glucose-6-phosp...  glycogen storage disease due to glucose-6-phos...  \n",
       "x-linked spinocerebellar ataxia type 4                                X-linked spinocerebellar ataxia  \n",
       "autosomal dominant polycystic kidney disease                                polycystic kidney disease  \n",
       "primary dystonia, dyt2 type                                                                  dystonia  \n",
       "ank3-related intellectual disability-sleep dist...  intellectual disability-hypotonia-spasticity-s...  \n",
       "14q22q23 microdeletion syndrome                                       17q21.31 microdeletion syndrome  \n",
       "3-methylglutaconic aciduria type 9                                        3-methylglutaconic aciduria  "
      ]
     },
     "execution_count": 58,
     "metadata": {},
     "output_type": "execute_result"
    }
   ],
   "source": [
    "user = [\"stormorken-sjaastad-langslet syndrome\",\n",
    "\t\"krt1-related diffuse nonepidermolytic keratoderma\",\n",
    "\t\"autosomal dominant charcot-marie-tooth disease type 2e\",\n",
    "\t\"glycogen storage disease due to glucose-6-phosphatase deficiency type ib\",\n",
    "\t\"x-linked spinocerebellar ataxia type 4\",\n",
    "\t\"autosomal dominant polycystic kidney disease\",\n",
    "    \"primary dystonia, dyt2 type\",\n",
    "\t\"ank3-related intellectual disability-sleep disturbance syndrome\",\n",
    "\t\"14q22q23 microdeletion syndrome\",\n",
    "\t\"3-methylglutaconic aciduria type 9\"\n",
    "]\n",
    "\n",
    "models = [\"BAAI/bge-m3\", \"sentence-transformers/all-mpnet-base-v2\"]\n",
    "\n",
    "# pd dataframe to store user query and node name of the best node\n",
    "results = pd.DataFrame(index=user, columns=models)\n",
    "\n",
    "for model in models:\n",
    "    Settings.embed_model = HuggingFaceEmbedding(model_name=model)\n",
    "    \n",
    "    if model == \"BAAI/bge-m3\":\n",
    "        # Load the actual data into all_nodes_embeddded\n",
    "        with open(os.path.expanduser('~/scratch-llm/storage/nodes/all_nodes_bge-m3.pkl'), 'rb') as f:\n",
    "            all_nodes_embedded: List[TextNode] = pickle.load(f)\n",
    "        # Create dictionaries from the nodes\n",
    "        embedding_dict = {node.id_: node.get_embedding() for node in all_nodes_embedded}\n",
    "        text_id_to_ref_doc_id = {node.id_: node.ref_doc_id or \"None\" for node in all_nodes_embedded}\n",
    "        metadata_dict = {node.id_: node.metadata for node in all_nodes_embedded}\n",
    "\n",
    "        # Initialize the SimpleVectorStore with the dictionaries\n",
    "        vector_store = SimpleVectorStore(\n",
    "            data = SimpleVectorStoreData(\n",
    "                embedding_dict=embedding_dict,\n",
    "                text_id_to_ref_doc_id=text_id_to_ref_doc_id,\n",
    "                metadata_dict=metadata_dict,\n",
    "            ),\n",
    "            stores_text=True\n",
    "        )\n",
    "        \n",
    "    elif model == \"sentence-transformers/all-mpnet-base-v2\":\n",
    "        # Load the actual data into all_nodes_embeddded\n",
    "        with open(os.path.expanduser('~/scratch-llm/storage/nodes/all_nodes_all-mpnet-base-v2.pkl'), 'rb') as f:\n",
    "            all_nodes_embedded: List[TextNode] = pickle.load(f)\n",
    "        # Create dictionaries from the nodes\n",
    "        embedding_dict = {node.id_: node.get_embedding() for node in all_nodes_embedded}\n",
    "        text_id_to_ref_doc_id = {node.id_: node.ref_doc_id or \"None\" for node in all_nodes_embedded}\n",
    "        metadata_dict = {node.id_: node.metadata for node in all_nodes_embedded}\n",
    "\n",
    "        # Initialize the SimpleVectorStore with the dictionaries\n",
    "        vector_store = SimpleVectorStore(\n",
    "            data = SimpleVectorStoreData(\n",
    "                embedding_dict=embedding_dict,\n",
    "                text_id_to_ref_doc_id=text_id_to_ref_doc_id,\n",
    "                metadata_dict=metadata_dict,\n",
    "            ),\n",
    "            stores_text=True\n",
    "        )\n",
    "\n",
    "    for i, u in enumerate(user):\n",
    "        # print(f\"\\n=== RAG {i+1} === \\nUser query: {u}\\n\")\n",
    "        result = DiseaseMode(vector_store, graph_store).retrieve(u)\n",
    "        if len(result) == 4:\n",
    "            context, phenotypes, top_node_id, top_node_name = result\n",
    "        elif len(result) == 3:\n",
    "            phenotypes, top_node_id, top_node_name = result\n",
    "            context = None\n",
    "        else:\n",
    "            raise ValueError(\"Unexpected number of return values from retrieve()\")\n",
    "\n",
    "        results.loc[u, model] = top_node_name\n",
    "results"
   ]
  },
  {
   "cell_type": "code",
   "execution_count": null,
   "metadata": {},
   "outputs": [],
   "source": [
    "results.to_latex(os.path.expanduser('~/scratch-llm/results/disease_mode/disease_mode_results.tex'))"
   ]
  },
  {
   "cell_type": "markdown",
   "metadata": {},
   "source": [
    "### Example RAG/no-RAG response"
   ]
  },
  {
   "cell_type": "code",
   "execution_count": null,
   "metadata": {},
   "outputs": [
    {
     "name": "stdout",
     "output_type": "stream",
     "text": [
      "\n",
      "=== RAG === \n",
      "User query: Developmental and epileptic encephalopathy 111\n",
      "\n",
      "19 text chunks after repacking\n",
      "1 text chunks after repacking\n"
     ]
    },
    {
     "data": {
      "text/markdown": [
       "Developmental and epileptic encephalopathy 111 is a rare genetic disorder characterized by severe developmental delay, intellectual disability, and seizures. The following are the 16 most relevant symptoms:\n",
       "\n",
       "* Hypotonia\n",
       "* Muscle weakness\n",
       "* Visual impairment\n",
       "* Reduced visual acuity\n",
       "* Dementia\n",
       "* Neurodevelopmental delay\n",
       "* Neurological speech impairment\n",
       "* Growth delay\n",
       "* Hypothyroidism\n",
       "* Intellectual disability\n",
       "* Hypertonia\n",
       "* Lower limb spasticity\n",
       "* Spasticity\n",
       "* Seizure\n",
       "* Cerebral atrophy\n",
       "* Delayed speech and language development"
      ],
      "text/plain": [
       "<IPython.core.display.Markdown object>"
      ]
     },
     "metadata": {},
     "output_type": "display_data"
    },
    {
     "name": "stdout",
     "output_type": "stream",
     "text": [
      "\n",
      "\n",
      " === no RAG === \n",
      "User query: Developmental and epileptic encephalopathy 111\n",
      "\n"
     ]
    },
    {
     "data": {
      "text/markdown": [
       "Here is a list of 16 symptoms for Developmental and epileptic encephalopathy 111:\n",
       "\n",
       "* Abnormality of the cerebellum\n",
       "* Abnormality of the cerebral cortex\n",
       "* Abnormality of the cerebral white matter\n",
       "* Abnormality of the dentate nucleus\n",
       "* Abnormality of the globus pallidus\n",
       "* Abnormality of the hippocampus\n",
       "* Abnormality of the motor cortex\n",
       "* Abnormality of the neocortex\n",
       "* Abnormality of the substantia nigra\n",
       "* Abnormality of the thalamus\n",
       "* Behavioral abnormality\n",
       "* Cerebral atrophy\n",
       "* Developmental delay\n",
       "* Epilepsy\n",
       "* Hypotonia\n",
       "* Seizure"
      ],
      "text/plain": [
       "<IPython.core.display.Markdown object>"
      ]
     },
     "metadata": {},
     "output_type": "display_data"
    }
   ],
   "source": [
    "user = \"Developmental and epileptic encephalopathy 111\"\n",
    "\n",
    "print(f\"\\n=== RAG === \\nUser query: {user}\\n\")\n",
    "prompt_template = PromptTemplate(context_phenotype_template) \n",
    "summarizer = TreeSummarize(verbose=True, llm=llm, summary_template=prompt_template)        \n",
    "response = safe_llm_call(summarizer,\n",
    "        query_str=user,\n",
    "        text_chunks=\"\\n\".join(context) if context else \"\",\n",
    "        phenotype_context=phenotypes,\n",
    "        timeout=1000  \n",
    ")   \n",
    "display(Markdown(response))\n",
    "\n",
    "print(f\"\\n\\n === no RAG === \\nUser query: {user}\\n\")\n",
    "# include a prompt template for the LLM chat \n",
    "template = PromptTemplate(no_rag_template)\n",
    "prompt = template.format(query_str=user)\n",
    "response = llm.chat([ChatMessage(role=\"user\", content=prompt)])\n",
    "response_text = response.message.content if hasattr(response, \"message\") else str(response)\n",
    "display(Markdown(response_text))"
   ]
  },
  {
   "cell_type": "markdown",
   "metadata": {},
   "source": [
    "#### Checks with NebulaGraph "
   ]
  },
  {
   "cell_type": "code",
   "execution_count": 63,
   "metadata": {},
   "outputs": [
    {
     "data": {
      "text/html": [
       "<div>\n",
       "<style scoped>\n",
       "    .dataframe tbody tr th:only-of-type {\n",
       "        vertical-align: middle;\n",
       "    }\n",
       "\n",
       "    .dataframe tbody tr th {\n",
       "        vertical-align: top;\n",
       "    }\n",
       "\n",
       "    .dataframe thead th {\n",
       "        text-align: right;\n",
       "    }\n",
       "</style>\n",
       "<table border=\"1\" class=\"dataframe\">\n",
       "  <thead>\n",
       "    <tr style=\"text-align: right;\">\n",
       "      <th></th>\n",
       "    </tr>\n",
       "  </thead>\n",
       "  <tbody>\n",
       "  </tbody>\n",
       "</table>\n",
       "</div>"
      ],
      "text/plain": [
       "Empty DataFrame\n",
       "Columns: []\n",
       "Index: []"
      ]
     },
     "execution_count": 63,
     "metadata": {},
     "output_type": "execute_result"
    }
   ],
   "source": [
    "%ngql CREATE SPACE IF NOT EXISTS PrimeKG(vid_type=FIXED_STRING(256))\n",
    "%ngql USE PrimeKG;"
   ]
  },
  {
   "cell_type": "code",
   "execution_count": null,
   "metadata": {},
   "outputs": [
    {
     "data": {
      "text/html": [
       "<div>\n",
       "<style scoped>\n",
       "    .dataframe tbody tr th:only-of-type {\n",
       "        vertical-align: middle;\n",
       "    }\n",
       "\n",
       "    .dataframe tbody tr th {\n",
       "        vertical-align: top;\n",
       "    }\n",
       "\n",
       "    .dataframe thead th {\n",
       "        text-align: right;\n",
       "    }\n",
       "</style>\n",
       "<table border=\"1\" class=\"dataframe\">\n",
       "  <thead>\n",
       "    <tr style=\"text-align: right;\">\n",
       "      <th></th>\n",
       "      <th>e.Props__.node_name</th>\n",
       "      <th>e.Chunk__.text</th>\n",
       "    </tr>\n",
       "  </thead>\n",
       "  <tbody>\n",
       "    <tr>\n",
       "      <th>0</th>\n",
       "      <td>Wieacker-Wolff syndrome (spectrum)</td>\n",
       "      <td></td>\n",
       "    </tr>\n",
       "  </tbody>\n",
       "</table>\n",
       "</div>"
      ],
      "text/plain": [
       "                  e.Props__.node_name e.Chunk__.text\n",
       "0  Wieacker-Wolff syndrome (spectrum)               "
      ]
     },
     "execution_count": 58,
     "metadata": {},
     "output_type": "execute_result"
    }
   ],
   "source": [
    "%%ngql\n",
    "MATCH (e:Node__)\n",
    "WHERE id(e) == \"38849\"\n",
    "RETURN DISTINCT \n",
    "        e.Props__.node_name, \n",
    "        e.Chunk__.text"
   ]
  },
  {
   "cell_type": "code",
   "execution_count": 66,
   "metadata": {},
   "outputs": [
    {
     "data": {
      "text/html": [
       "<div>\n",
       "<style scoped>\n",
       "    .dataframe tbody tr th:only-of-type {\n",
       "        vertical-align: middle;\n",
       "    }\n",
       "\n",
       "    .dataframe tbody tr th {\n",
       "        vertical-align: top;\n",
       "    }\n",
       "\n",
       "    .dataframe thead th {\n",
       "        text-align: right;\n",
       "    }\n",
       "</style>\n",
       "<table border=\"1\" class=\"dataframe\">\n",
       "  <thead>\n",
       "    <tr style=\"text-align: right;\">\n",
       "      <th></th>\n",
       "      <th>e.Props__.node_name</th>\n",
       "      <th>e.Props__.node_type</th>\n",
       "      <th>e.Chunk__.text</th>\n",
       "      <th>t1.Props__.node_name</th>\n",
       "      <th>t1.Props__.node_type</th>\n",
       "    </tr>\n",
       "  </thead>\n",
       "  <tbody>\n",
       "    <tr>\n",
       "      <th>0</th>\n",
       "      <td>familial focal alopecia</td>\n",
       "      <td>disease</td>\n",
       "      <td></td>\n",
       "      <td>Autosomal dominant inheritance</td>\n",
       "      <td>effect/phenotype</td>\n",
       "    </tr>\n",
       "    <tr>\n",
       "      <th>1</th>\n",
       "      <td>familial focal alopecia</td>\n",
       "      <td>disease</td>\n",
       "      <td></td>\n",
       "      <td>Patchy alopecia</td>\n",
       "      <td>effect/phenotype</td>\n",
       "    </tr>\n",
       "    <tr>\n",
       "      <th>2</th>\n",
       "      <td>myelolymphatic insufficiency</td>\n",
       "      <td>disease</td>\n",
       "      <td></td>\n",
       "      <td>Hyposegmentation of neutrophil nuclei</td>\n",
       "      <td>effect/phenotype</td>\n",
       "    </tr>\n",
       "    <tr>\n",
       "      <th>3</th>\n",
       "      <td>myelolymphatic insufficiency</td>\n",
       "      <td>disease</td>\n",
       "      <td></td>\n",
       "      <td>X-linked recessive inheritance</td>\n",
       "      <td>effect/phenotype</td>\n",
       "    </tr>\n",
       "    <tr>\n",
       "      <th>4</th>\n",
       "      <td>cerebellar, ocular, craniofacial, and genital syndrome</td>\n",
       "      <td>disease</td>\n",
       "      <td></td>\n",
       "      <td>Low-set ears</td>\n",
       "      <td>effect/phenotype</td>\n",
       "    </tr>\n",
       "    <tr>\n",
       "      <th>...</th>\n",
       "      <td>...</td>\n",
       "      <td>...</td>\n",
       "      <td>...</td>\n",
       "      <td>...</td>\n",
       "      <td>...</td>\n",
       "    </tr>\n",
       "    <tr>\n",
       "      <th>12449</th>\n",
       "      <td>Wieacker-Wolff syndrome, female-restricted</td>\n",
       "      <td>disease</td>\n",
       "      <td></td>\n",
       "      <td>Inability to walk</td>\n",
       "      <td>effect/phenotype</td>\n",
       "    </tr>\n",
       "    <tr>\n",
       "      <th>12450</th>\n",
       "      <td>Wieacker-Wolff syndrome, female-restricted</td>\n",
       "      <td>disease</td>\n",
       "      <td></td>\n",
       "      <td>Distal muscle weakness</td>\n",
       "      <td>effect/phenotype</td>\n",
       "    </tr>\n",
       "    <tr>\n",
       "      <th>12451</th>\n",
       "      <td>Wieacker-Wolff syndrome, female-restricted</td>\n",
       "      <td>disease</td>\n",
       "      <td></td>\n",
       "      <td>Kyphosis</td>\n",
       "      <td>effect/phenotype</td>\n",
       "    </tr>\n",
       "    <tr>\n",
       "      <th>12452</th>\n",
       "      <td>Wieacker-Wolff syndrome, female-restricted</td>\n",
       "      <td>disease</td>\n",
       "      <td></td>\n",
       "      <td>Flexion contracture</td>\n",
       "      <td>effect/phenotype</td>\n",
       "    </tr>\n",
       "    <tr>\n",
       "      <th>12453</th>\n",
       "      <td>Wieacker-Wolff syndrome, female-restricted</td>\n",
       "      <td>disease</td>\n",
       "      <td></td>\n",
       "      <td>Generalized hypotonia</td>\n",
       "      <td>effect/phenotype</td>\n",
       "    </tr>\n",
       "  </tbody>\n",
       "</table>\n",
       "<p>12454 rows × 5 columns</p>\n",
       "</div>"
      ],
      "text/plain": [
       "                                          e.Props__.node_name e.Props__.node_type e.Chunk__.text                   t1.Props__.node_name t1.Props__.node_type\n",
       "0                                     familial focal alopecia             disease                        Autosomal dominant inheritance     effect/phenotype\n",
       "1                                     familial focal alopecia             disease                                       Patchy alopecia     effect/phenotype\n",
       "2                                myelolymphatic insufficiency             disease                 Hyposegmentation of neutrophil nuclei     effect/phenotype\n",
       "3                                myelolymphatic insufficiency             disease                        X-linked recessive inheritance     effect/phenotype\n",
       "4      cerebellar, ocular, craniofacial, and genital syndrome             disease                                          Low-set ears     effect/phenotype\n",
       "...                                                       ...                 ...            ...                                    ...                  ...\n",
       "12449              Wieacker-Wolff syndrome, female-restricted             disease                                     Inability to walk     effect/phenotype\n",
       "12450              Wieacker-Wolff syndrome, female-restricted             disease                                Distal muscle weakness     effect/phenotype\n",
       "12451              Wieacker-Wolff syndrome, female-restricted             disease                                              Kyphosis     effect/phenotype\n",
       "12452              Wieacker-Wolff syndrome, female-restricted             disease                                   Flexion contracture     effect/phenotype\n",
       "12453              Wieacker-Wolff syndrome, female-restricted             disease                                 Generalized hypotonia     effect/phenotype\n",
       "\n",
       "[12454 rows x 5 columns]"
      ]
     },
     "execution_count": 66,
     "metadata": {},
     "output_type": "execute_result"
    }
   ],
   "source": [
    "%%ngql\n",
    "# find all disease nodes where e.Chunk__.text is empty\n",
    "MATCH (e:Node__)\n",
    "MATCH (e)-[r1:Relation__{label:\"disease-phenotype-positive\"}]-(t1) # {label:\"disease-phenotype-positive\"}\n",
    "WHERE e.Props__.node_type == \"disease\" AND e.Chunk__.text == \"\"\n",
    "RETURN DISTINCT \n",
    "    e.Props__.node_name,\n",
    "    e.Props__.node_type,\n",
    "    e.Chunk__.text,\n",
    "    t1.Props__.node_name,\n",
    "    t1.Props__.node_type"
   ]
  },
  {
   "cell_type": "code",
   "execution_count": 69,
   "metadata": {},
   "outputs": [
    {
     "name": "stdout",
     "output_type": "stream",
     "text": [
      "\u001b[1;3;38;2;47;75;124mudocker command: udocker /home/lasa14/.conda/envs/llm-rag/bin/udocker --allow-root ps | grep graphd | awk '{print $1}' | xargs -I {} udocker --allow-root rm -f {}\u001b[0m\n",
      "\u001b[1;3;38;2;102;81;145merror: Error: deleting directory:  /home/lasa14/.udocker/containers/d9a1b12a-62b5-3764-80e3-dd482130cc1d\n",
      "Error: deleting container\n",
      "\u001b[0m\n",
      "Retrying in 5 seconds... udocker command failed with return code 123\n",
      "\u001b[1;3;38;2;47;75;124mudocker command: udocker /home/lasa14/.conda/envs/llm-rag/bin/udocker --allow-root ps | grep graphd | awk '{print $1}' | xargs -I {} udocker --allow-root rm -f {}\u001b[0m\n",
      "\u001b[1;3;38;2;102;81;145merror: Error: deleting directory:  /home/lasa14/.udocker/containers/d9a1b12a-62b5-3764-80e3-dd482130cc1d\n",
      "Error: deleting container\n",
      "\u001b[0m\n",
      "Retrying in 15 seconds... udocker command failed with return code 123\n",
      "\u001b[1;3;38;2;47;75;124mudocker command: udocker /home/lasa14/.conda/envs/llm-rag/bin/udocker --allow-root ps | grep graphd | awk '{print $1}' | xargs -I {} udocker --allow-root rm -f {}\u001b[0m\n",
      "\u001b[1;3;38;2;102;81;145merror: Error: deleting directory:  /home/lasa14/.udocker/containers/d9a1b12a-62b5-3764-80e3-dd482130cc1d\n",
      "Error: deleting container\n",
      "\u001b[0m\n",
      "Process with PID 535765 has been terminated.\n",
      "Process with PID 534711 has been terminated.\n"
     ]
    }
   ],
   "source": [
    "n.stop()"
   ]
  }
 ],
 "metadata": {
  "kernelspec": {
   "display_name": "Python (llm-rag)",
   "language": "python",
   "name": "llm-rag"
  },
  "language_info": {
   "codemirror_mode": {
    "name": "ipython",
    "version": 3
   },
   "file_extension": ".py",
   "mimetype": "text/x-python",
   "name": "python",
   "nbconvert_exporter": "python",
   "pygments_lexer": "ipython3",
   "version": "3.12.0"
  }
 },
 "nbformat": 4,
 "nbformat_minor": 4
}
