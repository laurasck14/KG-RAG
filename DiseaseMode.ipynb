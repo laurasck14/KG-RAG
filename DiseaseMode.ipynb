{
 "cells": [
  {
   "cell_type": "code",
   "execution_count": null,
   "metadata": {},
   "outputs": [],
   "source": [
    "import pathlib, os\n",
    "os.environ[\"TOKENIZERS_PARALLELISM\"] = \"false\"\n",
    "os.environ['HF_HOME'] = str(pathlib.Path(\"~/scratch-llm/storage/cache/huggingface/\").expanduser().absolute()) # '/scratch-llm/storage/cache/'\n",
    "# os.environ[\"TRANSFORMERS_CACHE\"] = \"~/scratch-llm/storage/models/\"\n",
    "\n",
    "import torch, pickle\n",
    "import numpy as np\n",
    "\n",
    "from transformers import AutoTokenizer\n",
    "from nebulagraph_lite import nebulagraph_let as ng_let\n",
    "from llama_index.graph_stores.nebula import NebulaPropertyGraphStore\n",
    "\n",
    "from llama_index.core import Settings\n",
    "from llama_index.core.schema import TextNode\n",
    "from llama_index.core.prompts import PromptTemplate\n",
    "from llama_index.core.response_synthesizers import TreeSummarize\n",
    "from llama_index.core.vector_stores.simple import SimpleVectorStoreData, SimpleVectorStore, VectorStoreQuery\n",
    "\n",
    "from llama_index.llms.huggingface import HuggingFaceLLM\n",
    "from llama_index.embeddings.huggingface import HuggingFaceEmbedding\n",
    "\n",
    "from typing import List\n",
    "from numpy import dot\n",
    "from numpy.linalg import norm\n",
    "from pydantic import BaseModel, Field\n",
    "from llama_index.core.output_parsers import PydanticOutputParser"
   ]
  },
  {
   "cell_type": "markdown",
   "metadata": {},
   "source": [
    "# NebulaGraph conexion"
   ]
  },
  {
   "cell_type": "code",
   "execution_count": null,
   "metadata": {},
   "outputs": [
    {
     "name": "stdout",
     "output_type": "stream",
     "text": [
      "Info: downloading layer sha256:20717c72714566f0a51c0f26f7237ae23515d730d9ffe7b8c34bb0f448d23beb\n",
      "Info: downloading layer sha256:f73b0b86b2168fee37455b76bbb9a850d41ad48dda1544fa5a4c8fb933bfa006\n",
      "Info: downloading layer sha256:4f4fb700ef54461cfa02571ae0db9a0dc1e0cdb5577484a6d75e68dc38e8acc1\n",
      "Info: downloading layer sha256:3567ff3965abe5d66952e4a8be22af4c6e9a95d2ac02ada22ac6c0b0be37a2c1\n",
      "Info: downloading layer sha256:5beb905c3081ead3dd9f9a60673fd722da67b135bc558bc71b92d69ec12ae999\n",
      "Info: downloading layer sha256:2d473b07cdd5f0912cd6f1a703352c82b512407db6b05b43f2553732b55df3bc\n",
      "Error: container name already exists\n",
      "Info: downloading layer sha256:1ac1fd25afe5d455d2582e90b07d4eedabf5eae8e66b6508893bb030f7db5157\n",
      "Info: downloading layer sha256:ca0b24da507dc453e8724ea7a219ee899c2f3020d2828e982d0e36bf546ba2f4\n",
      "Info: downloading layer sha256:4f4fb700ef54461cfa02571ae0db9a0dc1e0cdb5577484a6d75e68dc38e8acc1\n",
      "Info: downloading layer sha256:b3d21254eb5aefb20a7ac54f1000092a19fd6a4a874319ccae2ccbed0ee5af6e\n",
      "Info: downloading layer sha256:5beb905c3081ead3dd9f9a60673fd722da67b135bc558bc71b92d69ec12ae999\n",
      "Info: downloading layer sha256:2d473b07cdd5f0912cd6f1a703352c82b512407db6b05b43f2553732b55df3bc\n",
      "Error: container name already exists\n",
      "Info: downloading layer sha256:6701376b9ee377849630949369d231a5627694aa865050bd5291a0f058b76ad8\n",
      "Info: downloading layer sha256:5bd96faf09884db3ee90e525deb04b9fd33e7994b6b56273db4be55654da4bee\n",
      "Info: downloading layer sha256:4f4fb700ef54461cfa02571ae0db9a0dc1e0cdb5577484a6d75e68dc38e8acc1\n",
      "Info: downloading layer sha256:4be1146667d37710b6a20da1643a7237ee88946c2f6e2c0517e4bdfb8185ad37\n",
      "Info: downloading layer sha256:5beb905c3081ead3dd9f9a60673fd722da67b135bc558bc71b92d69ec12ae999\n",
      "Info: downloading layer sha256:2d473b07cdd5f0912cd6f1a703352c82b512407db6b05b43f2553732b55df3bc\n",
      "Error: container name already exists\n",
      "\u001b[1;3;38;2;47;75;124mMessage: Activating storaged...\u001b[0m\n",
      "\u001b[1;3;38;2;102;81;145mResult of `SHOW HOSTS`:\u001b[0m\n",
      "\u001b[1;3;38;2;47;75;124m    errors:\u001b[0m\n",
      "\u001b[1;3;38;2;47;75;124m        code: 0\u001b[0m\n",
      "\u001b[1;3;38;2;102;81;145m    results:\u001b[0m\n",
      "\u001b[1;3;38;2;47;75;124m        spaceName: \u001b[0m\n",
      "\u001b[1;3;38;2;102;81;145m        data:\u001b[0m\n",
      "\u001b[1;3;38;2;47;75;124m            meta:\u001b[0m\n",
      "\u001b[1;3;38;2;47;75;124m                None, None, None, None, None, None, None\u001b[0m\n",
      "\u001b[1;3;38;2;102;81;145m            row:\u001b[0m\n",
      "\u001b[1;3;38;2;102;81;145m                127.0.0.1, 9779, ONLINE, 201, PrimeKG:100, PrimeKG_nebula:100, basketballplayer:1, PrimeKG:100, PrimeKG_nebula:100, basketballplayer:1, 3.8.0\u001b[0m\n",
      "\u001b[1;3;38;2;160;81;149m        columns:\u001b[0m\n",
      "\u001b[1;3;38;2;160;81;149m            Host, Port, Status, Leader count, Leader distribution, Partition distribution, Version\u001b[0m\n",
      "\u001b[1;3;38;2;212;80;135m        errors:\u001b[0m\n",
      "\u001b[1;3;38;2;47;75;124m            code: 0\u001b[0m\n",
      "\u001b[1;3;38;2;249;93;106m        latencyInUs: 967\u001b[0m\n",
      "\u001b[1;3;38;2;168;255;159mInfo: loading basketballplayer dataset...\u001b[0m\n",
      "\u001b[1;3;38;2;255;186;119m\n",
      "  _   _      _           _        ____                 _     \n",
      " | \\ | | ___| |__  _   _| | __ _ / ___|_ __ __ _ _ __ | |__  \n",
      " |  \\| |/ _ | '_ \\| | | | |/ _` | |  _| '__/ _` | '_ \\| '_ \\ \n",
      " | |\\  |  __| |_) | |_| | | (_| | |_| | | | (_| | |_) | | | |\n",
      " |_| \\_|\\___|_.__/ \\__,_|_|\\__,_|\\____|_|  \\__,_| .__/|_| |_|\n",
      "                                                |_|          \n",
      "                                                lite version\n",
      "\u001b[0m\n",
      "\u001b[1;3;38;2;210;161;255m[ OK ] nebulagraph_lite started successfully!\u001b[0m\n"
     ]
    }
   ],
   "source": [
    "# load NebulaGraph JupyterNotebook extension\n",
    "# !udocker pull vesoft/nebula-metad:v3\n",
    "# !udocker create --name=nebula-metad vesoft/nebula-metad:v3\n",
    "# !udocker setup --execmode=F1 nebula-metad\n",
    "# !udocker pull vesoft/nebula-graphd:v3\n",
    "# !udocker create --name=nebula-graphd vesoft/nebula-graphd:v3\n",
    "# !udocker setup --execmode=F1 nebula-graphd\n",
    "# !udocker pull vesoft/nebula-storaged:v3\n",
    "# !udocker create --name=nebula-storaged vesoft/nebula-storaged:v3\n",
    "# !udocker setup --execmode=F1 nebula-storaged\n",
    "\n",
    "n = ng_let(in_container=True)\n",
    "n.start() # Takes around 5 mins"
   ]
  },
  {
   "cell_type": "code",
   "execution_count": 4,
   "metadata": {},
   "outputs": [
    {
     "name": "stdout",
     "output_type": "stream",
     "text": [
      "\u001b[1;3;38;2;0;135;107m[OK] Connection Pool Created\u001b[0m\n"
     ]
    },
    {
     "data": {
      "text/html": [
       "<div>\n",
       "<style scoped>\n",
       "    .dataframe tbody tr th:only-of-type {\n",
       "        vertical-align: middle;\n",
       "    }\n",
       "\n",
       "    .dataframe tbody tr th {\n",
       "        vertical-align: top;\n",
       "    }\n",
       "\n",
       "    .dataframe thead th {\n",
       "        text-align: right;\n",
       "    }\n",
       "</style>\n",
       "<table border=\"1\" class=\"dataframe\">\n",
       "  <thead>\n",
       "    <tr style=\"text-align: right;\">\n",
       "      <th></th>\n",
       "      <th>Name</th>\n",
       "    </tr>\n",
       "  </thead>\n",
       "  <tbody>\n",
       "    <tr>\n",
       "      <th>0</th>\n",
       "      <td>PrimeKG</td>\n",
       "    </tr>\n",
       "    <tr>\n",
       "      <th>1</th>\n",
       "      <td>PrimeKG_nebula</td>\n",
       "    </tr>\n",
       "    <tr>\n",
       "      <th>2</th>\n",
       "      <td>basketballplayer</td>\n",
       "    </tr>\n",
       "  </tbody>\n",
       "</table>\n",
       "</div>"
      ],
      "text/plain": [
       "               Name\n",
       "0           PrimeKG\n",
       "1    PrimeKG_nebula\n",
       "2  basketballplayer"
      ]
     },
     "execution_count": 4,
     "metadata": {},
     "output_type": "execute_result"
    }
   ],
   "source": [
    "%reload_ext ngql\n",
    "%ngql --address 127.0.0.1 --port 9669 --user root --password nebula"
   ]
  },
  {
   "cell_type": "markdown",
   "metadata": {},
   "source": [
    "# Vector + Graph store"
   ]
  },
  {
   "cell_type": "markdown",
   "metadata": {},
   "source": [
    "## SimpleVectorStore:"
   ]
  },
  {
   "cell_type": "code",
   "execution_count": 5,
   "metadata": {},
   "outputs": [],
   "source": [
    "# Load the actual data into all_nodes_embeddded\n",
    "with open(os.path.expanduser('~/scratch-llm/storage/nodes/all_nodes_all-mpnet-base-v2.pkl'), 'rb') as f:\n",
    "    all_nodes_embedded: List[TextNode] = pickle.load(f)\n",
    "# Create dictionaries from the nodes\n",
    "embedding_dict = {node.id_: node.get_embedding() for node in all_nodes_embedded}\n",
    "text_id_to_ref_doc_id = {node.id_: node.ref_doc_id or \"None\" for node in all_nodes_embedded}\n",
    "metadata_dict = {node.id_: node.metadata for node in all_nodes_embedded}\n",
    "\n",
    "# Initialize the SimpleVectorStore with the dictionaries\n",
    "vector_store = SimpleVectorStore(\n",
    "    data = SimpleVectorStoreData(\n",
    "        embedding_dict=embedding_dict,\n",
    "        text_id_to_ref_doc_id=text_id_to_ref_doc_id,\n",
    "        metadata_dict=metadata_dict,\n",
    "    ),\n",
    "    stores_text=True\n",
    ")"
   ]
  },
  {
   "cell_type": "markdown",
   "metadata": {},
   "source": [
    "## NebulaPropertyGraphStore:"
   ]
  },
  {
   "cell_type": "code",
   "execution_count": 6,
   "metadata": {},
   "outputs": [],
   "source": [
    "graph_store = NebulaPropertyGraphStore(\n",
    "    space = \"PrimeKG\",\n",
    "    username = \"root\",\n",
    "    password = \"nebula\",\n",
    "    url = \"nebula://localhost:9669\",\n",
    "    props_schema= \"\"\"`node_index` STRING, `node_type` STRING, `node_id` STRING, `node_name` STRING, \n",
    "        `node_source` STRING, `mondo_id` STRING, `mondo_name` STRING, `group_id_bert` STRING, \n",
    "        `group_name_bert` STRING, `orphanet_prevalence` STRING, `display_relation` STRING \"\"\",\n",
    ")"
   ]
  },
  {
   "cell_type": "markdown",
   "metadata": {},
   "source": [
    "# LLM"
   ]
  },
  {
   "cell_type": "markdown",
   "metadata": {},
   "source": [
    "## SciBERT"
   ]
  },
  {
   "cell_type": "code",
   "execution_count": 7,
   "metadata": {},
   "outputs": [],
   "source": [
    "# tokenizer = AutoTokenizer.from_pretrained(\"allenai/scibert_scivocab_cased\", padding_side=\"left\", device_map=\"auto\")    \n",
    "# if tokenizer.pad_token_id is None: #no <pad> token previously defined, only eos_token\n",
    "#     tokenizer.pad_token = \"<|end_of_text|>\"\n",
    "#     tokenizer.pad_token_id = tokenizer.convert_tokens_to_ids(tokenizer.pad_token)\n",
    "\n",
    "# if tokenizer.eos_token_id is None: # no <eos> token previously defined\n",
    "#     tokenizer.eos_token = \"<|end_of_text|>\"\n",
    "#     tokenizer.eos_token_id = tokenizer.convert_tokens_to_ids(tokenizer.eos_token)\n",
    "\n",
    "\n",
    "# llm = HuggingFaceLLM(\n",
    "#     model_name=\"allenai/scibert_scivocab_cased\",\n",
    "#     context_window=512,\n",
    "#     max_new_tokens=1048,\n",
    "#     generate_kwargs={\n",
    "#         \"temperature\": 0.10, \n",
    "#         \"do_sample\": True,\n",
    "#         \"pad_token_id\": tokenizer.pad_token_id,\n",
    "#         \"top_k\": 5, \n",
    "#         \"top_p\": 0.85\n",
    "#     },\n",
    "#     model_kwargs={\n",
    "#         \"torch_dtype\": torch.float16,\n",
    "#     },\n",
    "#     tokenizer=tokenizer,\n",
    "#     # device_map=\"auto\",  # Automatically offload layers to CPU if GPU memory is insufficient\n",
    "#     device_map=\"cuda\" if torch.cuda.is_available() else \"cpu\",\n",
    "#     stopping_ids=[tokenizer.eos_token_id],\n",
    "#     tokenizer_kwargs={\"max_length\": None},\n",
    "#     is_chat_model=True,\n",
    "# )\n",
    "\n",
    "# Settings.llm = llm\n",
    "# Settings.chunk_size = 1024\n",
    "# Settings.embed_model = HuggingFaceEmbedding(model_name=\"sentence-transformers/all-mpnet-base-v2\") # BAAI/bge-small-en-v1.5 /  m3"
   ]
  },
  {
   "cell_type": "markdown",
   "metadata": {},
   "source": [
    "## Llama-3.2-3B-Instruct"
   ]
  },
  {
   "cell_type": "code",
   "execution_count": 8,
   "metadata": {},
   "outputs": [
    {
     "data": {
      "application/vnd.jupyter.widget-view+json": {
       "model_id": "358a20c1f1944e149565a72611f35746",
       "version_major": 2,
       "version_minor": 0
      },
      "text/plain": [
       "Loading checkpoint shards:   0%|          | 0/2 [00:00<?, ?it/s]"
      ]
     },
     "metadata": {},
     "output_type": "display_data"
    },
    {
     "data": {
      "application/vnd.jupyter.widget-view+json": {
       "model_id": "8112593e7d1d4adebeb6b66f65eb69bd",
       "version_major": 2,
       "version_minor": 0
      },
      "text/plain": [
       "modules.json:   0%|          | 0.00/349 [00:00<?, ?B/s]"
      ]
     },
     "metadata": {},
     "output_type": "display_data"
    },
    {
     "data": {
      "application/vnd.jupyter.widget-view+json": {
       "model_id": "c4b7b933fe1241a3a9341cf8d3078dcb",
       "version_major": 2,
       "version_minor": 0
      },
      "text/plain": [
       "config_sentence_transformers.json:   0%|          | 0.00/116 [00:00<?, ?B/s]"
      ]
     },
     "metadata": {},
     "output_type": "display_data"
    },
    {
     "data": {
      "application/vnd.jupyter.widget-view+json": {
       "model_id": "cae54bf781504aa993116beead92edc5",
       "version_major": 2,
       "version_minor": 0
      },
      "text/plain": [
       "README.md: 0.00B [00:00, ?B/s]"
      ]
     },
     "metadata": {},
     "output_type": "display_data"
    },
    {
     "data": {
      "application/vnd.jupyter.widget-view+json": {
       "model_id": "361486906cd7481bae90eb2cbad5f595",
       "version_major": 2,
       "version_minor": 0
      },
      "text/plain": [
       "sentence_bert_config.json:   0%|          | 0.00/53.0 [00:00<?, ?B/s]"
      ]
     },
     "metadata": {},
     "output_type": "display_data"
    },
    {
     "data": {
      "application/vnd.jupyter.widget-view+json": {
       "model_id": "006e49c0c03e4f22af119b64e5c5ee8c",
       "version_major": 2,
       "version_minor": 0
      },
      "text/plain": [
       "config.json:   0%|          | 0.00/571 [00:00<?, ?B/s]"
      ]
     },
     "metadata": {},
     "output_type": "display_data"
    },
    {
     "data": {
      "application/vnd.jupyter.widget-view+json": {
       "model_id": "8f7546e8913d46afa816a307f9461768",
       "version_major": 2,
       "version_minor": 0
      },
      "text/plain": [
       "model.safetensors:   0%|          | 0.00/438M [00:00<?, ?B/s]"
      ]
     },
     "metadata": {},
     "output_type": "display_data"
    },
    {
     "data": {
      "application/vnd.jupyter.widget-view+json": {
       "model_id": "4bcf78bde0b74c1782a5b5b272f33ed2",
       "version_major": 2,
       "version_minor": 0
      },
      "text/plain": [
       "tokenizer_config.json:   0%|          | 0.00/363 [00:00<?, ?B/s]"
      ]
     },
     "metadata": {},
     "output_type": "display_data"
    },
    {
     "data": {
      "application/vnd.jupyter.widget-view+json": {
       "model_id": "4a656910ab5a41d6b586357cdf00a759",
       "version_major": 2,
       "version_minor": 0
      },
      "text/plain": [
       "vocab.txt: 0.00B [00:00, ?B/s]"
      ]
     },
     "metadata": {},
     "output_type": "display_data"
    },
    {
     "data": {
      "application/vnd.jupyter.widget-view+json": {
       "model_id": "3dae0aa879ab4ac4ba9a9164fa315bb6",
       "version_major": 2,
       "version_minor": 0
      },
      "text/plain": [
       "tokenizer.json: 0.00B [00:00, ?B/s]"
      ]
     },
     "metadata": {},
     "output_type": "display_data"
    },
    {
     "data": {
      "application/vnd.jupyter.widget-view+json": {
       "model_id": "3ff16ef3f3a04b2daf5d5aa01d9faf8c",
       "version_major": 2,
       "version_minor": 0
      },
      "text/plain": [
       "special_tokens_map.json:   0%|          | 0.00/239 [00:00<?, ?B/s]"
      ]
     },
     "metadata": {},
     "output_type": "display_data"
    },
    {
     "data": {
      "application/vnd.jupyter.widget-view+json": {
       "model_id": "f12830573de448f5ba4b951647873b7a",
       "version_major": 2,
       "version_minor": 0
      },
      "text/plain": [
       "config.json:   0%|          | 0.00/190 [00:00<?, ?B/s]"
      ]
     },
     "metadata": {},
     "output_type": "display_data"
    }
   ],
   "source": [
    "tokenizer = AutoTokenizer.from_pretrained(\"meta-llama/Llama-3.2-3B-Instruct\", padding_side=\"left\", device_map=\"auto\")    \n",
    "if tokenizer.pad_token_id is None: #no <pad> token previously defined, only eos_token\n",
    "    tokenizer.pad_token = \"<|end_of_text|>\"\n",
    "    tokenizer.pad_token_id = tokenizer.convert_tokens_to_ids(tokenizer.pad_token)\n",
    "\n",
    "\n",
    "llm = HuggingFaceLLM(\n",
    "    model_name=\"meta-llama/Llama-3.2-3B-Instruct\",\n",
    "    context_window=8192,\n",
    "    max_new_tokens=3048,\n",
    "    generate_kwargs={\n",
    "        \"temperature\": 0.10, \n",
    "        \"do_sample\": True,\n",
    "        \"pad_token_id\": tokenizer.pad_token_id,\n",
    "        \"top_k\": 10, \n",
    "        \"top_p\": 0.9,\n",
    "        # \"repetition_penalty\": 0.9,  # Added to reduce repetition\n",
    "        # \"no_repeat_ngram_size\": 3,  # Prevents repetition of n-grams\n",
    "    },\n",
    "    model_kwargs={\n",
    "        \"torch_dtype\": torch.float16,\n",
    "    },\n",
    "    tokenizer=tokenizer,\n",
    "    # device_map=\"auto\",  # Automatically offload layers to CPU if GPU memory is insufficient\n",
    "    device_map=\"cuda\" if torch.cuda.is_available() else \"cpu\",\n",
    "    stopping_ids=[tokenizer.eos_token_id],\n",
    "    tokenizer_kwargs={\"max_length\": None},\n",
    "    is_chat_model=True,\n",
    ")\n",
    "\n",
    "Settings.llm = llm\n",
    "Settings.chunk_size = 1024\n",
    "Settings.embed_model = HuggingFaceEmbedding(model_name=\"sentence-transformers/all-mpnet-base-v2\") # BAAI/bge-small-en-v1.5 /  m3 / sentence-transformers/all-mpnet-base-v2"
   ]
  },
  {
   "cell_type": "markdown",
   "metadata": {},
   "source": [
    "## Llama-3.3-70B-Instruct"
   ]
  },
  {
   "cell_type": "code",
   "execution_count": 9,
   "metadata": {},
   "outputs": [],
   "source": [
    "# # for Llama-3.3-70B-Instruct\n",
    "# from transformers import BitsAndBytesConfig\n",
    "# quantization_config = BitsAndBytesConfig(\n",
    "#     load_in_4bit=True,\n",
    "#     bnb_4bit_compute_dtype=torch.float16,\n",
    "#     bnb_4bit_quant_type=\"nf4\"\n",
    "# )\n",
    "\n",
    "# tokenizer = AutoTokenizer.from_pretrained(\"meta-llama/Llama-3.3-70B-Instruct\", padding_side=\"left\", device_map=\"auto\")    \n",
    "# if tokenizer.pad_token_id is None: #no <pad> token previously defined, only eos_token\n",
    "#     tokenizer.pad_token = \"<|end_of_text|>\"\n",
    "#     tokenizer.pad_token_id = tokenizer.convert_tokens_to_ids(tokenizer.pad_token)\n",
    "\n",
    "\n",
    "# llm = HuggingFaceLLM(\n",
    "#     model_name=\"meta-llama/Llama-3.3-70B-Instruct\",\n",
    "#     context_window=1048,\n",
    "#     max_new_tokens=256,\n",
    "#     generate_kwargs={\n",
    "#         \"temperature\": 0.10, \n",
    "#         \"do_sample\": True,\n",
    "#         \"pad_token_id\": tokenizer.pad_token_id,\n",
    "#         \"top_k\": 5, \n",
    "#         \"top_p\": 0.85\n",
    "#     },\n",
    "#     model_kwargs={\n",
    "#         \"torch_dtype\": torch.float16,\n",
    "#         \"quantization_config\": quantization_config,\n",
    "#     },\n",
    "#     tokenizer=tokenizer,\n",
    "#     # device_map=\"auto\",  # Automatically offload layers to CPU if GPU memory is insufficient\n",
    "#     device_map=\"cuda\" if torch.cuda.is_available() else \"cpu\",\n",
    "#     stopping_ids=[tokenizer.eos_token_id],\n",
    "#     tokenizer_kwargs={\"max_length\": None},\n",
    "#     is_chat_model=True,\n",
    "# )\n",
    "\n",
    "# Settings.llm = llm\n",
    "# Settings.chunk_size = 1024\n",
    "# Settings.embed_model = HuggingFaceEmbedding(model_name=\"BAAI/bge-small-en-v1.5\") # BAAI/bge-small-en-v1.5 /  m3"
   ]
  },
  {
   "cell_type": "markdown",
   "metadata": {},
   "source": [
    "# DiseaseMode"
   ]
  },
  {
   "cell_type": "markdown",
   "metadata": {},
   "source": [
    "MetadataFilters:"
   ]
  },
  {
   "cell_type": "code",
   "execution_count": 10,
   "metadata": {},
   "outputs": [],
   "source": [
    "from llama_index.core.vector_stores.types import MetadataFilters, FilterOperator\n",
    "disease_dict = {\n",
    "    \"key\": \"node_type\",\n",
    "    \"value\": \"disease\",\n",
    "    \"operator\": FilterOperator.EQ\n",
    "}\n",
    "disease_filter = MetadataFilters(filters=[disease_dict])"
   ]
  },
  {
   "cell_type": "code",
   "execution_count": 11,
   "metadata": {},
   "outputs": [],
   "source": [
    "class DiseaseMode():\n",
    "    def __init__(self, vector_store: SimpleVectorStore, graph_store: NebulaPropertyGraphStore):\n",
    "        self.vector_store = vector_store\n",
    "        self.graph_store = graph_store\n",
    "\n",
    "    def retrieve(self, query: str):        \n",
    "        query_embedding = Settings.embed_model.get_text_embedding(query)\n",
    "        vector_results = self.vector_store.query(\n",
    "            VectorStoreQuery(\n",
    "                query_embedding=query_embedding, \n",
    "                similarity_top_k=1,\n",
    "                filters=disease_filter,\n",
    "            )\n",
    "        )\n",
    "        \n",
    "        top_node_id = vector_results.ids[0]\n",
    "        top_node_score = vector_results.similarities[0]\n",
    "        kg_node = self.graph_store.get(ids=[top_node_id])[0]\n",
    "                \n",
    "        results = [{ # Create results list with primary node\n",
    "            \"node_index\": kg_node.id_,\n",
    "            \"node_name\": kg_node.properties[\"node_name\"],\n",
    "            \"text\": getattr(kg_node, \"text\", \"\"),\n",
    "            \"score\": top_node_score\n",
    "        }]\n",
    "        \n",
    "        print(f\"Best node from vector query: Node ID: {kg_node.id_}, \"\n",
    "              f\"Score: {top_node_score:.4f}, Name: {kg_node.properties['node_name']}\")\n",
    "        \n",
    "        # Find related nodes through graph query\n",
    "        graph_nodes = self.graph_store.structured_query(\n",
    "            \"\"\"\n",
    "            MATCH (e:Node__) WHERE id(e) == $ids\n",
    "            MATCH p=(e)-[r:Relation__{label:\"disease-disease\"}]-(t) \n",
    "            UNWIND relationships(p) as rel\n",
    "            RETURN DISTINCT id(t), t.Props__.node_name, t.Chunk__.text\n",
    "            \"\"\", \n",
    "            param_map={\"ids\": top_node_id}\n",
    "        )\n",
    "        \n",
    "        # Calculate similarity for related nodes and add relevant ones to results\n",
    "        all_similarities = []\n",
    "        for node in graph_nodes:\n",
    "            node_text = node[\"t.Props__.node_name\"] + \": \" + node[\"t.Chunk__.text\"]\n",
    "            node_embedding = Settings.embed_model.get_text_embedding(node_text)\n",
    "                    \n",
    "            similarity = dot(query_embedding, node_embedding) / (norm(query_embedding) * norm(node_embedding))\n",
    "            all_similarities.append((node, similarity))\n",
    "            \n",
    "        if len(all_similarities) > 3:\n",
    "            sim = [s for _, s in all_similarities]\n",
    "            threshold = np.percentile(sim, 75) # keep top 25% of nodes\n",
    "        else:\n",
    "            threshold = 0.7\n",
    "        \n",
    "        for node, similarity in all_similarities:\n",
    "            if similarity > threshold: #and similarity >= 0.5:\n",
    "                results.append({\n",
    "                    \"node_index\": node[\"id(t)\"],\n",
    "                    \"node_name\": node[\"t.Props__.node_name\"],\n",
    "                    \"text\": node_text,\n",
    "                    \"score\": similarity\n",
    "                })\n",
    "        \n",
    "        results = sorted(results, key=lambda x: x[\"score\"], reverse=True)\n",
    "        print(\"\\nBest related nodes from graph query:\")\n",
    "        for node in results:  # Skip primary node\n",
    "            print(f\"ID: {node['node_index']} | node name: {node['node_name']} | score: {node['score']:.4f}\")\n",
    "        \n",
    "        graph_phenotype = graph_store.structured_query(\n",
    "            \"\"\"\n",
    "            MATCH (e:Node__) WHERE id(e) == $ids\n",
    "            MATCH (e)-[r:Relation__{label:\"disease-phenotype-positive\"}]-(t) \n",
    "            RETURN DISTINCT id(t), t.Props__.node_name\n",
    "            \"\"\", \n",
    "            param_map={\"ids\": top_node_id}\n",
    "        )\n",
    "        # join the phenotype names without the \" '' \" characters\n",
    "        phenotypes = \", \".join(node[\"t.Props__.node_name\"].replace(\"'\", \"\") for node in graph_phenotype)\n",
    "\n",
    "        nodes_with_text = [node for node in results if node['text'].strip()]\n",
    "        context = [f\"'{node['node_name']}': {node['text']}\" for node in nodes_with_text] if nodes_with_text else None\n",
    "        phenotype_context = [f\"Is associated with the following phenotypes: {phenotypes}\\n\"] if phenotypes else None\n",
    "        \n",
    "        if results:\n",
    "            return (context, phenotype_context)\n",
    "        else:\n",
    "            return [f\"No graph relationships found for {results[0]['node_name']}\"] if results else [\"No results found\"]\n"
   ]
  },
  {
   "cell_type": "markdown",
   "metadata": {},
   "source": [
    "## Prompt templates:"
   ]
  },
  {
   "cell_type": "code",
   "execution_count": 83,
   "metadata": {},
   "outputs": [],
   "source": [
    "context_phenotype_template = \"\"\"\n",
    "    I need information about {query_str}.\n",
    "    \n",
    "    Context information is below:\n",
    "    {text_chunks}\n",
    "\n",
    "    Phenotype context is below:\n",
    "    {phenotype_context}\n",
    "\n",
    "    You are a medical knowledge assistant specializing in rare diseases. Your task is to create a comprehensive list of symptoms for {query_str}.\n",
    "\n",
    "    CRITICAL INSTRUCTIONS:\n",
    "    1. Extract ONLY symptoms mentioned in the context and/or phenotype context\n",
    "    2. Return EXACTLY the 15 most relevant symptoms\n",
    "    3. Use HPO medical terminology\n",
    "    4. Return EXACTLY this JSON format (no variations):\n",
    "\n",
    "    Always format your response as a VALID JSON:\n",
    "    {\n",
    "        \"disease\": \"{query_str}\",\n",
    "        \"symptoms\": [\n",
    "            \"symptom1: Brief explanation using HPO nomenclature.\",\n",
    "            \"symptom2: Brief explanation using HPO nomenclature.\",\n",
    "        ]\n",
    "    }\n",
    "\n",
    "    Do NOT use nested objects. Use exactly \"disease\" and \"symptoms\" as shown.\n",
    "\"\"\""
   ]
  },
  {
   "cell_type": "code",
   "execution_count": 103,
   "metadata": {},
   "outputs": [],
   "source": [
    "no_rag_template = \"\"\"\n",
    "    I need information about {query_str}.\n",
    "\n",
    "    You are a medical knowledge assistant specializing in rare diseases. Your task is to create a comprehensive list of symptoms for {query_str}.\n",
    "\n",
    "    CRITICAL INSTRUCTIONS:\n",
    "    1. Return EXACTLY the 15 most relevant symptoms\n",
    "    2. Use HPO medical terminology\n",
    "    3. Return EXACTLY this JSON format (no variations):\n",
    "\n",
    "    Always format your response as a VALID JSON:\n",
    "    {\n",
    "        \"disease\": \"{query_str}\",\n",
    "        \"symptoms\": [\n",
    "            \"symptom1: Brief explanation using HPO nomenclature.\",\n",
    "            \"symptom2: Brief explanation using HPO nomenclature.\",\n",
    "        ]\n",
    "    }\n",
    "\n",
    "    Do NOT use nested objects. Use exactly \"disease\" and \"symptoms\" as shown.\n",
    "\"\"\"\n"
   ]
  },
  {
   "cell_type": "markdown",
   "metadata": {},
   "source": [
    "## Chat"
   ]
  },
  {
   "cell_type": "code",
   "execution_count": null,
   "metadata": {},
   "outputs": [
    {
     "name": "stdout",
     "output_type": "stream",
     "text": [
      "Best node from vector query: Node ID: 35443, Score: 0.6819, Name: reproductive system disease\n",
      "\n",
      "Best related nodes from graph query:\n",
      "ID: 35443 | node name: reproductive system disease | score: 0.6819\n",
      "ID: 35840 | node name: female reproductive system disease | score: 0.6610\n",
      "ID: 35622 | node name: reproductive system neoplasm | score: 0.6406\n",
      "ID: 35775 | node name: male reproductive system disease | score: 0.6024\n",
      "Context: [\"'reproductive system disease': A disease involving the reproductive system. A non-neoplastic disorder that affects the male or female reproductive system. Representative examples include prostatitis, balanitis, phimosis, endometriosis, and pelvic inflammatory disease.; deviation from or interruption of the normal structure or function of the reproductive system.; A non-neoplastic or neoplastic disorder that affects the male or female genital system. Representative examples of non-neoplastic disorders include infection, testicular torsion, endometriosis, and adenomyosis. Representative examples of neoplastic disorders include germ cell tumors, carcinoma, lymphoma, and sarcoma.\", \"'female reproductive system disease': female genital tuberculosis: Mycobacterium infections of the female reproductive tract (genitalia, female). mycobacterium infections of the female reproductive tract Although your body may harbor the bacteria that cause tuberculosis, your immune system usually can prevent you from becoming sick. For this reason, doctors make a distinction between: Latent TB. In this condition, you have a TB infection, but the bacteria remain in your body in an inactive state and cause no symptoms. Latent TB, also called inactive TB or TB infection, isn't contagious. It can turn into active TB, so treatment is important for the person with latent TB and to help control the spread of TB. An estimated 2 billion people have latent TB. Active TB. This condition makes you sick and in most cases can spread to others. It can occur in the first few weeks after infection with the TB bacteria, or it might occur years later. Signs and symptoms of active TB include: Coughing that lasts three or more weeks, Coughing up blood, Chest pain, or pain with breathing or coughing, Unintentional weight loss, Fatigue, Fever, Night sweats, Chills, Loss of appetite, Tuberculosis can also affect other parts of your body, including your kidneys, spine or brain. When TB occurs outside your lungs, signs and symptoms vary according to the organs involved. For example, tuberculosis of the spine may give you back pain, and tuberculosis in your kidneys might cause blood in your urine. When to see a doctor, See your doctor if you have a fever, unexplained weight loss, drenching night sweats or a persistent cough. These are often signs of TB, but they can also result from other medical problems. Your doctor can perform tests to help determine the cause. The Centers for Disease Control and Prevention recommends that people who have an increased risk of tuberculosis be screened for latent TB infection. This recommendation includes people who: Have HIV/AIDS, Use IV drugs, Are in contact with infected individuals, Are from a country where TB is common, such as several countries in Latin America, Africa and Asia, Live or work in areas where TB is common, such as prisons or nursing homes, Work in health care and treat people with a high risk of TB, Are children and are exposed to adults at risk of T Tuberculosis is caused by bacteria that spread from person to person through microscopic droplets released into the air. This can happen when someone with the untreated, active form of tuberculosis coughs, speaks, sneezes, spits, laughs or sings. Although tuberculosis is contagious, it's not easy to catch. You're much more likely to get tuberculosis from someone you live with or work with than from a stranger. Most people with active TB who've had appropriate drug treatment for at least two weeks are no longer contagious. HIV and TB, Since the 1980s, the number of cases of tuberculosis has increased dramatically because of the spread of HIV, the virus that causes AIDS. Infection with HIV suppresses the immune system, making it difficult for the body to control TB bacteria. As a result, people with HIV are many times more likely to get TB and to progress from latent to active disease than are people who aren't HIV positive. Drug-resistant TB, Another reason tuberculosis remains a major killer is the increase in drug-resistant strains of the bacterium. Since the first antibiotics were used to fight tuberculosis more than 60 years ago, some TB germs have developed the ability to survive despite medications, and that ability gets passed on to their descendants. Drug-resistant strains of tuberculosis emerge when an antibiotic fails to kill all of the bacteria it targets. The surviving bacteria become resistant to that particular drug and frequently other antibiotics as well. Some TB bacteria have developed resistance to the most commonly used treatments, such as isoniazid and rifampin. Some strains of TB have also developed resistance to drugs less commonly used in TB treatment, such as the antibiotics known as fluoroquinolones, and injectable medications including amikacin and capreomycin . These medications are often used to treat infections that are resistant to the more commonly used drugs. Anyone can get tuberculosis, but certain factors can increase your risk of the disease. These factors include: Weakened immune system, A healthy immune system often successfully fights TB bacteria, but your body can't mount an effective defense if your resistance is low. A number of diseases, conditions and medications can weaken your immune system, including: HIV/AIDS, Diabetes, Severe kidney disease, Certain cancers, Cancer treatment, such as chemotherapy, Drugs to prevent rejection of transplanted organs, Some drugs used to treat rheumatoid arthritis, Crohn's disease and psoriasis, Malnutrition, Very young or advanced age, Traveling or living in certain areas, The risk of contracting tuberculosis is higher for people who live in or travel to areas that have high rates of tuberculosis and drug-resistant tuberculosis, including: Africa, Eastern Europe, Asia, Russia, Latin America, Caribbean Islands, Poverty and substance use, Lack of medical care. If you receive a low or fixed income, live in a remote area, have recently immigrated to the United States, or are homeless, you may lack access to the medical care needed to diagnose and treat TB. Substance use. Use of IV drugs or excessive alcohol weakens your immune system and makes you more vulnerable to tuberculosis. Tobacco use. Using tobacco greatly increases the risk of getting TB and dying of it. Where you work or live, Health care work. Regular contact with people who are ill increases your chances of exposure to TB bacteria. Wearing a mask and frequent hand-washing greatly reduce your risk. Living or working in a residential care facility. People who live or work in prisons, homeless shelters, psychiatric hospitals or nursing homes are all at a higher risk of tuberculosis. That's because the risk of the disease is higher anywhere there is overcrowding and poor ventilation. Living in or emigrating from a country where TB is common. People from a country where TB is common may be at high risk of tuberculosis infection. Living with someone infected with TB. Living with someone who has TB increases your risk. Without treatment, tuberculosis can be fatal. Untreated active disease typically affects your lungs, but it can spread to other parts of your body through your bloodstream. Examples of tuberculosis complications include: Spinal pain. Back pain and stiffness are common complications of tuberculosis. Joint damage. Tuberculous arthritis usually affects the hips and knees. Swelling of the membranes that cover your brain . This can cause a lasting or intermittent headache that occurs for weeks. Mental changes also are possible. Liver or kidney problems. Your liver and kidneys help filter waste and impurities from your bloodstream. These functions become impaired if the liver or kidneys are affected by tuberculosis. Heart disorders. Rarely, tuberculosis can infect the tissues that surround your heart, causing inflammation and fluid collections that may interfere with your heart's ability to pump effectively. This condition, called cardiac tamponade, can be fatal. If you test positive for latent TB infection, your doctor may advise you to take medications to reduce your risk of developing active tuberculosis. The only type of tuberculosis that is contagious is the active variety, when it affects the lungs. So if you can prevent your latent tuberculosis from becoming active, you won't transmit tuberculosis to anyone else. Protect your family and friends, If you have active TB, keep your germs to yourself. It generally takes a few weeks of treatment with TB medications before you're not contagious anymore. Follow these tips to help keep your friends and family from getting sick: Stay home. Don't go to work or school or sleep in a room with other people during the first few weeks of treatment for active tuberculosis. Ventilate the room. Tuberculosis germs spread more easily in small closed spaces where air doesn't move. If it's not too cold outdoors, open the windows and use a fan to blow indoor air outside. Cover your mouth. Use a tissue to cover your mouth anytime you laugh, sneeze or cough. Put the dirty tissue in a bag, seal it and throw it away. Wear a mask. Wearing a surgical mask when you're around other people during the first three weeks of treatment may help lessen the risk of transmission. Finish your entire course of medication, This is the most important step you can take to protect yourself and others from tuberculosis. When you stop treatment early or skip doses, TB bacteria have a chance to develop mutations that allow them to survive the most potent TB drugs. The resulting drug-resistant strains are much more deadly and difficult to treat. Vaccinations, In countries where tuberculosis is more common, infants often are vaccinated with bacillus Calmette-Guerin vaccine because it can prevent severe tuberculosis in children. The BCG vaccine isn't recommended for general use in the United States because it isn't very effective in adults. Dozens of new TB vaccines are in various stages of development and testing. Although your body may harbor the bacteria that cause tuberculosis, your immune system usually can prevent you from becoming sick. For this reason, doctors make a distinction between: Latent TB. In this condition, you have a TB infection, but the bacteria remain in your body in an inactive state and cause no symptoms. Latent TB, also called inactive TB or TB infection, isn't contagious. It can turn into active TB, so treatment is important for the person with latent TB and to help control the spread of TB. An estimated 2 billion people have latent TB. Active TB. This condition makes you sick and in most cases can spread to others. It can occur in the first few weeks after infection with the TB bacteria, or it might occur years later. Signs and symptoms of active TB include: Coughing that lasts three or more weeks, Coughing up blood, Chest pain, or pain with breathing or coughing, Unintentional weight loss, Fatigue, Fever, Night sweats, Chills, Loss of appetite, Tuberculosis can also affect other parts of your body, including your kidneys, spine or brain. When TB occurs outside your lungs, signs and symptoms vary according to the organs involved. For example, tuberculosis of the spine may give you back pain, and tuberculosis in your kidneys might cause blood in your urine. When to see a doctor, See your doctor if you have a fever, unexplained weight loss, drenching night sweats or a persistent cough. These are often signs of TB, but they can also result from other medical problems. Your doctor can perform tests to help determine the cause. The Centers for Disease Control and Prevention recommends that people who have an increased risk of tuberculosis be screened for latent TB infection. This recommendation includes people who: Have HIV/AIDS, Use IV drugs, Are in contact with infected individuals, Are from a country where TB is common, such as several countries in Latin America, Africa and Asia, Live or work in areas where TB is common, such as prisons or nursing homes, Work in health care and treat people with a high risk of TB, Are children and are exposed to adults at risk of TB\", \"'reproductive system neoplasm': female genital tuberculosis: Mycobacterium infections of the female reproductive tract (genitalia, female). mycobacterium infections of the female reproductive tract Although your body may harbor the bacteria that cause tuberculosis, your immune system usually can prevent you from becoming sick. For this reason, doctors make a distinction between: Latent TB. In this condition, you have a TB infection, but the bacteria remain in your body in an inactive state and cause no symptoms. Latent TB, also called inactive TB or TB infection, isn't contagious. It can turn into active TB, so treatment is important for the person with latent TB and to help control the spread of TB. An estimated 2 billion people have latent TB. Active TB. This condition makes you sick and in most cases can spread to others. It can occur in the first few weeks after infection with the TB bacteria, or it might occur years later. Signs and symptoms of active TB include: Coughing that lasts three or more weeks, Coughing up blood, Chest pain, or pain with breathing or coughing, Unintentional weight loss, Fatigue, Fever, Night sweats, Chills, Loss of appetite, Tuberculosis can also affect other parts of your body, including your kidneys, spine or brain. When TB occurs outside your lungs, signs and symptoms vary according to the organs involved. For example, tuberculosis of the spine may give you back pain, and tuberculosis in your kidneys might cause blood in your urine. When to see a doctor, See your doctor if you have a fever, unexplained weight loss, drenching night sweats or a persistent cough. These are often signs of TB, but they can also result from other medical problems. Your doctor can perform tests to help determine the cause. The Centers for Disease Control and Prevention recommends that people who have an increased risk of tuberculosis be screened for latent TB infection. This recommendation includes people who: Have HIV/AIDS, Use IV drugs, Are in contact with infected individuals, Are from a country where TB is common, such as several countries in Latin America, Africa and Asia, Live or work in areas where TB is common, such as prisons or nursing homes, Work in health care and treat people with a high risk of TB, Are children and are exposed to adults at risk of T Tuberculosis is caused by bacteria that spread from person to person through microscopic droplets released into the air. This can happen when someone with the untreated, active form of tuberculosis coughs, speaks, sneezes, spits, laughs or sings. Although tuberculosis is contagious, it's not easy to catch. You're much more likely to get tuberculosis from someone you live with or work with than from a stranger. Most people with active TB who've had appropriate drug treatment for at least two weeks are no longer contagious. HIV and TB, Since the 1980s, the number of cases of tuberculosis has increased dramatically because of the spread of HIV, the virus that causes AIDS. Infection with HIV suppresses the immune system, making it difficult for the body to control TB bacteria. As a result, people with HIV are many times more likely to get TB and to progress from latent to active disease than are people who aren't HIV positive. Drug-resistant TB, Another reason tuberculosis remains a major killer is the increase in drug-resistant strains of the bacterium. Since the first antibiotics were used to fight tuberculosis more than 60 years ago, some TB germs have developed the ability to survive despite medications, and that ability gets passed on to their descendants. Drug-resistant strains of tuberculosis emerge when an antibiotic fails to kill all of the bacteria it targets. The surviving bacteria become resistant to that particular drug and frequently other antibiotics as well. Some TB bacteria have developed resistance to the most commonly used treatments, such as isoniazid and rifampin. Some strains of TB have also developed resistance to drugs less commonly used in TB treatment, such as the antibiotics known as fluoroquinolones, and injectable medications including amikacin and capreomycin . These medications are often used to treat infections that are resistant to the more commonly used drugs. Anyone can get tuberculosis, but certain factors can increase your risk of the disease. These factors include: Weakened immune system, A healthy immune system often successfully fights TB bacteria, but your body can't mount an effective defense if your resistance is low. A number of diseases, conditions and medications can weaken your immune system, including: HIV/AIDS, Diabetes, Severe kidney disease, Certain cancers, Cancer treatment, such as chemotherapy, Drugs to prevent rejection of transplanted organs, Some drugs used to treat rheumatoid arthritis, Crohn's disease and psoriasis, Malnutrition, Very young or advanced age, Traveling or living in certain areas, The risk of contracting tuberculosis is higher for people who live in or travel to areas that have high rates of tuberculosis and drug-resistant tuberculosis, including: Africa, Eastern Europe, Asia, Russia, Latin America, Caribbean Islands, Poverty and substance use, Lack of medical care. If you receive a low or fixed income, live in a remote area, have recently immigrated to the United States, or are homeless, you may lack access to the medical care needed to diagnose and treat TB. Substance use. Use of IV drugs or excessive alcohol weakens your immune system and makes you more vulnerable to tuberculosis. Tobacco use. Using tobacco greatly increases the risk of getting TB and dying of it. Where you work or live, Health care work. Regular contact with people who are ill increases your chances of exposure to TB bacteria. Wearing a mask and frequent hand-washing greatly reduce your risk. Living or working in a residential care facility. People who live or work in prisons, homeless shelters, psychiatric hospitals or nursing homes are all at a higher risk of tuberculosis. That's because the risk of the disease is higher anywhere there is overcrowding and poor ventilation. Living in or emigrating from a country where TB is common. People from a country where TB is common may be at high risk of tuberculosis infection. Living with someone infected with TB. Living with someone who has TB increases your risk. Without treatment, tuberculosis can be fatal. Untreated active disease typically affects your lungs, but it can spread to other parts of your body through your bloodstream. Examples of tuberculosis complications include: Spinal pain. Back pain and stiffness are common complications of tuberculosis. Joint damage. Tuberculous arthritis usually affects the hips and knees. Swelling of the membranes that cover your brain . This can cause a lasting or intermittent headache that occurs for weeks. Mental changes also are possible. Liver or kidney problems. Your liver and kidneys help filter waste and impurities from your bloodstream. These functions become impaired if the liver or kidneys are affected by tuberculosis. Heart disorders. Rarely, tuberculosis can infect the tissues that surround your heart, causing inflammation and fluid collections that may interfere with your heart's ability to pump effectively. This condition, called cardiac tamponade, can be fatal. If you test positive for latent TB infection, your doctor may advise you to take medications to reduce your risk of developing active tuberculosis. The only type of tuberculosis that is contagious is the active variety, when it affects the lungs. So if you can prevent your latent tuberculosis from becoming active, you won't transmit tuberculosis to anyone else. Protect your family and friends, If you have active TB, keep your germs to yourself. It generally takes a few weeks of treatment with TB medications before you're not contagious anymore. Follow these tips to help keep your friends and family from getting sick: Stay home. Don't go to work or school or sleep in a room with other people during the first few weeks of treatment for active tuberculosis. Ventilate the room. Tuberculosis germs spread more easily in small closed spaces where air doesn't move. If it's not too cold outdoors, open the windows and use a fan to blow indoor air outside. Cover your mouth. Use a tissue to cover your mouth anytime you laugh, sneeze or cough. Put the dirty tissue in a bag, seal it and throw it away. Wear a mask. Wearing a surgical mask when you're around other people during the first three weeks of treatment may help lessen the risk of transmission. Finish your entire course of medication, This is the most important step you can take to protect yourself and others from tuberculosis. When you stop treatment early or skip doses, TB bacteria have a chance to develop mutations that allow them to survive the most potent TB drugs. The resulting drug-resistant strains are much more deadly and difficult to treat. Vaccinations, In countries where tuberculosis is more common, infants often are vaccinated with bacillus Calmette-Guerin vaccine because it can prevent severe tuberculosis in children. The BCG vaccine isn't recommended for general use in the United States because it isn't very effective in adults. Dozens of new TB vaccines are in various stages of development and testing. Although your body may harbor the bacteria that cause tuberculosis, your immune system usually can prevent you from becoming sick. For this reason, doctors make a distinction between: Latent TB. In this condition, you have a TB infection, but the bacteria remain in your body in an inactive state and cause no symptoms. Latent TB, also called inactive TB or TB infection, isn't contagious. It can turn into active TB, so treatment is important for the person with latent TB and to help control the spread of TB. An estimated 2 billion people have latent TB. Active TB. This condition makes you sick and in most cases can spread to others. It can occur in the first few weeks after infection with the TB bacteria, or it might occur years later. Signs and symptoms of active TB include: Coughing that lasts three or more weeks, Coughing up blood, Chest pain, or pain with breathing or coughing, Unintentional weight loss, Fatigue, Fever, Night sweats, Chills, Loss of appetite, Tuberculosis can also affect other parts of your body, including your kidneys, spine or brain. When TB occurs outside your lungs, signs and symptoms vary according to the organs involved. For example, tuberculosis of the spine may give you back pain, and tuberculosis in your kidneys might cause blood in your urine. When to see a doctor, See your doctor if you have a fever, unexplained weight loss, drenching night sweats or a persistent cough. These are often signs of TB, but they can also result from other medical problems. Your doctor can perform tests to help determine the cause. The Centers for Disease Control and Prevention recommends that people who have an increased risk of tuberculosis be screened for latent TB infection. This recommendation includes people who: Have HIV/AIDS, Use IV drugs, Are in contact with infected individuals, Are from a country where TB is common, such as several countries in Latin America, Africa and Asia, Live or work in areas where TB is common, such as prisons or nursing homes, Work in health care and treat people with a high risk of TB, Are children and are exposed to adults at risk of TB\", \"'male reproductive system disease': female genital tuberculosis: Mycobacterium infections of the female reproductive tract (genitalia, female). mycobacterium infections of the female reproductive tract Although your body may harbor the bacteria that cause tuberculosis, your immune system usually can prevent you from becoming sick. For this reason, doctors make a distinction between: Latent TB. In this condition, you have a TB infection, but the bacteria remain in your body in an inactive state and cause no symptoms. Latent TB, also called inactive TB or TB infection, isn't contagious. It can turn into active TB, so treatment is important for the person with latent TB and to help control the spread of TB. An estimated 2 billion people have latent TB. Active TB. This condition makes you sick and in most cases can spread to others. It can occur in the first few weeks after infection with the TB bacteria, or it might occur years later. Signs and symptoms of active TB include: Coughing that lasts three or more weeks, Coughing up blood, Chest pain, or pain with breathing or coughing, Unintentional weight loss, Fatigue, Fever, Night sweats, Chills, Loss of appetite, Tuberculosis can also affect other parts of your body, including your kidneys, spine or brain. When TB occurs outside your lungs, signs and symptoms vary according to the organs involved. For example, tuberculosis of the spine may give you back pain, and tuberculosis in your kidneys might cause blood in your urine. When to see a doctor, See your doctor if you have a fever, unexplained weight loss, drenching night sweats or a persistent cough. These are often signs of TB, but they can also result from other medical problems. Your doctor can perform tests to help determine the cause. The Centers for Disease Control and Prevention recommends that people who have an increased risk of tuberculosis be screened for latent TB infection. This recommendation includes people who: Have HIV/AIDS, Use IV drugs, Are in contact with infected individuals, Are from a country where TB is common, such as several countries in Latin America, Africa and Asia, Live or work in areas where TB is common, such as prisons or nursing homes, Work in health care and treat people with a high risk of TB, Are children and are exposed to adults at risk of T Tuberculosis is caused by bacteria that spread from person to person through microscopic droplets released into the air. This can happen when someone with the untreated, active form of tuberculosis coughs, speaks, sneezes, spits, laughs or sings. Although tuberculosis is contagious, it's not easy to catch. You're much more likely to get tuberculosis from someone you live with or work with than from a stranger. Most people with active TB who've had appropriate drug treatment for at least two weeks are no longer contagious. HIV and TB, Since the 1980s, the number of cases of tuberculosis has increased dramatically because of the spread of HIV, the virus that causes AIDS. Infection with HIV suppresses the immune system, making it difficult for the body to control TB bacteria. As a result, people with HIV are many times more likely to get TB and to progress from latent to active disease than are people who aren't HIV positive. Drug-resistant TB, Another reason tuberculosis remains a major killer is the increase in drug-resistant strains of the bacterium. Since the first antibiotics were used to fight tuberculosis more than 60 years ago, some TB germs have developed the ability to survive despite medications, and that ability gets passed on to their descendants. Drug-resistant strains of tuberculosis emerge when an antibiotic fails to kill all of the bacteria it targets. The surviving bacteria become resistant to that particular drug and frequently other antibiotics as well. Some TB bacteria have developed resistance to the most commonly used treatments, such as isoniazid and rifampin. Some strains of TB have also developed resistance to drugs less commonly used in TB treatment, such as the antibiotics known as fluoroquinolones, and injectable medications including amikacin and capreomycin . These medications are often used to treat infections that are resistant to the more commonly used drugs. Anyone can get tuberculosis, but certain factors can increase your risk of the disease. These factors include: Weakened immune system, A healthy immune system often successfully fights TB bacteria, but your body can't mount an effective defense if your resistance is low. A number of diseases, conditions and medications can weaken your immune system, including: HIV/AIDS, Diabetes, Severe kidney disease, Certain cancers, Cancer treatment, such as chemotherapy, Drugs to prevent rejection of transplanted organs, Some drugs used to treat rheumatoid arthritis, Crohn's disease and psoriasis, Malnutrition, Very young or advanced age, Traveling or living in certain areas, The risk of contracting tuberculosis is higher for people who live in or travel to areas that have high rates of tuberculosis and drug-resistant tuberculosis, including: Africa, Eastern Europe, Asia, Russia, Latin America, Caribbean Islands, Poverty and substance use, Lack of medical care. If you receive a low or fixed income, live in a remote area, have recently immigrated to the United States, or are homeless, you may lack access to the medical care needed to diagnose and treat TB. Substance use. Use of IV drugs or excessive alcohol weakens your immune system and makes you more vulnerable to tuberculosis. Tobacco use. Using tobacco greatly increases the risk of getting TB and dying of it. Where you work or live, Health care work. Regular contact with people who are ill increases your chances of exposure to TB bacteria. Wearing a mask and frequent hand-washing greatly reduce your risk. Living or working in a residential care facility. People who live or work in prisons, homeless shelters, psychiatric hospitals or nursing homes are all at a higher risk of tuberculosis. That's because the risk of the disease is higher anywhere there is overcrowding and poor ventilation. Living in or emigrating from a country where TB is common. People from a country where TB is common may be at high risk of tuberculosis infection. Living with someone infected with TB. Living with someone who has TB increases your risk. Without treatment, tuberculosis can be fatal. Untreated active disease typically affects your lungs, but it can spread to other parts of your body through your bloodstream. Examples of tuberculosis complications include: Spinal pain. Back pain and stiffness are common complications of tuberculosis. Joint damage. Tuberculous arthritis usually affects the hips and knees. Swelling of the membranes that cover your brain . This can cause a lasting or intermittent headache that occurs for weeks. Mental changes also are possible. Liver or kidney problems. Your liver and kidneys help filter waste and impurities from your bloodstream. These functions become impaired if the liver or kidneys are affected by tuberculosis. Heart disorders. Rarely, tuberculosis can infect the tissues that surround your heart, causing inflammation and fluid collections that may interfere with your heart's ability to pump effectively. This condition, called cardiac tamponade, can be fatal. If you test positive for latent TB infection, your doctor may advise you to take medications to reduce your risk of developing active tuberculosis. The only type of tuberculosis that is contagious is the active variety, when it affects the lungs. So if you can prevent your latent tuberculosis from becoming active, you won't transmit tuberculosis to anyone else. Protect your family and friends, If you have active TB, keep your germs to yourself. It generally takes a few weeks of treatment with TB medications before you're not contagious anymore. Follow these tips to help keep your friends and family from getting sick: Stay home. Don't go to work or school or sleep in a room with other people during the first few weeks of treatment for active tuberculosis. Ventilate the room. Tuberculosis germs spread more easily in small closed spaces where air doesn't move. If it's not too cold outdoors, open the windows and use a fan to blow indoor air outside. Cover your mouth. Use a tissue to cover your mouth anytime you laugh, sneeze or cough. Put the dirty tissue in a bag, seal it and throw it away. Wear a mask. Wearing a surgical mask when you're around other people during the first three weeks of treatment may help lessen the risk of transmission. Finish your entire course of medication, This is the most important step you can take to protect yourself and others from tuberculosis. When you stop treatment early or skip doses, TB bacteria have a chance to develop mutations that allow them to survive the most potent TB drugs. The resulting drug-resistant strains are much more deadly and difficult to treat. Vaccinations, In countries where tuberculosis is more common, infants often are vaccinated with bacillus Calmette-Guerin vaccine because it can prevent severe tuberculosis in children. The BCG vaccine isn't recommended for general use in the United States because it isn't very effective in adults. Dozens of new TB vaccines are in various stages of development and testing. Although your body may harbor the bacteria that cause tuberculosis, your immune system usually can prevent you from becoming sick. For this reason, doctors make a distinction between: Latent TB. In this condition, you have a TB infection, but the bacteria remain in your body in an inactive state and cause no symptoms. Latent TB, also called inactive TB or TB infection, isn't contagious. It can turn into active TB, so treatment is important for the person with latent TB and to help control the spread of TB. An estimated 2 billion people have latent TB. Active TB. This condition makes you sick and in most cases can spread to others. It can occur in the first few weeks after infection with the TB bacteria, or it might occur years later. Signs and symptoms of active TB include: Coughing that lasts three or more weeks, Coughing up blood, Chest pain, or pain with breathing or coughing, Unintentional weight loss, Fatigue, Fever, Night sweats, Chills, Loss of appetite, Tuberculosis can also affect other parts of your body, including your kidneys, spine or brain. When TB occurs outside your lungs, signs and symptoms vary according to the organs involved. For example, tuberculosis of the spine may give you back pain, and tuberculosis in your kidneys might cause blood in your urine. When to see a doctor, See your doctor if you have a fever, unexplained weight loss, drenching night sweats or a persistent cough. These are often signs of TB, but they can also result from other medical problems. Your doctor can perform tests to help determine the cause. The Centers for Disease Control and Prevention recommends that people who have an increased risk of tuberculosis be screened for latent TB infection. This recommendation includes people who: Have HIV/AIDS, Use IV drugs, Are in contact with infected individuals, Are from a country where TB is common, such as several countries in Latin America, Africa and Asia, Live or work in areas where TB is common, such as prisons or nursing homes, Work in health care and treat people with a high risk of TB, Are children and are exposed to adults at risk of TB\"]\n",
      "Phenotypes: None\n",
      "\n",
      "20 text chunks after repacking\n",
      "3 text chunks after repacking\n",
      "1 text chunks after repacking\n",
      "\n",
      "RESPONSE OK: {\"disease\":\"reproductive system cancer\",\"symptoms\":[\"Abnormal uterine bleeding: Abnormal vaginal bleeding that is not related to menstruation, such as bleeding between periods or after sexual intercourse.\",\"Abnormal vaginal discharge: Abnormal discharge from the vagina, such as thick, yellow or green discharge, or a strong, unpleasant odor.\",\"Abnormal vaginal odor: A strong, unpleasant odor from the vagina that is not related to menstruation or sexual activity.\",\"Abdominal pain: Pain in the abdomen, which can be sharp, dull, or aching, and can be located in the lower abdomen, pelvis, or lower back.\",\"Back pain: Pain in the back, which can be sharp, dull, or aching, and can be located in the lower back, upper back, or middle back.\",\"Bleeding between periods: Bleeding that occurs between menstrual periods, which can be light or heavy.\",\"Bleeding after sex: Bleeding that occurs after sexual intercourse, which can be light or heavy.\",\"Bulky pelvic mass: A mass in the pelvis that can be felt during a pelvic exam, which can be caused by a tumor or cyst.\",\"Cervical abnormality: An abnormality in the cervix, such as a cervical polyp or cervical cancer.\",\"Frequent urination: Frequent need to urinate, which can be a symptom of bladder cancer or other urinary tract problems.\",\"Infertility: The inability to conceive or carry a pregnancy to term, which can be caused by reproductive system cancer.\",\"Irregular menstrual cycles: Irregular periods or cycles, which can be a symptom of reproductive system cancer.\",\"Pelvic pressure: Pressure or discomfort in the pelvis, which can be caused by a tumor or cyst.\",\"Pelvic swelling: Swelling in the pelvis, which can be caused by a tumor or cyst.\",\"Vaginal bleeding after menopause: Bleeding that occurs after menopause, which can be a symptom of reproductive system cancer.\"]}\n",
      "Symptoms retrieved: 15 for reproductive system cancer\n"
     ]
    }
   ],
   "source": [
    "user = \"reproductive system cancer\" # \"autosomal recessive polycystic kidney disease\"\n",
    "context, phenotypes = DiseaseMode(vector_store, graph_store).retrieve(user)\n",
    "\n",
    "class Output(BaseModel):\n",
    "    disease: str = Field(\n",
    "        description=\"The disease of interest given by the user.\"\n",
    "    )\n",
    "    symptoms: List[str] = Field(\n",
    "        description=\"Symptoms associated with the disease.\"\n",
    "    )\n",
    "output_parser = PydanticOutputParser(Output)\n",
    "\n",
    "if context and phenotypes:\n",
    "    print(f\"Context: {context[:100]}\")\n",
    "    print(f\"Phenotypes: {phenotypes}\\n\")\n",
    "    prompt_template = PromptTemplate(context_phenotype_template) \n",
    "    summarizer = TreeSummarize(verbose=True, llm=llm, summary_template=prompt_template)\n",
    "\n",
    "    response = summarizer.get_response(\n",
    "        query_str = user,\n",
    "        text_chunks = \"\\n\".join(context),\n",
    "        phenotype_context = phenotypes\n",
    "    )\n",
    "\n",
    "elif context and phenotypes == None: # No phenotype edges found\n",
    "    print(f\"Context: {context[:100]}\")\n",
    "    print(f\"Phenotypes: {phenotypes}\\n\")\n",
    "    prompt_template = PromptTemplate(context_phenotype_template)\n",
    "    summarizer = TreeSummarize(verbose=True, llm=llm, summary_template=prompt_template)\n",
    "\n",
    "    response = summarizer.get_response(\n",
    "        query_str = user,\n",
    "        text_chunks = \"\\n\".join(context),\n",
    "        phenotype_context = \"\"\n",
    "    )\n",
    "    \n",
    "elif context == None and phenotypes:\n",
    "    print(f\"Context: {context}\")\n",
    "    print(f\"Phenotypes: {phenotypes}\\n\")\n",
    "    prompt_template = PromptTemplate(context_phenotype_template)\n",
    "    summarizer = TreeSummarize(verbose=True, llm=llm, summary_template=prompt_template)\n",
    "\n",
    "    response = summarizer.get_response(\n",
    "        query_str = user,\n",
    "        text_chunks = \"\",  # No context available\n",
    "        phenotype_context = phenotypes\n",
    "    )\n",
    "\n",
    "elif context == None and phenotypes == None:\n",
    "    print(f\"No context or phenotypes found for {user}\")\n",
    "    response = \"No context or phenotypes found for the given disease.\"\n",
    "\n",
    "\n",
    "try:\n",
    "    parsed_response = output_parser.parse(response)\n",
    "    print(\"\\nRESPONSE OK:\", parsed_response.model_dump_json())\n",
    "    print(f\"Symptoms retrieved: {len(parsed_response.symptoms)} for {parsed_response.disease}\")\n",
    "except ValueError as e:\n",
    "    print(f\"Warning: {e}\")\n",
    "    # Fallback: create an Output object with empty symptoms and the disease name\n",
    "    parsed_response = Output(disease=user, symptoms=[])\n",
    "    print(\"\\n\", parsed_response.model_dump_json())\n",
    "    print(f\"{len(parsed_response.symptoms)} symptoms for {parsed_response.disease}\")"
   ]
  },
  {
   "cell_type": "code",
   "execution_count": 105,
   "metadata": {},
   "outputs": [
    {
     "name": "stdout",
     "output_type": "stream",
     "text": [
      "\n",
      "LLM Response: assistant: Here is the list of symptoms for reproductive system cancer in the required format:\n",
      "\n",
      "{\n",
      "    \"disease\": \"reproductive system cancer\",\n",
      "    \"symptoms\": [\n",
      "        \"Abnormal vaginal bleeding: Unusual or persistent bleeding from the vagina, which may be accompanied by clots or discharge.\",\n",
      "        \"Abnormal uterine bleeding: Unusual or irregular bleeding from the uterus, which may be accompanied by clots or discharge.\",\n",
      "        \"Abnormal cervical bleeding: Unusual or irregular bleeding from the cervix, which may be accompanied by clots or discharge.\",\n",
      "        \"Pelvic pain: Pain in the lower abdomen or pelvis, which may be constant or intermittent.\",\n",
      "        \"Pelvic pressure: Feeling of pressure or fullness in the lower abdomen or pelvis.\",\n",
      "        \"Abdominal swelling: Swelling or enlargement of the abdomen, which may be accompanied by discomfort or pain.\",\n",
      "        \"Weight loss: Unintentional weight loss, which may be accompanied by fatigue or weakness.\",\n",
      "        \"Fatigue: Feeling extremely tired or weak, which may be accompanied by a lack of energy.\",\n",
      "        \"Unexplained fever: Fever that is not caused by an obvious infection or illness.\",\n",
      "        \"Unexplained weight gain: Unintentional weight gain, which may be accompanied by swelling or discomfort.\",\n",
      "        \"Painful urination: Pain or discomfort while urinating, which may be accompanied by frequent urination.\",\n",
      "        \"Blood in urine: Presence of blood in the urine, which may be accompanied by pain or discomfort.\",\n",
      "        \"Blood in stool: Presence of blood in the stool, which may be accompanied by abdominal pain or discomfort.\",\n",
      "        \"Nausea and vomiting: Feeling queasy or vomiting, which may be accompanied by abdominal pain or discomfort.\",\n",
      "        \"Loss of libido: Decreased sex drive or interest in sex, which may be accompanied by decreased pleasure or satisfaction.\",\n",
      "        \"Infertility: Difficulty conceiving or maintaining a pregnancy, which may be accompanied by irregular menstrual cycles or fertility issues.\"\n",
      "    ]\n",
      "}\n"
     ]
    }
   ],
   "source": [
    "from llama_index.core.base.llms.types import ChatMessage\n",
    "# include a prompt template for the LLM chat \n",
    "template = PromptTemplate(no_rag_template)\n",
    "prompt = template.format(query_str=user)\n",
    "response = llm.chat([ChatMessage(role=\"user\", content=prompt)])\n",
    "print(\"\\nLLM Response:\", response)"
   ]
  },
  {
   "cell_type": "markdown",
   "metadata": {},
   "source": [
    "#### Checks with NebulaGraph "
   ]
  },
  {
   "cell_type": "code",
   "execution_count": 14,
   "metadata": {},
   "outputs": [
    {
     "data": {
      "text/html": [
       "<div>\n",
       "<style scoped>\n",
       "    .dataframe tbody tr th:only-of-type {\n",
       "        vertical-align: middle;\n",
       "    }\n",
       "\n",
       "    .dataframe tbody tr th {\n",
       "        vertical-align: top;\n",
       "    }\n",
       "\n",
       "    .dataframe thead th {\n",
       "        text-align: right;\n",
       "    }\n",
       "</style>\n",
       "<table border=\"1\" class=\"dataframe\">\n",
       "  <thead>\n",
       "    <tr style=\"text-align: right;\">\n",
       "      <th></th>\n",
       "    </tr>\n",
       "  </thead>\n",
       "  <tbody>\n",
       "  </tbody>\n",
       "</table>\n",
       "</div>"
      ],
      "text/plain": [
       "Empty DataFrame\n",
       "Columns: []\n",
       "Index: []"
      ]
     },
     "execution_count": 14,
     "metadata": {},
     "output_type": "execute_result"
    }
   ],
   "source": [
    "%ngql CREATE SPACE IF NOT EXISTS PrimeKG(vid_type=FIXED_STRING(256))\n",
    "%ngql USE PrimeKG;"
   ]
  },
  {
   "cell_type": "code",
   "execution_count": null,
   "metadata": {},
   "outputs": [
    {
     "data": {
      "text/html": [
       "<div>\n",
       "<style scoped>\n",
       "    .dataframe tbody tr th:only-of-type {\n",
       "        vertical-align: middle;\n",
       "    }\n",
       "\n",
       "    .dataframe tbody tr th {\n",
       "        vertical-align: top;\n",
       "    }\n",
       "\n",
       "    .dataframe thead th {\n",
       "        text-align: right;\n",
       "    }\n",
       "</style>\n",
       "<table border=\"1\" class=\"dataframe\">\n",
       "  <thead>\n",
       "    <tr style=\"text-align: right;\">\n",
       "      <th></th>\n",
       "      <th>e.Props__.node_name</th>\n",
       "      <th>e.Chunk__.text</th>\n",
       "    </tr>\n",
       "  </thead>\n",
       "  <tbody>\n",
       "    <tr>\n",
       "      <th>0</th>\n",
       "      <td>Wieacker-Wolff syndrome (spectrum)</td>\n",
       "      <td></td>\n",
       "    </tr>\n",
       "  </tbody>\n",
       "</table>\n",
       "</div>"
      ],
      "text/plain": [
       "                  e.Props__.node_name e.Chunk__.text\n",
       "0  Wieacker-Wolff syndrome (spectrum)               "
      ]
     },
     "execution_count": 58,
     "metadata": {},
     "output_type": "execute_result"
    }
   ],
   "source": [
    "%%ngql\n",
    "MATCH (e:Node__)\n",
    "WHERE id(e) == \"38849\"\n",
    "RETURN DISTINCT \n",
    "        e.Props__.node_name, \n",
    "        e.Chunk__.text"
   ]
  },
  {
   "cell_type": "code",
   "execution_count": 43,
   "metadata": {},
   "outputs": [
    {
     "data": {
      "text/html": [
       "<div>\n",
       "<style scoped>\n",
       "    .dataframe tbody tr th:only-of-type {\n",
       "        vertical-align: middle;\n",
       "    }\n",
       "\n",
       "    .dataframe tbody tr th {\n",
       "        vertical-align: top;\n",
       "    }\n",
       "\n",
       "    .dataframe thead th {\n",
       "        text-align: right;\n",
       "    }\n",
       "</style>\n",
       "<table border=\"1\" class=\"dataframe\">\n",
       "  <thead>\n",
       "    <tr style=\"text-align: right;\">\n",
       "      <th></th>\n",
       "      <th>e.Props__.node_name</th>\n",
       "      <th>e.Chunk__.text</th>\n",
       "    </tr>\n",
       "  </thead>\n",
       "  <tbody>\n",
       "    <tr>\n",
       "      <th>0</th>\n",
       "      <td>familial focal alopecia</td>\n",
       "      <td></td>\n",
       "    </tr>\n",
       "    <tr>\n",
       "      <th>1</th>\n",
       "      <td>myelolymphatic insufficiency</td>\n",
       "      <td></td>\n",
       "    </tr>\n",
       "    <tr>\n",
       "      <th>2</th>\n",
       "      <td>amyotrophic dystonic paraplegia</td>\n",
       "      <td></td>\n",
       "    </tr>\n",
       "    <tr>\n",
       "      <th>3</th>\n",
       "      <td>symphalangism of toes</td>\n",
       "      <td></td>\n",
       "    </tr>\n",
       "    <tr>\n",
       "      <th>4</th>\n",
       "      <td>cerebellar, ocular, craniofacial, and genital syndrome</td>\n",
       "      <td></td>\n",
       "    </tr>\n",
       "    <tr>\n",
       "      <th>...</th>\n",
       "      <td>...</td>\n",
       "      <td>...</td>\n",
       "    </tr>\n",
       "    <tr>\n",
       "      <th>1098</th>\n",
       "      <td>neurodevelopmental disorder with relative macrocephaly and with or without cardiac or endocrine anomalies</td>\n",
       "      <td></td>\n",
       "    </tr>\n",
       "    <tr>\n",
       "      <th>1099</th>\n",
       "      <td>obsolete short sleep, familial natural</td>\n",
       "      <td></td>\n",
       "    </tr>\n",
       "    <tr>\n",
       "      <th>1100</th>\n",
       "      <td>antithrombin, familial hemorrhagic diathesis due to</td>\n",
       "      <td></td>\n",
       "    </tr>\n",
       "    <tr>\n",
       "      <th>1101</th>\n",
       "      <td>optic atrophy with negative Electroretinograms</td>\n",
       "      <td></td>\n",
       "    </tr>\n",
       "    <tr>\n",
       "      <th>1102</th>\n",
       "      <td>ophthalmoplegia, external, with rib and vertebral anomalies</td>\n",
       "      <td></td>\n",
       "    </tr>\n",
       "  </tbody>\n",
       "</table>\n",
       "<p>1103 rows × 2 columns</p>\n",
       "</div>"
      ],
      "text/plain": [
       "                                                                                            e.Props__.node_name e.Chunk__.text\n",
       "0                                                                                       familial focal alopecia               \n",
       "1                                                                                  myelolymphatic insufficiency               \n",
       "2                                                                               amyotrophic dystonic paraplegia               \n",
       "3                                                                                         symphalangism of toes               \n",
       "4                                                        cerebellar, ocular, craniofacial, and genital syndrome               \n",
       "...                                                                                                         ...            ...\n",
       "1098  neurodevelopmental disorder with relative macrocephaly and with or without cardiac or endocrine anomalies               \n",
       "1099                                                                     obsolete short sleep, familial natural               \n",
       "1100                                                        antithrombin, familial hemorrhagic diathesis due to               \n",
       "1101                                                             optic atrophy with negative Electroretinograms               \n",
       "1102                                                ophthalmoplegia, external, with rib and vertebral anomalies               \n",
       "\n",
       "[1103 rows x 2 columns]"
      ]
     },
     "execution_count": 43,
     "metadata": {},
     "output_type": "execute_result"
    }
   ],
   "source": [
    "%%ngql\n",
    "# find all disease nodes where e.Chunk__.text is empty\n",
    "MATCH (e:Node__)\n",
    "MATCH (e)-[r1:Relation__{label:\"disease-phenotype-positive\"}]-(t1) # {label:\"disease-phenotype-positive\"}\n",
    "WHERE e.Props__.node_type == \"disease\" AND e.Chunk__.text == \"\"\n",
    "RETURN DISTINCT \n",
    "    e.Props__.node_name,\n",
    "    # e.Props__.node_type,\n",
    "    e.Chunk__.text\n",
    "    # t1.Props__.node_name"
   ]
  },
  {
   "cell_type": "code",
   "execution_count": null,
   "metadata": {},
   "outputs": [],
   "source": [
    "# %%ngql\n",
    "# MATCH (e:Node__)\n",
    "# WHERE id(e) == \"27781\"\n",
    "# MATCH (e)-[r1:Relation__{label:\"disease-phenotype-positive\"}]-(t1) # {label:\"disease-phenotype-positive\"}\n",
    "# # MATCH (e)-[r2:Relation__{label:\"disease-disease\"}]-(t2)\n",
    "# # RETURN e.Props__.node_name, e.Chunk__.text\n",
    "\n",
    "# RETURN DISTINCT \n",
    "#         e.Props__.node_name, \n",
    "#         # e.Chunk__.text\n",
    "#         r1.label,\n",
    "#         id(t1),\n",
    "#         t1.Props__.node_name\n",
    "#         # r2.label,\n",
    "#         # id(t2) AS index_disease,\n",
    "#         # t2.Props__.node_name AS name_disease\n",
    "#         # t.Chunk__.text\n"
   ]
  },
  {
   "cell_type": "code",
   "execution_count": null,
   "metadata": {},
   "outputs": [],
   "source": [
    "n.stop()"
   ]
  }
 ],
 "metadata": {
  "kernelspec": {
   "display_name": "llm-rag",
   "language": "python",
   "name": "python3"
  },
  "language_info": {
   "codemirror_mode": {
    "name": "ipython",
    "version": 3
   },
   "file_extension": ".py",
   "mimetype": "text/x-python",
   "name": "python",
   "nbconvert_exporter": "python",
   "pygments_lexer": "ipython3",
   "version": "3.12.0"
  }
 },
 "nbformat": 4,
 "nbformat_minor": 4
}
